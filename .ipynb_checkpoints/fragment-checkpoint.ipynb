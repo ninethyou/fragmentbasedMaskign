{
 "cells": [
  {
   "cell_type": "code",
   "execution_count": 2,
   "id": "664084d8-0804-4c17-bf8a-f2213cc3473d",
   "metadata": {},
   "outputs": [],
   "source": [
    "import rdkit\n",
    "from rdkit import Chem\n",
    "from rdkit.Chem.rdchem import HybridizationType as HT\n",
    "from rdkit.Chem.rdchem import BondType as BT\n",
    "from rdkit.Chem import AllChem\n",
    "from rdkit.Chem.Scaffolds.MurckoScaffold import MurckoScaffoldSmiles\n",
    "from rdkit import RDLogger\n",
    "RDLogger.DisableLog('rdApp.*')\n",
    "from rdkit.Chem.BRICS import BRICSDecompose, FindBRICSBonds, BreakBRICSBonds\n",
    "\n",
    "from rdkit.Chem import BRICS\n",
    "from rdkit.Chem.BRICS import BRICSDecompose\n",
    "\n",
    "def get_fragments(mol):\n",
    "    Chem.SanitizeMol(mol)\n",
    "    n_atoms = mol.GetNumAtoms()\n",
    "    if n_atoms == 1:\n",
    "        return [[0]], []\n",
    "\n",
    "    cliques = []\n",
    "    breaks = []\n",
    "    for bond in mol.GetBonds():\n",
    "        a1 = bond.GetBeginAtom().GetIdx()\n",
    "        a2 = bond.GetEndAtom().GetIdx()\n",
    "        cliques.append([a1, a2])\n",
    "\n",
    "    res = list(BRICS.FindBRICSBonds(mol))\n",
    "    if len(res) == 0:\n",
    "        return [list(range(n_atoms))], []\n",
    "    else:\n",
    "        for bond in res:\n",
    "            if [bond[0][0], bond[0][1]] in cliques:\n",
    "                cliques.remove([bond[0][0], bond[0][1]])\n",
    "            else:\n",
    "                cliques.remove([bond[0][1], bond[0][0]])\n",
    "            cliques.append([bond[0][0]])\n",
    "            cliques.append([bond[0][1]])\n",
    "\n",
    "    # break bonds between rings and non-ring atoms\n",
    "    for c in cliques:\n",
    "        if len(c) > 1:\n",
    "            if mol.GetAtomWithIdx(c[0]).IsInRing() and not mol.GetAtomWithIdx(c[1]).IsInRing():\n",
    "                cliques.remove(c)\n",
    "                cliques.append([c[1]])\n",
    "                breaks.append(c)\n",
    "            if mol.GetAtomWithIdx(c[1]).IsInRing() and not mol.GetAtomWithIdx(c[0]).IsInRing():\n",
    "                cliques.remove(c)\n",
    "                cliques.append([c[0]])\n",
    "                breaks.append(c)\n",
    "\n",
    "    # select atoms at intersections as motif\n",
    "    for atom in mol.GetAtoms():\n",
    "        if len(atom.GetNeighbors()) > 2 and not atom.IsInRing():\n",
    "            cliques.append([atom.GetIdx()])\n",
    "            for nei in atom.GetNeighbors():\n",
    "                if [nei.GetIdx(), atom.GetIdx()] in cliques:\n",
    "                    cliques.remove([nei.GetIdx(), atom.GetIdx()])\n",
    "                    breaks.append([nei.GetIdx(), atom.GetIdx()])\n",
    "                elif [atom.GetIdx(), nei.GetIdx()] in cliques:\n",
    "                    cliques.remove([atom.GetIdx(), nei.GetIdx()])\n",
    "                    breaks.append([atom.GetIdx(), nei.GetIdx()])\n",
    "                cliques.append([nei.GetIdx()])\n",
    "\n",
    "    # merge cliques\n",
    "    for c in range(len(cliques) - 1):\n",
    "        if c >= len(cliques):\n",
    "            break\n",
    "        for k in range(c + 1, len(cliques)):\n",
    "            if k >= len(cliques):\n",
    "                break\n",
    "            if len(set(cliques[c]) & set(cliques[k])) > 0:\n",
    "                cliques[c] = list(set(cliques[c]) | set(cliques[k]))\n",
    "                cliques[k] = []\n",
    "        cliques = [c for c in cliques if len(c) > 0]\n",
    "    cliques = [c for c in cliques if len(c) > 0]\n",
    "\n",
    "    # edges\n",
    "    edges = []\n",
    "    for bond in res:\n",
    "        for c in range(len(cliques)):\n",
    "            if bond[0][0] in cliques[c]:\n",
    "                c1 = c\n",
    "            if bond[0][1] in cliques[c]:\n",
    "                c2 = c\n",
    "        edges.append((c1, c2))\n",
    "    for bond in breaks:\n",
    "        for c in range(len(cliques)):\n",
    "            if bond[0] in cliques[c]:\n",
    "                c1 = c\n",
    "            if bond[1] in cliques[c]:\n",
    "                c2 = c\n",
    "        edges.append((c1, c2))\n",
    "\n",
    "    return cliques, edges\n"
   ]
  },
  {
   "cell_type": "code",
   "execution_count": 9,
   "id": "2e743156-fce6-4f6f-b95f-384c9e3f2cf1",
   "metadata": {},
   "outputs": [],
   "source": [
    "from collections import defaultdict\n",
    "\n",
    "def create_fragment_graph(mol, fragments):\n",
    "    fragment_graph = defaultdict(set)\n",
    "    # 프래그먼트 간의 연결을 파악하기 위한 로직\n",
    "    for i, fragment_i in enumerate(fragments):\n",
    "        for j, fragment_j in enumerate(fragments):\n",
    "            if i != j:\n",
    "                # 두 프래그먼트가 연결되어 있는지 확인\n",
    "                for node_i in fragment_i:\n",
    "                    for node_j in fragment_j:\n",
    "                        # 결합 존재 여부 확인 방법을 수정함\n",
    "                        if mol.GetBondBetweenAtoms(node_i, node_j) is not None:\n",
    "                            fragment_graph[i].add(j)\n",
    "                            fragment_graph[j].add(i)\n",
    "                            break\n",
    "    return fragment_graph\n"
   ]
  },
  {
   "cell_type": "code",
   "execution_count": 10,
   "id": "c406d23c-7920-45c3-b060-c7a45cb8d472",
   "metadata": {},
   "outputs": [],
   "source": [
    "def remove_fragments(G, fragment_graph, center_fragment_index, percent=0.2):\n",
    "    num_fragments = len(fragment_graph)\n",
    "    num_to_remove = int(num_fragments * percent)\n",
    "    removed_fragments = set()\n",
    "    queue = [center_fragment_index]\n",
    "\n",
    "    while len(removed_fragments) < num_to_remove and queue:\n",
    "        current_fragment_index = queue.pop(0)\n",
    "        if current_fragment_index not in removed_fragments:\n",
    "            removed_fragments.add(current_fragment_index)\n",
    "            # 현재 프래그먼트에 연결된 프래그먼트를 큐에 추가\n",
    "            queue.extend(fragment_graph[current_fragment_index] - removed_fragments)\n",
    "\n",
    "    # 제거된 프래그먼트에 해당하는 원본 그래프의 노드 제거\n",
    "    for fragment_index in removed_fragments:\n",
    "        for node in fragments[fragment_index]:\n",
    "            G.remove_node(node)\n",
    "    \n",
    "    return G, removed_fragments"
   ]
  },
  {
   "cell_type": "code",
   "execution_count": 31,
   "id": "22c4e18c-9e2b-4f75-bae7-556073fec454",
   "metadata": {},
   "outputs": [],
   "source": [
    "bonds = mol.GetBonds()\n",
    "\n",
    "# Construct the original molecular graph from edges (bonds)\n",
    "edges = []\n",
    "for bond in bonds:\n",
    "    edges.append([bond.GetBeginAtomIdx(), bond.GetEndAtomIdx()])\n",
    "molGraph = nx.Graph(edges)"
   ]
  },
  {
   "cell_type": "code",
   "execution_count": 32,
   "id": "48ca1396-9314-49c7-9703-439f7fe4ebc3",
   "metadata": {},
   "outputs": [
    {
     "data": {
      "image/png": "[encoded data removed]",
      "text/plain": [
       "<Figure size 800x600 with 1 Axes>"
      ]
     },
     "metadata": {},
     "output_type": "display_data"
    }
   ],
   "source": [
    "plt.figure(figsize=(8, 6))  # 그래프 크기 설정\n",
    "nx.draw(molGraph, with_labels=True, node_color='skyblue', node_size=700, edge_color='k', linewidths=1, font_size=15)\n",
    "plt.title(\"molecular Graph Visualization\")\n",
    "plt.show()"
   ]
  },
  {
   "cell_type": "code",
   "execution_count": 16,
   "id": "770b1a1d-d497-4e7d-95fc-817b3db2230a",
   "metadata": {},
   "outputs": [],
   "source": [
    "# 분자 예시\n",
    "mol = Chem.MolFromSmiles('CCOCCOCC')  # 에탄올 예시 분자\n",
    "\n",
    "# get_fragments 함수로부터 프래그먼트(클릭) 추출\n",
    "cliques, edges = get_fragments(mol)"
   ]
  },
  {
   "cell_type": "code",
   "execution_count": 22,
   "id": "93f89ce5-1a57-486a-8d74-ba12e2e809c3",
   "metadata": {},
   "outputs": [],
   "source": [
    "G = create_fragment_graph(cliques, edges)"
   ]
  },
  {
   "cell_type": "code",
   "execution_count": 28,
   "id": "cda92d50-a210-4061-ad6d-9db2015281b5",
   "metadata": {},
   "outputs": [
    {
     "data": {
      "image/png": "[encoded data removed]",
      "text/plain": [
       "<Figure size 800x600 with 1 Axes>"
      ]
     },
     "metadata": {},
     "output_type": "display_data"
    }
   ],
   "source": [
    "import matplotlib.pyplot as plt\n",
    "import networkx as nx\n",
    "\n",
    "plt.figure(figsize=(8, 6))  # 그래프 크기 설정\n",
    "nx.draw(G, with_labels=True, node_color='skyblue', node_size=700, edge_color='k', linewidths=1, font_size=15)\n",
    "plt.title(\"Fragment Graph Visualization\")\n",
    "plt.show()"
   ]
  },
  {
   "cell_type": "code",
   "execution_count": 29,
   "id": "af6267e4-d8c1-492f-9b8d-2f84d8fbe525",
   "metadata": {},
   "outputs": [],
   "source": [
    "def delete_node_fragment(G, node, cliques):\n",
    "    \"\"\"\n",
    "    주어진 노드(원자)가 속한 프래그먼트를 찾아 해당 프래그먼트를 삭제합니다.\n",
    "    \n",
    "    Parameters:\n",
    "    - G: nx.Graph 객체, 분자의 원자 그래프\n",
    "    - node: int, 삭제할 원d자의 인덱스\n",
    "    - cliques: list of lists, 분자의 프래그먼트 정보\n",
    "    \n",
    "    Returns:\n",
    "    - G: 업데이트된 nx.Graph 객체\n",
    "    \"\"\"\n",
    "    \n",
    "    # 주어진 노드(원자)가 속한 프래그먼트 찾기\n",
    "    fragment_to_delete = None\n",
    "    for clique in cliques:\n",
    "        if node in clique:\n",
    "            fragment_to_delete = clique\n",
    "            break\n",
    "    \n",
    "    if fragment_to_delete is None:\n",
    "        print(\"노드가 속한 프래그먼트를 찾을 수 없습니다.\")\n",
    "        return G\n",
    "    \n",
    "    # 프래그먼트에 속한 모든 노드(원자)를 그래프에서 삭제\n",
    "    for node in fragment_to_delete:\n",
    "        if G.has_node(node):\n",
    "            G.remove_node(node)\n",
    "    \n",
    "    return G"
   ]
  },
  {
   "cell_type": "code",
   "execution_count": 13,
   "id": "bd8c9045-4a88-414d-934e-12960f0b0c8a",
   "metadata": {},
   "outputs": [
    {
     "data": {
      "text/plain": [
       "defaultdict(set, {0: {3}, 3: {0, 1}, 1: {3, 4}, 4: {1, 2}, 2: {4}})"
      ]
     },
     "execution_count": 13,
     "metadata": {},
     "output_type": "execute_result"
    }
   ],
   "source": [
    "fragment_graph"
   ]
  },
  {
   "cell_type": "code",
   "execution_count": 37,
   "id": "2510da9e-6b56-4429-bab2-a50b0d9a8ef1",
   "metadata": {},
   "outputs": [],
   "source": [
    "from util import get_fragments\n"
   ]
  },
  {
   "cell_type": "code",
   "execution_count": 38,
   "id": "b1c6d105-cab3-4fac-abe1-fe92c24ae54d",
   "metadata": {},
   "outputs": [],
   "source": [
    "frag_indices, _ = get_fragments(mol)"
   ]
  },
  {
   "cell_type": "code",
   "execution_count": 39,
   "id": "893a71bb-9f7d-4cd6-9b2e-d0ec5fe3f267",
   "metadata": {},
   "outputs": [
    {
     "data": {
      "text/plain": [
       "[[0, 1, 2, 9, 10], [3, 4, 5, 6, 7, 8], [16, 11, 12, 13, 14, 15]]"
      ]
     },
     "execution_count": 39,
     "metadata": {},
     "output_type": "execute_result"
    }
   ],
   "source": [
    "frag_indices"
   ]
  },
  {
   "cell_type": "code",
   "execution_count": 40,
   "id": "a0d071af-c5d4-4d86-9cd9-fe3dac878743",
   "metadata": {},
   "outputs": [],
   "source": [
    "import numpy as np\n",
    "\n",
    "def find_center_fragment(center, frag_indices):\n",
    "    \"\"\"\n",
    "    Center 노드가 속한 프래그먼트를 찾아서 반환합니다.\n",
    "    \"\"\"\n",
    "    for frag in frag_indices:\n",
    "        if center in frag:\n",
    "            return frag\n",
    "    return []"
   ]
  },
  {
   "cell_type": "code",
   "execution_count": 184,
   "id": "719e908c-69da-425b-9d47-7a25f23410c3",
   "metadata": {},
   "outputs": [],
   "source": [
    "def map_fragment_adjacency(mol, frag_indices):\n",
    "    \"\"\"\n",
    "    Maps fragment adjacency based on molecular bonds.\n",
    "    Returns a dict where keys are fragment indices and values are sets of adjacent fragment indices.\n",
    "    \"\"\"\n",
    "    adjacency_map = {i: set() for i in range(len(frag_indices))}\n",
    "    for bond in mol.GetBonds():\n",
    "        a1, a2 = bond.GetBeginAtomIdx(), bond.GetEndAtomIdx()\n",
    "        for i, frag1 in enumerate(frag_indices):\n",
    "            if a1 in frag1:\n",
    "                for j, frag2 in enumerate(frag_indices):\n",
    "                    if a2 in frag2 and i != j:\n",
    "                        adjacency_map[i].add(j)\n",
    "                        adjacency_map[j].add(i)\n",
    "    return adjacency_map\n",
    "\n",
    "def remove_adjacent_fragments(Graph, center_frag_idx, frag_indices, adjacency_map, percent=0.2):\n",
    "    G = Graph.copy()\n",
    "    num = int(np.floor(len(G.nodes) * percent))\n",
    "    \n",
    "    removed_nodes = []\n",
    "    visited_frags = set()  # Set of visited fragments\n",
    "    \n",
    "    # First, unconditionally remove the fragment containing the center node\n",
    "    initial_frag = frag_indices[center_frag_idx]\n",
    "    for node in initial_frag:\n",
    "        if node in G:\n",
    "            G.remove_node(node)\n",
    "            removed_nodes.append(node)\n",
    "    visited_frags.add(center_frag_idx)\n",
    "\n",
    "    # Initialize the queue with adjacent fragments of the initial fragment\n",
    "    frags_to_remove = [adj_frag for adj_frag in adjacency_map[center_frag_idx] if adj_frag not in visited_frags]\n",
    "\n",
    "    # Conditionally remove additional fragments, considering the 'num' limit\n",
    "    while frags_to_remove and len(removed_nodes) < num:\n",
    "        current_frag_idx = frags_to_remove.pop(0)\n",
    "        if current_frag_idx in visited_frags:\n",
    "            continue\n",
    "        \n",
    "        current_frag = frag_indices[current_frag_idx]\n",
    "        # Check if adding this fragment exceeds the 'num' limit\n",
    "        if len(removed_nodes) + len(current_frag) > num:\n",
    "            continue  # Skip this fragment if it would exceed the limit\n",
    "        \n",
    "        for node in current_frag:\n",
    "            if node in G:\n",
    "                G.remove_node(node)\n",
    "                removed_nodes.append(node)\n",
    "        \n",
    "        visited_frags.add(current_frag_idx)\n",
    "        \n",
    "        # Add unvisited adjacent fragments to the queue\n",
    "        for adjacent_frag_idx in adjacency_map[current_frag_idx]:\n",
    "            if adjacent_frag_idx not in visited_frags:\n",
    "                frags_to_remove.append(adjacent_frag_idx)\n",
    "    \n",
    "    removed_edges = [(u, v) for u, v in Graph.edges() if u in removed_nodes or v in removed_nodes]\n",
    "\n",
    "    return removed_nodes, removed_edges\n",
    "\n",
    "# Assuming you have the molecule (mol) and the graph (G) ready, along with frag_indices\n",
    "center = 0  # Example center node\n",
    "center_frag_idx = next(i for i, frag in enumerate(frag_indices) if center in frag)  # Find center fragment index\n",
    "adjacency_map = map_fragment_adjacency(mol, frag_indices)  # Map fragment adjacency"
   ]
  },
  {
   "cell_type": "code",
   "execution_count": 185,
   "id": "1147aece-1cd9-4b36-801c-e243ee8b4ee8",
   "metadata": {},
   "outputs": [],
   "source": [
    "mol = Chem.MolFromSmiles('C1CC(C2=CC=CC=C2)CC1C3=CC=CC=C3')  # Example molecule\n",
    "bonds = mol.GetBonds()\n",
    "\n",
    "edges = []\n",
    "for bond in bonds:\n",
    "    edges.append([bond.GetBeginAtomIdx(), bond.GetEndAtomIdx()])\n",
    "molGraph = nx.Graph(edges)"
   ]
  },
  {
   "cell_type": "code",
   "execution_count": 186,
   "id": "a006e720-306e-452f-a8a8-462b26cd8172",
   "metadata": {},
   "outputs": [],
   "source": [
    "# Remove fragments and their adjacent fragments based on the mapped adjacency and target percent\n",
    "removed_nodes, removed_edges = remove_adjacent_fragments(molGraph, center_frag_idx, frag_indices, adjacency_map, percent=0.2)"
   ]
  },
  {
   "cell_type": "code",
   "execution_count": 187,
   "id": "a850d62b-85c1-4510-bf03-9e1960568b2d",
   "metadata": {},
   "outputs": [
    {
     "data": {
      "text/plain": [
       "[[0, 1, 2, 9, 10], [3, 4, 5, 6, 7, 8], [16, 11, 12, 13, 14, 15]]"
      ]
     },
     "execution_count": 187,
     "metadata": {},
     "output_type": "execute_result"
    }
   ],
   "source": [
    "frag_indices"
   ]
  },
  {
   "cell_type": "code",
   "execution_count": 188,
   "id": "db69cf58-172f-4d7f-accc-8a300ab69531",
   "metadata": {},
   "outputs": [
    {
     "data": {
      "text/plain": [
       "[0, 1, 2, 9, 10]"
      ]
     },
     "execution_count": 188,
     "metadata": {},
     "output_type": "execute_result"
    }
   ],
   "source": [
    "removed_nodes"
   ]
  },
  {
   "cell_type": "code",
   "execution_count": 189,
   "id": "cc96cf6a-dfa3-4744-ae92-6192516d9dc0",
   "metadata": {},
   "outputs": [
    {
     "data": {
      "text/plain": [
       "[(0, 1), (0, 10), (1, 2), (2, 3), (2, 9), (9, 10), (10, 11)]"
      ]
     },
     "execution_count": 189,
     "metadata": {},
     "output_type": "execute_result"
    }
   ],
   "source": [
    "removed_edges"
   ]
  },
  {
   "cell_type": "code",
   "execution_count": 161,
   "id": "8e28126b-8f78-4da7-ac4e-f22f342c9e93",
   "metadata": {},
   "outputs": [
    {
     "data": {
      "text/plain": [
       "[0, 1, 2, 9, 10, 3, 4, 5, 6, 7, 8]"
      ]
     },
     "execution_count": 161,
     "metadata": {},
     "output_type": "execute_result"
    }
   ],
   "source": [
    "removed_nodes"
   ]
  },
  {
   "cell_type": "code",
   "execution_count": 132,
   "id": "d4bb3ac6-5cdc-47c6-9ff4-cf9410f3ef5e",
   "metadata": {},
   "outputs": [
    {
     "data": {
      "image/png": "[encoded data removed]",
      "text/plain": [
       "<Figure size 800x600 with 1 Axes>"
      ]
     },
     "metadata": {},
     "output_type": "display_data"
    }
   ],
   "source": [
    "import matplotlib.pyplot as plt\n",
    "import networkx as nx\n",
    "\n",
    "plt.figure(figsize=(8, 6))  # 그래프 크기 설정\n",
    "nx.draw(molGraph, with_labels=True, node_color='skyblue', node_size=700, edge_color='k', linewidths=1, font_size=15)\n",
    "plt.title(\"Fragment Graph Visualization\")\n",
    "plt.show()"
   ]
  },
  {
   "cell_type": "code",
   "execution_count": 124,
   "id": "ed91f334-89b0-412f-8bb7-49e3701b058a",
   "metadata": {},
   "outputs": [
    {
     "data": {
      "text/plain": [
       "8"
      ]
     },
     "execution_count": 124,
     "metadata": {},
     "output_type": "execute_result"
    }
   ],
   "source": [
    "len(molGraph.nodes)"
   ]
  },
  {
   "cell_type": "code",
   "execution_count": 92,
   "id": "0919c267-ee4f-4d3b-afbe-a0d83f710feb",
   "metadata": {},
   "outputs": [
    {
     "data": {
      "text/plain": [
       "[[0, 1, 2, 9, 10], [3, 4, 5, 6, 7, 8], [16, 11, 12, 13, 14, 15]]"
      ]
     },
     "execution_count": 92,
     "metadata": {},
     "output_type": "execute_result"
    }
   ],
   "source": [
    "frag_indices"
   ]
  },
  {
   "cell_type": "code",
   "execution_count": 107,
   "id": "6f6f0848-d679-4505-b2ff-48381efcf0f3",
   "metadata": {},
   "outputs": [
    {
     "data": {
      "text/plain": [
       "[0, 1, 2, 3, 4, 5, 6, 7]"
      ]
     },
     "execution_count": 107,
     "metadata": {},
     "output_type": "execute_result"
    }
   ],
   "source": [
    "removed_nodes"
   ]
  },
  {
   "cell_type": "code",
   "execution_count": 85,
   "id": "7dd6a1f6-3970-4c18-993e-b83c7876d779",
   "metadata": {},
   "outputs": [
    {
     "data": {
      "text/plain": [
       "{0: {1, 2}, 1: {0}, 2: {0}}"
      ]
     },
     "execution_count": 85,
     "metadata": {},
     "output_type": "execute_result"
    }
   ],
   "source": [
    "adjacency_map"
   ]
  },
  {
   "cell_type": "code",
   "execution_count": 73,
   "id": "2ff1177b-3980-424e-993b-9decb7b55033",
   "metadata": {},
   "outputs": [
    {
     "data": {
      "text/plain": [
       "NodeView(())"
      ]
     },
     "execution_count": 73,
     "metadata": {},
     "output_type": "execute_result"
    }
   ],
   "source": [
    "G.nodes()"
   ]
  },
  {
   "cell_type": "code",
   "execution_count": 79,
   "id": "de61f860-dbe9-4484-94d7-43ff1a2dd0cc",
   "metadata": {},
   "outputs": [
    {
     "data": {
      "text/plain": [
       "[]"
      ]
     },
     "execution_count": 79,
     "metadata": {},
     "output_type": "execute_result"
    }
   ],
   "source": [
    "removed_nodes"
   ]
  },
  {
   "cell_type": "code",
   "execution_count": 75,
   "id": "75d0afd4-b137-4a3c-998e-befdfe1e4840",
   "metadata": {},
   "outputs": [
    {
     "data": {
      "text/plain": [
       "[]"
      ]
     },
     "execution_count": 75,
     "metadata": {},
     "output_type": "execute_result"
    }
   ],
   "source": [
    "removed_edges"
   ]
  },
  {
   "cell_type": "code",
   "execution_count": null,
   "id": "8e68249f-03a6-4e14-bbf8-0026de5bd072",
   "metadata": {},
   "outputs": [],
   "source": []
  }
 ],
 "metadata": {
  "kernelspec": {
   "display_name": "Python 3 (ipykernel)",
   "language": "python",
   "name": "python3"
  },
  "language_info": {
   "codemirror_mode": {
    "name": "ipython",
    "version": 3
   },
   "file_extension": ".py",
   "mimetype": "text/x-python",
   "name": "python",
   "nbconvert_exporter": "python",
   "pygments_lexer": "ipython3",
   "version": "3.10.8"
  }
 },
 "nbformat": 4,
 "nbformat_minor": 5
}
