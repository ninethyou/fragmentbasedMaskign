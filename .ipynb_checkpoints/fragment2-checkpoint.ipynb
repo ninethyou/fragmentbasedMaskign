{
 "cells": [
  {
   "cell_type": "code",
   "execution_count": null,
   "id": "b0e2d20c-4b38-42b3-a5d9-26f821cb9616",
   "metadata": {
    "scrolled": true
   },
   "outputs": [
    {
     "name": "stdout",
     "output_type": "stream",
     "text": [
      "Please install apex for mixed precision training from: https://github.com/NVIDIA/apex\n",
      "{'batch_size': 2, 'epochs': 200, 'eval_every_n_epochs': 1, 'fine_tune_from': 'pretrained_gin', 'log_every_n_steps': 50, 'fp16_precision': False, 'init_lr': 0.0005, 'init_base_lr': 0.0001, 'weight_decay': '1e-6', 'gpu': 'cuda:0', 'task_name': 'esol', 'model_type': 'gin', 'model': {'num_layer': 5, 'emb_dim': 300, 'feat_dim': 300, 'drop_ratio': 0.3, 'pool': 'mean'}, 'dataset': {'num_workers': 4, 'valid_size': 0.1, 'test_size': 0.1, 'splitting': 'scaffold', 'seed': 42, 'task': 'regression', 'data_path': 'data/esol/esol.csv', 'target': ['measured log solubility in mols per litre']}}\n",
      "Running on: cuda:0\n",
      "1127\n",
      "About to generate scaffolds\n",
      "Generating scaffold 0/1127\n"
     ]
    }
   ],
   "source": [
    "!python finetuneReconRich_subgraph2.py \\\n",
    "--task_name esol \\\n",
    "--splitting scaffold \\\n",
    "--alpha 0.1 \\\n",
    "--batch 2"
   ]
  },
  {
   "cell_type": "code",
   "execution_count": null,
   "id": "af3f29d0-a9f7-4615-9de6-9c6cb9fbb179",
   "metadata": {
    "scrolled": true
   },
   "outputs": [
    {
     "name": "stdout",
     "output_type": "stream",
     "text": [
      "Please install apex for mixed precision training from: https://github.com/NVIDIA/apex\n",
      "{'batch_size': 2, 'epochs': 200, 'eval_every_n_epochs': 1, 'fine_tune_from': 'pretrained_gin', 'log_every_n_steps': 50, 'fp16_precision': False, 'init_lr': 0.0005, 'init_base_lr': 0.0001, 'weight_decay': '1e-6', 'gpu': 'cuda:0', 'task_name': 'esol', 'model_type': 'gin', 'model': {'num_layer': 5, 'emb_dim': 300, 'feat_dim': 300, 'drop_ratio': 0.3, 'pool': 'mean'}, 'dataset': {'num_workers': 4, 'valid_size': 0.1, 'test_size': 0.1, 'splitting': 'scaffold', 'seed': 42, 'task': 'regression', 'data_path': 'data/esol/esol.csv', 'target': ['measured log solubility in mols per litre']}}\n",
      "Running on: cuda:0\n",
      "1127\n",
      "About to generate scaffolds\n",
      "Generating scaffold 0/1127\n",
      "Generating scaffold 1000/1127\n",
      "About to sort in scaffold sets\n",
      "pred_head.0.weight True\n",
      "pred_head.0.bias True\n",
      "pred_head.2.weight True\n",
      "pred_head.2.bias True\n",
      "pred_head.4.weight True\n",
      "pred_head.4.bias True\n",
      "DataBatch(x=[34, 42], edge_index=[2, 64], edge_attr=[64, 10], y=[2, 1], x_add=[2, 200], removed_node_index=[6], removed_edge_index=[22], batch=[34], ptr=[3])\n",
      "0 0 15.941582679748535\n",
      "DataBatch(x=[32, 42], edge_index=[2, 62], edge_attr=[62, 10], y=[2, 1], x_add=[2, 200], removed_node_index=[5], removed_edge_index=[10], batch=[32], ptr=[3])\n",
      "DataBatch(x=[38, 42], edge_index=[2, 74], edge_attr=[74, 10], y=[2, 1], x_add=[2, 200], removed_node_index=[6], removed_edge_index=[18], batch=[38], ptr=[3])\n",
      "DataBatch(x=[44, 42], edge_index=[2, 92], edge_attr=[92, 10], y=[2, 1], x_add=[2, 200], removed_node_index=[8], removed_edge_index=[24], batch=[44], ptr=[3])\n",
      "DataBatch(x=[21, 42], edge_index=[2, 38], edge_attr=[38, 10], y=[2, 1], x_add=[2, 200], removed_node_index=[3], removed_edge_index=[6], batch=[21], ptr=[3])\n",
      "DataBatch(x=[32, 42], edge_index=[2, 64], edge_attr=[64, 10], y=[2, 1], x_add=[2, 200], removed_node_index=[5], removed_edge_index=[18], batch=[32], ptr=[3])\n",
      "DataBatch(x=[35, 42], edge_index=[2, 68], edge_attr=[68, 10], y=[2, 1], x_add=[2, 200], removed_node_index=[7], removed_edge_index=[24], batch=[35], ptr=[3])\n",
      "DataBatch(x=[54, 42], edge_index=[2, 108], edge_attr=[108, 10], y=[2, 1], x_add=[2, 200], removed_node_index=[10], removed_edge_index=[42], batch=[54], ptr=[3])\n",
      "DataBatch(x=[56, 42], edge_index=[2, 110], edge_attr=[110, 10], y=[2, 1], x_add=[2, 200], removed_node_index=[11], removed_edge_index=[36], batch=[56], ptr=[3])\n",
      "DataBatch(x=[45, 42], edge_index=[2, 96], edge_attr=[96, 10], y=[2, 1], x_add=[2, 200], removed_node_index=[8], removed_edge_index=[24], batch=[45], ptr=[3])\n",
      "DataBatch(x=[41, 42], edge_index=[2, 86], edge_attr=[86, 10], y=[2, 1], x_add=[2, 200], removed_node_index=[8], removed_edge_index=[26], batch=[41], ptr=[3])\n",
      "DataBatch(x=[55, 42], edge_index=[2, 112], edge_attr=[112, 10], y=[2, 1], x_add=[2, 200], removed_node_index=[10], removed_edge_index=[30], batch=[55], ptr=[3])\n",
      "DataBatch(x=[25, 42], edge_index=[2, 48], edge_attr=[48, 10], y=[2, 1], x_add=[2, 200], removed_node_index=[4], removed_edge_index=[18], batch=[25], ptr=[3])\n",
      "DataBatch(x=[33, 42], edge_index=[2, 66], edge_attr=[66, 10], y=[2, 1], x_add=[2, 200], removed_node_index=[6], removed_edge_index=[12], batch=[33], ptr=[3])\n",
      "DataBatch(x=[52, 42], edge_index=[2, 102], edge_attr=[102, 10], y=[2, 1], x_add=[2, 200], removed_node_index=[10], removed_edge_index=[34], batch=[52], ptr=[3])\n",
      "DataBatch(x=[70, 42], edge_index=[2, 146], edge_attr=[146, 10], y=[2, 1], x_add=[2, 200], removed_node_index=[13], removed_edge_index=[36], batch=[70], ptr=[3])\n",
      "DataBatch(x=[86, 42], edge_index=[2, 174], edge_attr=[174, 10], y=[2, 1], x_add=[2, 200], removed_node_index=[16], removed_edge_index=[50], batch=[86], ptr=[3])\n",
      "DataBatch(x=[55, 42], edge_index=[2, 112], edge_attr=[112, 10], y=[2, 1], x_add=[2, 200], removed_node_index=[10], removed_edge_index=[36], batch=[55], ptr=[3])\n",
      "DataBatch(x=[57, 42], edge_index=[2, 112], edge_attr=[112, 10], y=[2, 1], x_add=[2, 200], removed_node_index=[11], removed_edge_index=[36], batch=[57], ptr=[3])\n",
      "DataBatch(x=[53, 42], edge_index=[2, 110], edge_attr=[110, 10], y=[2, 1], x_add=[2, 200], removed_node_index=[10], removed_edge_index=[26], batch=[53], ptr=[3])\n",
      "DataBatch(x=[40, 42], edge_index=[2, 84], edge_attr=[84, 10], y=[2, 1], x_add=[2, 200], removed_node_index=[7], removed_edge_index=[26], batch=[40], ptr=[3])\n",
      "DataBatch(x=[51, 42], edge_index=[2, 108], edge_attr=[108, 10], y=[2, 1], x_add=[2, 200], removed_node_index=[10], removed_edge_index=[36], batch=[51], ptr=[3])\n",
      "DataBatch(x=[35, 42], edge_index=[2, 68], edge_attr=[68, 10], y=[2, 1], x_add=[2, 200], removed_node_index=[7], removed_edge_index=[32], batch=[35], ptr=[3])\n",
      "DataBatch(x=[74, 42], edge_index=[2, 152], edge_attr=[152, 10], y=[2, 1], x_add=[2, 200], removed_node_index=[14], removed_edge_index=[58], batch=[74], ptr=[3])\n",
      "DataBatch(x=[40, 42], edge_index=[2, 78], edge_attr=[78, 10], y=[2, 1], x_add=[2, 200], removed_node_index=[7], removed_edge_index=[20], batch=[40], ptr=[3])\n",
      "DataBatch(x=[95, 42], edge_index=[2, 200], edge_attr=[200, 10], y=[2, 1], x_add=[2, 200], removed_node_index=[18], removed_edge_index=[46], batch=[95], ptr=[3])\n",
      "DataBatch(x=[48, 42], edge_index=[2, 94], edge_attr=[94, 10], y=[2, 1], x_add=[2, 200], removed_node_index=[9], removed_edge_index=[34], batch=[48], ptr=[3])\n",
      "DataBatch(x=[53, 42], edge_index=[2, 106], edge_attr=[106, 10], y=[2, 1], x_add=[2, 200], removed_node_index=[10], removed_edge_index=[38], batch=[53], ptr=[3])\n",
      "DataBatch(x=[26, 42], edge_index=[2, 50], edge_attr=[50, 10], y=[2, 1], x_add=[2, 200], removed_node_index=[4], removed_edge_index=[8], batch=[26], ptr=[3])\n",
      "DataBatch(x=[47, 42], edge_index=[2, 92], edge_attr=[92, 10], y=[2, 1], x_add=[2, 200], removed_node_index=[8], removed_edge_index=[22], batch=[47], ptr=[3])\n",
      "DataBatch(x=[49, 42], edge_index=[2, 98], edge_attr=[98, 10], y=[2, 1], x_add=[2, 200], removed_node_index=[9], removed_edge_index=[28], batch=[49], ptr=[3])\n",
      "DataBatch(x=[84, 42], edge_index=[2, 168], edge_attr=[168, 10], y=[2, 1], x_add=[2, 200], removed_node_index=[16], removed_edge_index=[60], batch=[84], ptr=[3])\n",
      "DataBatch(x=[67, 42], edge_index=[2, 140], edge_attr=[140, 10], y=[2, 1], x_add=[2, 200], removed_node_index=[12], removed_edge_index=[34], batch=[67], ptr=[3])\n",
      "DataBatch(x=[29, 42], edge_index=[2, 56], edge_attr=[56, 10], y=[2, 1], x_add=[2, 200], removed_node_index=[5], removed_edge_index=[20], batch=[29], ptr=[3])\n",
      "DataBatch(x=[27, 42], edge_index=[2, 54], edge_attr=[54, 10], y=[2, 1], x_add=[2, 200], removed_node_index=[4], removed_edge_index=[18], batch=[27], ptr=[3])\n",
      "DataBatch(x=[24, 42], edge_index=[2, 46], edge_attr=[46, 10], y=[2, 1], x_add=[2, 200], removed_node_index=[4], removed_edge_index=[22], batch=[24], ptr=[3])\n",
      "DataBatch(x=[41, 42], edge_index=[2, 82], edge_attr=[82, 10], y=[2, 1], x_add=[2, 200], removed_node_index=[8], removed_edge_index=[26], batch=[41], ptr=[3])\n",
      "DataBatch(x=[42, 42], edge_index=[2, 86], edge_attr=[86, 10], y=[2, 1], x_add=[2, 200], removed_node_index=[8], removed_edge_index=[20], batch=[42], ptr=[3])\n",
      "DataBatch(x=[103, 42], edge_index=[2, 216], edge_attr=[216, 10], y=[2, 1], x_add=[2, 200], removed_node_index=[20], removed_edge_index=[50], batch=[103], ptr=[3])\n",
      "DataBatch(x=[25, 42], edge_index=[2, 48], edge_attr=[48, 10], y=[2, 1], x_add=[2, 200], removed_node_index=[4], removed_edge_index=[14], batch=[25], ptr=[3])\n",
      "DataBatch(x=[44, 42], edge_index=[2, 86], edge_attr=[86, 10], y=[2, 1], x_add=[2, 200], removed_node_index=[8], removed_edge_index=[32], batch=[44], ptr=[3])\n",
      "DataBatch(x=[34, 42], edge_index=[2, 68], edge_attr=[68, 10], y=[2, 1], x_add=[2, 200], removed_node_index=[6], removed_edge_index=[12], batch=[34], ptr=[3])\n",
      "DataBatch(x=[27, 42], edge_index=[2, 50], edge_attr=[50, 10], y=[2, 1], x_add=[2, 200], removed_node_index=[4], removed_edge_index=[8], batch=[27], ptr=[3])\n",
      "DataBatch(x=[58, 42], edge_index=[2, 116], edge_attr=[116, 10], y=[2, 1], x_add=[2, 200], removed_node_index=[10], removed_edge_index=[40], batch=[58], ptr=[3])\n",
      "DataBatch(x=[44, 42], edge_index=[2, 84], edge_attr=[84, 10], y=[2, 1], x_add=[2, 200], removed_node_index=[8], removed_edge_index=[32], batch=[44], ptr=[3])\n",
      "DataBatch(x=[31, 42], edge_index=[2, 58], edge_attr=[58, 10], y=[2, 1], x_add=[2, 200], removed_node_index=[5], removed_edge_index=[20], batch=[31], ptr=[3])\n",
      "DataBatch(x=[32, 42], edge_index=[2, 64], edge_attr=[64, 10], y=[2, 1], x_add=[2, 200], removed_node_index=[5], removed_edge_index=[16], batch=[32], ptr=[3])\n",
      "DataBatch(x=[28, 42], edge_index=[2, 54], edge_attr=[54, 10], y=[2, 1], x_add=[2, 200], removed_node_index=[4], removed_edge_index=[8], batch=[28], ptr=[3])\n",
      "DataBatch(x=[36, 42], edge_index=[2, 70], edge_attr=[70, 10], y=[2, 1], x_add=[2, 200], removed_node_index=[6], removed_edge_index=[18], batch=[36], ptr=[3])\n",
      "DataBatch(x=[52, 42], edge_index=[2, 110], edge_attr=[110, 10], y=[2, 1], x_add=[2, 200], removed_node_index=[10], removed_edge_index=[48], batch=[52], ptr=[3])\n",
      "DataBatch(x=[45, 42], edge_index=[2, 92], edge_attr=[92, 10], y=[2, 1], x_add=[2, 200], removed_node_index=[8], removed_edge_index=[30], batch=[45], ptr=[3])\n",
      "0 50 0.3035971522331238\n",
      "DataBatch(x=[54, 42], edge_index=[2, 108], edge_attr=[108, 10], y=[2, 1], x_add=[2, 200], removed_node_index=[10], removed_edge_index=[24], batch=[54], ptr=[3])\n",
      "DataBatch(x=[37, 42], edge_index=[2, 78], edge_attr=[78, 10], y=[2, 1], x_add=[2, 200], removed_node_index=[7], removed_edge_index=[28], batch=[37], ptr=[3])\n",
      "DataBatch(x=[38, 42], edge_index=[2, 74], edge_attr=[74, 10], y=[2, 1], x_add=[2, 200], removed_node_index=[7], removed_edge_index=[40], batch=[38], ptr=[3])\n",
      "DataBatch(x=[29, 42], edge_index=[2, 56], edge_attr=[56, 10], y=[2, 1], x_add=[2, 200], removed_node_index=[5], removed_edge_index=[14], batch=[29], ptr=[3])\n",
      "DataBatch(x=[35, 42], edge_index=[2, 68], edge_attr=[68, 10], y=[2, 1], x_add=[2, 200], removed_node_index=[6], removed_edge_index=[18], batch=[35], ptr=[3])\n",
      "DataBatch(x=[19, 42], edge_index=[2, 34], edge_attr=[34, 10], y=[2, 1], x_add=[2, 200], removed_node_index=[3], removed_edge_index=[6], batch=[19], ptr=[3])\n",
      "DataBatch(x=[48, 42], edge_index=[2, 96], edge_attr=[96, 10], y=[2, 1], x_add=[2, 200], removed_node_index=[9], removed_edge_index=[32], batch=[48], ptr=[3])\n",
      "DataBatch(x=[26, 42], edge_index=[2, 52], edge_attr=[52, 10], y=[2, 1], x_add=[2, 200], removed_node_index=[4], removed_edge_index=[18], batch=[26], ptr=[3])\n",
      "DataBatch(x=[40, 42], edge_index=[2, 78], edge_attr=[78, 10], y=[2, 1], x_add=[2, 200], removed_node_index=[7], removed_edge_index=[30], batch=[40], ptr=[3])\n",
      "DataBatch(x=[33, 42], edge_index=[2, 66], edge_attr=[66, 10], y=[2, 1], x_add=[2, 200], removed_node_index=[6], removed_edge_index=[28], batch=[33], ptr=[3])\n",
      "DataBatch(x=[31, 42], edge_index=[2, 64], edge_attr=[64, 10], y=[2, 1], x_add=[2, 200], removed_node_index=[5], removed_edge_index=[28], batch=[31], ptr=[3])\n",
      "DataBatch(x=[36, 42], edge_index=[2, 70], edge_attr=[70, 10], y=[2, 1], x_add=[2, 200], removed_node_index=[6], removed_edge_index=[18], batch=[36], ptr=[3])\n",
      "DataBatch(x=[55, 42], edge_index=[2, 114], edge_attr=[114, 10], y=[2, 1], x_add=[2, 200], removed_node_index=[10], removed_edge_index=[32], batch=[55], ptr=[3])\n",
      "DataBatch(x=[52, 42], edge_index=[2, 104], edge_attr=[104, 10], y=[2, 1], x_add=[2, 200], removed_node_index=[10], removed_edge_index=[46], batch=[52], ptr=[3])\n",
      "DataBatch(x=[34, 42], edge_index=[2, 70], edge_attr=[70, 10], y=[2, 1], x_add=[2, 200], removed_node_index=[6], removed_edge_index=[32], batch=[34], ptr=[3])\n",
      "DataBatch(x=[39, 42], edge_index=[2, 76], edge_attr=[76, 10], y=[2, 1], x_add=[2, 200], removed_node_index=[7], removed_edge_index=[24], batch=[39], ptr=[3])\n",
      "DataBatch(x=[33, 42], edge_index=[2, 64], edge_attr=[64, 10], y=[2, 1], x_add=[2, 200], removed_node_index=[6], removed_edge_index=[18], batch=[33], ptr=[3])\n",
      "DataBatch(x=[41, 42], edge_index=[2, 80], edge_attr=[80, 10], y=[2, 1], x_add=[2, 200], removed_node_index=[7], removed_edge_index=[24], batch=[41], ptr=[3])\n",
      "DataBatch(x=[24, 42], edge_index=[2, 48], edge_attr=[48, 10], y=[2, 1], x_add=[2, 200], removed_node_index=[4], removed_edge_index=[14], batch=[24], ptr=[3])\n",
      "DataBatch(x=[30, 42], edge_index=[2, 58], edge_attr=[58, 10], y=[2, 1], x_add=[2, 200], removed_node_index=[5], removed_edge_index=[10], batch=[30], ptr=[3])\n",
      "DataBatch(x=[30, 42], edge_index=[2, 56], edge_attr=[56, 10], y=[2, 1], x_add=[2, 200], removed_node_index=[6], removed_edge_index=[18], batch=[30], ptr=[3])\n",
      "DataBatch(x=[23, 42], edge_index=[2, 42], edge_attr=[42, 10], y=[2, 1], x_add=[2, 200], removed_node_index=[4], removed_edge_index=[24], batch=[23], ptr=[3])\n",
      "DataBatch(x=[45, 42], edge_index=[2, 92], edge_attr=[92, 10], y=[2, 1], x_add=[2, 200], removed_node_index=[9], removed_edge_index=[18], batch=[45], ptr=[3])\n",
      "DataBatch(x=[75, 42], edge_index=[2, 154], edge_attr=[154, 10], y=[2, 1], x_add=[2, 200], removed_node_index=[14], removed_edge_index=[46], batch=[75], ptr=[3])\n",
      "DataBatch(x=[61, 42], edge_index=[2, 126], edge_attr=[126, 10], y=[2, 1], x_add=[2, 200], removed_node_index=[12], removed_edge_index=[46], batch=[61], ptr=[3])\n",
      "DataBatch(x=[28, 42], edge_index=[2, 56], edge_attr=[56, 10], y=[2, 1], x_add=[2, 200], removed_node_index=[5], removed_edge_index=[18], batch=[28], ptr=[3])\n",
      "DataBatch(x=[83, 42], edge_index=[2, 162], edge_attr=[162, 10], y=[2, 1], x_add=[2, 200], removed_node_index=[16], removed_edge_index=[62], batch=[83], ptr=[3])\n",
      "DataBatch(x=[28, 42], edge_index=[2, 56], edge_attr=[56, 10], y=[2, 1], x_add=[2, 200], removed_node_index=[5], removed_edge_index=[20], batch=[28], ptr=[3])\n",
      "DataBatch(x=[35, 42], edge_index=[2, 66], edge_attr=[66, 10], y=[2, 1], x_add=[2, 200], removed_node_index=[6], removed_edge_index=[30], batch=[35], ptr=[3])\n",
      "DataBatch(x=[57, 42], edge_index=[2, 112], edge_attr=[112, 10], y=[2, 1], x_add=[2, 200], removed_node_index=[11], removed_edge_index=[26], batch=[57], ptr=[3])\n",
      "DataBatch(x=[47, 42], edge_index=[2, 98], edge_attr=[98, 10], y=[2, 1], x_add=[2, 200], removed_node_index=[8], removed_edge_index=[28], batch=[47], ptr=[3])\n",
      "DataBatch(x=[48, 42], edge_index=[2, 100], edge_attr=[100, 10], y=[2, 1], x_add=[2, 200], removed_node_index=[9], removed_edge_index=[30], batch=[48], ptr=[3])\n",
      "DataBatch(x=[43, 42], edge_index=[2, 84], edge_attr=[84, 10], y=[2, 1], x_add=[2, 200], removed_node_index=[8], removed_edge_index=[28], batch=[43], ptr=[3])\n",
      "DataBatch(x=[26, 42], edge_index=[2, 50], edge_attr=[50, 10], y=[2, 1], x_add=[2, 200], removed_node_index=[4], removed_edge_index=[10], batch=[26], ptr=[3])\n",
      "DataBatch(x=[31, 42], edge_index=[2, 58], edge_attr=[58, 10], y=[2, 1], x_add=[2, 200], removed_node_index=[5], removed_edge_index=[20], batch=[31], ptr=[3])\n",
      "DataBatch(x=[49, 42], edge_index=[2, 100], edge_attr=[100, 10], y=[2, 1], x_add=[2, 200], removed_node_index=[9], removed_edge_index=[30], batch=[49], ptr=[3])\n",
      "DataBatch(x=[34, 42], edge_index=[2, 70], edge_attr=[70, 10], y=[2, 1], x_add=[2, 200], removed_node_index=[6], removed_edge_index=[12], batch=[34], ptr=[3])\n",
      "DataBatch(x=[44, 42], edge_index=[2, 88], edge_attr=[88, 10], y=[2, 1], x_add=[2, 200], removed_node_index=[8], removed_edge_index=[22], batch=[44], ptr=[3])\n",
      "DataBatch(x=[36, 42], edge_index=[2, 70], edge_attr=[70, 10], y=[2, 1], x_add=[2, 200], removed_node_index=[7], removed_edge_index=[14], batch=[36], ptr=[3])\n",
      "DataBatch(x=[27, 42], edge_index=[2, 54], edge_attr=[54, 10], y=[2, 1], x_add=[2, 200], removed_node_index=[5], removed_edge_index=[10], batch=[27], ptr=[3])\n",
      "DataBatch(x=[36, 42], edge_index=[2, 70], edge_attr=[70, 10], y=[2, 1], x_add=[2, 200], removed_node_index=[6], removed_edge_index=[20], batch=[36], ptr=[3])\n",
      "DataBatch(x=[33, 42], edge_index=[2, 62], edge_attr=[62, 10], y=[2, 1], x_add=[2, 200], removed_node_index=[6], removed_edge_index=[20], batch=[33], ptr=[3])\n",
      "DataBatch(x=[66, 42], edge_index=[2, 138], edge_attr=[138, 10], y=[2, 1], x_add=[2, 200], removed_node_index=[12], removed_edge_index=[36], batch=[66], ptr=[3])\n",
      "DataBatch(x=[32, 42], edge_index=[2, 62], edge_attr=[62, 10], y=[2, 1], x_add=[2, 200], removed_node_index=[6], removed_edge_index=[24], batch=[32], ptr=[3])\n",
      "DataBatch(x=[43, 42], edge_index=[2, 82], edge_attr=[82, 10], y=[2, 1], x_add=[2, 200], removed_node_index=[7], removed_edge_index=[24], batch=[43], ptr=[3])\n",
      "DataBatch(x=[48, 42], edge_index=[2, 94], edge_attr=[94, 10], y=[2, 1], x_add=[2, 200], removed_node_index=[9], removed_edge_index=[28], batch=[48], ptr=[3])\n",
      "DataBatch(x=[40, 42], edge_index=[2, 82], edge_attr=[82, 10], y=[2, 1], x_add=[2, 200], removed_node_index=[7], removed_edge_index=[32], batch=[40], ptr=[3])\n",
      "DataBatch(x=[83, 42], edge_index=[2, 170], edge_attr=[170, 10], y=[2, 1], x_add=[2, 200], removed_node_index=[15], removed_edge_index=[44], batch=[83], ptr=[3])\n",
      "DataBatch(x=[53, 42], edge_index=[2, 110], edge_attr=[110, 10], y=[2, 1], x_add=[2, 200], removed_node_index=[10], removed_edge_index=[32], batch=[53], ptr=[3])\n",
      "DataBatch(x=[54, 42], edge_index=[2, 108], edge_attr=[108, 10], y=[2, 1], x_add=[2, 200], removed_node_index=[10], removed_edge_index=[30], batch=[54], ptr=[3])\n"
     ]
    }
   ],
   "source": [
    "!python finetuneReconRich_frag2.py \\\n",
    "--task_name esol \\\n",
    "--splitting scaffold \\\n",
    "--alpha 0.1 \\\n",
    "--batch 2"
   ]
  },
  {
   "cell_type": "code",
   "execution_count": 1,
   "id": "f39d1835-0778-4db8-b782-bad5409cf6a9",
   "metadata": {},
   "outputs": [],
   "source": [
    "def read_smiles(data_path, target, task):\n",
    "    smiles_data, labels = [], []\n",
    "\n",
    "    with open(data_path) as csv_file:\n",
    "        csv_reader = csv.DictReader(csv_file, delimiter=',')\n",
    "        for i, row in enumerate(csv_reader):\n",
    "            if i != 0:\n",
    "                smiles = row['smiles']\n",
    "                label = [row[t] for t in target]\n",
    "                mol = Chem.MolFromSmiles(smiles)\n",
    "                if mol != None and all(l != '' for l in label):\n",
    "                    smiles_data.append(smiles)\n",
    "                    processed_labels = []\n",
    "                    for l in label:\n",
    "                        \n",
    "                        if task == 'classification':\n",
    "                            processed_labels.append(int(l))\n",
    "                        elif task == 'regression':\n",
    "                            processed_labels.append(float(l))\n",
    "                        else:\n",
    "                            ValueError('task must be either regression or classification')\n",
    "                    processed_labels = [ -1 if x == 0 else x for x in processed_labels]\n",
    "                    labels.append(processed_labels)\n",
    "\n",
    "    \n",
    "    return smiles_data, labels"
   ]
  },
  {
   "cell_type": "code",
   "execution_count": 2,
   "id": "5ac0001a-ca79-4e87-b51f-b3e6548c33ec",
   "metadata": {},
   "outputs": [],
   "source": [
    "data_path = './delaney-processed.csv'\n",
    "target = ['measured log solubility in mols per litre']\n",
    "task = 'regression'"
   ]
  },
  {
   "cell_type": "code",
   "execution_count": 3,
   "id": "830530bb-a5c3-42eb-a900-0f15176c0e97",
   "metadata": {
    "scrolled": true
   },
   "outputs": [],
   "source": [
    "import csv\n",
    "from rdkit import Chem\n",
    "\n",
    "smiles, labels = read_smiles(data_path, target, task)"
   ]
  },
  {
   "cell_type": "code",
   "execution_count": 5,
   "id": "babe6158-b63f-4133-9c3b-afd1e115f894",
   "metadata": {},
   "outputs": [],
   "source": [
    "from util import get_fragments"
   ]
  },
  {
   "cell_type": "code",
   "execution_count": 227,
   "id": "84349251-d2da-4438-9c0e-9f4d14bca40b",
   "metadata": {},
   "outputs": [],
   "source": [
    "smiles_list = ['CN(C)[C@H]1[C@@H]2C[C@@H]3Cc4c(ccc(O)c4C(=C3C(=O)[C@]2(O)C(=O)\\\\C(=C(N)/O)C1=O)O)[N+]([O-])=O', '[C@H]15C3=C(CCC2=C1C=CC=C2)C=CC=C3[C@H]4C[C@](C(C)C)(O)CCN4C5', '[C@@H]3(C1=CC=C(Cl)C=C1)[C@H]2CC[C@@H](C2)C34CCC(=N4)N5CCOCC5', 'Cn1cnc2N(C)C(=O)NC(=O)c12', 'CN(C)C1C2CC3C(=C(O)c4c(O)cccc4C3(C)O)C(=O)C2(O)C(=O)\\\\C(=C(/O)NCN5CCN(CCO)CC5)C1=O', '[Cl-].CC(C[N+](C)(C)C)OC(N)=O', 'CC(C)(C)NC(=O)[C@@H]1C[C@@H]2CCCC[C@@H]2CN1C[C@@H](O)[C@H](Cc3ccccc3)NC(=O)[C@H](CC(N)=O)NC(=O)c4ccc5ccccc5n4', 'C2=C(OC(OC1=CC=CC=C1)CN(C)C)C=CC=C2', 'CN1CCN(CCCN2c3ccccc3Sc4ccc(Cl)cc24)CC1', 'CN1CCCCC1CCN2c3ccccc3Sc4ccc(cc24)[S](C)(=O)=O', 'C2=C(C(C1=CC=CC=C1)(CCN(C)C)C(CC)=O)C=CC=C2', '[C@H]23C1=NN=C([N]1C[C@H]2CCC3)CCN4CCN(CC4)C5=CC=CC(=C5)C(F)(F)F', '[C@]34([C@H]([C@H]2[C@@H]([C@@]1(C(=CC(=O)C=C1)[C@H](C2)F)C)[C@H](C3)O)C[C@H]([C@@]4(C(COC(C)=O)=O)O)C)C', 'C1=C(Cl)C=CC2=C1C(=NCCN2CC(F)(F)F)C3=CC=CC=C3F', '[C@@H]2(OC1=C(C(=CC=C1)C)C)[C@@H](CNCC2)O', 'C1=CC(=CC=C1C2(C(CC(C)C)N(C)C)CCC2)Cl', 'C1=CC=CC=C1C3(C2=CC=CC=C2)NC(=O)NC3=O', 'C3=C(C(N2CCN(CC1=CC=CC=C1)CC2)=O)OC4=C3C=CC=C4', 'C1=C([N+](=O)[O-])C=CC2=C1C(=NCC(N2COC)=O)C3=CC=CC=C3', 'C2=CC(=C3OC5C14C6(C(N(CC1)C)CC2=C34)CC(C5(OC)C=C6)C(O)(CCC)C)O', 'C1=C4C(=CC(=C1)CN3CCN(C(COC2=CC=C(Cl)C=C2)=O)CC3)OCO4', 'CCC#CC(C)C1(CC=C)C(=O)NC(=O)N(C)C1=O', 'C1=CC(=CC3=C1C(C2=CC(=C(Cl)C=C2)Cl)CN(C)C3)OC', 'C1=CC=CC2=C1OC(CNCCCC)CO2', 'C1=NC=C([N]1C(C2=CC=CC=C2)C)C(=O)OC', 'CN1C(=O)c2c(cccc2Cl)n2cnc(c2C1)c1noc(n1)C(C)C', 'CCc1ccccc1N2C(=Nc3ccccc3C2=O)C', 'CCC(C)(C)C', '[N]14C3=C(C2=C1C=CC(=C2)C)CCCC3NCC4.[H+].[Cl-]', 'NCC[C@H](O)C(=O)N[C@@H]1C[C@H](N)[C@@H](O[C@H]2O[C@H](CN)CC[C@H]2N)[C@H](O)[C@H]1O[C@H]3O[C@H](CO)[C@@H](O)[C@H](N)[C@H]3O', 'C1=C([S](=O)(=O)N)C=CC(=C1C(NCC2N(CC)CCC2)=O)OC', '[C@]12(OC(O[C@@H]1CC3C2(CC(O)C4(F)C3CCC5=CC(=O)C=CC45C)C)C=C)C(=O)CO' ]"
   ]
  },
  {
   "cell_type": "code",
   "execution_count": 228,
   "id": "742cee51-970c-4b47-8592-608749010fef",
   "metadata": {},
   "outputs": [
    {
     "data": {
      "text/plain": [
       "['CN(C)[C@H]1[C@@H]2C[C@@H]3Cc4c(ccc(O)c4C(=C3C(=O)[C@]2(O)C(=O)\\\\C(=C(N)/O)C1=O)O)[N+]([O-])=O',\n",
       " '[C@H]15C3=C(CCC2=C1C=CC=C2)C=CC=C3[C@H]4C[C@](C(C)C)(O)CCN4C5',\n",
       " '[C@@H]3(C1=CC=C(Cl)C=C1)[C@H]2CC[C@@H](C2)C34CCC(=N4)N5CCOCC5',\n",
       " 'Cn1cnc2N(C)C(=O)NC(=O)c12',\n",
       " 'CN(C)C1C2CC3C(=C(O)c4c(O)cccc4C3(C)O)C(=O)C2(O)C(=O)\\\\C(=C(/O)NCN5CCN(CCO)CC5)C1=O',\n",
       " '[Cl-].CC(C[N+](C)(C)C)OC(N)=O',\n",
       " 'CC(C)(C)NC(=O)[C@@H]1C[C@@H]2CCCC[C@@H]2CN1C[C@@H](O)[C@H](Cc3ccccc3)NC(=O)[C@H](CC(N)=O)NC(=O)c4ccc5ccccc5n4',\n",
       " 'C2=C(OC(OC1=CC=CC=C1)CN(C)C)C=CC=C2',\n",
       " 'CN1CCN(CCCN2c3ccccc3Sc4ccc(Cl)cc24)CC1',\n",
       " 'CN1CCCCC1CCN2c3ccccc3Sc4ccc(cc24)[S](C)(=O)=O',\n",
       " 'C2=C(C(C1=CC=CC=C1)(CCN(C)C)C(CC)=O)C=CC=C2',\n",
       " '[C@H]23C1=NN=C([N]1C[C@H]2CCC3)CCN4CCN(CC4)C5=CC=CC(=C5)C(F)(F)F',\n",
       " '[C@]34([C@H]([C@H]2[C@@H]([C@@]1(C(=CC(=O)C=C1)[C@H](C2)F)C)[C@H](C3)O)C[C@H]([C@@]4(C(COC(C)=O)=O)O)C)C',\n",
       " 'C1=C(Cl)C=CC2=C1C(=NCCN2CC(F)(F)F)C3=CC=CC=C3F',\n",
       " '[C@@H]2(OC1=C(C(=CC=C1)C)C)[C@@H](CNCC2)O',\n",
       " 'C1=CC(=CC=C1C2(C(CC(C)C)N(C)C)CCC2)Cl',\n",
       " 'C1=CC=CC=C1C3(C2=CC=CC=C2)NC(=O)NC3=O',\n",
       " 'C3=C(C(N2CCN(CC1=CC=CC=C1)CC2)=O)OC4=C3C=CC=C4',\n",
       " 'C1=C([N+](=O)[O-])C=CC2=C1C(=NCC(N2COC)=O)C3=CC=CC=C3',\n",
       " 'C2=CC(=C3OC5C14C6(C(N(CC1)C)CC2=C34)CC(C5(OC)C=C6)C(O)(CCC)C)O',\n",
       " 'C1=C4C(=CC(=C1)CN3CCN(C(COC2=CC=C(Cl)C=C2)=O)CC3)OCO4',\n",
       " 'CCC#CC(C)C1(CC=C)C(=O)NC(=O)N(C)C1=O',\n",
       " 'C1=CC(=CC3=C1C(C2=CC(=C(Cl)C=C2)Cl)CN(C)C3)OC',\n",
       " 'C1=CC=CC2=C1OC(CNCCCC)CO2',\n",
       " 'C1=NC=C([N]1C(C2=CC=CC=C2)C)C(=O)OC',\n",
       " 'CN1C(=O)c2c(cccc2Cl)n2cnc(c2C1)c1noc(n1)C(C)C',\n",
       " 'CCc1ccccc1N2C(=Nc3ccccc3C2=O)C',\n",
       " 'CCC(C)(C)C',\n",
       " '[N]14C3=C(C2=C1C=CC(=C2)C)CCCC3NCC4.[H+].[Cl-]',\n",
       " 'NCC[C@H](O)C(=O)N[C@@H]1C[C@H](N)[C@@H](O[C@H]2O[C@H](CN)CC[C@H]2N)[C@H](O)[C@H]1O[C@H]3O[C@H](CO)[C@@H](O)[C@H](N)[C@H]3O',\n",
       " 'C1=C([S](=O)(=O)N)C=CC(=C1C(NCC2N(CC)CCC2)=O)OC',\n",
       " '[C@]12(OC(O[C@@H]1CC3C2(CC(O)C4(F)C3CCC5=CC(=O)C=CC45C)C)C=C)C(=O)CO']"
      ]
     },
     "execution_count": 228,
     "metadata": {},
     "output_type": "execute_result"
    }
   ],
   "source": [
    "smiles_list"
   ]
  },
  {
   "cell_type": "code",
   "execution_count": 229,
   "id": "714b8f6a-f890-4ebd-9889-d7cf27867717",
   "metadata": {},
   "outputs": [],
   "source": [
    "mols = [Chem.MolFromSmiles(smiles) if Chem.MolFromSmiles(smiles) is not None else 'Invalid SMILES' for smiles in smiles_list]\n"
   ]
  },
  {
   "cell_type": "code",
   "execution_count": 9,
   "id": "2784765f-13d0-49a1-9690-7c9e36ffd4eb",
   "metadata": {},
   "outputs": [
    {
     "data": {
      "image/png": "[encoded data removed]",
      "text/plain": [
       "<rdkit.Chem.rdchem.Mol at 0x7f0f5b74d310>"
      ]
     },
     "execution_count": 9,
     "metadata": {},
     "output_type": "execute_result"
    }
   ],
   "source": [
    "mol"
   ]
  },
  {
   "cell_type": "code",
   "execution_count": 10,
   "id": "432fef5c-c074-4b8c-8b08-d35dd59b8305",
   "metadata": {},
   "outputs": [],
   "source": [
    "frag_indices, _  = get_fragments(mol)\n"
   ]
  },
  {
   "cell_type": "code",
   "execution_count": 11,
   "id": "0ef56500-adb5-494e-93c3-8bf9856ef2ee",
   "metadata": {},
   "outputs": [
    {
     "data": {
      "text/plain": [
       "[[1, 2, 3, 4, 5, 19],\n",
       " [9, 10, 11, 12, 13, 14, 22, 24],\n",
       " [6],\n",
       " [8],\n",
       " [0],\n",
       " [18],\n",
       " [21],\n",
       " [23],\n",
       " [25],\n",
       " [15],\n",
       " [16],\n",
       " [17],\n",
       " [7],\n",
       " [20]]"
      ]
     },
     "execution_count": 11,
     "metadata": {},
     "output_type": "execute_result"
    }
   ],
   "source": [
    "frag_indices"
   ]
  },
  {
   "cell_type": "code",
   "execution_count": 13,
   "id": "f197cac5-2a35-4910-9692-0afae536f52d",
   "metadata": {},
   "outputs": [],
   "source": [
    "\n",
    "ATOM_LIST = list(range(1,119))\n",
    "CHIRALITY_LIST = [\n",
    "    Chem.rdchem.ChiralType.CHI_UNSPECIFIED,\n",
    "    Chem.rdchem.ChiralType.CHI_TETRAHEDRAL_CW,\n",
    "    Chem.rdchem.ChiralType.CHI_TETRAHEDRAL_CCW,\n",
    "    Chem.rdchem.ChiralType.CHI_OTHER\n",
    "]"
   ]
  },
  {
   "cell_type": "code",
   "execution_count": 15,
   "id": "8c693157-edc4-4e17-80c2-a10dc04eee24",
   "metadata": {},
   "outputs": [],
   "source": [
    "import torch\n",
    "\n",
    "type_idx = []\n",
    "chirality_idx = []\n",
    "atomic_number = []\n",
    "for atom in mol.GetAtoms():\n",
    "    type_idx.append(ATOM_LIST.index(atom.GetAtomicNum()))\n",
    "    chirality_idx.append(CHIRALITY_LIST.index(atom.GetChiralTag()))\n",
    "    atomic_number.append(atom.GetAtomicNum())\n",
    "\n",
    "x1 = torch.tensor(type_idx, dtype=torch.long).view(-1,1)\n",
    "x2 = torch.tensor(chirality_idx, dtype=torch.long).view(-1,1)\n",
    "x = torch.cat([x1, x2], dim=-1)"
   ]
  },
  {
   "cell_type": "code",
   "execution_count": 77,
   "id": "40bb44f1-1da1-4861-bb85-ba8b446e8360",
   "metadata": {},
   "outputs": [],
   "source": [
    "motif_batch = torch.zeros(x.size(0), dtype=torch.long)"
   ]
  },
  {
   "cell_type": "code",
   "execution_count": 78,
   "id": "11d271fd-6cd8-4cf0-8c99-7bd03a53f036",
   "metadata": {},
   "outputs": [],
   "source": [
    "curr_indicator = 1\n",
    "curr_num = 0"
   ]
  },
  {
   "cell_type": "code",
   "execution_count": 79,
   "id": "361af668-1177-49dc-9b37-7c928f1ca47b",
   "metadata": {},
   "outputs": [],
   "source": [
    "import numpy as np\n",
    "for indices in frag_indices:\n",
    "    \n",
    "    motif_batch[np.array(indices)] = curr_indicator\n",
    "    curr_indicator += 1"
   ]
  },
  {
   "cell_type": "code",
   "execution_count": 80,
   "id": "399e2f2d-32ba-40d5-98ed-f09e2460dc20",
   "metadata": {},
   "outputs": [
    {
     "data": {
      "text/plain": [
       "tensor([ 5,  1,  1,  1,  1,  1,  3, 13,  4,  2,  2,  2,  2,  2,  2, 10, 11, 12,\n",
       "         6,  1, 14,  7,  2,  8,  2,  9])"
      ]
     },
     "execution_count": 80,
     "metadata": {},
     "output_type": "execute_result"
    }
   ],
   "source": [
    "motif_batch"
   ]
  },
  {
   "cell_type": "code",
   "execution_count": 37,
   "id": "b783c309-2d4c-476d-9f9e-34ccc72ef629",
   "metadata": {},
   "outputs": [
    {
     "data": {
      "text/plain": [
       "[[1, 2, 3, 4, 5, 19],\n",
       " [9, 10, 11, 12, 13, 14, 22, 24],\n",
       " [6],\n",
       " [8],\n",
       " [0],\n",
       " [18],\n",
       " [21],\n",
       " [23],\n",
       " [25],\n",
       " [15],\n",
       " [16],\n",
       " [17],\n",
       " [7],\n",
       " [20]]"
      ]
     },
     "execution_count": 37,
     "metadata": {},
     "output_type": "execute_result"
    }
   ],
   "source": [
    "frag_indices"
   ]
  },
  {
   "cell_type": "code",
   "execution_count": 47,
   "id": "dc6be276-5f2e-419f-bcf0-0c9370694f47",
   "metadata": {},
   "outputs": [
    {
     "name": "stdout",
     "output_type": "stream",
     "text": [
      "tensor([1, 1, 1, 1, 1, 1])\n"
     ]
    }
   ],
   "source": [
    "print(motif_batch[frag_indices[0]])"
   ]
  },
  {
   "cell_type": "code",
   "execution_count": 48,
   "id": "e95d4d41-cd87-40c7-b744-311f0e70ef13",
   "metadata": {},
   "outputs": [
    {
     "data": {
      "text/plain": [
       "tensor([False, False, False, False, False, False, False, False, False, False,\n",
       "        False, False, False, False, False, False, False, False, False, False,\n",
       "        False, False, False, False, False, False])"
      ]
     },
     "execution_count": 48,
     "metadata": {},
     "output_type": "execute_result"
    }
   ],
   "source": [
    "motif_batch == 0"
   ]
  },
  {
   "cell_type": "code",
   "execution_count": 57,
   "id": "1199b9f3-047b-498b-b019-96d0b986d69f",
   "metadata": {},
   "outputs": [],
   "source": [
    "zero_nodes = (motif_batch == 0).nonzero(as_tuple = True)[0]"
   ]
  },
  {
   "cell_type": "code",
   "execution_count": 58,
   "id": "f874fa40-5a3d-48fc-a00f-da1f5026cead",
   "metadata": {},
   "outputs": [
    {
     "data": {
      "text/plain": [
       "tensor([], dtype=torch.int64)"
      ]
     },
     "execution_count": 58,
     "metadata": {},
     "output_type": "execute_result"
    }
   ],
   "source": [
    "zero_nodes"
   ]
  },
  {
   "cell_type": "code",
   "execution_count": 59,
   "id": "03950855-70bb-4124-9d0c-52546c076f4b",
   "metadata": {},
   "outputs": [],
   "source": [
    "new_indicator_start = motif_batch.max().item() + 1\n"
   ]
  },
  {
   "cell_type": "code",
   "execution_count": 62,
   "id": "3905b463-8121-4475-88b7-e40e28521ced",
   "metadata": {},
   "outputs": [],
   "source": [
    "new_indicators = torch.arange(new_indicator_start, new_indicator_start + len(zero_nodes), dtype=torch.long)\n"
   ]
  },
  {
   "cell_type": "code",
   "execution_count": 63,
   "id": "7397b667-6f8d-4788-b772-53ff1149ddf9",
   "metadata": {},
   "outputs": [
    {
     "data": {
      "text/plain": [
       "tensor([], dtype=torch.int64)"
      ]
     },
     "execution_count": 63,
     "metadata": {},
     "output_type": "execute_result"
    }
   ],
   "source": [
    "new_indicators"
   ]
  },
  {
   "cell_type": "code",
   "execution_count": 64,
   "id": "aa85aa99-92e8-48f4-ae1f-a647be609aab",
   "metadata": {},
   "outputs": [
    {
     "data": {
      "text/plain": [
       "tensor([ 5,  1,  1,  1,  1,  1,  3, 13,  4,  2,  2,  2,  2,  2,  2, 10, 11, 12,\n",
       "         6,  1, 14,  7,  2,  8,  2,  9])"
      ]
     },
     "execution_count": 64,
     "metadata": {},
     "output_type": "execute_result"
    }
   ],
   "source": [
    "motif_batch"
   ]
  },
  {
   "cell_type": "code",
   "execution_count": 65,
   "id": "0cd3f1f3-1c75-400b-b848-cb37f7fc1cc5",
   "metadata": {},
   "outputs": [],
   "source": [
    "motif_batch -= 1"
   ]
  },
  {
   "cell_type": "code",
   "execution_count": 192,
   "id": "c87dedb9-3a22-4964-8e2e-84a48070c88a",
   "metadata": {},
   "outputs": [],
   "source": [
    "import networkx as nx\n",
    "\n",
    "bonds = mol.GetBonds()\n",
    "# Construct the original molecular graph from edges (bonds)\n",
    "edges = []\n",
    "for bond in bonds:\n",
    "    edges.append([bond.GetBeginAtomIdx(), bond.GetEndAtomIdx()])\n",
    "molGraph = nx.Graph(edges)\n"
   ]
  },
  {
   "cell_type": "code",
   "execution_count": 193,
   "id": "b8875a3e-0dc9-4ccd-bbdb-0f5469ff085c",
   "metadata": {},
   "outputs": [
    {
     "data": {
      "text/plain": [
       "<networkx.classes.graph.Graph at 0x7f0f561a6b30>"
      ]
     },
     "execution_count": 193,
     "metadata": {},
     "output_type": "execute_result"
    }
   ],
   "source": [
    "molGraph"
   ]
  },
  {
   "cell_type": "code",
   "execution_count": 194,
   "id": "f4381501-943e-4af9-b839-be3d24a094f1",
   "metadata": {},
   "outputs": [],
   "source": [
    "G = molGraph.copy()"
   ]
  },
  {
   "cell_type": "code",
   "execution_count": null,
   "id": "896f85fb-a5d2-4e35-95da-0c554b3f4cd6",
   "metadata": {},
   "outputs": [],
   "source": []
  },
  {
   "cell_type": "code",
   "execution_count": 201,
   "id": "de354fa4-eb93-4456-ace1-f2db4199281a",
   "metadata": {},
   "outputs": [],
   "source": [
    "import networkx as nx\n",
    "import numpy as np\n",
    "import random\n",
    "\n",
    "def remove_by_motif_strict(Graph, motif_batch, num_to_delete):\n",
    "    G = Graph.copy()\n",
    "    total_nodes = len(G.nodes())\n",
    "    motif_nodes = {i: np.where(motif_batch == i)[0].tolist() for i in np.unique(motif_batch)}\n",
    "    removed_nodes = set()\n",
    "\n",
    "    while len(removed_nodes) < num_to_delete:\n",
    "        if len(G.nodes()) <= (total_nodes - num_to_delete):\n",
    "            break  # Stop if the graph has few nodes left than needed to delete.\n",
    "        \n",
    "        available_motifs = [m for m in motif_nodes if len(set(motif_nodes[m]) - removed_nodes) > 0]\n",
    "        if not available_motifs:\n",
    "            break\n",
    "        \n",
    "        chosen_motif = random.choice(available_motifs)\n",
    "        nodes_to_remove = set(motif_nodes[chosen_motif]) - removed_nodes\n",
    "\n",
    "        # Adjust the nodes to remove to not exceed num_to_delete\n",
    "        if len(removed_nodes) + len(nodes_to_remove) > num_to_delete:\n",
    "            excess = (len(removed_nodes) + len(nodes_to_remove)) - num_to_delete\n",
    "            nodes_to_remove = set(random.sample(nodes_to_remove, len(nodes_to_remove) - excess))\n",
    "\n",
    "        G.remove_nodes_from(nodes_to_remove)\n",
    "        removed_nodes.update(nodes_to_remove)\n",
    "\n",
    "    removed_edges = [(u, v) for u, v in Graph.edges() if u in removed_nodes or v in removed_nodes]\n",
    "    return list(removed_nodes), removed_edges, G\n"
   ]
  },
  {
   "cell_type": "code",
   "execution_count": 202,
   "id": "0f3c1a36-081f-4bed-af37-f050476977bf",
   "metadata": {},
   "outputs": [
    {
     "name": "stdout",
     "output_type": "stream",
     "text": [
      "Removed Nodes: [0, 1, 2, 3, 4, 5, 15, 19, 21, 23]\n",
      "Remaining Nodes in Graph: [0, 1, 2, 3, 4, 5, 6, 7, 8, 9, 10, 11, 12, 13, 14, 15, 16, 17, 18, 19, 20, 21, 22, 23, 24, 25]\n",
      "Removed Edges: [(0, 1), (0, 15), (0, 16), (0, 17), (1, 2), (1, 5), (2, 3), (3, 4), (3, 18), (4, 5), (4, 19), (5, 6), (10, 21), (12, 23)]\n"
     ]
    }
   ],
   "source": [
    "removed_nodes, removed_edges, _ = remove_by_motif_strict(G, motif_batch, 10)\n",
    "\n",
    "print(\"Removed Nodes:\", removed_nodes)\n",
    "print(\"Remaining Nodes in Graph:\", G.nodes())\n",
    "print(\"Removed Edges:\", removed_edges)"
   ]
  },
  {
   "cell_type": "code",
   "execution_count": 203,
   "id": "d92c0839-904b-47d0-92b5-d90d9dbe4f0e",
   "metadata": {},
   "outputs": [],
   "source": [
    "import matplotlib.pyplot as plt\n",
    "import networkx as nx\n",
    "\n",
    "def visualize_graph_with_roots(graph, removed_nodes, removed_edges):\n",
    "    plt.figure(figsize=(8, 6))\n",
    "    \n",
    "    # Calculate positions for all nodes initially\n",
    "    pos = nx.spring_layout(graph)  # Positions for all nodes before any modifications\n",
    "\n",
    "    # Check if the root nodes exist in the graph before attempting to plot\n",
    "    # existing_root_nodes = [node for node in root_nodes if node in graph.nodes()]\n",
    "\n",
    "    # Draw the entire graph with a light color\n",
    "    all_nodes = nx.draw_networkx_nodes(graph, pos, node_color='grey', node_size=50, alpha=0.2)\n",
    "    all_edges = nx.draw_networkx_edges(graph, pos, edge_color='grey', alpha=0.2)\n",
    "    \n",
    "    # Create a subgraph from the removed nodes\n",
    "    subgraph = graph.subgraph(removed_nodes).copy()\n",
    "    subgraph.remove_edges_from([e for e in subgraph.edges() if e not in removed_edges])\n",
    "\n",
    "    # Draw removed nodes and edges with specific colors\n",
    "    removed_nodes_drawn = nx.draw_networkx_nodes(subgraph, pos, nodelist=removed_nodes, node_color='red', node_size=100, alpha=0.8)\n",
    "    removed_edges_drawn = nx.draw_networkx_edges(subgraph, pos, edgelist=removed_edges, edge_color='blue', alpha=0.5)\n",
    "\n",
    "    # # Draw root nodes in green\n",
    "    # if existing_root_nodes:\n",
    "    #     root_nodes_drawn = nx.draw_networkx_nodes(graph, pos, nodelist=existing_root_nodes, node_color='green', node_size=150, alpha=1)\n",
    "\n",
    "    # Draw node labels\n",
    "    nx.draw_networkx_labels(graph, pos, font_size=8, font_color='black')\n",
    "\n",
    "    plt.title('Graph Visualization with Removed Nodes, Edges, and Root Nodes Highlighted')\n",
    "    plt.axis('off')  # Turn off the axis\n",
    "\n",
    "    plt.show()"
   ]
  },
  {
   "cell_type": "code",
   "execution_count": 204,
   "id": "049efafc-106c-483f-9f1c-dfdb6f51aee4",
   "metadata": {},
   "outputs": [
    {
     "data": {
      "image/png": "[encoded data removed]",
      "text/plain": [
       "<Figure size 800x600 with 1 Axes>"
      ]
     },
     "metadata": {},
     "output_type": "display_data"
    }
   ],
   "source": [
    "visualize_graph_with_roots(G, removed_nodes,removed_edges)"
   ]
  },
  {
   "cell_type": "code",
   "execution_count": 157,
   "id": "9ff66282-3b02-48f0-b097-76bd0ef8ce49",
   "metadata": {},
   "outputs": [
    {
     "data": {
      "text/plain": [
       "[[1, 2, 3, 4, 5, 19],\n",
       " [9, 10, 11, 12, 13, 14, 22, 24],\n",
       " [6],\n",
       " [8],\n",
       " [0],\n",
       " [18],\n",
       " [21],\n",
       " [23],\n",
       " [25],\n",
       " [15],\n",
       " [16],\n",
       " [17],\n",
       " [7],\n",
       " [20]]"
      ]
     },
     "execution_count": 157,
     "metadata": {},
     "output_type": "execute_result"
    }
   ],
   "source": [
    "frag_indices"
   ]
  },
  {
   "cell_type": "code",
   "execution_count": null,
   "id": "6388e896-3aeb-4bfa-ab27-9d6e657cb232",
   "metadata": {},
   "outputs": [],
   "source": [
    "!python finetuneReconRich_subgraph2.py \\\n",
    "--task_name bbbp \\\n",
    "--splitting scaffold \\\n",
    "--alpha 0.1 \\\n",
    "--mask_edge 1"
   ]
  },
  {
   "cell_type": "code",
   "execution_count": null,
   "id": "24ef9f78-7c94-43ce-a17c-1d8bb11f221e",
   "metadata": {
    "scrolled": true
   },
   "outputs": [
    {
     "name": "stdout",
     "output_type": "stream",
     "text": [
      "Please install apex for mixed precision training from: https://github.com/NVIDIA/apex\n",
      "{'batch_size': 32, 'epochs': 200, 'eval_every_n_epochs': 1, 'fine_tune_from': 'pretrained_gin', 'log_every_n_steps': 50, 'fp16_precision': False, 'init_lr': 0.0005, 'init_base_lr': 0.0001, 'weight_decay': '1e-6', 'gpu': 'cuda:0', 'task_name': 'bbbp', 'model_type': 'gin', 'model': {'num_layer': 5, 'emb_dim': 300, 'feat_dim': 300, 'drop_ratio': 0.3, 'pool': 'mean'}, 'dataset': {'num_workers': 4, 'valid_size': 0.1, 'test_size': 0.1, 'splitting': 'scaffold', 'seed': 42, 'task': 'classification', 'data_path': 'data/bbbp/BBBP.csv', 'target': ['p_np']}}\n",
      "Running on: cuda:0\n",
      "2038\n",
      "About to generate scaffolds\n",
      "Generating scaffold 0/2038\n",
      "Generating scaffold 1000/2038\n",
      "Generating scaffold 2000/2038\n",
      "About to sort in scaffold sets\n",
      "pred_head.0.weight True\n",
      "pred_head.0.bias True\n",
      "pred_head.2.weight True\n",
      "pred_head.2.bias True\n",
      "pred_head.4.weight True\n",
      "pred_head.4.bias True\n",
      "DataBatch(x=[1496, 42], edge_index=[2, 3128], edge_attr=[3128, 10], y=[32, 1], x_add=[32, 200], removed_node_index=[287], removed_edge_index=[860], batch=[1496], ptr=[33])\n",
      "0 0 1.390807867050171\n",
      "DataBatch(x=[1456, 42], edge_index=[2, 3040], edge_attr=[3040, 10], y=[32, 1], x_add=[32, 200], removed_node_index=[280], removed_edge_index=[838], batch=[1456], ptr=[33])\n",
      "DataBatch(x=[1553, 42], edge_index=[2, 3242], edge_attr=[3242, 10], y=[32, 1], x_add=[32, 200], removed_node_index=[295], removed_edge_index=[954], batch=[1553], ptr=[33])\n",
      "DataBatch(x=[1484, 42], edge_index=[2, 3094], edge_attr=[3094, 10], y=[32, 1], x_add=[32, 200], removed_node_index=[283], removed_edge_index=[870], batch=[1484], ptr=[33])\n",
      "DataBatch(x=[1471, 42], edge_index=[2, 3066], edge_attr=[3066, 10], y=[32, 1], x_add=[32, 200], removed_node_index=[281], removed_edge_index=[854], batch=[1471], ptr=[33])\n",
      "DataBatch(x=[1519, 42], edge_index=[2, 3168], edge_attr=[3168, 10], y=[32, 1], x_add=[32, 200], removed_node_index=[293], removed_edge_index=[924], batch=[1519], ptr=[33])\n",
      "DataBatch(x=[1503, 42], edge_index=[2, 3112], edge_attr=[3112, 10], y=[32, 1], x_add=[32, 200], removed_node_index=[287], removed_edge_index=[924], batch=[1503], ptr=[33])\n",
      "DataBatch(x=[1334, 42], edge_index=[2, 2762], edge_attr=[2762, 10], y=[32, 1], x_add=[32, 200], removed_node_index=[252], removed_edge_index=[842], batch=[1334], ptr=[33])\n",
      "DataBatch(x=[1583, 42], edge_index=[2, 3296], edge_attr=[3296, 10], y=[32, 1], x_add=[32, 200], removed_node_index=[306], removed_edge_index=[1006], batch=[1583], ptr=[33])\n",
      "DataBatch(x=[1354, 42], edge_index=[2, 2808], edge_attr=[2808, 10], y=[32, 1], x_add=[32, 200], removed_node_index=[254], removed_edge_index=[836], batch=[1354], ptr=[33])\n",
      "DataBatch(x=[1307, 42], edge_index=[2, 2712], edge_attr=[2712, 10], y=[32, 1], x_add=[32, 200], removed_node_index=[247], removed_edge_index=[820], batch=[1307], ptr=[33])\n",
      "DataBatch(x=[1291, 42], edge_index=[2, 2674], edge_attr=[2674, 10], y=[32, 1], x_add=[32, 200], removed_node_index=[246], removed_edge_index=[820], batch=[1291], ptr=[33])\n",
      "DataBatch(x=[1484, 42], edge_index=[2, 3084], edge_attr=[3084, 10], y=[32, 1], x_add=[32, 200], removed_node_index=[288], removed_edge_index=[898], batch=[1484], ptr=[33])\n",
      "DataBatch(x=[1439, 42], edge_index=[2, 3008], edge_attr=[3008, 10], y=[32, 1], x_add=[32, 200], removed_node_index=[274], removed_edge_index=[908], batch=[1439], ptr=[33])\n",
      "DataBatch(x=[1556, 42], edge_index=[2, 3230], edge_attr=[3230, 10], y=[32, 1], x_add=[32, 200], removed_node_index=[299], removed_edge_index=[982], batch=[1556], ptr=[33])\n",
      "DataBatch(x=[1460, 42], edge_index=[2, 3028], edge_attr=[3028, 10], y=[32, 1], x_add=[32, 200], removed_node_index=[280], removed_edge_index=[954], batch=[1460], ptr=[33])\n",
      "DataBatch(x=[1379, 42], edge_index=[2, 2864], edge_attr=[2864, 10], y=[32, 1], x_add=[32, 200], removed_node_index=[261], removed_edge_index=[834], batch=[1379], ptr=[33])\n",
      "DataBatch(x=[1278, 42], edge_index=[2, 2636], edge_attr=[2636, 10], y=[32, 1], x_add=[32, 200], removed_node_index=[242], removed_edge_index=[820], batch=[1278], ptr=[33])\n",
      "DataBatch(x=[1443, 42], edge_index=[2, 2998], edge_attr=[2998, 10], y=[32, 1], x_add=[32, 200], removed_node_index=[277], removed_edge_index=[956], batch=[1443], ptr=[33])\n",
      "DataBatch(x=[1414, 42], edge_index=[2, 2936], edge_attr=[2936, 10], y=[32, 1], x_add=[32, 200], removed_node_index=[271], removed_edge_index=[862], batch=[1414], ptr=[33])\n",
      "DataBatch(x=[1304, 42], edge_index=[2, 2684], edge_attr=[2684, 10], y=[32, 1], x_add=[32, 200], removed_node_index=[246], removed_edge_index=[770], batch=[1304], ptr=[33])\n",
      "DataBatch(x=[1419, 42], edge_index=[2, 2924], edge_attr=[2924, 10], y=[32, 1], x_add=[32, 200], removed_node_index=[272], removed_edge_index=[838], batch=[1419], ptr=[33])\n",
      "DataBatch(x=[1419, 42], edge_index=[2, 2966], edge_attr=[2966, 10], y=[32, 1], x_add=[32, 200], removed_node_index=[270], removed_edge_index=[876], batch=[1419], ptr=[33])\n",
      "DataBatch(x=[1600, 42], edge_index=[2, 3320], edge_attr=[3320, 10], y=[32, 1], x_add=[32, 200], removed_node_index=[305], removed_edge_index=[940], batch=[1600], ptr=[33])\n",
      "DataBatch(x=[1548, 42], edge_index=[2, 3238], edge_attr=[3238, 10], y=[32, 1], x_add=[32, 200], removed_node_index=[295], removed_edge_index=[934], batch=[1548], ptr=[33])\n",
      "DataBatch(x=[1465, 42], edge_index=[2, 3052], edge_attr=[3052, 10], y=[32, 1], x_add=[32, 200], removed_node_index=[281], removed_edge_index=[930], batch=[1465], ptr=[33])\n",
      "DataBatch(x=[1441, 42], edge_index=[2, 2996], edge_attr=[2996, 10], y=[32, 1], x_add=[32, 200], removed_node_index=[275], removed_edge_index=[892], batch=[1441], ptr=[33])\n",
      "DataBatch(x=[1274, 42], edge_index=[2, 2638], edge_attr=[2638, 10], y=[32, 1], x_add=[32, 200], removed_node_index=[246], removed_edge_index=[804], batch=[1274], ptr=[33])\n",
      "DataBatch(x=[1679, 42], edge_index=[2, 3490], edge_attr=[3490, 10], y=[32, 1], x_add=[32, 200], removed_node_index=[323], removed_edge_index=[1012], batch=[1679], ptr=[33])\n",
      "DataBatch(x=[1317, 42], edge_index=[2, 2718], edge_attr=[2718, 10], y=[32, 1], x_add=[32, 200], removed_node_index=[251], removed_edge_index=[856], batch=[1317], ptr=[33])\n",
      "DataBatch(x=[1384, 42], edge_index=[2, 2846], edge_attr=[2846, 10], y=[32, 1], x_add=[32, 200], removed_node_index=[263], removed_edge_index=[896], batch=[1384], ptr=[33])\n",
      "DataBatch(x=[1460, 42], edge_index=[2, 3034], edge_attr=[3034, 10], y=[32, 1], x_add=[32, 200], removed_node_index=[283], removed_edge_index=[954], batch=[1460], ptr=[33])\n",
      "DataBatch(x=[1416, 42], edge_index=[2, 2950], edge_attr=[2950, 10], y=[32, 1], x_add=[32, 200], removed_node_index=[272], removed_edge_index=[926], batch=[1416], ptr=[33])\n",
      "DataBatch(x=[1402, 42], edge_index=[2, 2918], edge_attr=[2918, 10], y=[32, 1], x_add=[32, 200], removed_node_index=[265], removed_edge_index=[798], batch=[1402], ptr=[33])\n",
      "DataBatch(x=[1408, 42], edge_index=[2, 2920], edge_attr=[2920, 10], y=[32, 1], x_add=[32, 200], removed_node_index=[265], removed_edge_index=[902], batch=[1408], ptr=[33])\n",
      "DataBatch(x=[1283, 42], edge_index=[2, 2668], edge_attr=[2668, 10], y=[32, 1], x_add=[32, 200], removed_node_index=[244], removed_edge_index=[828], batch=[1283], ptr=[33])\n",
      "DataBatch(x=[1219, 42], edge_index=[2, 2520], edge_attr=[2520, 10], y=[32, 1], x_add=[32, 200], removed_node_index=[230], removed_edge_index=[718], batch=[1219], ptr=[33])\n",
      "DataBatch(x=[1408, 42], edge_index=[2, 2920], edge_attr=[2920, 10], y=[32, 1], x_add=[32, 200], removed_node_index=[270], removed_edge_index=[908], batch=[1408], ptr=[33])\n",
      "DataBatch(x=[1335, 42], edge_index=[2, 2780], edge_attr=[2780, 10], y=[32, 1], x_add=[32, 200], removed_node_index=[254], removed_edge_index=[770], batch=[1335], ptr=[33])\n",
      "DataBatch(x=[1580, 42], edge_index=[2, 3296], edge_attr=[3296, 10], y=[32, 1], x_add=[32, 200], removed_node_index=[302], removed_edge_index=[852], batch=[1580], ptr=[33])\n",
      "DataBatch(x=[1358, 42], edge_index=[2, 2826], edge_attr=[2826, 10], y=[32, 1], x_add=[32, 200], removed_node_index=[257], removed_edge_index=[824], batch=[1358], ptr=[33])\n",
      "DataBatch(x=[1281, 42], edge_index=[2, 2666], edge_attr=[2666, 10], y=[32, 1], x_add=[32, 200], removed_node_index=[244], removed_edge_index=[856], batch=[1281], ptr=[33])\n",
      "DataBatch(x=[1353, 42], edge_index=[2, 2812], edge_attr=[2812, 10], y=[32, 1], x_add=[32, 200], removed_node_index=[260], removed_edge_index=[844], batch=[1353], ptr=[33])\n",
      "DataBatch(x=[1285, 42], edge_index=[2, 2680], edge_attr=[2680, 10], y=[32, 1], x_add=[32, 200], removed_node_index=[244], removed_edge_index=[794], batch=[1285], ptr=[33])\n",
      "DataBatch(x=[1368, 42], edge_index=[2, 2848], edge_attr=[2848, 10], y=[32, 1], x_add=[32, 200], removed_node_index=[260], removed_edge_index=[832], batch=[1368], ptr=[33])\n",
      "DataBatch(x=[1448, 42], edge_index=[2, 3010], edge_attr=[3010, 10], y=[32, 1], x_add=[32, 200], removed_node_index=[275], removed_edge_index=[820], batch=[1448], ptr=[33])\n",
      "DataBatch(x=[1598, 42], edge_index=[2, 3332], edge_attr=[3332, 10], y=[32, 1], x_add=[32, 200], removed_node_index=[306], removed_edge_index=[1018], batch=[1598], ptr=[33])\n",
      "DataBatch(x=[1336, 42], edge_index=[2, 2792], edge_attr=[2792, 10], y=[32, 1], x_add=[32, 200], removed_node_index=[258], removed_edge_index=[852], batch=[1336], ptr=[33])\n",
      "DataBatch(x=[1390, 42], edge_index=[2, 2900], edge_attr=[2900, 10], y=[32, 1], x_add=[32, 200], removed_node_index=[266], removed_edge_index=[872], batch=[1390], ptr=[33])\n",
      "DataBatch(x=[1402, 42], edge_index=[2, 2912], edge_attr=[2912, 10], y=[32, 1], x_add=[32, 200], removed_node_index=[270], removed_edge_index=[896], batch=[1402], ptr=[33])\n",
      "DataBatch(x=[1204, 42], edge_index=[2, 2496], edge_attr=[2496, 10], y=[30, 1], x_add=[30, 200], removed_node_index=[229], removed_edge_index=[712], batch=[1204], ptr=[31])\n",
      "0 50 0.9638411402702332\n",
      "Validation loss: 0.7157473482337653 ROC AUC: 0.9172166149068323\n",
      "DataBatch(x=[1480, 42], edge_index=[2, 3076], edge_attr=[3076, 10], y=[32, 1], x_add=[32, 200], removed_node_index=[283], removed_edge_index=[928], batch=[1480], ptr=[33])\n",
      "DataBatch(x=[1457, 42], edge_index=[2, 3022], edge_attr=[3022, 10], y=[32, 1], x_add=[32, 200], removed_node_index=[277], removed_edge_index=[892], batch=[1457], ptr=[33])\n",
      "DataBatch(x=[1457, 42], edge_index=[2, 3032], edge_attr=[3032, 10], y=[32, 1], x_add=[32, 200], removed_node_index=[280], removed_edge_index=[944], batch=[1457], ptr=[33])\n",
      "DataBatch(x=[1452, 42], edge_index=[2, 3010], edge_attr=[3010, 10], y=[32, 1], x_add=[32, 200], removed_node_index=[279], removed_edge_index=[860], batch=[1452], ptr=[33])\n",
      "DataBatch(x=[1305, 42], edge_index=[2, 2696], edge_attr=[2696, 10], y=[32, 1], x_add=[32, 200], removed_node_index=[248], removed_edge_index=[760], batch=[1305], ptr=[33])\n",
      "DataBatch(x=[1309, 42], edge_index=[2, 2726], edge_attr=[2726, 10], y=[32, 1], x_add=[32, 200], removed_node_index=[249], removed_edge_index=[866], batch=[1309], ptr=[33])\n",
      "DataBatch(x=[1469, 42], edge_index=[2, 3068], edge_attr=[3068, 10], y=[32, 1], x_add=[32, 200], removed_node_index=[281], removed_edge_index=[864], batch=[1469], ptr=[33])\n",
      "DataBatch(x=[1434, 42], edge_index=[2, 2972], edge_attr=[2972, 10], y=[32, 1], x_add=[32, 200], removed_node_index=[272], removed_edge_index=[904], batch=[1434], ptr=[33])\n",
      "DataBatch(x=[1263, 42], edge_index=[2, 2606], edge_attr=[2606, 10], y=[32, 1], x_add=[32, 200], removed_node_index=[238], removed_edge_index=[762], batch=[1263], ptr=[33])\n",
      "DataBatch(x=[1344, 42], edge_index=[2, 2784], edge_attr=[2784, 10], y=[32, 1], x_add=[32, 200], removed_node_index=[255], removed_edge_index=[856], batch=[1344], ptr=[33])\n",
      "DataBatch(x=[1329, 42], edge_index=[2, 2750], edge_attr=[2750, 10], y=[32, 1], x_add=[32, 200], removed_node_index=[250], removed_edge_index=[792], batch=[1329], ptr=[33])\n",
      "DataBatch(x=[1578, 42], edge_index=[2, 3274], edge_attr=[3274, 10], y=[32, 1], x_add=[32, 200], removed_node_index=[304], removed_edge_index=[948], batch=[1578], ptr=[33])\n",
      "DataBatch(x=[1392, 42], edge_index=[2, 2894], edge_attr=[2894, 10], y=[32, 1], x_add=[32, 200], removed_node_index=[267], removed_edge_index=[920], batch=[1392], ptr=[33])\n",
      "DataBatch(x=[1513, 42], edge_index=[2, 3152], edge_attr=[3152, 10], y=[32, 1], x_add=[32, 200], removed_node_index=[290], removed_edge_index=[936], batch=[1513], ptr=[33])\n",
      "DataBatch(x=[1626, 42], edge_index=[2, 3380], edge_attr=[3380, 10], y=[32, 1], x_add=[32, 200], removed_node_index=[313], removed_edge_index=[974], batch=[1626], ptr=[33])\n",
      "DataBatch(x=[1604, 42], edge_index=[2, 3346], edge_attr=[3346, 10], y=[32, 1], x_add=[32, 200], removed_node_index=[308], removed_edge_index=[1002], batch=[1604], ptr=[33])\n",
      "DataBatch(x=[1385, 42], edge_index=[2, 2884], edge_attr=[2884, 10], y=[32, 1], x_add=[32, 200], removed_node_index=[263], removed_edge_index=[888], batch=[1385], ptr=[33])\n",
      "DataBatch(x=[1335, 42], edge_index=[2, 2788], edge_attr=[2788, 10], y=[32, 1], x_add=[32, 200], removed_node_index=[254], removed_edge_index=[812], batch=[1335], ptr=[33])\n",
      "DataBatch(x=[1265, 42], edge_index=[2, 2608], edge_attr=[2608, 10], y=[32, 1], x_add=[32, 200], removed_node_index=[240], removed_edge_index=[816], batch=[1265], ptr=[33])\n",
      "DataBatch(x=[1289, 42], edge_index=[2, 2662], edge_attr=[2662, 10], y=[32, 1], x_add=[32, 200], removed_node_index=[244], removed_edge_index=[806], batch=[1289], ptr=[33])\n",
      "DataBatch(x=[1372, 42], edge_index=[2, 2854], edge_attr=[2854, 10], y=[32, 1], x_add=[32, 200], removed_node_index=[262], removed_edge_index=[876], batch=[1372], ptr=[33])\n",
      "DataBatch(x=[1597, 42], edge_index=[2, 3318], edge_attr=[3318, 10], y=[32, 1], x_add=[32, 200], removed_node_index=[306], removed_edge_index=[1074], batch=[1597], ptr=[33])\n",
      "DataBatch(x=[1412, 42], edge_index=[2, 2936], edge_attr=[2936, 10], y=[32, 1], x_add=[32, 200], removed_node_index=[272], removed_edge_index=[838], batch=[1412], ptr=[33])\n",
      "DataBatch(x=[1487, 42], edge_index=[2, 3102], edge_attr=[3102, 10], y=[32, 1], x_add=[32, 200], removed_node_index=[287], removed_edge_index=[950], batch=[1487], ptr=[33])\n",
      "DataBatch(x=[1486, 42], edge_index=[2, 3106], edge_attr=[3106, 10], y=[32, 1], x_add=[32, 200], removed_node_index=[284], removed_edge_index=[932], batch=[1486], ptr=[33])\n",
      "DataBatch(x=[1351, 42], edge_index=[2, 2824], edge_attr=[2824, 10], y=[32, 1], x_add=[32, 200], removed_node_index=[255], removed_edge_index=[780], batch=[1351], ptr=[33])\n",
      "DataBatch(x=[1209, 42], edge_index=[2, 2516], edge_attr=[2516, 10], y=[32, 1], x_add=[32, 200], removed_node_index=[230], removed_edge_index=[670], batch=[1209], ptr=[33])\n",
      "DataBatch(x=[1455, 42], edge_index=[2, 3006], edge_attr=[3006, 10], y=[32, 1], x_add=[32, 200], removed_node_index=[276], removed_edge_index=[920], batch=[1455], ptr=[33])\n",
      "DataBatch(x=[1430, 42], edge_index=[2, 2964], edge_attr=[2964, 10], y=[32, 1], x_add=[32, 200], removed_node_index=[276], removed_edge_index=[906], batch=[1430], ptr=[33])\n",
      "DataBatch(x=[1468, 42], edge_index=[2, 3058], edge_attr=[3058, 10], y=[32, 1], x_add=[32, 200], removed_node_index=[279], removed_edge_index=[842], batch=[1468], ptr=[33])\n",
      "DataBatch(x=[1433, 42], edge_index=[2, 3002], edge_attr=[3002, 10], y=[32, 1], x_add=[32, 200], removed_node_index=[273], removed_edge_index=[894], batch=[1433], ptr=[33])\n",
      "DataBatch(x=[1471, 42], edge_index=[2, 3056], edge_attr=[3056, 10], y=[32, 1], x_add=[32, 200], removed_node_index=[284], removed_edge_index=[944], batch=[1471], ptr=[33])\n",
      "DataBatch(x=[1445, 42], edge_index=[2, 2996], edge_attr=[2996, 10], y=[32, 1], x_add=[32, 200], removed_node_index=[276], removed_edge_index=[886], batch=[1445], ptr=[33])\n",
      "DataBatch(x=[1409, 42], edge_index=[2, 2946], edge_attr=[2946, 10], y=[32, 1], x_add=[32, 200], removed_node_index=[270], removed_edge_index=[824], batch=[1409], ptr=[33])\n",
      "DataBatch(x=[1464, 42], edge_index=[2, 3050], edge_attr=[3050, 10], y=[32, 1], x_add=[32, 200], removed_node_index=[278], removed_edge_index=[824], batch=[1464], ptr=[33])\n",
      "DataBatch(x=[1424, 42], edge_index=[2, 2962], edge_attr=[2962, 10], y=[32, 1], x_add=[32, 200], removed_node_index=[273], removed_edge_index=[880], batch=[1424], ptr=[33])\n",
      "DataBatch(x=[1434, 42], edge_index=[2, 2962], edge_attr=[2962, 10], y=[32, 1], x_add=[32, 200], removed_node_index=[275], removed_edge_index=[856], batch=[1434], ptr=[33])\n",
      "DataBatch(x=[1172, 42], edge_index=[2, 2398], edge_attr=[2398, 10], y=[32, 1], x_add=[32, 200], removed_node_index=[223], removed_edge_index=[728], batch=[1172], ptr=[33])\n",
      "DataBatch(x=[1525, 42], edge_index=[2, 3178], edge_attr=[3178, 10], y=[32, 1], x_add=[32, 200], removed_node_index=[293], removed_edge_index=[918], batch=[1525], ptr=[33])\n",
      "DataBatch(x=[1312, 42], edge_index=[2, 2726], edge_attr=[2726, 10], y=[32, 1], x_add=[32, 200], removed_node_index=[252], removed_edge_index=[766], batch=[1312], ptr=[33])\n",
      "DataBatch(x=[1281, 42], edge_index=[2, 2648], edge_attr=[2648, 10], y=[32, 1], x_add=[32, 200], removed_node_index=[241], removed_edge_index=[760], batch=[1281], ptr=[33])\n",
      "DataBatch(x=[1362, 42], edge_index=[2, 2840], edge_attr=[2840, 10], y=[32, 1], x_add=[32, 200], removed_node_index=[258], removed_edge_index=[888], batch=[1362], ptr=[33])\n",
      "DataBatch(x=[1438, 42], edge_index=[2, 2994], edge_attr=[2994, 10], y=[32, 1], x_add=[32, 200], removed_node_index=[278], removed_edge_index=[876], batch=[1438], ptr=[33])\n",
      "DataBatch(x=[1335, 42], edge_index=[2, 2770], edge_attr=[2770, 10], y=[32, 1], x_add=[32, 200], removed_node_index=[253], removed_edge_index=[820], batch=[1335], ptr=[33])\n",
      "DataBatch(x=[1325, 42], edge_index=[2, 2744], edge_attr=[2744, 10], y=[32, 1], x_add=[32, 200], removed_node_index=[254], removed_edge_index=[796], batch=[1325], ptr=[33])\n",
      "DataBatch(x=[1344, 42], edge_index=[2, 2808], edge_attr=[2808, 10], y=[32, 1], x_add=[32, 200], removed_node_index=[257], removed_edge_index=[808], batch=[1344], ptr=[33])\n",
      "DataBatch(x=[1694, 42], edge_index=[2, 3530], edge_attr=[3530, 10], y=[32, 1], x_add=[32, 200], removed_node_index=[326], removed_edge_index=[1030], batch=[1694], ptr=[33])\n",
      "DataBatch(x=[1460, 42], edge_index=[2, 3058], edge_attr=[3058, 10], y=[32, 1], x_add=[32, 200], removed_node_index=[276], removed_edge_index=[884], batch=[1460], ptr=[33])\n",
      "DataBatch(x=[1578, 42], edge_index=[2, 3290], edge_attr=[3290, 10], y=[32, 1], x_add=[32, 200], removed_node_index=[302], removed_edge_index=[946], batch=[1578], ptr=[33])\n",
      "DataBatch(x=[1366, 42], edge_index=[2, 2852], edge_attr=[2852, 10], y=[32, 1], x_add=[32, 200], removed_node_index=[257], removed_edge_index=[860], batch=[1366], ptr=[33])\n",
      "1 49 0.2652328610420227\n",
      "DataBatch(x=[1363, 42], edge_index=[2, 2814], edge_attr=[2814, 10], y=[30, 1], x_add=[30, 200], removed_node_index=[263], removed_edge_index=[828], batch=[1363], ptr=[31])\n",
      "Validation loss: 0.47424643764308855 ROC AUC: 0.9031444099378881\n",
      "DataBatch(x=[1445, 42], edge_index=[2, 3010], edge_attr=[3010, 10], y=[32, 1], x_add=[32, 200], removed_node_index=[278], removed_edge_index=[898], batch=[1445], ptr=[33])\n",
      "DataBatch(x=[1470, 42], edge_index=[2, 3068], edge_attr=[3068, 10], y=[32, 1], x_add=[32, 200], removed_node_index=[280], removed_edge_index=[932], batch=[1470], ptr=[33])\n",
      "DataBatch(x=[1606, 42], edge_index=[2, 3344], edge_attr=[3344, 10], y=[32, 1], x_add=[32, 200], removed_node_index=[307], removed_edge_index=[992], batch=[1606], ptr=[33])\n",
      "DataBatch(x=[1439, 42], edge_index=[2, 3004], edge_attr=[3004, 10], y=[32, 1], x_add=[32, 200], removed_node_index=[276], removed_edge_index=[856], batch=[1439], ptr=[33])\n"
     ]
    }
   ],
   "source": [
    "!python finetuneReconRich_frag2.py \\\n",
    "--task_name bbbp \\\n",
    "--splitting scaffold \\\n",
    "--alpha 0.1 \\\n",
    "--mask_edge 1"
   ]
  },
  {
   "cell_type": "code",
   "execution_count": null,
   "id": "8e8a29f0-f37f-40f8-971a-bd855bde55da",
   "metadata": {},
   "outputs": [],
   "source": [
    "   batch, slice_dict, inc_dict = collate(\n",
    "  File \"/opt/conda/lib/python3.10/site-packages/torch_geometric/data/collate.py\", line 45, in collate\n",
    "    out.stores_as(data_list[0])\n",
    "AttributeError: 'tupleBatch' object has no attribute 'stores_as'"
   ]
  },
  {
   "cell_type": "code",
   "execution_count": 3,
   "id": "a571be0e-75ae-4ca9-a4b1-a65e2720216d",
   "metadata": {
    "scrolled": true
   },
   "outputs": [
    {
     "name": "stdout",
     "output_type": "stream",
     "text": [
      "DataBatch(x=[30, 5], y=[3], batch=[30], ptr=[4])\n",
      "tensor([0, 0, 0, 0, 0, 0, 0, 0, 0, 0, 1, 1, 1, 1, 1, 1, 1, 1, 1, 1, 2, 2, 2, 2,\n",
      "        2, 2, 2, 2, 2, 2])\n",
      "tensor([ 0, 10, 20, 30])\n",
      "DataBatch(x=[30, 5], y=[3], batch=[30], ptr=[4])\n",
      "tensor([0, 0, 0, 0, 0, 0, 0, 0, 0, 0, 1, 1, 1, 1, 1, 1, 1, 1, 1, 1, 2, 2, 2, 2,\n",
      "        2, 2, 2, 2, 2, 2])\n",
      "tensor([ 0, 10, 20, 30])\n",
      "DataBatch(x=[30, 5], y=[3], batch=[30], ptr=[4])\n",
      "tensor([0, 0, 0, 0, 0, 0, 0, 0, 0, 0, 1, 1, 1, 1, 1, 1, 1, 1, 1, 1, 2, 2, 2, 2,\n",
      "        2, 2, 2, 2, 2, 2])\n",
      "tensor([ 0, 10, 20, 30])\n",
      "DataBatch(x=[30, 5], y=[3], batch=[30], ptr=[4])\n",
      "tensor([0, 0, 0, 0, 0, 0, 0, 0, 0, 0, 1, 1, 1, 1, 1, 1, 1, 1, 1, 1, 2, 2, 2, 2,\n",
      "        2, 2, 2, 2, 2, 2])\n",
      "tensor([ 0, 10, 20, 30])\n",
      "DataBatch(x=[30, 5], y=[3], batch=[30], ptr=[4])\n",
      "tensor([0, 0, 0, 0, 0, 0, 0, 0, 0, 0, 1, 1, 1, 1, 1, 1, 1, 1, 1, 1, 2, 2, 2, 2,\n",
      "        2, 2, 2, 2, 2, 2])\n",
      "tensor([ 0, 10, 20, 30])\n",
      "DataBatch(x=[30, 5], y=[3], batch=[30], ptr=[4])\n",
      "tensor([0, 0, 0, 0, 0, 0, 0, 0, 0, 0, 1, 1, 1, 1, 1, 1, 1, 1, 1, 1, 2, 2, 2, 2,\n",
      "        2, 2, 2, 2, 2, 2])\n",
      "tensor([ 0, 10, 20, 30])\n",
      "DataBatch(x=[30, 5], y=[3], batch=[30], ptr=[4])\n",
      "tensor([0, 0, 0, 0, 0, 0, 0, 0, 0, 0, 1, 1, 1, 1, 1, 1, 1, 1, 1, 1, 2, 2, 2, 2,\n",
      "        2, 2, 2, 2, 2, 2])\n",
      "tensor([ 0, 10, 20, 30])\n",
      "DataBatch(x=[30, 5], y=[3], batch=[30], ptr=[4])\n",
      "tensor([0, 0, 0, 0, 0, 0, 0, 0, 0, 0, 1, 1, 1, 1, 1, 1, 1, 1, 1, 1, 2, 2, 2, 2,\n",
      "        2, 2, 2, 2, 2, 2])\n",
      "tensor([ 0, 10, 20, 30])\n",
      "DataBatch(x=[30, 5], y=[3], batch=[30], ptr=[4])\n",
      "tensor([0, 0, 0, 0, 0, 0, 0, 0, 0, 0, 1, 1, 1, 1, 1, 1, 1, 1, 1, 1, 2, 2, 2, 2,\n",
      "        2, 2, 2, 2, 2, 2])\n",
      "tensor([ 0, 10, 20, 30])\n",
      "DataBatch(x=[30, 5], y=[3], batch=[30], ptr=[4])\n",
      "tensor([0, 0, 0, 0, 0, 0, 0, 0, 0, 0, 1, 1, 1, 1, 1, 1, 1, 1, 1, 1, 2, 2, 2, 2,\n",
      "        2, 2, 2, 2, 2, 2])\n",
      "tensor([ 0, 10, 20, 30])\n",
      "DataBatch(x=[30, 5], y=[3], batch=[30], ptr=[4])\n",
      "tensor([0, 0, 0, 0, 0, 0, 0, 0, 0, 0, 1, 1, 1, 1, 1, 1, 1, 1, 1, 1, 2, 2, 2, 2,\n",
      "        2, 2, 2, 2, 2, 2])\n",
      "tensor([ 0, 10, 20, 30])\n",
      "DataBatch(x=[30, 5], y=[3], batch=[30], ptr=[4])\n",
      "tensor([0, 0, 0, 0, 0, 0, 0, 0, 0, 0, 1, 1, 1, 1, 1, 1, 1, 1, 1, 1, 2, 2, 2, 2,\n",
      "        2, 2, 2, 2, 2, 2])\n",
      "tensor([ 0, 10, 20, 30])\n",
      "DataBatch(x=[30, 5], y=[3], batch=[30], ptr=[4])\n",
      "tensor([0, 0, 0, 0, 0, 0, 0, 0, 0, 0, 1, 1, 1, 1, 1, 1, 1, 1, 1, 1, 2, 2, 2, 2,\n",
      "        2, 2, 2, 2, 2, 2])\n",
      "tensor([ 0, 10, 20, 30])\n",
      "DataBatch(x=[30, 5], y=[3], batch=[30], ptr=[4])\n",
      "tensor([0, 0, 0, 0, 0, 0, 0, 0, 0, 0, 1, 1, 1, 1, 1, 1, 1, 1, 1, 1, 2, 2, 2, 2,\n",
      "        2, 2, 2, 2, 2, 2])\n",
      "tensor([ 0, 10, 20, 30])\n",
      "DataBatch(x=[30, 5], y=[3], batch=[30], ptr=[4])\n",
      "tensor([0, 0, 0, 0, 0, 0, 0, 0, 0, 0, 1, 1, 1, 1, 1, 1, 1, 1, 1, 1, 2, 2, 2, 2,\n",
      "        2, 2, 2, 2, 2, 2])\n",
      "tensor([ 0, 10, 20, 30])\n",
      "DataBatch(x=[30, 5], y=[3], batch=[30], ptr=[4])\n",
      "tensor([0, 0, 0, 0, 0, 0, 0, 0, 0, 0, 1, 1, 1, 1, 1, 1, 1, 1, 1, 1, 2, 2, 2, 2,\n",
      "        2, 2, 2, 2, 2, 2])\n",
      "tensor([ 0, 10, 20, 30])\n",
      "DataBatch(x=[30, 5], y=[3], batch=[30], ptr=[4])\n",
      "tensor([0, 0, 0, 0, 0, 0, 0, 0, 0, 0, 1, 1, 1, 1, 1, 1, 1, 1, 1, 1, 2, 2, 2, 2,\n",
      "        2, 2, 2, 2, 2, 2])\n",
      "tensor([ 0, 10, 20, 30])\n",
      "DataBatch(x=[30, 5], y=[3], batch=[30], ptr=[4])\n",
      "tensor([0, 0, 0, 0, 0, 0, 0, 0, 0, 0, 1, 1, 1, 1, 1, 1, 1, 1, 1, 1, 2, 2, 2, 2,\n",
      "        2, 2, 2, 2, 2, 2])\n",
      "tensor([ 0, 10, 20, 30])\n",
      "DataBatch(x=[30, 5], y=[3], batch=[30], ptr=[4])\n",
      "tensor([0, 0, 0, 0, 0, 0, 0, 0, 0, 0, 1, 1, 1, 1, 1, 1, 1, 1, 1, 1, 2, 2, 2, 2,\n",
      "        2, 2, 2, 2, 2, 2])\n",
      "tensor([ 0, 10, 20, 30])\n",
      "DataBatch(x=[30, 5], y=[3], batch=[30], ptr=[4])\n",
      "tensor([0, 0, 0, 0, 0, 0, 0, 0, 0, 0, 1, 1, 1, 1, 1, 1, 1, 1, 1, 1, 2, 2, 2, 2,\n",
      "        2, 2, 2, 2, 2, 2])\n",
      "tensor([ 0, 10, 20, 30])\n",
      "DataBatch(x=[30, 5], y=[3], batch=[30], ptr=[4])\n",
      "tensor([0, 0, 0, 0, 0, 0, 0, 0, 0, 0, 1, 1, 1, 1, 1, 1, 1, 1, 1, 1, 2, 2, 2, 2,\n",
      "        2, 2, 2, 2, 2, 2])\n",
      "tensor([ 0, 10, 20, 30])\n",
      "DataBatch(x=[30, 5], y=[3], batch=[30], ptr=[4])\n",
      "tensor([0, 0, 0, 0, 0, 0, 0, 0, 0, 0, 1, 1, 1, 1, 1, 1, 1, 1, 1, 1, 2, 2, 2, 2,\n",
      "        2, 2, 2, 2, 2, 2])\n",
      "tensor([ 0, 10, 20, 30])\n",
      "DataBatch(x=[30, 5], y=[3], batch=[30], ptr=[4])\n",
      "tensor([0, 0, 0, 0, 0, 0, 0, 0, 0, 0, 1, 1, 1, 1, 1, 1, 1, 1, 1, 1, 2, 2, 2, 2,\n",
      "        2, 2, 2, 2, 2, 2])\n",
      "tensor([ 0, 10, 20, 30])\n",
      "DataBatch(x=[30, 5], y=[3], batch=[30], ptr=[4])\n",
      "tensor([0, 0, 0, 0, 0, 0, 0, 0, 0, 0, 1, 1, 1, 1, 1, 1, 1, 1, 1, 1, 2, 2, 2, 2,\n",
      "        2, 2, 2, 2, 2, 2])\n",
      "tensor([ 0, 10, 20, 30])\n",
      "DataBatch(x=[30, 5], y=[3], batch=[30], ptr=[4])\n",
      "tensor([0, 0, 0, 0, 0, 0, 0, 0, 0, 0, 1, 1, 1, 1, 1, 1, 1, 1, 1, 1, 2, 2, 2, 2,\n",
      "        2, 2, 2, 2, 2, 2])\n",
      "tensor([ 0, 10, 20, 30])\n",
      "DataBatch(x=[30, 5], y=[3], batch=[30], ptr=[4])\n",
      "tensor([0, 0, 0, 0, 0, 0, 0, 0, 0, 0, 1, 1, 1, 1, 1, 1, 1, 1, 1, 1, 2, 2, 2, 2,\n",
      "        2, 2, 2, 2, 2, 2])\n",
      "tensor([ 0, 10, 20, 30])\n",
      "DataBatch(x=[30, 5], y=[3], batch=[30], ptr=[4])\n",
      "tensor([0, 0, 0, 0, 0, 0, 0, 0, 0, 0, 1, 1, 1, 1, 1, 1, 1, 1, 1, 1, 2, 2, 2, 2,\n",
      "        2, 2, 2, 2, 2, 2])\n",
      "tensor([ 0, 10, 20, 30])\n",
      "DataBatch(x=[30, 5], y=[3], batch=[30], ptr=[4])\n",
      "tensor([0, 0, 0, 0, 0, 0, 0, 0, 0, 0, 1, 1, 1, 1, 1, 1, 1, 1, 1, 1, 2, 2, 2, 2,\n",
      "        2, 2, 2, 2, 2, 2])\n",
      "tensor([ 0, 10, 20, 30])\n",
      "DataBatch(x=[30, 5], y=[3], batch=[30], ptr=[4])\n",
      "tensor([0, 0, 0, 0, 0, 0, 0, 0, 0, 0, 1, 1, 1, 1, 1, 1, 1, 1, 1, 1, 2, 2, 2, 2,\n",
      "        2, 2, 2, 2, 2, 2])\n",
      "tensor([ 0, 10, 20, 30])\n",
      "DataBatch(x=[30, 5], y=[3], batch=[30], ptr=[4])\n",
      "tensor([0, 0, 0, 0, 0, 0, 0, 0, 0, 0, 1, 1, 1, 1, 1, 1, 1, 1, 1, 1, 2, 2, 2, 2,\n",
      "        2, 2, 2, 2, 2, 2])\n",
      "tensor([ 0, 10, 20, 30])\n",
      "DataBatch(x=[30, 5], y=[3], batch=[30], ptr=[4])\n",
      "tensor([0, 0, 0, 0, 0, 0, 0, 0, 0, 0, 1, 1, 1, 1, 1, 1, 1, 1, 1, 1, 2, 2, 2, 2,\n",
      "        2, 2, 2, 2, 2, 2])\n",
      "tensor([ 0, 10, 20, 30])\n",
      "DataBatch(x=[30, 5], y=[3], batch=[30], ptr=[4])\n",
      "tensor([0, 0, 0, 0, 0, 0, 0, 0, 0, 0, 1, 1, 1, 1, 1, 1, 1, 1, 1, 1, 2, 2, 2, 2,\n",
      "        2, 2, 2, 2, 2, 2])\n",
      "tensor([ 0, 10, 20, 30])\n",
      "DataBatch(x=[30, 5], y=[3], batch=[30], ptr=[4])\n",
      "tensor([0, 0, 0, 0, 0, 0, 0, 0, 0, 0, 1, 1, 1, 1, 1, 1, 1, 1, 1, 1, 2, 2, 2, 2,\n",
      "        2, 2, 2, 2, 2, 2])\n",
      "tensor([ 0, 10, 20, 30])\n",
      "DataBatch(x=[10, 5], y=[1], batch=[10], ptr=[2])\n",
      "tensor([0, 0, 0, 0, 0, 0, 0, 0, 0, 0])\n",
      "tensor([ 0, 10])\n"
     ]
    }
   ],
   "source": [
    "from torch_geometric.data import Data, DataLoader\n",
    "import torch\n",
    "\n",
    "data_list = [Data(x=torch.randn(10, 5), y=torch.randn(1)) for _ in range(100)]\n",
    "loader = DataLoader(data_list, batch_size=3)\n",
    "\n",
    "for batch in loader:\n",
    "    print(batch)\n",
    "    print(batch.batch)  # 각 노드가 속한 그래프의 배치 인덱스\n",
    "    print(batch.ptr)    # 각 그래프의 시작 포인터"
   ]
  },
  {
   "cell_type": "code",
   "execution_count": null,
   "id": "83013c99-c86d-4cb1-bb52-1d88a44e1e54",
   "metadata": {},
   "outputs": [],
   "source": []
  }
 ],
 "metadata": {
  "kernelspec": {
   "display_name": "Python 3 (ipykernel)",
   "language": "python",
   "name": "python3"
  },
  "language_info": {
   "codemirror_mode": {
    "name": "ipython",
    "version": 3
   },
   "file_extension": ".py",
   "mimetype": "text/x-python",
   "name": "python",
   "nbconvert_exporter": "python",
   "pygments_lexer": "ipython3",
   "version": "3.10.8"
  }
 },
 "nbformat": 4,
 "nbformat_minor": 5
}
