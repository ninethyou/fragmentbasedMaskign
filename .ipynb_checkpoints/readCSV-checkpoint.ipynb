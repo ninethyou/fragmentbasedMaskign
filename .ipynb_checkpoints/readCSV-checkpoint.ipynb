{
 "cells": [
  {
   "cell_type": "code",
   "execution_count": 241,
   "id": "0a79666e-0092-44cb-a0cb-4a622260a7ca",
   "metadata": {},
   "outputs": [],
   "source": [
    "selected_datasets = ['FreeSolv',\n",
    "                        'ESOL',\n",
    "                         'qm7',\n",
    "                        'Lipo',\n",
    "                        'BACE',\n",
    "                        'BBBP',\n",
    "                        'ClinTox',\n",
    "                        'sider',\n",
    "                        'tox21']"
   ]
  },
  {
   "cell_type": "code",
   "execution_count": 223,
   "id": "3b4dbceb-e634-4a3a-9a2b-d4aa8ac2b76e",
   "metadata": {},
   "outputs": [],
   "source": [
    "selected_datasets_lower = [x.lower() for x in selected_datasets]"
   ]
  },
  {
   "cell_type": "code",
   "execution_count": 224,
   "id": "ae7c0d7b-d2d1-4187-a962-cfb666ed8ca6",
   "metadata": {},
   "outputs": [],
   "source": [
    "file = 'mask_edgefinetuneReconEdgeEmbed.py'"
   ]
  },
  {
   "cell_type": "code",
   "execution_count": 225,
   "id": "bc5fe53a-8fc6-4e02-be1c-14df9319ba6e",
   "metadata": {},
   "outputs": [],
   "source": [
    "file = 'mask_edgefinetuneReconRich.py'"
   ]
  },
  {
   "cell_type": "code",
   "execution_count": 227,
   "id": "21931bd4-0466-4fe0-bdc5-fca07f3d19e8",
   "metadata": {},
   "outputs": [],
   "source": [
    "file = 'finetune3_graphSage.py'"
   ]
  },
  {
   "cell_type": "code",
   "execution_count": 228,
   "id": "0583a01e-8501-49e9-b97e-8925b4d229cf",
   "metadata": {},
   "outputs": [],
   "source": [
    "file = 'finetuneReconSubGraphFrag.py'"
   ]
  },
  {
   "cell_type": "code",
   "execution_count": 229,
   "id": "3491ca71-a957-4cc8-bed5-fde3aa88866d",
   "metadata": {},
   "outputs": [],
   "source": [
    "file = 'finetune3.py'"
   ]
  },
  {
   "cell_type": "code",
   "execution_count": null,
   "id": "b4dbdbdd-aa52-487a-9dca-bd510b0bd9d8",
   "metadata": {},
   "outputs": [],
   "source": []
  },
  {
   "cell_type": "code",
   "execution_count": 234,
   "id": "ecf373ce-4d62-4d7f-9695-e2a511074168",
   "metadata": {},
   "outputs": [],
   "source": [
    "file = 'mask_edgefinetuneRecon.py'"
   ]
  },
  {
   "cell_type": "code",
   "execution_count": 242,
   "id": "b299dd3b-b95b-4825-b5f0-ff713f7fde2e",
   "metadata": {},
   "outputs": [],
   "source": [
    "file = 'finetune3-balanced.py'"
   ]
  },
  {
   "cell_type": "code",
   "execution_count": 243,
   "id": "f7da08f7-e8f4-4383-ba35-f7cb7325c82e",
   "metadata": {},
   "outputs": [],
   "source": [
    "base_path = '/tf/MolCLR-master - copy2/experiments'"
   ]
  },
  {
   "cell_type": "code",
   "execution_count": 244,
   "id": "a23e7e30-c17e-4fad-8da3-b57951c42097",
   "metadata": {},
   "outputs": [
    {
     "data": {
      "text/plain": [
       "'/tf/MolCLR-master - copy2/experiments'"
      ]
     },
     "execution_count": 244,
     "metadata": {},
     "output_type": "execute_result"
    }
   ],
   "source": [
    "base_path"
   ]
  },
  {
   "cell_type": "code",
   "execution_count": 265,
   "id": "5af5a923-935b-466c-90a4-7751189ba33d",
   "metadata": {},
   "outputs": [],
   "source": [
    "file = 'mask_edgefinetuneReconRichEmbedding-sage.py'"
   ]
  },
  {
   "cell_type": "code",
   "execution_count": 266,
   "id": "89804992-3684-40dd-b57e-e9e263a940f8",
   "metadata": {},
   "outputs": [
    {
     "name": "stdout",
     "output_type": "stream",
     "text": [
      "/tf/MolCLR-master - copy2/experiments/pretrained_gin_freesolv_scaffold_random_masking_mask_edgefinetuneReconRichEmbedding-sage.py.csv\n",
      "/tf/MolCLR-master - copy2/experiments/pretrained_gin_esol_scaffold_random_masking_mask_edgefinetuneReconRichEmbedding-sage.py.csv\n",
      "/tf/MolCLR-master - copy2/experiments/pretrained_gin_qm7_scaffold_random_masking_mask_edgefinetuneReconRichEmbedding-sage.py.csv\n",
      "/tf/MolCLR-master - copy2/experiments/pretrained_gin_lipo_scaffold_random_masking_mask_edgefinetuneReconRichEmbedding-sage.py.csv\n",
      "/tf/MolCLR-master - copy2/experiments/pretrained_gin_bace_scaffold_random_masking_mask_edgefinetuneReconRichEmbedding-sage.py.csv\n",
      "/tf/MolCLR-master - copy2/experiments/pretrained_gin_bbbp_scaffold_random_masking_mask_edgefinetuneReconRichEmbedding-sage.py.csv\n",
      "/tf/MolCLR-master - copy2/experiments/pretrained_gin_clintox_scaffold_random_masking_mask_edgefinetuneReconRichEmbedding-sage.py.csv 파일이 존재하지 않습니다.\n",
      "/tf/MolCLR-master - copy2/experiments/pretrained_gin_sider_scaffold_random_masking_mask_edgefinetuneReconRichEmbedding-sage.py.csv\n",
      "/tf/MolCLR-master - copy2/experiments/pretrained_gin_tox21_scaffold_random_masking_mask_edgefinetuneReconRichEmbedding-sage.py.csv\n",
      "    Dataset  Mean Result  Stddev Result\n",
      "0  freesolv     2.787752       0.598240\n",
      "1      esol     1.498737       0.069331\n",
      "2       qm7   102.458650      12.595343\n",
      "3      lipo     0.727998       0.011168\n",
      "4      bace     0.777283       0.021222\n",
      "5      bbbp     0.701898       0.014221\n",
      "6     sider     0.604258       0.005771\n",
      "7     tox21     0.707281       0.027941\n"
     ]
    },
    {
     "name": "stderr",
     "output_type": "stream",
     "text": [
      "/tmp/ipykernel_533972/2146743669.py:30: FutureWarning: The behavior of DataFrame concatenation with empty or all-NA entries is deprecated. In a future version, this will no longer exclude empty or all-NA columns when determining the result dtypes. To retain the old behavior, exclude the relevant entries before the concat operation.\n",
      "  results_df = pd.concat([results_df, temp_results_df], ignore_index=True)\n"
     ]
    }
   ],
   "source": [
    "import os\n",
    "import pandas as pd \n",
    "\n",
    "results_df = pd.DataFrame(columns=['Dataset', 'Mean Result', 'Stddev Result'])\n",
    "\n",
    "\n",
    "for dataset in selected_datasets_lower:\n",
    "    # file_name = 'pretrained_gin_{}_scaffold_random_masking_{}.csv'.format(dataset,file)\n",
    "    # file_name = 'pretrained_gin_{}_balanced_scaffold{}.csv'.format(dataset,file)\n",
    "    # file_name = 'pretrained_gin_{}_balanced_scaffold{}.csv'.format(dataset,file)\n",
    "    file_name = 'pretrained_gin_{}_scaffold_random_masking_{}.csv'.format(dataset,file)\n",
    "    \n",
    "    file_path = os.path.join(base_path ,file_name)\n",
    "    \n",
    "    \n",
    "    if os.path.isfile(file_path):\n",
    "        print(file_path)\n",
    "        \n",
    "        temp_df  = pd.read_csv(file_path)\n",
    "        mean_result = temp_df['result'].mean()\n",
    "        std_result = temp_df['result'].std()\n",
    "\n",
    "        temp_results_df = pd.DataFrame({\n",
    "            'Dataset': [dataset],\n",
    "            'Mean Result': [mean_result],\n",
    "            'Stddev Result': [std_result]\n",
    "        })\n",
    "        \n",
    "        # 결과 데이터 프레임에 추가\n",
    "        results_df = pd.concat([results_df, temp_results_df], ignore_index=True)\n",
    "    else:\n",
    "        print(f\"{file_path} 파일이 존재하지 않습니다.\")\n",
    "\n",
    "# 최종 결과 출력\n",
    "print(results_df)\n"
   ]
  },
  {
   "cell_type": "code",
   "execution_count": 82,
   "id": "87ef9645-9ba1-4045-86c1-58b2287a4c97",
   "metadata": {},
   "outputs": [
    {
     "data": {
      "text/plain": [
       "'/tf/MolCLR-master - copy2'"
      ]
     },
     "execution_count": 82,
     "metadata": {},
     "output_type": "execute_result"
    }
   ],
   "source": [
    "pretrained_gin_qm7_scaffold_random_masking_mask_edgefinetuneReconRichEmbedding-sage.py"
   ]
  },
  {
   "cell_type": "code",
   "execution_count": null,
   "id": "0f475a48-03d3-4ff0-a88c-fc7abceed135",
   "metadata": {},
   "outputs": [],
   "source": [
    "pretrained_gin_bace_scaffold_random_maskingfinetuneReconSubGraphFrag.py"
   ]
  }
 ],
 "metadata": {
  "kernelspec": {
   "display_name": "Python 3 (ipykernel)",
   "language": "python",
   "name": "python3"
  },
  "language_info": {
   "codemirror_mode": {
    "name": "ipython",
    "version": 3
   },
   "file_extension": ".py",
   "mimetype": "text/x-python",
   "name": "python",
   "nbconvert_exporter": "python",
   "pygments_lexer": "ipython3",
   "version": "3.10.8"
  }
 },
 "nbformat": 4,
 "nbformat_minor": 5
}
