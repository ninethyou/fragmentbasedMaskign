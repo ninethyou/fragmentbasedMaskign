{
 "cells": [
  {
   "cell_type": "code",
   "execution_count": 1,
   "id": "05b0aed4-34de-4964-8ad8-dfaca1cc0d39",
   "metadata": {},
   "outputs": [],
   "source": [
    "import os\n",
    "import shutil\n",
    "import sys\n",
    "import yaml\n",
    "import numpy as np\n",
    "import pandas as pd\n",
    "import random\n",
    "from datetime import datetime\n",
    "\n",
    "import torch\n",
    "from torch import nn\n",
    "import torch.nn.functional as F\n",
    "from torch.utils.tensorboard import SummaryWriter\n",
    "from torch.optim.lr_scheduler import CosineAnnealingLR\n",
    "from sklearn.metrics import roc_auc_score, mean_squared_error, mean_absolute_error, root_mean_squared_error\n",
    "\n",
    "\n",
    "from dataset.dataset_test import MolTestDatasetWrapper\n",
    "\n",
    "from dataset.get_config import get_config \n",
    "import argparse\n",
    "from torch_geometric.utils import  scatter, softmax\n",
    "\n",
    "from torch_geometric.data import Data\n",
    "\n",
    "import warnings\n",
    "warnings.filterwarnings(\"ignore\", category=UserWarning)"
   ]
  },
  {
   "cell_type": "code",
   "execution_count": 2,
   "id": "f3c41f6a-013d-4dac-ab42-7397a7bfe63e",
   "metadata": {},
   "outputs": [
    {
     "name": "stdout",
     "output_type": "stream",
     "text": [
      "Please install apex for mixed precision training from: https://github.com/NVIDIA/apex\n"
     ]
    }
   ],
   "source": [
    "apex_support = False\n",
    "try:\n",
    "    sys.path.append('./apex')\n",
    "    from apex import amp\n",
    "\n",
    "    apex_support = True\n",
    "except:\n",
    "    print(\"Please install apex for mixed precision training from: https://github.com/NVIDIA/apex\")\n",
    "    apex_support = False\n",
    "\n",
    "\n",
    "def _save_config_file(model_checkpoints_folder):\n",
    "    if not os.path.exists(model_checkpoints_folder):\n",
    "        os.makedirs(model_checkpoints_folder)\n",
    "        shutil.copy('./config_finetune.yaml', os.path.join(model_checkpoints_folder, 'config_finetune.yaml'))\n",
    "\n",
    "def get_roc_auc_score(y_true, y_pred, is_valid):\n",
    "    roc_list = []\n",
    "    for i in range(y_true.shape[1]):\n",
    "        #AUC is only defined when there is at least one positive data.\n",
    "        if np.sum(y_true[:,i] == 1) > 0 and np.sum(y_true[:,i] == -1) > 0:\n",
    "            is_valid = y_true[:,i]**2 > 0\n",
    "            roc_list.append(roc_auc_score((y_true[is_valid,i] + 1)/2, y_pred[is_valid,i]))\n",
    "\n",
    "    if len(roc_list) < y_true.shape[1]:\n",
    "        print(\"Some target is missing!\")\n",
    "        print(\"Missing ratio: %f\" %(1 - float(len(roc_list))/y_true.shape[1]))\n",
    "\n",
    "    return  sum(roc_list)/len(roc_list)\n",
    "\n",
    "\n",
    "\n",
    "\n",
    "class Normalizer(object):\n",
    "    \"\"\"Normalize a Tensor and restore it later. \"\"\"\n",
    "\n",
    "    def __init__(self, tensor):\n",
    "        \"\"\"tensor is taken as a sample to calculate the mean and std\"\"\"\n",
    "        self.mean = torch.mean(tensor)\n",
    "        self.std = torch.std(tensor)\n",
    "\n",
    "    def norm(self, tensor):\n",
    "        return (tensor - self.mean) / self.std\n",
    "\n",
    "    def denorm(self, normed_tensor):\n",
    "        return normed_tensor * self.std + self.mean\n",
    "\n",
    "    def state_dict(self):\n",
    "        return {'mean': self.mean,\n",
    "                'std': self.std}\n",
    "\n",
    "    def load_state_dict(self, state_dict):\n",
    "        self.mean = state_dict['mean']\n",
    "        self.std = state_dict['std']\n"
   ]
  },
  {
   "cell_type": "code",
   "execution_count": 36,
   "id": "9a86cb44-58ef-42cc-a2ed-37c26d40252a",
   "metadata": {},
   "outputs": [],
   "source": [
    "class Args:\n",
    "    batch_size = 4\n",
    "    epochs = 200\n",
    "    init_lr = 0.0005\n",
    "    init_base_lr = 0.0001\n",
    "    weight_decay = 1e-6\n",
    "    \n",
    "    gpu = 'cuda:1'\n",
    "    model_type = 'gin'\n",
    "    num_layer = 5\n",
    "    emb_dim = 300\n",
    "    feat_dim = 300\n",
    "    dropout = 0.3\n",
    "    pool = 'mean'\n",
    "    seed = '42'\n",
    "\n",
    "    task_name = 'bace'\n",
    "    splitting = 'scaffold'\n",
    "    random_masking = 1\n",
    "    mask_rate = 3\n",
    "    mask_edge = 0 \n",
    "    alpha = 0.1\n",
    "    reduceTrain = 1\n",
    "\n",
    "args = Args()"
   ]
  },
  {
   "cell_type": "code",
   "execution_count": 37,
   "id": "eee7561c-363f-4a42-8de5-b22b4beaba24",
   "metadata": {},
   "outputs": [],
   "source": [
    "config = yaml.load(open(\"config_finetune.yaml\", \"r\"), Loader=yaml.FullLoader)"
   ]
  },
  {
   "cell_type": "code",
   "execution_count": 38,
   "id": "be0ac5f0-d577-4be4-8323-19c35dc647f5",
   "metadata": {},
   "outputs": [],
   "source": [
    "seed = args.seed"
   ]
  },
  {
   "cell_type": "code",
   "execution_count": 39,
   "id": "c18dcf43-bdee-40a9-a8f4-433029ba59cd",
   "metadata": {},
   "outputs": [],
   "source": [
    "config['batch_size'] = args.batch_size\n",
    "config['epochs'] = args.epochs\n",
    "config['init_lr'] = args.init_lr\n",
    "config['init_base_lr'] = args.init_base_lr\n",
    "# config['weight_decay'] = args.weight_decay\n",
    "config['gpu'] = args.gpu   \n",
    "config['model']['num_layer'] = args.num_layer\n",
    "config['model']['emb_dim'] = args.emb_dim\n",
    "config['model']['feat_dim'] = args.feat_dim\n",
    "config['model']['drop_ratio'] = args.dropout\n",
    "config['model']['pool'] = args.pool\n",
    "\n",
    "config['task_name'] = args.task_name\n",
    "config['dataset']['seed'] = seed\n",
    "\n",
    "config['dataset']['splitting'] = args.splitting"
   ]
  },
  {
   "cell_type": "code",
   "execution_count": 40,
   "id": "3dc712c3-244f-448e-9d43-99cddafaac83",
   "metadata": {},
   "outputs": [],
   "source": [
    "seed =  int(args.seed)"
   ]
  },
  {
   "cell_type": "code",
   "execution_count": 41,
   "id": "90a636dc-8159-4763-87f4-c6fe1ba50a01",
   "metadata": {},
   "outputs": [],
   "source": [
    "    torch.manual_seed(seed)\n",
    "    np.random.seed(seed)\n",
    "    if torch.cuda.is_available():\n",
    "        torch.cuda.manual_seed_all(seed)\n",
    "    \n",
    "    config['task_name'] = config['task_name'].lower()"
   ]
  },
  {
   "cell_type": "code",
   "execution_count": 42,
   "id": "a1d988de-9285-4bef-ace9-6a3227fadaac",
   "metadata": {},
   "outputs": [],
   "source": [
    "config = get_config(config)"
   ]
  },
  {
   "cell_type": "markdown",
   "id": "b9fb7ee7-1560-4c35-8fbb-631e03767bdc",
   "metadata": {},
   "source": [
    "### main으로 넘어옴"
   ]
  },
  {
   "cell_type": "code",
   "execution_count": 43,
   "id": "7d9f3d30-3e31-49a8-b3c5-f83379976148",
   "metadata": {},
   "outputs": [],
   "source": [
    "dataset = MolTestDatasetWrapper(config['batch_size'],\n",
    "                                **config['dataset'],\n",
    "                                random_masking=args.random_masking,\n",
    "                                mask_rate=args.mask_rate,\n",
    "                                mask_edge=args.mask_edge)"
   ]
  },
  {
   "cell_type": "markdown",
   "id": "9bf54e6d-2cef-45bf-88c7-479488ac5400",
   "metadata": {},
   "source": [
    "## step 과 test 옮기기"
   ]
  },
  {
   "cell_type": "code",
   "execution_count": 44,
   "id": "2a68709b-b6ca-4450-9800-d679ef74268f",
   "metadata": {},
   "outputs": [],
   "source": [
    "    def _get_device():\n",
    "        if torch.cuda.is_available() and config['gpu'] != 'cpu':\n",
    "            device = config['gpu']\n",
    "            torch.cuda.set_device(device)\n",
    "            args.deviceName = \"cuda\" + str(device[-1])\n",
    "\n",
    "        else:\n",
    "            device = 'cpu'\n",
    "            args.deviceName = 'cpu'\n",
    "\n",
    "        print(\"Running on:\", device)\n",
    "\n",
    "        return device"
   ]
  },
  {
   "cell_type": "code",
   "execution_count": 45,
   "id": "8327c0cf-2d42-45fa-88ea-26f062449ca5",
   "metadata": {},
   "outputs": [
    {
     "name": "stdout",
     "output_type": "stream",
     "text": [
      "Running on: cuda:1\n"
     ]
    }
   ],
   "source": [
    "device = _get_device()"
   ]
  },
  {
   "cell_type": "code",
   "execution_count": 46,
   "id": "4237d4c3-d5dc-405a-85f1-8e68975ab766",
   "metadata": {},
   "outputs": [],
   "source": [
    "savefilename = 'finetune_recon_sub'"
   ]
  },
  {
   "cell_type": "code",
   "execution_count": 47,
   "id": "43b775ad-1124-4987-b333-fc269fa324b3",
   "metadata": {},
   "outputs": [],
   "source": [
    "layout = {\n",
    "    \"recon\": {\n",
    "        \"loss_end\": [\"Multiline\", [\"loss_end/train\", \"loss_end/validation\"]],\n",
    "        \"loss_recon_node\" : [\"Multiline\", [\"loss_recon_node/train\"]],\n",
    "        \"loss_recon_edge\" : [\"Multiline\", [\"loss_recon_edge/train\"]],\n",
    "        \"loss_total\" : [\"Multiline\", [\"loss_total/train\", \"loss_total/validation\"]],\n",
    "        \"accuracy\": [\"Multiline\", [ \"accuracy/validation\"]],\n",
    "    },\n",
    "}"
   ]
  },
  {
   "cell_type": "code",
   "execution_count": 48,
   "id": "6e4b42a9-4ec6-414d-8fc1-895222979bc5",
   "metadata": {},
   "outputs": [],
   "source": [
    "current_time = datetime.now().strftime('%b%d_%H-%M-%S')\n",
    "dir_name =  savefilename + config['task_name'] + '_' + str(args.num_layer) + '_' \\\n",
    "+ str(args.emb_dim) + '_' + str(args.feat_dim)  + '_' + str(args.dropout) + '_' \\\n",
    "+ str(args.splitting) + '_' + str(args.deviceName) + '_' + str(args.seed) + '_' + str(current_time)\n",
    "\n",
    "log_dir = os.path.join('finetune', dir_name)\n",
    "writer = SummaryWriter(log_dir=log_dir)\n",
    "writer.add_custom_scalars(layout)\n",
    "\n",
    "dataset = dataset\n",
    "if config['dataset']['task'] == 'classification':\n",
    "    criterion =  nn.BCEWithLogitsLoss(reduction = \"none\")\n",
    "elif config['dataset']['task'] == 'regression':\n",
    "    if config[\"task_name\"] in ['qm7', 'qm8', 'qm9']:\n",
    "        criterion = nn.L1Loss()\n",
    "    else:\n",
    "        criterion = nn.MSELoss()\n",
    "criterion_recon = nn.CrossEntropyLoss()"
   ]
  },
  {
   "cell_type": "code",
   "execution_count": 49,
   "id": "0db90373-846a-42e7-9ae5-a538f7e994f3",
   "metadata": {},
   "outputs": [],
   "source": [
    "config['model']['mask_rate'] = args.mask_rate"
   ]
  },
  {
   "cell_type": "code",
   "execution_count": 50,
   "id": "6b5ec90e-b85d-45fd-b249-ce429c6424df",
   "metadata": {},
   "outputs": [],
   "source": [
    "\n",
    "import torch\n",
    "from torch import nn\n",
    "import torch.nn.functional as F\n",
    "\n",
    "from torch_geometric.nn import MessagePassing\n",
    "from torch_geometric.utils import add_self_loops\n",
    "from torch_geometric.nn import global_add_pool, global_mean_pool, global_max_pool\n",
    "\n",
    "class GINEConv(MessagePassing):\n",
    "    def __init__(self, emb_dim):\n",
    "        super(GINEConv, self).__init__()\n",
    "        self.mlp = nn.Sequential(\n",
    "            nn.Linear(emb_dim, 2*emb_dim), \n",
    "            nn.ReLU(), \n",
    "            nn.Linear(2*emb_dim, emb_dim)\n",
    "        )\n",
    "        self.edge_embedding1 = nn.Embedding(num_bond_type, emb_dim)\n",
    "        self.edge_embedding2 = nn.Embedding(num_bond_direction, emb_dim)\n",
    "\n",
    "        nn.init.xavier_uniform_(self.edge_embedding1.weight.data)\n",
    "        nn.init.xavier_uniform_(self.edge_embedding2.weight.data)\n",
    "\n",
    "    def forward(self, x, edge_index, edge_attr):\n",
    "        # add self loops in the edge space\n",
    "        edge_index = add_self_loops(edge_index, num_nodes=x.size(0))[0]\n",
    "\n",
    "        # add features corresponding to self-loop edges.\n",
    "        self_loop_attr = torch.zeros(x.size(0), 2)\n",
    "        self_loop_attr[:,0] = 4 # bond type for self-loop edge\n",
    "        self_loop_attr = self_loop_attr.to(edge_attr.device).to(edge_attr.dtype)\n",
    "        edge_attr = torch.cat((edge_attr, self_loop_attr), dim=0)\n",
    "\n",
    "        edge_embeddings = self.edge_embedding1(edge_attr[:,0]) + \\\n",
    "            self.edge_embedding2(edge_attr[:,1])\n",
    "\n",
    "        return self.propagate(edge_index, x=x, edge_attr=edge_embeddings)\n",
    "\n",
    "    def message(self, x_j, edge_attr):\n",
    "        return x_j + edge_attr\n",
    "\n",
    "    def update(self, aggr_out):\n",
    "        return self.mlp(aggr_out)"
   ]
  },
  {
   "cell_type": "code",
   "execution_count": 51,
   "id": "60d21db7-d876-499b-9292-9b13befd3de0",
   "metadata": {},
   "outputs": [],
   "source": []
  },
  {
   "cell_type": "code",
   "execution_count": 52,
   "id": "a4c03e27-8036-4f4c-8355-d4f44b062234",
   "metadata": {},
   "outputs": [
    {
     "name": "stdout",
     "output_type": "stream",
     "text": [
      "1512\n",
      "About to generate scaffolds\n",
      "Generating scaffold 0/1512\n",
      "Generating scaffold 1000/1512\n",
      "About to sort in scaffold sets\n"
     ]
    }
   ],
   "source": [
    "train_loader, valid_loader, test_loader = dataset.get_data_loaders()"
   ]
  },
  {
   "cell_type": "code",
   "execution_count": 53,
   "id": "7fb0f7fb-40cf-4531-b684-ceed0e58b012",
   "metadata": {},
   "outputs": [
    {
     "data": {
      "text/plain": [
       "<torch_geometric.deprecation.DataLoader at 0x7effb5dc9ea0>"
      ]
     },
     "execution_count": 53,
     "metadata": {},
     "output_type": "execute_result"
    }
   ],
   "source": [
    "train_loader"
   ]
  },
  {
   "cell_type": "code",
   "execution_count": 32,
   "id": "254cb2b9-ecc6-4388-972d-b60ec743351c",
   "metadata": {},
   "outputs": [],
   "source": [
    "all_batches = [batch for batch in train_loader]"
   ]
  },
  {
   "cell_type": "code",
   "execution_count": 92,
   "id": "e116db63-2bf1-44e1-a8da-195575a674bd",
   "metadata": {},
   "outputs": [],
   "source": [
    "train_loader_iterator = iter(train_loader)\n",
    "data = next(train_loader_iterator)  # 첫 번째 배치를 가져옵니다."
   ]
  },
  {
   "cell_type": "code",
   "execution_count": 93,
   "id": "45e4cd6c-6460-49b0-af28-315c94373794",
   "metadata": {},
   "outputs": [],
   "source": [
    "num_atom_type = 119 # including the extra mask tokens\n",
    "num_chirality_tag = 3\n",
    "\n",
    "num_bond_type = 5 # including aromatic and self-loop edge\n",
    "num_bond_direction = 3 \n",
    "\n",
    "emb_dim = 300\n",
    "x_embedding1 = nn.Embedding(num_atom_type, emb_dim)\n",
    "x_embedding2 = nn.Embedding(num_chirality_tag, emb_dim)\n",
    "x_embedding3 = nn.Linear(40, emb_dim)\n",
    "gnns = [GINEConv(emb_dim) for _ in range(5)]\n",
    "batch_norms = [nn.BatchNorm1d(emb_dim) for _ in range(5)]\n",
    "pool = global_mean_pool\n",
    "feat_lin = nn.Linear(emb_dim + 200, 512)\n",
    "pred_head = nn.Sequential(nn.Linear(512, 256), nn.ReLU(), nn.Linear(256, 1))\n",
    "dense_score = nn.Linear(emb_dim, 1)\n",
    "\n",
    "# Example usage\n",
    "# Assume 'data' is a data object with necessary fields\n",
    "embeddings = (x_embedding1, x_embedding2, x_embedding3)"
   ]
  },
  {
   "cell_type": "code",
   "execution_count": 105,
   "id": "8e44e3a8-8159-4f6d-ba7d-18c4ba8bff51",
   "metadata": {},
   "outputs": [],
   "source": [
    "x = data.x\n",
    "edge_index = data.edge_index\n",
    "edge_attr = data.edge_attr\n"
   ]
  },
  {
   "cell_type": "code",
   "execution_count": 106,
   "id": "784662a6-dfb9-43a9-955c-e11e553c8cd7",
   "metadata": {},
   "outputs": [],
   "source": [
    " h = x_embedding1(x[:,0].long()) + x_embedding2(x[:,1].long()) "
   ]
  },
  {
   "cell_type": "code",
   "execution_count": 107,
   "id": "093a5867-4373-41ce-8abb-14413156deea",
   "metadata": {},
   "outputs": [
    {
     "data": {
      "text/plain": [
       "tensor([[-2.6367,  1.3134,  0.4415,  ..., -1.7389, -0.8103, -0.0591],\n",
       "        [-1.7949,  2.2441,  0.5851,  ..., -0.3990,  0.8168, -1.0163],\n",
       "        [-2.6367,  1.3134,  0.4415,  ..., -1.7389, -0.8103, -0.0591],\n",
       "        ...,\n",
       "        [-2.0584,  0.6337, -0.7903,  ..., -0.5689, -3.1688, -1.2781],\n",
       "        [-2.0584,  0.6337, -0.7903,  ..., -0.5689, -3.1688, -1.2781],\n",
       "        [-2.0584,  0.6337, -0.7903,  ..., -0.5689, -3.1688, -1.2781]],\n",
       "       grad_fn=<AddBackward0>)"
      ]
     },
     "execution_count": 107,
     "metadata": {},
     "output_type": "execute_result"
    }
   ],
   "source": [
    "h"
   ]
  },
  {
   "cell_type": "markdown",
   "id": "3fa4b6cc-934f-413e-84be-94a8fd42bd8a",
   "metadata": {},
   "source": [
    "num_layer = 5"
   ]
  },
  {
   "cell_type": "code",
   "execution_count": 108,
   "id": "1bcc4eb0-acd8-4bf4-ac13-9755a8c3ad68",
   "metadata": {},
   "outputs": [],
   "source": [
    "drop_ratio = 0.3"
   ]
  },
  {
   "cell_type": "code",
   "execution_count": 109,
   "id": "fc973ac9-7ab4-45c6-8043-521ece1e7281",
   "metadata": {},
   "outputs": [],
   "source": [
    "for layer in range(num_layer):\n",
    "    h = gnns[layer](h, edge_index, edge_attr)\n",
    "    h = batch_norms[layer](h)\n",
    "    if layer == num_layer - 1:\n",
    "        h = F.dropout(h, drop_ratio, )\n",
    "    else:\n",
    "        h = F.dropout(F.relu(h), drop_ratio,)\n",
    "\n",
    "h_node = h"
   ]
  },
  {
   "cell_type": "code",
   "execution_count": 111,
   "id": "29fbe6ba-fbea-462c-8171-efc500d86ec2",
   "metadata": {},
   "outputs": [],
   "source": [
    "h = pool(h_node, data.batch)"
   ]
  },
  {
   "cell_type": "code",
   "execution_count": 112,
   "id": "a45ed096-891c-49fa-be1d-145fb312b9af",
   "metadata": {},
   "outputs": [],
   "source": [
    "score = dense_score(h_node).squeeze()"
   ]
  },
  {
   "cell_type": "code",
   "execution_count": 118,
   "id": "6f75a26d-017d-4b42-afd1-af09aa87238b",
   "metadata": {},
   "outputs": [],
   "source": [
    "mask_rate = 3"
   ]
  },
  {
   "cell_type": "code",
   "execution_count": 119,
   "id": "a9e338ca-06f9-4838-8091-4b8afb1a3794",
   "metadata": {},
   "outputs": [],
   "source": [
    "from util import topk\n",
    "\n",
    "node = topk(score.squeeze(), mask_rate, batch = data.batch)"
   ]
  },
  {
   "cell_type": "code",
   "execution_count": 89,
   "id": "22d72071-bec8-4c0d-92e4-66b392214d10",
   "metadata": {},
   "outputs": [],
   "source": [
    "max_hop = 1"
   ]
  },
  {
   "cell_type": "code",
   "execution_count": 101,
   "id": "87eecf63-929c-41fe-9578-aa804d727f60",
   "metadata": {},
   "outputs": [
    {
     "data": {
      "text/plain": [
       "tensor([0, 0, 0, 0, 0, 0, 0, 0, 0, 0, 0, 0, 0, 0, 0, 0, 0, 0, 0, 0, 0, 0, 0, 0,\n",
       "        0, 0, 0, 0, 0, 0, 0, 0, 0, 0, 0, 0, 0, 0, 0, 0, 0, 0, 0, 0, 0, 0, 0, 0,\n",
       "        0, 0, 0, 0, 0, 0, 0, 0, 0, 1, 1, 1, 1, 1, 1, 1, 1, 1, 1, 1, 1, 1, 1, 1,\n",
       "        1, 1, 1, 1, 1, 1, 1, 1, 1, 1, 1, 1, 1, 1, 1, 1, 1, 1, 1, 1, 1, 1, 1, 1,\n",
       "        1, 1, 1, 1, 1, 1, 1, 1, 1, 1, 1, 1, 1, 1, 1, 1, 1, 1, 1, 1, 1, 1, 1, 1,\n",
       "        1, 1, 1, 1, 1, 1, 1, 1, 1, 1, 1, 1, 1, 1, 1, 1, 1, 1, 2, 2, 2, 2, 2, 2,\n",
       "        2, 2, 2, 2, 2, 2, 2, 2, 2, 2, 2, 2, 2, 2, 2, 2, 2, 2, 2, 2, 2, 2, 2, 2,\n",
       "        2, 2, 2, 2, 2, 2, 2, 2, 2, 2, 2, 2, 3, 3, 3, 3, 3, 3, 3, 3, 3, 3, 3, 3,\n",
       "        3, 3, 3, 3, 3, 3, 3, 3, 3, 3, 3, 3, 3, 3, 3, 3, 3, 3, 3, 3, 3, 3, 3, 3,\n",
       "        3, 3, 3, 3, 3, 3, 3, 3, 3, 3, 3, 3, 3, 3, 3, 3, 3, 3, 3, 3, 3, 3])"
      ]
     },
     "execution_count": 101,
     "metadata": {},
     "output_type": "execute_result"
    }
   ],
   "source": [
    "data.batch "
   ]
  },
  {
   "cell_type": "code",
   "execution_count": 121,
   "id": "a93df825-52a0-429f-8494-c12646f0102a",
   "metadata": {},
   "outputs": [],
   "source": [
    "num_nodes = scatter(data.batch.new_ones(x.size(0)), data.batch, reduce='sum')"
   ]
  },
  {
   "cell_type": "code",
   "execution_count": 123,
   "id": "633916d4-63a8-4c13-8162-5f9ec26bba42",
   "metadata": {},
   "outputs": [],
   "source": [
    "max_nodes = num_nodes"
   ]
  },
  {
   "cell_type": "code",
   "execution_count": null,
   "id": "e899e45e-18df-43fd-8044-2eba3be59575",
   "metadata": {},
   "outputs": [],
   "source": [
    "start_node = "
   ]
  },
  {
   "cell_type": "code",
   "execution_count": null,
   "id": "beacab44-c304-4953-8f0b-d8a3c5d36981",
   "metadata": {},
   "outputs": [],
   "source": []
  }
 ],
 "metadata": {
  "kernelspec": {
   "display_name": "Python 3 (ipykernel)",
   "language": "python",
   "name": "python3"
  },
  "language_info": {
   "codemirror_mode": {
    "name": "ipython",
    "version": 3
   },
   "file_extension": ".py",
   "mimetype": "text/x-python",
   "name": "python",
   "nbconvert_exporter": "python",
   "pygments_lexer": "ipython3",
   "version": "3.10.8"
  }
 },
 "nbformat": 4,
 "nbformat_minor": 5
}
