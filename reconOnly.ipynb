{
 "cells": [
  {
   "cell_type": "code",
   "execution_count": 6,
   "id": "d582cd74-3ef7-49a1-b7c1-ee39f05474b6",
   "metadata": {
    "scrolled": true
   },
   "outputs": [
    {
     "name": "stdout",
     "output_type": "stream",
     "text": [
      "Please install apex for mixed precision training from: https://github.com/NVIDIA/apex\n",
      "{'batch_size': 32, 'epochs': 200, 'eval_every_n_epochs': 1, 'fine_tune_from': 'pretrained_gin', 'log_every_n_steps': 50, 'fp16_precision': False, 'init_lr': 0.0005, 'init_base_lr': 0.0001, 'weight_decay': '1e-6', 'gpu': 'cuda:0', 'task_name': 'freesolv', 'model_type': 'gin', 'model': {'num_layer': 5, 'emb_dim': 300, 'feat_dim': 300, 'drop_ratio': 0.3, 'pool': 'mean'}, 'dataset': {'num_workers': 4, 'valid_size': 0.1, 'test_size': 0.1, 'splitting': 'scaffold', 'seed': 445, 'task': 'regression', 'data_path': 'data/freesolv/freesolv.csv', 'target': ['expt']}}\n",
      "Running on: cuda:0\n",
      "641\n",
      "About to generate scaffolds\n",
      "Generating scaffold 0/641\n",
      "About to sort in scaffold sets\n",
      "pred_head.0.weight True\n",
      "pred_head.0.bias True\n",
      "pred_head.2.weight True\n",
      "pred_head.2.bias True\n",
      "pred_head.4.weight True\n",
      "pred_head.4.bias True\n",
      "0 0 5.176708221435547 tensor(0., device='cuda:0') 0\n",
      "3 2 4.360626220703125 tensor(0.3045, device='cuda:0') 0\n",
      "6 4 3.27886962890625 tensor(0.6271, device='cuda:0') 0\n",
      "9 6 5.639344215393066 tensor(0.3235, device='cuda:0') 0\n",
      "12 8 2.9661154747009277 tensor(0.5337, device='cuda:0') 0\n",
      "15 10 3.5565991401672363 tensor(0.5663, device='cuda:0') 0\n",
      "18 12 3.0997257232666016 tensor(0.5717, device='cuda:0') 0\n",
      "21 14 3.0001063346862793 tensor(0.5310, device='cuda:0') 0\n",
      "25 0 5.068271160125732 tensor(0.4949, device='cuda:0') 0\n",
      "28 2 4.131912708282471 tensor(0.2843, device='cuda:0') 0\n",
      "31 4 3.971200942993164 tensor(0.5352, device='cuda:0') 0\n",
      "34 6 2.9942562580108643 tensor(0.7500, device='cuda:0') 0\n",
      "37 8 3.7741949558258057 tensor(0.6792, device='cuda:0') 0\n",
      "40 10 2.7127227783203125 tensor(0.6811, device='cuda:0') 0\n",
      "43 12 3.4209351539611816 tensor(0.5861, device='cuda:0') 0\n",
      "46 14 3.4238626956939697 tensor(0.6300, device='cuda:0') 0\n",
      "50 0 2.8122475147247314 tensor(0.7365, device='cuda:0') 0\n",
      "53 2 3.111710786819458 tensor(0.5734, device='cuda:0') 0\n",
      "56 4 3.593852996826172 tensor(0.6047, device='cuda:0') 0\n",
      "59 6 2.4937589168548584 tensor(0.5616, device='cuda:0') 0\n",
      "62 8 3.1499133110046387 tensor(0.6072, device='cuda:0') 0\n",
      "65 10 5.422610759735107 tensor(0.4022, device='cuda:0') 0\n",
      "68 12 3.5809121131896973 tensor(0.5026, device='cuda:0') 0\n",
      "71 14 2.2616522312164307 tensor(0.7763, device='cuda:0') 0\n",
      "75 0 2.6539573669433594 tensor(0.7395, device='cuda:0') 0\n",
      "78 2 2.9450080394744873 tensor(0.6216, device='cuda:0') 0\n",
      "81 4 3.3888747692108154 tensor(0.4522, device='cuda:0') 0\n",
      "84 6 2.7986018657684326 tensor(0.6381, device='cuda:0') 0\n",
      "87 8 2.202878713607788 tensor(0.6872, device='cuda:0') 0\n",
      "90 10 1.9697813987731934 tensor(0.6811, device='cuda:0') 0\n",
      "93 12 1.9356751441955566 tensor(0.6618, device='cuda:0') 0\n",
      "96 14 2.264061212539673 tensor(0.6467, device='cuda:0') 0\n",
      "100 0 2.1814651489257812 tensor(0.6374, device='cuda:0') 0\n",
      "103 2 2.1915931701660156 tensor(0.4679, device='cuda:0') 0\n",
      "106 4 1.8059148788452148 tensor(0.5665, device='cuda:0') 0\n",
      "109 6 2.4282498359680176 tensor(0.3936, device='cuda:0') 0\n",
      "112 8 1.3183984756469727 tensor(0.7835, device='cuda:0') 0\n",
      "115 10 1.508418321609497 tensor(0.7457, device='cuda:0') 0\n",
      "118 12 1.7365058660507202 tensor(0.6940, device='cuda:0') 0\n",
      "121 14 1.6058138608932495 tensor(0.5437, device='cuda:0') 0\n",
      "125 0 1.2035624980926514 tensor(0.7639, device='cuda:0') 0\n",
      "128 2 1.554992437362671 tensor(0.5851, device='cuda:0') 0\n",
      "131 4 1.528555154800415 tensor(0.6097, device='cuda:0') 0\n",
      "134 6 1.153782844543457 tensor(0.6433, device='cuda:0') 0\n",
      "137 8 1.1748828887939453 tensor(0.6385, device='cuda:0') 0\n",
      "140 10 1.443000316619873 tensor(0.5797, device='cuda:0') 0\n",
      "143 12 1.5908339023590088 tensor(0.4651, device='cuda:0') 0\n",
      "146 14 1.303541660308838 tensor(0.5522, device='cuda:0') 0\n",
      "150 0 1.4105230569839478 tensor(0.4613, device='cuda:0') 0\n",
      "153 2 1.1813361644744873 tensor(0.6817, device='cuda:0') 0\n",
      "156 4 1.5279029607772827 tensor(0.5126, device='cuda:0') 0\n",
      "159 6 1.3146183490753174 tensor(0.6220, device='cuda:0') 0\n",
      "162 8 1.7503767013549805 tensor(0.4494, device='cuda:0') 0\n",
      "165 10 1.5097802877426147 tensor(0.4070, device='cuda:0') 0\n",
      "168 12 1.3271595239639282 tensor(0.6268, device='cuda:0') 0\n",
      "171 14 1.0070137977600098 tensor(0.7507, device='cuda:0') 0\n",
      "175 0 1.2489757537841797 tensor(0.5429, device='cuda:0') 0\n",
      "178 2 1.0619008541107178 tensor(0.5248, device='cuda:0') 0\n",
      "181 4 1.1659653186798096 tensor(0.6093, device='cuda:0') 0\n",
      "184 6 1.064186692237854 tensor(0.6477, device='cuda:0') 0\n",
      "187 8 1.437381386756897 tensor(0.4944, device='cuda:0') 0\n",
      "190 10 1.0481371879577637 tensor(0.6025, device='cuda:0') 0\n",
      "193 12 0.9926044344902039 tensor(0.6193, device='cuda:0') 0\n",
      "196 14 1.1214983463287354 tensor(0.7020, device='cuda:0') 0\n",
      "Traceback (most recent call last):\n",
      "  File \"/tf/MolCLR-master - copy2/ReconOnly.py\", line 697, in <module>\n",
      "    result = main(config)\n",
      "  File \"/tf/MolCLR-master - copy2/ReconOnly.py\", line 625, in main\n",
      "    return fine_tune.rmse\n",
      "AttributeError: 'FineTune' object has no attribute 'rmse'\n"
     ]
    }
   ],
   "source": [
    "!python ReconOnly.py \\\n",
    "--task_name freesolv \\\n",
    "--seed 445 \\\n",
    "--random_masking 1 \\\n",
    "--alpha 0.1 \\\n",
    "--mask_rate 0.7"
   ]
  },
  {
   "cell_type": "code",
   "execution_count": null,
   "id": "9cefead8-6014-4f67-8769-60a105b156e5",
   "metadata": {},
   "outputs": [],
   "source": []
  },
  {
   "cell_type": "code",
   "execution_count": null,
   "id": "9ef25bb9-c2e0-4b8d-8f7a-963784bf6e2e",
   "metadata": {},
   "outputs": [],
   "source": []
  }
 ],
 "metadata": {
  "kernelspec": {
   "display_name": "Python 3 (ipykernel)",
   "language": "python",
   "name": "python3"
  },
  "language_info": {
   "codemirror_mode": {
    "name": "ipython",
    "version": 3
   },
   "file_extension": ".py",
   "mimetype": "text/x-python",
   "name": "python",
   "nbconvert_exporter": "python",
   "pygments_lexer": "ipython3",
   "version": "3.10.8"
  }
 },
 "nbformat": 4,
 "nbformat_minor": 5
}
