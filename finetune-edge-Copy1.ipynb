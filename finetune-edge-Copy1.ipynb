{
 "cells": [
  {
   "cell_type": "code",
   "execution_count": 4,
   "id": "f6b3c3ba-4171-4510-b7ba-4cd14ff2ef7d",
   "metadata": {
    "scrolled": true
   },
   "outputs": [
    {
     "name": "stdout",
     "output_type": "stream",
     "text": [
      "MoleculeDataset(1480) clintox 789\n",
      "scaffold\n",
      "load pretrained model from: ./pretrain_edge/clintox_gin_0.25_789/model.pth\n",
      "Adam (\n",
      "Parameter Group 0\n",
      "    amsgrad: False\n",
      "    betas: (0.9, 0.999)\n",
      "    capturable: False\n",
      "    differentiable: False\n",
      "    eps: 1e-08\n",
      "    foreach: None\n",
      "    fused: None\n",
      "    lr: 0.001\n",
      "    maximize: False\n",
      "    weight_decay: 0\n",
      "\n",
      "Parameter Group 1\n",
      "    amsgrad: False\n",
      "    betas: (0.9, 0.999)\n",
      "    capturable: False\n",
      "    differentiable: False\n",
      "    eps: 1e-08\n",
      "    foreach: None\n",
      "    fused: None\n",
      "    lr: 0.001\n",
      "    maximize: False\n",
      "    weight_decay: 0\n",
      ")\n",
      "====epoch 1\n"
     ]
    },
    {
     "name": "stderr",
     "output_type": "stream",
     "text": [
      "Iteration:   0%|          | 0/37 [00:00<?, ?it/s]"
     ]
    },
    {
     "name": "stdout",
     "output_type": "stream",
     "text": [
      "MoleculeDataset(1480) clintox 778\n",
      "scaffold\n",
      "load pretrained model from: ./pretrain_edge/clintox_gin_0.25_778/model.pth\n",
      "Adam (\n",
      "Parameter Group 0\n",
      "    amsgrad: False\n",
      "    betas: (0.9, 0.999)\n",
      "    capturable: False\n",
      "    differentiable: False\n",
      "    eps: 1e-08\n",
      "    foreach: None\n",
      "    fused: None\n",
      "    lr: 0.001\n",
      "    maximize: False\n",
      "    weight_decay: 0\n",
      "\n",
      "Parameter Group 1\n",
      "    amsgrad: False\n",
      "    betas: (0.9, 0.999)\n",
      "    capturable: False\n",
      "    differentiable: False\n",
      "    eps: 1e-08\n",
      "    foreach: None\n",
      "    fused: None\n",
      "    lr: 0.001\n",
      "    maximize: False\n",
      "    weight_decay: 0\n",
      ")\n",
      "====epoch 1\n"
     ]
    },
    {
     "name": "stderr",
     "output_type": "stream",
     "text": [
      "Iteration:   0%|          | 0/37 [00:00<?, ?it/s]"
     ]
    },
    {
     "name": "stdout",
     "output_type": "stream",
     "text": [
      "MoleculeDataset(1480) clintox 777\n",
      "scaffold\n",
      "load pretrained model from: ./pretrain_edge/clintox_gin_0.25_777/model.pth\n",
      "Adam (\n",
      "Parameter Group 0\n",
      "    amsgrad: False\n",
      "    betas: (0.9, 0.999)\n",
      "    capturable: False\n",
      "    differentiable: False\n",
      "    eps: 1e-08\n",
      "    foreach: None\n",
      "    fused: None\n",
      "    lr: 0.001\n",
      "    maximize: False\n",
      "    weight_decay: 0\n",
      "\n",
      "Parameter Group 1\n",
      "    amsgrad: False\n",
      "    betas: (0.9, 0.999)\n",
      "    capturable: False\n",
      "    differentiable: False\n",
      "    eps: 1e-08\n",
      "    foreach: None\n",
      "    fused: None\n",
      "    lr: 0.001\n",
      "    maximize: False\n",
      "    weight_decay: 0\n",
      ")\n",
      "====epoch 1\n"
     ]
    },
    {
     "name": "stderr",
     "output_type": "stream",
     "text": [
      "Iteration: 100%|██████████| 37/37 [00:03<00:00, 10.56it/s]\n",
      "Iteration:   3%|▎         | 1/37 [00:02<01:22,  2.30s/it]"
     ]
    },
    {
     "name": "stdout",
     "output_type": "stream",
     "text": [
      "====Evaluation\n",
      "omit the training accuracy computation\n"
     ]
    },
    {
     "name": "stderr",
     "output_type": "stream",
     "text": [
      "Iteration: 100%|██████████| 37/37 [00:03<00:00, 11.83it/s]\n",
      "Iteration:  35%|███▌      | 13/37 [00:02<00:03,  7.39it/s]"
     ]
    },
    {
     "name": "stdout",
     "output_type": "stream",
     "text": [
      "====Evaluation\n",
      "omit the training accuracy computation\n"
     ]
    },
    {
     "name": "stderr",
     "output_type": "stream",
     "text": [
      "Iteration:  86%|████████▋ | 32/37 [00:03<00:00, 23.28it/s]NaN or Inf found in input tensor.\n",
      "Iteration: 100%|██████████| 37/37 [00:03<00:00, 10.93it/s]\n"
     ]
    },
    {
     "name": "stdout",
     "output_type": "stream",
     "text": [
      "train_loss : inf val_loss: inf\n",
      "train: 0.000000 val: 0.634433  best_val_acc: 0.634433\n",
      "====epoch 2\n",
      "====Evaluation\n",
      "omit the training accuracy computation\n"
     ]
    },
    {
     "name": "stderr",
     "output_type": "stream",
     "text": [
      "Iteration: 100%|██████████| 37/37 [00:01<00:00, 32.49it/s]\n"
     ]
    },
    {
     "name": "stdout",
     "output_type": "stream",
     "text": [
      "====Evaluation\n",
      "omit the training accuracy computation\n",
      "train_loss : inf val_loss: inf\n",
      "train: 0.000000 val: 0.662230  best_val_acc: 0.662230\n",
      "====epoch 2\n"
     ]
    },
    {
     "name": "stderr",
     "output_type": "stream",
     "text": [
      "NaN or Inf found in input tensor.\n",
      "Iteration:  19%|█▉        | 7/37 [00:00<00:01, 15.72it/s]NaN or Inf found in input tensor.\n",
      "Iteration:   0%|          | 0/37 [00:00<?, ?it/s]"
     ]
    },
    {
     "name": "stdout",
     "output_type": "stream",
     "text": [
      "train_loss : inf val_loss: inf\n",
      "train: 0.000000 val: 0.452301  best_val_acc: 0.452301\n",
      "====epoch 2\n"
     ]
    },
    {
     "name": "stderr",
     "output_type": "stream",
     "text": [
      "Iteration: 100%|██████████| 37/37 [00:01<00:00, 28.56it/s]\n",
      "NaN or Inf found in input tensor.\n",
      "Iteration:   0%|          | 0/37 [00:00<?, ?it/s]"
     ]
    },
    {
     "name": "stdout",
     "output_type": "stream",
     "text": [
      "====Evaluation\n",
      "omit the training accuracy computation\n",
      "train_loss : inf val_loss: inf\n",
      "train: 0.000000 val: 0.698565  best_val_acc: 0.698565\n",
      "====epoch 3\n"
     ]
    },
    {
     "name": "stderr",
     "output_type": "stream",
     "text": [
      "Iteration: 100%|██████████| 37/37 [00:01<00:00, 29.72it/s]\n",
      "NaN or Inf found in input tensor.\n",
      "Iteration:  30%|██▉       | 11/37 [00:00<00:01, 22.90it/s]"
     ]
    },
    {
     "name": "stdout",
     "output_type": "stream",
     "text": [
      "====Evaluation\n",
      "omit the training accuracy computation\n",
      "train_loss : inf val_loss: inf\n",
      "train: 0.000000 val: 0.581588  best_val_acc: 0.581588\n",
      "====epoch 3\n"
     ]
    },
    {
     "name": "stderr",
     "output_type": "stream",
     "text": [
      "Iteration: 100%|██████████| 37/37 [00:01<00:00, 26.83it/s]\n",
      "Iteration:  51%|█████▏    | 19/37 [00:00<00:00, 35.13it/s]"
     ]
    },
    {
     "name": "stdout",
     "output_type": "stream",
     "text": [
      "====Evaluation\n",
      "omit the training accuracy computation\n"
     ]
    },
    {
     "name": "stderr",
     "output_type": "stream",
     "text": [
      "Iteration: 100%|██████████| 37/37 [00:01<00:00, 31.01it/s]\n",
      "NaN or Inf found in input tensor.\n",
      "Iteration:   0%|          | 0/37 [00:00<?, ?it/s]"
     ]
    },
    {
     "name": "stdout",
     "output_type": "stream",
     "text": [
      "====Evaluation\n",
      "omit the training accuracy computation\n",
      "train_loss : inf val_loss: inf\n",
      "train: 0.000000 val: 0.630125  best_val_acc: 0.630125\n",
      "====epoch 4\n"
     ]
    },
    {
     "name": "stderr",
     "output_type": "stream",
     "text": [
      "NaN or Inf found in input tensor.\n",
      "Iteration:   3%|▎         | 1/37 [00:00<00:16,  2.20it/s]NaN or Inf found in input tensor.\n",
      "Iteration:  19%|█▉        | 7/37 [00:00<00:01, 15.98it/s]"
     ]
    },
    {
     "name": "stdout",
     "output_type": "stream",
     "text": [
      "train_loss : inf val_loss: inf\n",
      "train: 0.000000 val: 0.705534  best_val_acc: 0.705534\n",
      "====epoch 3\n",
      "train_loss : inf val_loss: inf\n",
      "train: 0.000000 val: 0.600044  best_val_acc: 0.600044\n",
      "====epoch 4\n"
     ]
    },
    {
     "name": "stderr",
     "output_type": "stream",
     "text": [
      "Iteration: 100%|██████████| 37/37 [00:01<00:00, 30.03it/s]\n",
      "Iteration:  46%|████▌     | 17/37 [00:00<00:00, 30.03it/s]"
     ]
    },
    {
     "name": "stdout",
     "output_type": "stream",
     "text": [
      "====Evaluation\n",
      "omit the training accuracy computation\n"
     ]
    },
    {
     "name": "stderr",
     "output_type": "stream",
     "text": [
      "Iteration: 100%|██████████| 37/37 [00:01<00:00, 27.83it/s]\n",
      "Iteration: 100%|██████████| 37/37 [00:01<00:00, 26.45it/s]\n",
      "NaN or Inf found in input tensor.\n",
      "Iteration:   0%|          | 0/37 [00:00<?, ?it/s]"
     ]
    },
    {
     "name": "stdout",
     "output_type": "stream",
     "text": [
      "====Evaluation\n",
      "omit the training accuracy computation\n",
      "====Evaluation\n",
      "omit the training accuracy computation\n",
      "train_loss : inf val_loss: inf\n",
      "train: 0.000000 val: 0.520116  best_val_acc: 0.520116\n",
      "====epoch 5\n"
     ]
    },
    {
     "name": "stderr",
     "output_type": "stream",
     "text": [
      "NaN or Inf found in input tensor.\n",
      "Iteration:  16%|█▌        | 6/37 [00:00<00:02, 13.03it/s]NaN or Inf found in input tensor.\n",
      "Iteration:   0%|          | 0/37 [00:00<?, ?it/s]"
     ]
    },
    {
     "name": "stdout",
     "output_type": "stream",
     "text": [
      "train_loss : inf val_loss: inf\n",
      "train: 0.000000 val: 0.679912  best_val_acc: 0.679912\n",
      "====epoch 4\n",
      "train_loss : inf val_loss: inf\n",
      "train: 0.000000 val: 0.538523  best_val_acc: 0.538523\n",
      "====epoch 5\n"
     ]
    },
    {
     "name": "stderr",
     "output_type": "stream",
     "text": [
      "Iteration: 100%|██████████| 37/37 [00:01<00:00, 27.93it/s]\n",
      "Iteration:  62%|██████▏   | 23/37 [00:00<00:00, 37.17it/s]"
     ]
    },
    {
     "name": "stdout",
     "output_type": "stream",
     "text": [
      "====Evaluation\n",
      "omit the training accuracy computation\n"
     ]
    },
    {
     "name": "stderr",
     "output_type": "stream",
     "text": [
      "Iteration: 100%|██████████| 37/37 [00:01<00:00, 29.48it/s]\n",
      "Iteration:  97%|█████████▋| 36/37 [00:01<00:00, 46.56it/s]"
     ]
    },
    {
     "name": "stdout",
     "output_type": "stream",
     "text": [
      "====Evaluation\n",
      "omit the training accuracy computation\n",
      "====Evaluation\n",
      "omit the training accuracy computation\n"
     ]
    },
    {
     "name": "stderr",
     "output_type": "stream",
     "text": [
      "Iteration: 100%|██████████| 37/37 [00:01<00:00, 28.70it/s]\n",
      "NaN or Inf found in input tensor.\n",
      "Iteration:   0%|          | 0/37 [00:00<?, ?it/s]"
     ]
    },
    {
     "name": "stdout",
     "output_type": "stream",
     "text": [
      "train_loss : inf val_loss: inf\n",
      "train: 0.000000 val: 0.610920  best_val_acc: 0.610920\n",
      "====epoch 6\n"
     ]
    },
    {
     "name": "stderr",
     "output_type": "stream",
     "text": [
      "NaN or Inf found in input tensor.\n",
      "Iteration:  16%|█▌        | 6/37 [00:00<00:02, 12.76it/s]NaN or Inf found in input tensor.\n",
      "Iteration:   0%|          | 0/37 [00:00<?, ?it/s]"
     ]
    },
    {
     "name": "stdout",
     "output_type": "stream",
     "text": [
      "train_loss : inf val_loss: inf\n",
      "train: 0.000000 val: 0.573137  best_val_acc: 0.573137\n",
      "====epoch 5\n",
      "train_loss : inf val_loss: inf\n",
      "train: 0.000000 val: 0.611845  best_val_acc: 0.611845\n",
      "====epoch 6\n"
     ]
    },
    {
     "name": "stderr",
     "output_type": "stream",
     "text": [
      "Iteration: 100%|██████████| 37/37 [00:01<00:00, 28.75it/s]\n",
      "Iteration:  43%|████▎     | 16/37 [00:00<00:00, 29.02it/s]"
     ]
    },
    {
     "name": "stdout",
     "output_type": "stream",
     "text": [
      "====Evaluation\n",
      "omit the training accuracy computation\n"
     ]
    },
    {
     "name": "stderr",
     "output_type": "stream",
     "text": [
      "Iteration: 100%|██████████| 37/37 [00:01<00:00, 27.06it/s]\n"
     ]
    },
    {
     "name": "stdout",
     "output_type": "stream",
     "text": [
      "====Evaluation\n",
      "omit the training accuracy computation\n",
      "train_loss : inf val_loss: inf\n",
      "train: 0.000000 val: 0.656024  best_val_acc: 0.656024\n",
      "====epoch 7\n",
      "====Evaluation\n",
      "omit the training accuracy computation\n"
     ]
    },
    {
     "name": "stderr",
     "output_type": "stream",
     "text": [
      "NaN or Inf found in input tensor.\n",
      "Iteration: 100%|██████████| 37/37 [00:01<00:00, 28.34it/s]\n",
      "Iteration:   3%|▎         | 1/37 [00:00<00:18,  1.91it/s]NaN or Inf found in input tensor.\n",
      "Iteration:  19%|█▉        | 7/37 [00:00<00:02, 14.17it/s]NaN or Inf found in input tensor.\n",
      "Iteration:   0%|          | 0/37 [00:00<?, ?it/s]"
     ]
    },
    {
     "name": "stdout",
     "output_type": "stream",
     "text": [
      "train_loss : inf val_loss: inf\n",
      "train: 0.000000 val: 0.476401  best_val_acc: 0.476401\n",
      "====epoch 6\n",
      "train_loss : inf val_loss: inf\n",
      "train: 0.000000 val: 0.633147  best_val_acc: 0.633147\n",
      "====epoch 7\n"
     ]
    },
    {
     "name": "stderr",
     "output_type": "stream",
     "text": [
      "Iteration: 100%|██████████| 37/37 [00:01<00:00, 28.18it/s]\n",
      "Iteration:  35%|███▌      | 13/37 [00:00<00:00, 26.41it/s]"
     ]
    },
    {
     "name": "stdout",
     "output_type": "stream",
     "text": [
      "====Evaluation\n",
      "omit the training accuracy computation\n"
     ]
    },
    {
     "name": "stderr",
     "output_type": "stream",
     "text": [
      "Iteration: 100%|██████████| 37/37 [00:01<00:00, 27.72it/s]\n",
      "Iteration: 100%|██████████| 37/37 [00:01<00:00, 28.12it/s]\n",
      "NaN or Inf found in input tensor.\n",
      "Iteration:   0%|          | 0/37 [00:00<?, ?it/s]"
     ]
    },
    {
     "name": "stdout",
     "output_type": "stream",
     "text": [
      "====Evaluation\n",
      "omit the training accuracy computation\n",
      "====Evaluation\n",
      "omit the training accuracy computation\n",
      "train_loss : inf val_loss: inf\n",
      "train: 0.000000 val: 0.626579  best_val_acc: 0.626579\n",
      "====epoch 8\n"
     ]
    },
    {
     "name": "stderr",
     "output_type": "stream",
     "text": [
      "NaN or Inf found in input tensor.\n",
      "Iteration:  16%|█▌        | 6/37 [00:00<00:02, 13.65it/s]NaN or Inf found in input tensor.\n",
      "Iteration:   0%|          | 0/37 [00:00<?, ?it/s]"
     ]
    },
    {
     "name": "stdout",
     "output_type": "stream",
     "text": [
      "train_loss : inf val_loss: inf\n",
      "train: 0.000000 val: 0.631875  best_val_acc: 0.631875\n",
      "====epoch 7\n",
      "train_loss : inf val_loss: inf\n",
      "train: 0.000000 val: 0.625543  best_val_acc: 0.625543\n",
      "====epoch 8\n"
     ]
    },
    {
     "name": "stderr",
     "output_type": "stream",
     "text": [
      "Iteration: 100%|██████████| 37/37 [00:01<00:00, 29.44it/s]\n",
      "Iteration:  32%|███▏      | 12/37 [00:00<00:01, 23.48it/s]"
     ]
    },
    {
     "name": "stdout",
     "output_type": "stream",
     "text": [
      "====Evaluation\n",
      "omit the training accuracy computation\n"
     ]
    },
    {
     "name": "stderr",
     "output_type": "stream",
     "text": [
      "Iteration: 100%|██████████| 37/37 [00:01<00:00, 27.67it/s]\n",
      "NaN or Inf found in input tensor.\n",
      "Iteration: 100%|██████████| 37/37 [00:01<00:00, 27.36it/s]\n"
     ]
    },
    {
     "name": "stdout",
     "output_type": "stream",
     "text": [
      "====Evaluation\n",
      "omit the training accuracy computation\n",
      "train_loss : inf val_loss: inf\n",
      "train: 0.000000 val: 0.630663  best_val_acc: 0.630663\n",
      "====epoch 9\n",
      "====Evaluation\n",
      "omit the training accuracy computation\n"
     ]
    },
    {
     "name": "stderr",
     "output_type": "stream",
     "text": [
      "Iteration:   3%|▎         | 1/37 [00:00<00:17,  2.04it/s]NaN or Inf found in input tensor.\n",
      "Iteration:  19%|█▉        | 7/37 [00:00<00:02, 14.67it/s]"
     ]
    },
    {
     "name": "stdout",
     "output_type": "stream",
     "text": [
      "train_loss : inf val_loss: inf\n",
      "train: 0.000000 val: 0.602993  best_val_acc: 0.602993\n",
      "====epoch 8\n",
      "train_loss : inf val_loss: inf\n",
      "train: 0.000000 val: 0.633597  best_val_acc: 0.633597\n",
      "====epoch 9\n"
     ]
    },
    {
     "name": "stderr",
     "output_type": "stream",
     "text": [
      "Iteration:  35%|███▌      | 13/37 [00:00<00:00, 25.10it/s]NaN or Inf found in input tensor.\n",
      "Iteration: 100%|██████████| 37/37 [00:01<00:00, 29.63it/s]\n",
      "Iteration:  54%|█████▍    | 20/37 [00:00<00:00, 36.55it/s]"
     ]
    },
    {
     "name": "stdout",
     "output_type": "stream",
     "text": [
      "====Evaluation\n",
      "omit the training accuracy computation\n"
     ]
    },
    {
     "name": "stderr",
     "output_type": "stream",
     "text": [
      "Iteration: 100%|██████████| 37/37 [00:01<00:00, 29.77it/s]\n"
     ]
    },
    {
     "name": "stdout",
     "output_type": "stream",
     "text": [
      "====Evaluation\n",
      "omit the training accuracy computation\n",
      "train_loss : inf val_loss: inf\n",
      "train: 0.000000 val: 0.512487  best_val_acc: 0.512487\n",
      "====epoch 10\n",
      "====Evaluation\n",
      "omit the training accuracy computation\n"
     ]
    },
    {
     "name": "stderr",
     "output_type": "stream",
     "text": [
      "Iteration:  97%|█████████▋| 36/37 [00:01<00:00, 48.04it/s]NaN or Inf found in input tensor.\n",
      "Iteration: 100%|██████████| 37/37 [00:01<00:00, 28.96it/s]\n",
      "Iteration:   3%|▎         | 1/37 [00:00<00:15,  2.26it/s]NaN or Inf found in input tensor.\n",
      "Iteration:  22%|██▏       | 8/37 [00:00<00:01, 18.13it/s]"
     ]
    },
    {
     "name": "stdout",
     "output_type": "stream",
     "text": [
      "train_loss : inf val_loss: inf\n",
      "train: 0.000000 val: 0.595950  best_val_acc: 0.595950\n",
      "====epoch 9\n"
     ]
    },
    {
     "name": "stderr",
     "output_type": "stream",
     "text": [
      "Iteration: 100%|██████████| 37/37 [00:01<00:00, 29.12it/s]\n"
     ]
    },
    {
     "name": "stdout",
     "output_type": "stream",
     "text": [
      "====Evaluation\n",
      "omit the training accuracy computation\n"
     ]
    },
    {
     "name": "stderr",
     "output_type": "stream",
     "text": [
      "Iteration: 100%|██████████| 37/37 [00:01<00:00, 30.19it/s]\n",
      "NaN or Inf found in input tensor.\n",
      "Iteration:   0%|          | 0/37 [00:00<?, ?it/s]"
     ]
    },
    {
     "name": "stdout",
     "output_type": "stream",
     "text": [
      "====Evaluation\n",
      "omit the training accuracy computation\n",
      "train_loss : inf val_loss: inf\n",
      "train: 0.000000 val: 0.605389  best_val_acc: 0.605389\n",
      "====epoch 11\n"
     ]
    },
    {
     "name": "stderr",
     "output_type": "stream",
     "text": [
      "NaN or Inf found in input tensor.\n",
      "Iteration:   0%|          | 0/37 [00:00<?, ?it/s]"
     ]
    },
    {
     "name": "stdout",
     "output_type": "stream",
     "text": [
      "train_loss : inf val_loss: inf\n",
      "train: 0.000000 val: 0.702040  best_val_acc: 0.702040\n",
      "====epoch 10\n"
     ]
    },
    {
     "name": "stderr",
     "output_type": "stream",
     "text": [
      "Iteration:  65%|██████▍   | 24/37 [00:00<00:00, 39.70it/s]NaN or Inf found in input tensor.\n",
      "Iteration: 100%|██████████| 37/37 [00:01<00:00, 29.43it/s]\n",
      "Iteration: 100%|██████████| 37/37 [00:01<00:00, 50.40it/s]"
     ]
    },
    {
     "name": "stdout",
     "output_type": "stream",
     "text": [
      "train_loss : inf val_loss: inf\n",
      "train: 0.000000 val: 0.716663  best_val_acc: 0.716663\n",
      "====epoch 10\n",
      "====Evaluation\n",
      "omit the training accuracy computation\n"
     ]
    },
    {
     "name": "stderr",
     "output_type": "stream",
     "text": [
      "Iteration: 100%|██████████| 37/37 [00:01<00:00, 29.24it/s]\n"
     ]
    },
    {
     "name": "stdout",
     "output_type": "stream",
     "text": [
      "====Evaluation\n",
      "omit the training accuracy computation\n"
     ]
    },
    {
     "name": "stderr",
     "output_type": "stream",
     "text": [
      "Iteration:  32%|███▏      | 12/37 [00:00<00:01, 23.91it/s]NaN or Inf found in input tensor.\n",
      "Iteration:  46%|████▌     | 17/37 [00:00<00:00, 30.66it/s]"
     ]
    },
    {
     "name": "stdout",
     "output_type": "stream",
     "text": [
      "train_loss : inf val_loss: inf\n",
      "train: 0.000000 val: 0.648444  best_val_acc: 0.648444\n",
      "====epoch 12\n",
      "train_loss : inf val_loss: inf\n",
      "train: 0.000000 val: 0.620623  best_val_acc: 0.620623\n",
      "====epoch 11\n"
     ]
    },
    {
     "name": "stderr",
     "output_type": "stream",
     "text": [
      "Iteration:  62%|██████▏   | 23/37 [00:00<00:00, 37.98it/s]NaN or Inf found in input tensor.\n",
      "Iteration: 100%|██████████| 37/37 [00:01<00:00, 30.82it/s]\n",
      "Iteration:   3%|▎         | 1/37 [00:00<00:16,  2.20it/s]"
     ]
    },
    {
     "name": "stdout",
     "output_type": "stream",
     "text": [
      "====Evaluation\n",
      "omit the training accuracy computation\n"
     ]
    },
    {
     "name": "stderr",
     "output_type": "stream",
     "text": [
      "Iteration:  57%|█████▋    | 21/37 [00:00<00:00, 33.98it/s]NaN or Inf found in input tensor.\n",
      "Iteration:  70%|███████   | 26/37 [00:00<00:00, 37.81it/s]"
     ]
    },
    {
     "name": "stdout",
     "output_type": "stream",
     "text": [
      "train_loss : inf val_loss: inf\n",
      "train: 0.000000 val: 0.627405  best_val_acc: 0.627405\n",
      "====epoch 11\n"
     ]
    },
    {
     "name": "stderr",
     "output_type": "stream",
     "text": [
      "Iteration: 100%|██████████| 37/37 [00:01<00:00, 27.45it/s]\n",
      "Iteration:  97%|█████████▋| 36/37 [00:01<00:00, 41.91it/s]"
     ]
    },
    {
     "name": "stdout",
     "output_type": "stream",
     "text": [
      "====Evaluation\n",
      "omit the training accuracy computation\n",
      "====Evaluation\n",
      "omit the training accuracy computation\n"
     ]
    },
    {
     "name": "stderr",
     "output_type": "stream",
     "text": [
      "Iteration: 100%|██████████| 37/37 [00:01<00:00, 27.09it/s]\n",
      "Iteration:  70%|███████   | 26/37 [00:00<00:00, 38.89it/s]NaN or Inf found in input tensor.\n",
      "Iteration:  86%|████████▋ | 32/37 [00:01<00:00, 42.99it/s]NaN or Inf found in input tensor.\n",
      "Iteration:   0%|          | 0/37 [00:00<?, ?it/s]"
     ]
    },
    {
     "name": "stdout",
     "output_type": "stream",
     "text": [
      "train_loss : inf val_loss: inf\n",
      "train: 0.000000 val: 0.617551  best_val_acc: 0.617551\n",
      "====epoch 13\n",
      "train_loss : inf val_loss: inf\n",
      "train: 0.000000 val: 0.667350  best_val_acc: 0.667350\n",
      "====epoch 12\n"
     ]
    },
    {
     "name": "stderr",
     "output_type": "stream",
     "text": [
      "Iteration: 100%|██████████| 37/37 [00:01<00:00, 28.61it/s]\n",
      "Iteration:   3%|▎         | 1/37 [00:00<00:16,  2.16it/s]"
     ]
    },
    {
     "name": "stdout",
     "output_type": "stream",
     "text": [
      "====Evaluation\n",
      "omit the training accuracy computation\n"
     ]
    },
    {
     "name": "stderr",
     "output_type": "stream",
     "text": [
      "Iteration: 100%|██████████| 37/37 [00:01<00:00, 29.93it/s]\n",
      "Iteration: 100%|██████████| 37/37 [00:01<00:00, 28.64it/s]\n"
     ]
    },
    {
     "name": "stdout",
     "output_type": "stream",
     "text": [
      "====Evaluation\n",
      "omit the training accuracy computation\n",
      "====Evaluation\n",
      "omit the training accuracy computation\n"
     ]
    },
    {
     "name": "stderr",
     "output_type": "stream",
     "text": [
      "NaN or Inf found in input tensor.\n",
      "Iteration:   0%|          | 0/37 [00:00<?, ?it/s]"
     ]
    },
    {
     "name": "stdout",
     "output_type": "stream",
     "text": [
      "train_loss : inf val_loss: inf\n",
      "train: 0.000000 val: 0.719621  best_val_acc: 0.719621\n",
      "====epoch 12\n"
     ]
    },
    {
     "name": "stderr",
     "output_type": "stream",
     "text": [
      "NaN or Inf found in input tensor.\n",
      "Iteration:   0%|          | 0/37 [00:00<?, ?it/s]"
     ]
    },
    {
     "name": "stdout",
     "output_type": "stream",
     "text": [
      "train_loss : inf val_loss: inf\n",
      "train: 0.000000 val: 0.645534  best_val_acc: 0.645534\n",
      "====epoch 14\n"
     ]
    },
    {
     "name": "stderr",
     "output_type": "stream",
     "text": [
      "NaN or Inf found in input tensor.\n",
      "Iteration:  24%|██▍       | 9/37 [00:00<00:01, 19.46it/s]"
     ]
    },
    {
     "name": "stdout",
     "output_type": "stream",
     "text": [
      "train_loss : inf val_loss: inf\n",
      "train: 0.000000 val: 0.648869  best_val_acc: 0.648869\n",
      "====epoch 13\n"
     ]
    },
    {
     "name": "stderr",
     "output_type": "stream",
     "text": [
      "Iteration: 100%|██████████| 37/37 [00:01<00:00, 28.05it/s]\n"
     ]
    },
    {
     "name": "stdout",
     "output_type": "stream",
     "text": [
      "====Evaluation\n",
      "omit the training accuracy computation\n"
     ]
    },
    {
     "name": "stderr",
     "output_type": "stream",
     "text": [
      "Iteration: 100%|██████████| 37/37 [00:01<00:00, 27.66it/s]\n",
      "Iteration: 100%|██████████| 37/37 [00:01<00:00, 30.34it/s]\n"
     ]
    },
    {
     "name": "stdout",
     "output_type": "stream",
     "text": [
      "====Evaluation\n",
      "omit the training accuracy computation\n",
      "====Evaluation\n",
      "omit the training accuracy computation\n"
     ]
    },
    {
     "name": "stderr",
     "output_type": "stream",
     "text": [
      "NaN or Inf found in input tensor.\n",
      "Iteration:   0%|          | 0/37 [00:00<?, ?it/s]"
     ]
    },
    {
     "name": "stdout",
     "output_type": "stream",
     "text": [
      "train_loss : inf val_loss: inf\n",
      "train: 0.000000 val: 0.636707  best_val_acc: 0.636707\n",
      "====epoch 13\n"
     ]
    },
    {
     "name": "stderr",
     "output_type": "stream",
     "text": [
      "NaN or Inf found in input tensor.\n",
      "Iteration:   0%|          | 0/37 [00:00<?, ?it/s]NaN or Inf found in input tensor.\n",
      "Iteration:   3%|▎         | 1/37 [00:00<00:16,  2.15it/s]"
     ]
    },
    {
     "name": "stdout",
     "output_type": "stream",
     "text": [
      "train_loss : inf val_loss: inf\n",
      "train: 0.000000 val: 0.644599  best_val_acc: 0.644599\n",
      "====epoch 15\n",
      "train_loss : inf val_loss: inf\n",
      "train: 0.000000 val: 0.621860  best_val_acc: 0.621860\n",
      "====epoch 14\n"
     ]
    },
    {
     "name": "stderr",
     "output_type": "stream",
     "text": [
      "Iteration: 100%|██████████| 37/37 [00:01<00:00, 28.03it/s]\n",
      "Iteration:  76%|███████▌  | 28/37 [00:00<00:00, 40.44it/s]"
     ]
    },
    {
     "name": "stdout",
     "output_type": "stream",
     "text": [
      "====Evaluation\n",
      "omit the training accuracy computation\n"
     ]
    },
    {
     "name": "stderr",
     "output_type": "stream",
     "text": [
      "Iteration: 100%|██████████| 37/37 [00:01<00:00, 27.16it/s]\n",
      "Iteration: 100%|██████████| 37/37 [00:01<00:00, 27.86it/s]\n"
     ]
    },
    {
     "name": "stdout",
     "output_type": "stream",
     "text": [
      "====Evaluation\n",
      "omit the training accuracy computation\n",
      "====Evaluation\n",
      "omit the training accuracy computation\n"
     ]
    },
    {
     "name": "stderr",
     "output_type": "stream",
     "text": [
      "NaN or Inf found in input tensor.\n",
      "Iteration:   0%|          | 0/37 [00:00<?, ?it/s]"
     ]
    },
    {
     "name": "stdout",
     "output_type": "stream",
     "text": [
      "train_loss : inf val_loss: inf\n",
      "train: 0.000000 val: 0.540171  best_val_acc: 0.540171\n",
      "====epoch 14\n"
     ]
    },
    {
     "name": "stderr",
     "output_type": "stream",
     "text": [
      "NaN or Inf found in input tensor.\n",
      "Iteration:   3%|▎         | 1/37 [00:00<00:16,  2.19it/s]NaN or Inf found in input tensor.\n",
      "Iteration:  19%|█▉        | 7/37 [00:00<00:01, 15.84it/s]"
     ]
    },
    {
     "name": "stdout",
     "output_type": "stream",
     "text": [
      "train_loss : inf val_loss: inf\n",
      "train: 0.000000 val: 0.676138  best_val_acc: 0.676138\n",
      "====epoch 16\n",
      "train_loss : inf val_loss: inf\n",
      "train: 0.000000 val: 0.651417  best_val_acc: 0.651417\n",
      "====epoch 15\n"
     ]
    },
    {
     "name": "stderr",
     "output_type": "stream",
     "text": [
      "Iteration: 100%|██████████| 37/37 [00:01<00:00, 29.05it/s]\n"
     ]
    },
    {
     "name": "stdout",
     "output_type": "stream",
     "text": [
      "====Evaluation\n",
      "omit the training accuracy computation\n"
     ]
    },
    {
     "name": "stderr",
     "output_type": "stream",
     "text": [
      "Iteration: 100%|██████████| 37/37 [00:01<00:00, 28.03it/s]\n",
      "Iteration: 100%|██████████| 37/37 [00:01<00:00, 26.38it/s]\n",
      "NaN or Inf found in input tensor.\n",
      "Iteration:   0%|          | 0/37 [00:00<?, ?it/s]"
     ]
    },
    {
     "name": "stdout",
     "output_type": "stream",
     "text": [
      "====Evaluation\n",
      "omit the training accuracy computation\n",
      "====Evaluation\n",
      "omit the training accuracy computation\n",
      "train_loss : inf val_loss: inf\n",
      "train: 0.000000 val: 0.558852  best_val_acc: 0.558852\n",
      "====epoch 15\n"
     ]
    },
    {
     "name": "stderr",
     "output_type": "stream",
     "text": [
      "Iteration:   3%|▎         | 1/37 [00:00<00:17,  2.10it/s]NaN or Inf found in input tensor.\n",
      "Iteration:  16%|█▌        | 6/37 [00:00<00:02, 13.02it/s]NaN or Inf found in input tensor.\n",
      "Iteration:   0%|          | 0/37 [00:00<?, ?it/s]"
     ]
    },
    {
     "name": "stdout",
     "output_type": "stream",
     "text": [
      "train_loss : inf val_loss: inf\n",
      "train: 0.000000 val: 0.638892  best_val_acc: 0.638892\n",
      "====epoch 16\n",
      "train_loss : inf val_loss: inf\n",
      "train: 0.000000 val: 0.621136  best_val_acc: 0.621136\n",
      "====epoch 17\n"
     ]
    },
    {
     "name": "stderr",
     "output_type": "stream",
     "text": [
      "Iteration: 100%|██████████| 37/37 [00:01<00:00, 28.26it/s]\n",
      "Iteration:  46%|████▌     | 17/37 [00:00<00:00, 28.33it/s]"
     ]
    },
    {
     "name": "stdout",
     "output_type": "stream",
     "text": [
      "====Evaluation\n",
      "omit the training accuracy computation\n"
     ]
    },
    {
     "name": "stderr",
     "output_type": "stream",
     "text": [
      "Iteration: 100%|██████████| 37/37 [00:01<00:00, 27.95it/s]\n",
      "Iteration: 100%|██████████| 37/37 [00:01<00:00, 27.29it/s]\n",
      "NaN or Inf found in input tensor.\n",
      "Iteration:   0%|          | 0/37 [00:00<?, ?it/s]"
     ]
    },
    {
     "name": "stdout",
     "output_type": "stream",
     "text": [
      "====Evaluation\n",
      "omit the training accuracy computation\n",
      "====Evaluation\n",
      "omit the training accuracy computation\n",
      "train_loss : inf val_loss: inf\n",
      "train: 0.000000 val: 0.626217  best_val_acc: 0.626217\n",
      "====epoch 16\n"
     ]
    },
    {
     "name": "stderr",
     "output_type": "stream",
     "text": [
      "NaN or Inf found in input tensor.\n",
      "Iteration:  19%|█▉        | 7/37 [00:00<00:02, 14.14it/s]"
     ]
    },
    {
     "name": "stdout",
     "output_type": "stream",
     "text": [
      "train_loss : inf val_loss: inf\n",
      "train: 0.000000 val: 0.603492  best_val_acc: 0.603492\n",
      "====epoch 17\n"
     ]
    },
    {
     "name": "stderr",
     "output_type": "stream",
     "text": [
      "Iteration: 100%|██████████| 37/37 [00:01<00:00, 29.09it/s]\n",
      "NaN or Inf found in input tensor.\n",
      "Iteration:  73%|███████▎  | 27/37 [00:00<00:00, 44.89it/s]"
     ]
    },
    {
     "name": "stdout",
     "output_type": "stream",
     "text": [
      "====Evaluation\n",
      "omit the training accuracy computation\n",
      "train_loss : inf val_loss: inf\n",
      "train: 0.000000 val: 0.700740  best_val_acc: 0.700740\n",
      "====epoch 18\n"
     ]
    },
    {
     "name": "stderr",
     "output_type": "stream",
     "text": [
      "Iteration: 100%|██████████| 37/37 [00:01<00:00, 30.69it/s]\n",
      "Iteration:   3%|▎         | 1/37 [00:00<00:17,  2.01it/s]"
     ]
    },
    {
     "name": "stdout",
     "output_type": "stream",
     "text": [
      "====Evaluation\n",
      "omit the training accuracy computation\n"
     ]
    },
    {
     "name": "stderr",
     "output_type": "stream",
     "text": [
      "Iteration:  65%|██████▍   | 24/37 [00:00<00:00, 36.97it/s]NaN or Inf found in input tensor.\n",
      "Iteration:   0%|          | 0/37 [00:00<?, ?it/s]"
     ]
    },
    {
     "name": "stdout",
     "output_type": "stream",
     "text": [
      "train_loss : inf val_loss: inf\n",
      "train: 0.000000 val: 0.654038  best_val_acc: 0.654038\n",
      "====epoch 18\n"
     ]
    },
    {
     "name": "stderr",
     "output_type": "stream",
     "text": [
      "Iteration:  84%|████████▍ | 31/37 [00:01<00:00, 44.59it/s]NaN or Inf found in input tensor.\n",
      "Iteration: 100%|██████████| 37/37 [00:01<00:00, 28.57it/s]\n",
      "Iteration:   3%|▎         | 1/37 [00:00<00:15,  2.37it/s]"
     ]
    },
    {
     "name": "stdout",
     "output_type": "stream",
     "text": [
      "train_loss : inf val_loss: inf\n",
      "train: 0.000000 val: 0.725852  best_val_acc: 0.725852\n",
      "====epoch 17\n",
      "====Evaluation\n",
      "omit the training accuracy computation\n"
     ]
    },
    {
     "name": "stderr",
     "output_type": "stream",
     "text": [
      "Iteration:  62%|██████▏   | 23/37 [00:00<00:00, 37.15it/s]NaN or Inf found in input tensor.\n",
      "Iteration:  32%|███▏      | 12/37 [00:00<00:00, 25.42it/s]"
     ]
    },
    {
     "name": "stdout",
     "output_type": "stream",
     "text": [
      "train_loss : inf val_loss: inf\n",
      "train: 0.000000 val: 0.675903  best_val_acc: 0.675903\n",
      "====epoch 19\n"
     ]
    },
    {
     "name": "stderr",
     "output_type": "stream",
     "text": [
      "Iteration: 100%|██████████| 37/37 [00:01<00:00, 29.60it/s]\n",
      "Iteration:  97%|█████████▋| 36/37 [00:01<00:00, 47.16it/s]"
     ]
    },
    {
     "name": "stdout",
     "output_type": "stream",
     "text": [
      "====Evaluation\n",
      "omit the training accuracy computation\n"
     ]
    },
    {
     "name": "stderr",
     "output_type": "stream",
     "text": [
      "Iteration: 100%|██████████| 37/37 [00:01<00:00, 30.32it/s]\n",
      "Iteration:  35%|███▌      | 13/37 [00:00<00:00, 26.09it/s]"
     ]
    },
    {
     "name": "stdout",
     "output_type": "stream",
     "text": [
      "====Evaluation\n",
      "omit the training accuracy computation\n"
     ]
    },
    {
     "name": "stderr",
     "output_type": "stream",
     "text": [
      "Iteration:  65%|██████▍   | 24/37 [00:00<00:00, 37.09it/s]NaN or Inf found in input tensor.\n",
      "Iteration:   0%|          | 0/37 [00:00<?, ?it/s]"
     ]
    },
    {
     "name": "stdout",
     "output_type": "stream",
     "text": [
      "train_loss : inf val_loss: inf\n",
      "train: 0.000000 val: 0.690051  best_val_acc: 0.690051\n",
      "====epoch 19\n"
     ]
    },
    {
     "name": "stderr",
     "output_type": "stream",
     "text": [
      "Iteration:  97%|█████████▋| 36/37 [00:01<00:00, 45.88it/s]NaN or Inf found in input tensor.\n",
      "Iteration: 100%|██████████| 37/37 [00:01<00:00, 27.82it/s]\n",
      "Iteration:   3%|▎         | 1/37 [00:00<00:17,  2.11it/s]"
     ]
    },
    {
     "name": "stdout",
     "output_type": "stream",
     "text": [
      "train_loss : inf val_loss: inf\n",
      "train: 0.000000 val: 0.538435  best_val_acc: 0.538435\n",
      "====epoch 18\n",
      "====Evaluation\n",
      "omit the training accuracy computation\n"
     ]
    },
    {
     "name": "stderr",
     "output_type": "stream",
     "text": [
      "Iteration: 100%|██████████| 37/37 [00:01<00:00, 27.61it/s]\n",
      "Iteration:  95%|█████████▍| 35/37 [00:01<00:00, 45.18it/s]"
     ]
    },
    {
     "name": "stdout",
     "output_type": "stream",
     "text": [
      "====Evaluation\n",
      "omit the training accuracy computation\n"
     ]
    },
    {
     "name": "stderr",
     "output_type": "stream",
     "text": [
      "Iteration: 100%|██████████| 37/37 [00:01<00:00, 28.33it/s]\n"
     ]
    },
    {
     "name": "stdout",
     "output_type": "stream",
     "text": [
      "====Evaluation\n",
      "omit the training accuracy computation\n"
     ]
    },
    {
     "name": "stderr",
     "output_type": "stream",
     "text": [
      "NaN or Inf found in input tensor.\n",
      "Iteration:   0%|          | 0/37 [00:00<?, ?it/s]NaN or Inf found in input tensor.\n",
      "Iteration:   0%|          | 0/37 [00:00<?, ?it/s]"
     ]
    },
    {
     "name": "stdout",
     "output_type": "stream",
     "text": [
      "train_loss : inf val_loss: inf\n",
      "train: 0.000000 val: 0.774912  best_val_acc: 0.774912\n",
      "====epoch 20\n",
      "train_loss : inf val_loss: inf\n",
      "train: 0.000000 val: 0.646047  best_val_acc: 0.646047\n",
      "====epoch 20\n"
     ]
    },
    {
     "name": "stderr",
     "output_type": "stream",
     "text": [
      "NaN or Inf found in input tensor.\n",
      "Iteration:   3%|▎         | 1/37 [00:00<00:16,  2.16it/s]"
     ]
    },
    {
     "name": "stdout",
     "output_type": "stream",
     "text": [
      "train_loss : inf val_loss: inf\n",
      "train: 0.000000 val: 0.520742  best_val_acc: 0.520742\n",
      "====epoch 19\n"
     ]
    },
    {
     "name": "stderr",
     "output_type": "stream",
     "text": [
      "Iteration: 100%|██████████| 37/37 [00:01<00:00, 27.86it/s]\n",
      "Iteration: 100%|██████████| 37/37 [00:01<00:00, 27.84it/s]\n"
     ]
    },
    {
     "name": "stdout",
     "output_type": "stream",
     "text": [
      "====Evaluation\n",
      "omit the training accuracy computation\n",
      "====Evaluation\n",
      "omit the training accuracy computation\n"
     ]
    },
    {
     "name": "stderr",
     "output_type": "stream",
     "text": [
      "Iteration: 100%|██████████| 37/37 [00:01<00:00, 27.12it/s]\n"
     ]
    },
    {
     "name": "stdout",
     "output_type": "stream",
     "text": [
      "====Evaluation\n",
      "omit the training accuracy computation\n"
     ]
    },
    {
     "name": "stderr",
     "output_type": "stream",
     "text": [
      "NaN or Inf found in input tensor.\n",
      "Iteration:   0%|          | 0/37 [00:00<?, ?it/s]NaN or Inf found in input tensor.\n",
      "Iteration:   0%|          | 0/37 [00:00<?, ?it/s]"
     ]
    },
    {
     "name": "stdout",
     "output_type": "stream",
     "text": [
      "train_loss : inf val_loss: inf\n",
      "train: 0.000000 val: 0.766545  best_val_acc: 0.766545\n",
      "====epoch 21\n",
      "train_loss : inf val_loss: inf\n",
      "train: 0.000000 val: 0.621248  best_val_acc: 0.621248\n",
      "====epoch 21\n"
     ]
    },
    {
     "name": "stderr",
     "output_type": "stream",
     "text": [
      "NaN or Inf found in input tensor.\n",
      "Iteration:  19%|█▉        | 7/37 [00:00<00:01, 15.06it/s]"
     ]
    },
    {
     "name": "stdout",
     "output_type": "stream",
     "text": [
      "train_loss : inf val_loss: inf\n",
      "train: 0.000000 val: 0.719534  best_val_acc: 0.719534\n",
      "====epoch 20\n"
     ]
    },
    {
     "name": "stderr",
     "output_type": "stream",
     "text": [
      "Iteration: 100%|██████████| 37/37 [00:01<00:00, 27.38it/s]\n",
      "Iteration: 100%|██████████| 37/37 [00:01<00:00, 27.06it/s]\n"
     ]
    },
    {
     "name": "stdout",
     "output_type": "stream",
     "text": [
      "====Evaluation\n",
      "omit the training accuracy computation\n",
      "====Evaluation\n",
      "omit the training accuracy computation\n"
     ]
    },
    {
     "name": "stderr",
     "output_type": "stream",
     "text": [
      "Iteration: 100%|██████████| 37/37 [00:01<00:00, 28.36it/s]\n"
     ]
    },
    {
     "name": "stdout",
     "output_type": "stream",
     "text": [
      "====Evaluation\n",
      "omit the training accuracy computation\n"
     ]
    },
    {
     "name": "stderr",
     "output_type": "stream",
     "text": [
      "NaN or Inf found in input tensor.\n",
      "Iteration:   0%|          | 0/37 [00:00<?, ?it/s]"
     ]
    },
    {
     "name": "stdout",
     "output_type": "stream",
     "text": [
      "train_loss : inf val_loss: inf\n",
      "train: 0.000000 val: 0.631601  best_val_acc: 0.631601\n",
      "====epoch 22\n"
     ]
    },
    {
     "name": "stderr",
     "output_type": "stream",
     "text": [
      "NaN or Inf found in input tensor.\n",
      "Iteration:   3%|▎         | 1/37 [00:00<00:16,  2.21it/s]"
     ]
    },
    {
     "name": "stdout",
     "output_type": "stream",
     "text": [
      "train_loss : inf val_loss: inf\n",
      "train: 0.000000 val: 0.645611  best_val_acc: 0.645611\n",
      "====epoch 21\n"
     ]
    },
    {
     "name": "stderr",
     "output_type": "stream",
     "text": [
      "Iteration:  35%|███▌      | 13/37 [00:00<00:00, 25.60it/s]NaN or Inf found in input tensor.\n",
      "Iteration:   3%|▎         | 1/37 [00:00<00:15,  2.26it/s]"
     ]
    },
    {
     "name": "stdout",
     "output_type": "stream",
     "text": [
      "train_loss : inf val_loss: inf\n",
      "train: 0.000000 val: 0.710429  best_val_acc: 0.710429\n",
      "====epoch 22\n"
     ]
    },
    {
     "name": "stderr",
     "output_type": "stream",
     "text": [
      "Iteration: 100%|██████████| 37/37 [00:01<00:00, 29.03it/s]\n",
      "Iteration:  97%|█████████▋| 36/37 [00:01<00:00, 45.45it/s]"
     ]
    },
    {
     "name": "stdout",
     "output_type": "stream",
     "text": [
      "====Evaluation\n",
      "omit the training accuracy computation\n"
     ]
    },
    {
     "name": "stderr",
     "output_type": "stream",
     "text": [
      "Iteration: 100%|██████████| 37/37 [00:01<00:00, 29.57it/s]\n",
      "Iteration:  65%|██████▍   | 24/37 [00:00<00:00, 39.91it/s]"
     ]
    },
    {
     "name": "stdout",
     "output_type": "stream",
     "text": [
      "====Evaluation\n",
      "omit the training accuracy computation\n"
     ]
    },
    {
     "name": "stderr",
     "output_type": "stream",
     "text": [
      "Iteration: 100%|██████████| 37/37 [00:01<00:00, 50.10it/s]NaN or Inf found in input tensor.\n",
      "Iteration: 100%|██████████| 37/37 [00:01<00:00, 30.96it/s]\n",
      "Iteration:   0%|          | 0/37 [00:00<?, ?it/s]"
     ]
    },
    {
     "name": "stdout",
     "output_type": "stream",
     "text": [
      "train_loss : inf val_loss: inf\n",
      "train: 0.000000 val: 0.700027  best_val_acc: 0.700027\n",
      "====epoch 23\n",
      "====Evaluation\n",
      "omit the training accuracy computation\n"
     ]
    },
    {
     "name": "stderr",
     "output_type": "stream",
     "text": [
      "NaN or Inf found in input tensor.\n",
      "Iteration:   0%|          | 0/37 [00:00<?, ?it/s]"
     ]
    },
    {
     "name": "stdout",
     "output_type": "stream",
     "text": [
      "train_loss : inf val_loss: inf\n",
      "train: 0.000000 val: 0.621786  best_val_acc: 0.621786\n",
      "====epoch 22\n"
     ]
    },
    {
     "name": "stderr",
     "output_type": "stream",
     "text": [
      "Iteration:   3%|▎         | 1/37 [00:00<00:19,  1.83it/s]NaN or Inf found in input tensor.\n",
      "Iteration:   3%|▎         | 1/37 [00:00<00:17,  2.09it/s]"
     ]
    },
    {
     "name": "stdout",
     "output_type": "stream",
     "text": [
      "train_loss : inf val_loss: inf\n",
      "train: 0.000000 val: 0.623933  best_val_acc: 0.623933\n",
      "====epoch 23\n"
     ]
    },
    {
     "name": "stderr",
     "output_type": "stream",
     "text": [
      "Iteration: 100%|██████████| 37/37 [00:01<00:00, 26.72it/s]\n",
      "Iteration: 100%|██████████| 37/37 [00:01<00:00, 43.82it/s]"
     ]
    },
    {
     "name": "stdout",
     "output_type": "stream",
     "text": [
      "====Evaluation\n",
      "omit the training accuracy computation\n",
      "====Evaluation\n",
      "omit the training accuracy computation\n"
     ]
    },
    {
     "name": "stderr",
     "output_type": "stream",
     "text": [
      "Iteration: 100%|██████████| 37/37 [00:01<00:00, 28.47it/s]\n",
      "Iteration: 100%|██████████| 37/37 [00:01<00:00, 28.06it/s]\n",
      "NaN or Inf found in input tensor.\n",
      "Iteration:   0%|          | 0/37 [00:00<?, ?it/s]"
     ]
    },
    {
     "name": "stdout",
     "output_type": "stream",
     "text": [
      "====Evaluation\n",
      "omit the training accuracy computation\n",
      "train_loss : inf val_loss: inf\n",
      "train: 0.000000 val: 0.619164  best_val_acc: 0.619164\n",
      "====epoch 24\n"
     ]
    },
    {
     "name": "stderr",
     "output_type": "stream",
     "text": [
      "NaN or Inf found in input tensor.\n",
      "Iteration:   0%|          | 0/37 [00:00<?, ?it/s]"
     ]
    },
    {
     "name": "stdout",
     "output_type": "stream",
     "text": [
      "train_loss : inf val_loss: inf\n",
      "train: 0.000000 val: 0.664703  best_val_acc: 0.664703\n",
      "====epoch 23\n"
     ]
    },
    {
     "name": "stderr",
     "output_type": "stream",
     "text": [
      "Iteration:   3%|▎         | 1/37 [00:00<00:16,  2.14it/s]NaN or Inf found in input tensor.\n",
      "Iteration:   3%|▎         | 1/37 [00:00<00:17,  2.09it/s]"
     ]
    },
    {
     "name": "stdout",
     "output_type": "stream",
     "text": [
      "train_loss : inf val_loss: inf\n",
      "train: 0.000000 val: 0.678788  best_val_acc: 0.678788\n",
      "====epoch 24\n"
     ]
    },
    {
     "name": "stderr",
     "output_type": "stream",
     "text": [
      "Iteration: 100%|██████████| 37/37 [00:01<00:00, 28.57it/s]\n",
      "Iteration:  89%|████████▉ | 33/37 [00:01<00:00, 40.49it/s]"
     ]
    },
    {
     "name": "stdout",
     "output_type": "stream",
     "text": [
      "====Evaluation\n",
      "omit the training accuracy computation\n"
     ]
    },
    {
     "name": "stderr",
     "output_type": "stream",
     "text": [
      "Iteration: 100%|██████████| 37/37 [00:01<00:00, 26.81it/s]\n"
     ]
    },
    {
     "name": "stdout",
     "output_type": "stream",
     "text": [
      "====Evaluation\n",
      "omit the training accuracy computation\n"
     ]
    },
    {
     "name": "stderr",
     "output_type": "stream",
     "text": [
      "Iteration: 100%|██████████| 37/37 [00:01<00:00, 28.71it/s]\n"
     ]
    },
    {
     "name": "stdout",
     "output_type": "stream",
     "text": [
      "====Evaluation\n",
      "omit the training accuracy computation\n",
      "train_loss : inf val_loss: inf\n",
      "train: 0.000000 val: 0.588645  best_val_acc: 0.588645\n",
      "====epoch 25\n"
     ]
    },
    {
     "name": "stderr",
     "output_type": "stream",
     "text": [
      "NaN or Inf found in input tensor.\n",
      "Iteration:   0%|          | 0/37 [00:00<?, ?it/s]NaN or Inf found in input tensor.\n",
      "Iteration:   0%|          | 0/37 [00:00<?, ?it/s]"
     ]
    },
    {
     "name": "stdout",
     "output_type": "stream",
     "text": [
      "train_loss : inf val_loss: inf\n",
      "train: 0.000000 val: 0.562609  best_val_acc: 0.562609\n",
      "====epoch 24\n"
     ]
    },
    {
     "name": "stderr",
     "output_type": "stream",
     "text": [
      "Iteration:  16%|█▌        | 6/37 [00:00<00:02, 12.97it/s]NaN or Inf found in input tensor.\n",
      "Iteration:   0%|          | 0/37 [00:00<?, ?it/s]"
     ]
    },
    {
     "name": "stdout",
     "output_type": "stream",
     "text": [
      "train_loss : inf val_loss: inf\n",
      "train: 0.000000 val: 0.610984  best_val_acc: 0.610984\n",
      "====epoch 25\n"
     ]
    },
    {
     "name": "stderr",
     "output_type": "stream",
     "text": [
      "Iteration: 100%|██████████| 37/37 [00:01<00:00, 28.14it/s]\n"
     ]
    },
    {
     "name": "stdout",
     "output_type": "stream",
     "text": [
      "====Evaluation\n",
      "omit the training accuracy computation\n"
     ]
    },
    {
     "name": "stderr",
     "output_type": "stream",
     "text": [
      "Iteration: 100%|██████████| 37/37 [00:01<00:00, 28.12it/s]\n"
     ]
    },
    {
     "name": "stdout",
     "output_type": "stream",
     "text": [
      "====Evaluation\n",
      "omit the training accuracy computation\n"
     ]
    },
    {
     "name": "stderr",
     "output_type": "stream",
     "text": [
      "Iteration: 100%|██████████| 37/37 [00:01<00:00, 29.81it/s]\n",
      "NaN or Inf found in input tensor.\n",
      "Iteration:   0%|          | 0/37 [00:00<?, ?it/s]"
     ]
    },
    {
     "name": "stdout",
     "output_type": "stream",
     "text": [
      "====Evaluation\n",
      "omit the training accuracy computation\n",
      "train_loss : inf val_loss: inf\n",
      "train: 0.000000 val: 0.770168  best_val_acc: 0.770168\n",
      "====epoch 26\n"
     ]
    },
    {
     "name": "stderr",
     "output_type": "stream",
     "text": [
      "NaN or Inf found in input tensor.\n",
      "Iteration:   0%|          | 0/37 [00:00<?, ?it/s]"
     ]
    },
    {
     "name": "stdout",
     "output_type": "stream",
     "text": [
      "train_loss : inf val_loss: inf\n",
      "train: 0.000000 val: 0.666376  best_val_acc: 0.666376\n",
      "====epoch 25\n"
     ]
    },
    {
     "name": "stderr",
     "output_type": "stream",
     "text": [
      "Iteration:   3%|▎         | 1/37 [00:00<00:15,  2.26it/s]NaN or Inf found in input tensor.\n",
      "Iteration:   3%|▎         | 1/37 [00:00<00:15,  2.40it/s]"
     ]
    },
    {
     "name": "stdout",
     "output_type": "stream",
     "text": [
      "train_loss : inf val_loss: inf\n",
      "train: 0.000000 val: 0.647583  best_val_acc: 0.647583\n",
      "====epoch 26\n"
     ]
    },
    {
     "name": "stderr",
     "output_type": "stream",
     "text": [
      "Iteration: 100%|██████████| 37/37 [00:01<00:00, 28.36it/s]\n"
     ]
    },
    {
     "name": "stdout",
     "output_type": "stream",
     "text": [
      "====Evaluation\n",
      "omit the training accuracy computation\n"
     ]
    },
    {
     "name": "stderr",
     "output_type": "stream",
     "text": [
      "Iteration: 100%|██████████| 37/37 [00:01<00:00, 28.43it/s]\n",
      "Iteration:  89%|████████▉ | 33/37 [00:01<00:00, 44.78it/s]"
     ]
    },
    {
     "name": "stdout",
     "output_type": "stream",
     "text": [
      "====Evaluation\n",
      "omit the training accuracy computation\n"
     ]
    },
    {
     "name": "stderr",
     "output_type": "stream",
     "text": [
      "Iteration: 100%|██████████| 37/37 [00:01<00:00, 28.41it/s]\n",
      "NaN or Inf found in input tensor.\n",
      "Iteration:   0%|          | 0/37 [00:00<?, ?it/s]"
     ]
    },
    {
     "name": "stdout",
     "output_type": "stream",
     "text": [
      "====Evaluation\n",
      "omit the training accuracy computation\n",
      "train_loss : inf val_loss: inf\n",
      "train: 0.000000 val: 0.616578  best_val_acc: 0.616578\n",
      "====epoch 27\n"
     ]
    },
    {
     "name": "stderr",
     "output_type": "stream",
     "text": [
      "NaN or Inf found in input tensor.\n",
      "Iteration:   0%|          | 0/37 [00:00<?, ?it/s]"
     ]
    },
    {
     "name": "stdout",
     "output_type": "stream",
     "text": [
      "train_loss : inf val_loss: inf\n",
      "train: 0.000000 val: 0.583837  best_val_acc: 0.583837\n",
      "====epoch 26\n"
     ]
    },
    {
     "name": "stderr",
     "output_type": "stream",
     "text": [
      "Iteration:  16%|█▌        | 6/37 [00:00<00:02, 12.58it/s]NaN or Inf found in input tensor.\n",
      "Iteration:   3%|▎         | 1/37 [00:00<00:17,  2.05it/s]"
     ]
    },
    {
     "name": "stdout",
     "output_type": "stream",
     "text": [
      "train_loss : inf val_loss: inf\n",
      "train: 0.000000 val: 0.652453  best_val_acc: 0.652453\n",
      "====epoch 27\n"
     ]
    },
    {
     "name": "stderr",
     "output_type": "stream",
     "text": [
      "Iteration: 100%|██████████| 37/37 [00:01<00:00, 27.65it/s]\n"
     ]
    },
    {
     "name": "stdout",
     "output_type": "stream",
     "text": [
      "====Evaluation\n",
      "omit the training accuracy computation\n"
     ]
    },
    {
     "name": "stderr",
     "output_type": "stream",
     "text": [
      "Iteration: 100%|██████████| 37/37 [00:01<00:00, 27.28it/s]\n"
     ]
    },
    {
     "name": "stdout",
     "output_type": "stream",
     "text": [
      "====Evaluation\n",
      "omit the training accuracy computation\n"
     ]
    },
    {
     "name": "stderr",
     "output_type": "stream",
     "text": [
      "Iteration: 100%|██████████| 37/37 [00:01<00:00, 29.01it/s]\n",
      "NaN or Inf found in input tensor.\n",
      "Iteration:   0%|          | 0/37 [00:00<?, ?it/s]"
     ]
    },
    {
     "name": "stdout",
     "output_type": "stream",
     "text": [
      "====Evaluation\n",
      "omit the training accuracy computation\n",
      "train_loss : inf val_loss: inf\n",
      "train: 0.000000 val: 0.734005  best_val_acc: 0.734005\n",
      "====epoch 28\n"
     ]
    },
    {
     "name": "stderr",
     "output_type": "stream",
     "text": [
      "Iteration:   3%|▎         | 1/37 [00:00<00:16,  2.18it/s]NaN or Inf found in input tensor.\n",
      "Iteration:  19%|█▉        | 7/37 [00:00<00:01, 15.58it/s]"
     ]
    },
    {
     "name": "stdout",
     "output_type": "stream",
     "text": [
      "train_loss : inf val_loss: inf\n",
      "train: 0.000000 val: 0.636007  best_val_acc: 0.636007\n",
      "====epoch 28\n"
     ]
    },
    {
     "name": "stderr",
     "output_type": "stream",
     "text": [
      "Iteration:  57%|█████▋    | 21/37 [00:00<00:00, 39.36it/s]NaN or Inf found in input tensor.\n",
      "Iteration:  19%|█▉        | 7/37 [00:00<00:01, 16.20it/s]]"
     ]
    },
    {
     "name": "stdout",
     "output_type": "stream",
     "text": [
      "train_loss : inf val_loss: inf\n",
      "train: 0.000000 val: 0.744856  best_val_acc: 0.744856\n",
      "====epoch 27\n"
     ]
    },
    {
     "name": "stderr",
     "output_type": "stream",
     "text": [
      "Iteration: 100%|██████████| 37/37 [00:01<00:00, 29.55it/s]\n",
      "Iteration:   3%|▎         | 1/37 [00:00<00:16,  2.15it/s]]"
     ]
    },
    {
     "name": "stdout",
     "output_type": "stream",
     "text": [
      "====Evaluation\n",
      "omit the training accuracy computation\n"
     ]
    },
    {
     "name": "stderr",
     "output_type": "stream",
     "text": [
      "Iteration: 100%|██████████| 37/37 [00:01<00:00, 29.48it/s]\n"
     ]
    },
    {
     "name": "stdout",
     "output_type": "stream",
     "text": [
      "====Evaluation\n",
      "omit the training accuracy computation\n",
      "train_loss : inf val_loss: inf\n",
      "train: 0.000000 val: 0.736753  best_val_acc: 0.736753\n",
      "====epoch 29\n"
     ]
    },
    {
     "name": "stderr",
     "output_type": "stream",
     "text": [
      "Iteration:  62%|██████▏   | 23/37 [00:00<00:00, 34.35it/s]NaN or Inf found in input tensor.\n",
      "Iteration: 100%|██████████| 37/37 [00:01<00:00, 28.04it/s]\n"
     ]
    },
    {
     "name": "stdout",
     "output_type": "stream",
     "text": [
      "====Evaluation\n",
      "omit the training accuracy computation\n",
      "train_loss : inf val_loss: inf\n",
      "train: 0.000000 val: 0.664978  best_val_acc: 0.664978\n",
      "====epoch 29\n"
     ]
    },
    {
     "name": "stderr",
     "output_type": "stream",
     "text": [
      "NaN or Inf found in input tensor.\n",
      "Iteration:   3%|▎         | 1/37 [00:00<00:16,  2.20it/s]NaN or Inf found in input tensor.\n",
      "Iteration:  19%|█▉        | 7/37 [00:00<00:01, 16.00it/s]]"
     ]
    },
    {
     "name": "stdout",
     "output_type": "stream",
     "text": [
      "train_loss : inf val_loss: inf\n",
      "train: 0.000000 val: 0.702476  best_val_acc: 0.702476\n",
      "====epoch 28\n"
     ]
    },
    {
     "name": "stderr",
     "output_type": "stream",
     "text": [
      "Iteration: 100%|██████████| 37/37 [00:01<00:00, 28.74it/s]\n"
     ]
    },
    {
     "name": "stdout",
     "output_type": "stream",
     "text": [
      "====Evaluation\n",
      "omit the training accuracy computation\n"
     ]
    },
    {
     "name": "stderr",
     "output_type": "stream",
     "text": [
      "Iteration: 100%|██████████| 37/37 [00:01<00:00, 28.47it/s]\n"
     ]
    },
    {
     "name": "stdout",
     "output_type": "stream",
     "text": [
      "====Evaluation\n",
      "omit the training accuracy computation\n",
      "train_loss : inf val_loss: inf\n",
      "train: 0.000000 val: 0.717084  best_val_acc: 0.717084\n",
      "====epoch 30\n"
     ]
    },
    {
     "name": "stderr",
     "output_type": "stream",
     "text": [
      "Iteration:  57%|█████▋    | 21/37 [00:00<00:00, 32.37it/s]NaN or Inf found in input tensor.\n",
      "Iteration: 100%|██████████| 37/37 [00:01<00:00, 28.36it/s]\n"
     ]
    },
    {
     "name": "stdout",
     "output_type": "stream",
     "text": [
      "====Evaluation\n",
      "omit the training accuracy computation\n",
      "train_loss : inf val_loss: inf\n",
      "train: 0.000000 val: 0.639191  best_val_acc: 0.639191\n",
      "====epoch 30\n"
     ]
    },
    {
     "name": "stderr",
     "output_type": "stream",
     "text": [
      "Iteration:   3%|▎         | 1/37 [00:00<00:15,  2.35it/s]NaN or Inf found in input tensor.\n",
      "Iteration:   3%|▎         | 1/37 [00:00<00:15,  2.32it/s]NaN or Inf found in input tensor.\n",
      "Iteration:  84%|████████▍ | 31/37 [00:00<00:00, 43.87it/s]"
     ]
    },
    {
     "name": "stdout",
     "output_type": "stream",
     "text": [
      "train_loss : inf val_loss: inf\n",
      "train: 0.000000 val: 0.710829  best_val_acc: 0.710829\n",
      "====epoch 29\n"
     ]
    },
    {
     "name": "stderr",
     "output_type": "stream",
     "text": [
      "Iteration: 100%|██████████| 37/37 [00:01<00:00, 29.74it/s]\n"
     ]
    },
    {
     "name": "stdout",
     "output_type": "stream",
     "text": [
      "====Evaluation\n",
      "omit the training accuracy computation\n"
     ]
    },
    {
     "name": "stderr",
     "output_type": "stream",
     "text": [
      "Iteration: 100%|██████████| 37/37 [00:01<00:00, 29.54it/s]\n",
      "NaN or Inf found in input tensor.\n",
      "Iteration:  68%|██████▊   | 25/37 [00:00<00:00, 40.89it/s]"
     ]
    },
    {
     "name": "stdout",
     "output_type": "stream",
     "text": [
      "====Evaluation\n",
      "omit the training accuracy computation\n",
      "train_loss : inf val_loss: inf\n",
      "train: 0.000000 val: 0.759566  best_val_acc: 0.759566\n",
      "====epoch 31\n"
     ]
    },
    {
     "name": "stderr",
     "output_type": "stream",
     "text": [
      "Iteration: 100%|██████████| 37/37 [00:01<00:00, 30.14it/s]\n",
      "Iteration:   3%|▎         | 1/37 [00:00<00:17,  2.04it/s]"
     ]
    },
    {
     "name": "stdout",
     "output_type": "stream",
     "text": [
      "====Evaluation\n",
      "omit the training accuracy computation\n"
     ]
    },
    {
     "name": "stderr",
     "output_type": "stream",
     "text": [
      "NaN or Inf found in input tensor.\n",
      "Iteration:  35%|███▌      | 13/37 [00:00<00:00, 25.98it/s]"
     ]
    },
    {
     "name": "stdout",
     "output_type": "stream",
     "text": [
      "train_loss : inf val_loss: inf\n",
      "train: 0.000000 val: 0.604156  best_val_acc: 0.604156\n",
      "====epoch 31\n"
     ]
    },
    {
     "name": "stderr",
     "output_type": "stream",
     "text": [
      "Iteration:  73%|███████▎  | 27/37 [00:00<00:00, 42.76it/s]NaN or Inf found in input tensor.\n",
      "Iteration:   0%|          | 0/37 [00:00<?, ?it/s]"
     ]
    },
    {
     "name": "stdout",
     "output_type": "stream",
     "text": [
      "train_loss : inf val_loss: inf\n",
      "train: 0.000000 val: 0.696270  best_val_acc: 0.696270\n",
      "====epoch 30\n"
     ]
    },
    {
     "name": "stderr",
     "output_type": "stream",
     "text": [
      "Iteration: 100%|██████████| 37/37 [00:01<00:00, 29.76it/s]\n"
     ]
    },
    {
     "name": "stdout",
     "output_type": "stream",
     "text": [
      "====Evaluation\n",
      "omit the training accuracy computation\n"
     ]
    },
    {
     "name": "stderr",
     "output_type": "stream",
     "text": [
      "Iteration: 100%|██████████| 37/37 [00:01<00:00, 28.23it/s]\n"
     ]
    },
    {
     "name": "stdout",
     "output_type": "stream",
     "text": [
      "====Evaluation\n",
      "omit the training accuracy computation\n"
     ]
    },
    {
     "name": "stderr",
     "output_type": "stream",
     "text": [
      "Iteration: 100%|██████████| 37/37 [00:01<00:00, 29.84it/s]\n"
     ]
    },
    {
     "name": "stdout",
     "output_type": "stream",
     "text": [
      "====Evaluation\n",
      "omit the training accuracy computation\n"
     ]
    },
    {
     "name": "stderr",
     "output_type": "stream",
     "text": [
      "NaN or Inf found in input tensor.\n",
      "Iteration:   0%|          | 0/37 [00:00<?, ?it/s]"
     ]
    },
    {
     "name": "stdout",
     "output_type": "stream",
     "text": [
      "train_loss : inf val_loss: inf\n",
      "train: 0.000000 val: 0.683272  best_val_acc: 0.683272\n",
      "====epoch 32\n"
     ]
    },
    {
     "name": "stderr",
     "output_type": "stream",
     "text": [
      "Iteration:   3%|▎         | 1/37 [00:00<00:15,  2.33it/s]NaN or Inf found in input tensor.\n",
      "Iteration:  19%|█▉        | 7/37 [00:00<00:01, 16.00it/s]"
     ]
    },
    {
     "name": "stdout",
     "output_type": "stream",
     "text": [
      "train_loss : inf val_loss: inf\n",
      "train: 0.000000 val: 0.567904  best_val_acc: 0.567904\n",
      "====epoch 31\n"
     ]
    },
    {
     "name": "stderr",
     "output_type": "stream",
     "text": [
      "Iteration:  35%|███▌      | 13/37 [00:00<00:00, 26.73it/s]NaN or Inf found in input tensor.\n",
      "Iteration:  51%|█████▏    | 19/37 [00:00<00:00, 34.52it/s]"
     ]
    },
    {
     "name": "stdout",
     "output_type": "stream",
     "text": [
      "train_loss : inf val_loss: inf\n",
      "train: 0.000000 val: 0.843778  best_val_acc: 0.843778\n",
      "====epoch 32\n"
     ]
    },
    {
     "name": "stderr",
     "output_type": "stream",
     "text": [
      "Iteration: 100%|██████████| 37/37 [00:01<00:00, 28.82it/s]\n",
      "Iteration:  41%|████      | 15/37 [00:00<00:00, 29.38it/s]"
     ]
    },
    {
     "name": "stdout",
     "output_type": "stream",
     "text": [
      "====Evaluation\n",
      "omit the training accuracy computation\n"
     ]
    },
    {
     "name": "stderr",
     "output_type": "stream",
     "text": [
      "Iteration: 100%|██████████| 37/37 [00:01<00:00, 28.06it/s]\n",
      "Iteration:  97%|█████████▋| 36/37 [00:01<00:00, 44.12it/s]NaN or Inf found in input tensor.\n",
      "Iteration:   0%|          | 0/37 [00:00<?, ?it/s]"
     ]
    },
    {
     "name": "stdout",
     "output_type": "stream",
     "text": [
      "====Evaluation\n",
      "omit the training accuracy computation\n",
      "train_loss : inf val_loss: inf\n",
      "train: 0.000000 val: 0.652253  best_val_acc: 0.652253\n",
      "====epoch 33\n"
     ]
    },
    {
     "name": "stderr",
     "output_type": "stream",
     "text": [
      "Iteration: 100%|██████████| 37/37 [00:01<00:00, 28.13it/s]\n"
     ]
    },
    {
     "name": "stdout",
     "output_type": "stream",
     "text": [
      "====Evaluation\n",
      "omit the training accuracy computation\n"
     ]
    },
    {
     "name": "stderr",
     "output_type": "stream",
     "text": [
      "Iteration:  35%|███▌      | 13/37 [00:00<00:00, 26.52it/s]NaN or Inf found in input tensor.\n",
      "Iteration:  51%|█████▏    | 19/37 [00:00<00:00, 34.21it/s]"
     ]
    },
    {
     "name": "stdout",
     "output_type": "stream",
     "text": [
      "train_loss : inf val_loss: inf\n",
      "train: 0.000000 val: 0.691175  best_val_acc: 0.691175\n",
      "====epoch 33\n"
     ]
    },
    {
     "name": "stderr",
     "output_type": "stream",
     "text": [
      "Iteration:  81%|████████  | 30/37 [00:01<00:00, 42.10it/s]NaN or Inf found in input tensor.\n",
      "Iteration: 100%|██████████| 37/37 [00:01<00:00, 29.64it/s]\n",
      "Iteration:  22%|██▏       | 8/37 [00:00<00:01, 17.04it/s]"
     ]
    },
    {
     "name": "stdout",
     "output_type": "stream",
     "text": [
      "train_loss : inf val_loss: inf\n",
      "train: 0.000000 val: 0.779396  best_val_acc: 0.779396\n",
      "====epoch 32\n",
      "====Evaluation\n",
      "omit the training accuracy computation\n"
     ]
    },
    {
     "name": "stderr",
     "output_type": "stream",
     "text": [
      "Iteration:  46%|████▌     | 17/37 [00:00<00:00, 31.91it/s]NaN or Inf found in input tensor.\n",
      "Iteration: 100%|██████████| 37/37 [00:01<00:00, 30.17it/s]\n",
      "Iteration:  62%|██████▏   | 23/37 [00:00<00:00, 38.74it/s]"
     ]
    },
    {
     "name": "stdout",
     "output_type": "stream",
     "text": [
      "train_loss : inf val_loss: inf\n",
      "train: 0.000000 val: 0.656835  best_val_acc: 0.656835\n",
      "====epoch 34\n",
      "====Evaluation\n",
      "omit the training accuracy computation\n"
     ]
    },
    {
     "name": "stderr",
     "output_type": "stream",
     "text": [
      "Iteration: 100%|██████████| 37/37 [00:01<00:00, 29.51it/s]\n",
      "Iteration:  32%|███▏      | 12/37 [00:00<00:00, 25.71it/s]"
     ]
    },
    {
     "name": "stdout",
     "output_type": "stream",
     "text": [
      "====Evaluation\n",
      "omit the training accuracy computation\n"
     ]
    },
    {
     "name": "stderr",
     "output_type": "stream",
     "text": [
      "NaN or Inf found in input tensor.\n",
      "Iteration:  68%|██████▊   | 25/37 [00:00<00:00, 41.43it/s]"
     ]
    },
    {
     "name": "stdout",
     "output_type": "stream",
     "text": [
      "train_loss : inf val_loss: inf\n",
      "train: 0.000000 val: 0.788086  best_val_acc: 0.788086\n",
      "====epoch 34\n"
     ]
    },
    {
     "name": "stderr",
     "output_type": "stream",
     "text": [
      "Iteration:  84%|████████▍ | 31/37 [00:00<00:00, 44.72it/s]NaN or Inf found in input tensor.\n",
      "Iteration: 100%|██████████| 37/37 [00:01<00:00, 31.35it/s]\n"
     ]
    },
    {
     "name": "stdout",
     "output_type": "stream",
     "text": [
      "train_loss : inf val_loss: inf\n",
      "train: 0.000000 val: 0.633010  best_val_acc: 0.633010\n",
      "====epoch 33\n",
      "====Evaluation\n",
      "omit the training accuracy computation\n"
     ]
    },
    {
     "name": "stderr",
     "output_type": "stream",
     "text": [
      "Iteration:  35%|███▌      | 13/37 [00:00<00:00, 24.95it/s]NaN or Inf found in input tensor.\n",
      "Iteration:   0%|          | 0/37 [00:00<?, ?it/s]"
     ]
    },
    {
     "name": "stdout",
     "output_type": "stream",
     "text": [
      "train_loss : inf val_loss: inf\n",
      "train: 0.000000 val: 0.620461  best_val_acc: 0.620461\n",
      "====epoch 35\n"
     ]
    },
    {
     "name": "stderr",
     "output_type": "stream",
     "text": [
      "Iteration: 100%|██████████| 37/37 [00:01<00:00, 28.27it/s]\n"
     ]
    },
    {
     "name": "stdout",
     "output_type": "stream",
     "text": [
      "====Evaluation\n",
      "omit the training accuracy computation\n"
     ]
    },
    {
     "name": "stderr",
     "output_type": "stream",
     "text": [
      "Iteration: 100%|██████████| 37/37 [00:01<00:00, 29.63it/s]\n",
      "Iteration:  32%|███▏      | 12/37 [00:00<00:00, 25.50it/s]"
     ]
    },
    {
     "name": "stdout",
     "output_type": "stream",
     "text": [
      "====Evaluation\n",
      "omit the training accuracy computation\n"
     ]
    },
    {
     "name": "stderr",
     "output_type": "stream",
     "text": [
      "Iteration:  62%|██████▏   | 23/37 [00:00<00:00, 36.53it/s]NaN or Inf found in input tensor.\n",
      "Iteration:   0%|          | 0/37 [00:00<?, ?it/s]"
     ]
    },
    {
     "name": "stdout",
     "output_type": "stream",
     "text": [
      "train_loss : inf val_loss: inf\n",
      "train: 0.000000 val: 0.767420  best_val_acc: 0.767420\n",
      "====epoch 35\n"
     ]
    },
    {
     "name": "stderr",
     "output_type": "stream",
     "text": [
      "Iteration: 100%|██████████| 37/37 [00:01<00:00, 29.22it/s]\n",
      "Iteration:  22%|██▏       | 8/37 [00:00<00:01, 18.79it/s]"
     ]
    },
    {
     "name": "stdout",
     "output_type": "stream",
     "text": [
      "====Evaluation\n",
      "omit the training accuracy computation\n"
     ]
    },
    {
     "name": "stderr",
     "output_type": "stream",
     "text": [
      "Iteration:  76%|███████▌  | 28/37 [00:00<00:00, 45.21it/s]NaN or Inf found in input tensor.\n",
      "Iteration:   0%|          | 0/37 [00:00<?, ?it/s]NaN or Inf found in input tensor.\n",
      "Iteration:  95%|█████████▍| 35/37 [00:00<00:00, 50.30it/s]"
     ]
    },
    {
     "name": "stdout",
     "output_type": "stream",
     "text": [
      "train_loss : inf val_loss: inf\n",
      "train: 0.000000 val: 0.802136  best_val_acc: 0.802136\n",
      "====epoch 34\n",
      "train_loss : inf val_loss: inf\n",
      "train: 0.000000 val: 0.700702  best_val_acc: 0.700702\n",
      "====epoch 36\n"
     ]
    },
    {
     "name": "stderr",
     "output_type": "stream",
     "text": [
      "Iteration: 100%|██████████| 37/37 [00:01<00:00, 31.80it/s]\n",
      "Iteration:   3%|▎         | 1/37 [00:00<00:16,  2.20it/s]"
     ]
    },
    {
     "name": "stdout",
     "output_type": "stream",
     "text": [
      "====Evaluation\n",
      "omit the training accuracy computation\n"
     ]
    },
    {
     "name": "stderr",
     "output_type": "stream",
     "text": [
      "Iteration:  62%|██████▏   | 23/37 [00:00<00:00, 36.74it/s]NaN or Inf found in input tensor.\n",
      "Iteration:  92%|█████████▏| 34/37 [00:01<00:00, 44.93it/s]"
     ]
    },
    {
     "name": "stdout",
     "output_type": "stream",
     "text": [
      "train_loss : inf val_loss: inf\n",
      "train: 0.000000 val: 0.728372  best_val_acc: 0.728372\n",
      "====epoch 36\n"
     ]
    },
    {
     "name": "stderr",
     "output_type": "stream",
     "text": [
      "Iteration: 100%|██████████| 37/37 [00:01<00:00, 28.57it/s]\n"
     ]
    },
    {
     "name": "stdout",
     "output_type": "stream",
     "text": [
      "====Evaluation\n",
      "omit the training accuracy computation\n",
      "====Evaluation\n",
      "omit the training accuracy computation\n"
     ]
    },
    {
     "name": "stderr",
     "output_type": "stream",
     "text": [
      "Iteration: 100%|██████████| 37/37 [00:01<00:00, 27.35it/s]\n",
      "Iteration:  65%|██████▍   | 24/37 [00:00<00:00, 39.34it/s]NaN or Inf found in input tensor.\n",
      "Iteration:  81%|████████  | 30/37 [00:00<00:00, 43.82it/s]"
     ]
    },
    {
     "name": "stdout",
     "output_type": "stream",
     "text": [
      "train_loss : inf val_loss: inf\n",
      "train: 0.000000 val: 0.700002  best_val_acc: 0.700002\n",
      "====epoch 35\n"
     ]
    },
    {
     "name": "stderr",
     "output_type": "stream",
     "text": [
      "Iteration: 100%|██████████| 37/37 [00:01<00:00, 30.67it/s]\n",
      "Iteration:   3%|▎         | 1/37 [00:00<00:15,  2.32it/s]"
     ]
    },
    {
     "name": "stdout",
     "output_type": "stream",
     "text": [
      "====Evaluation\n",
      "omit the training accuracy computation\n"
     ]
    },
    {
     "name": "stderr",
     "output_type": "stream",
     "text": [
      "Iteration:  59%|█████▉    | 22/37 [00:00<00:00, 40.82it/s]NaN or Inf found in input tensor.\n",
      "Iteration:  76%|███████▌  | 28/37 [00:00<00:00, 44.13it/s]"
     ]
    },
    {
     "name": "stdout",
     "output_type": "stream",
     "text": [
      "train_loss : inf val_loss: inf\n",
      "train: 0.000000 val: 0.761376  best_val_acc: 0.761376\n",
      "====epoch 37\n"
     ]
    },
    {
     "name": "stderr",
     "output_type": "stream",
     "text": [
      "Iteration: 100%|██████████| 37/37 [00:01<00:00, 32.33it/s]\n"
     ]
    },
    {
     "name": "stdout",
     "output_type": "stream",
     "text": [
      "====Evaluation\n",
      "omit the training accuracy computation\n"
     ]
    },
    {
     "name": "stderr",
     "output_type": "stream",
     "text": [
      "Iteration:  78%|███████▊  | 29/37 [00:00<00:00, 48.34it/s]NaN or Inf found in input tensor.\n",
      "Iteration:  97%|█████████▋| 36/37 [00:00<00:00, 52.03it/s]NaN or Inf found in input tensor.\n",
      "Iteration:   0%|          | 0/37 [00:00<?, ?it/s]"
     ]
    },
    {
     "name": "stdout",
     "output_type": "stream",
     "text": [
      "train_loss : inf val_loss: inf\n",
      "train: 0.000000 val: 0.599970  best_val_acc: 0.599970\n",
      "====epoch 36\n",
      "train_loss : inf val_loss: inf\n",
      "train: 0.000000 val: 0.738225  best_val_acc: 0.738225\n",
      "====epoch 37\n",
      "====Evaluation\n",
      "omit the training accuracy computation\n"
     ]
    },
    {
     "name": "stderr",
     "output_type": "stream",
     "text": [
      "Iteration: 100%|██████████| 37/37 [00:01<00:00, 34.78it/s]\n",
      "Iteration:  49%|████▊     | 18/37 [00:00<00:00, 32.90it/s]NaN or Inf found in input tensor.\n",
      "Iteration:   0%|          | 0/37 [00:00<?, ?it/s]"
     ]
    },
    {
     "name": "stdout",
     "output_type": "stream",
     "text": [
      "train_loss : inf val_loss: inf\n",
      "train: 0.000000 val: 0.737677  best_val_acc: 0.737677\n",
      "====epoch 38\n"
     ]
    },
    {
     "name": "stderr",
     "output_type": "stream",
     "text": [
      "Iteration: 100%|██████████| 37/37 [00:01<00:00, 27.66it/s]\n",
      "Iteration: 100%|██████████| 37/37 [00:01<00:00, 27.96it/s]\n",
      "Iteration:  32%|███▏      | 12/37 [00:00<00:00, 25.23it/s]"
     ]
    },
    {
     "name": "stdout",
     "output_type": "stream",
     "text": [
      "====Evaluation\n",
      "omit the training accuracy computation\n",
      "====Evaluation\n",
      "omit the training accuracy computation\n"
     ]
    },
    {
     "name": "stderr",
     "output_type": "stream",
     "text": [
      "Iteration:  97%|█████████▋| 36/37 [00:01<00:00, 48.42it/s]NaN or Inf found in input tensor.\n",
      "Iteration:   0%|          | 0/37 [00:00<?, ?it/s]"
     ]
    },
    {
     "name": "stdout",
     "output_type": "stream",
     "text": [
      "train_loss : inf val_loss: inf\n",
      "train: 0.000000 val: 0.702901  best_val_acc: 0.702901\n",
      "====epoch 37\n",
      "train_loss : inf val_loss: inf\n",
      "train: 0.000000 val: 0.640154  best_val_acc: 0.640154\n",
      "====epoch 38\n",
      "====Evaluation\n",
      "omit the training accuracy computation\n"
     ]
    },
    {
     "name": "stderr",
     "output_type": "stream",
     "text": [
      "NaN or Inf found in input tensor.\n",
      "Iteration: 100%|██████████| 37/37 [00:01<00:00, 28.78it/s]\n",
      "Iteration:  30%|██▉       | 11/37 [00:00<00:01, 22.09it/s]NaN or Inf found in input tensor.\n",
      "Iteration:  59%|█████▉    | 22/37 [00:00<00:00, 35.57it/s]"
     ]
    },
    {
     "name": "stdout",
     "output_type": "stream",
     "text": [
      "train_loss : inf val_loss: inf\n",
      "train: 0.000000 val: 0.601257  best_val_acc: 0.601257\n",
      "====epoch 39\n"
     ]
    },
    {
     "name": "stderr",
     "output_type": "stream",
     "text": [
      "Iteration: 100%|██████████| 37/37 [00:01<00:00, 29.66it/s]\n",
      "Iteration:   3%|▎         | 1/37 [00:00<00:16,  2.17it/s]]"
     ]
    },
    {
     "name": "stdout",
     "output_type": "stream",
     "text": [
      "====Evaluation\n",
      "omit the training accuracy computation\n",
      "====Evaluation\n",
      "omit the training accuracy computation\n"
     ]
    },
    {
     "name": "stderr",
     "output_type": "stream",
     "text": [
      "Iteration: 100%|██████████| 37/37 [00:01<00:00, 29.03it/s]\n",
      "Iteration:  89%|████████▉ | 33/37 [00:00<00:00, 48.40it/s]NaN or Inf found in input tensor.\n",
      "Iteration:   0%|          | 0/37 [00:00<?, ?it/s]"
     ]
    },
    {
     "name": "stdout",
     "output_type": "stream",
     "text": [
      "train_loss : inf val_loss: inf\n",
      "train: 0.000000 val: 0.698618  best_val_acc: 0.698618\n",
      "====epoch 38\n"
     ]
    },
    {
     "name": "stderr",
     "output_type": "stream",
     "text": [
      "Iteration: 100%|██████████| 37/37 [00:01<00:00, 30.57it/s]\n",
      "NaN or Inf found in input tensor.\n",
      "Iteration:   0%|          | 0/37 [00:00<?, ?it/s]"
     ]
    },
    {
     "name": "stdout",
     "output_type": "stream",
     "text": [
      "====Evaluation\n",
      "omit the training accuracy computation\n",
      "train_loss : inf val_loss: inf\n",
      "train: 0.000000 val: 0.629102  best_val_acc: 0.629102\n",
      "====epoch 39\n"
     ]
    },
    {
     "name": "stderr",
     "output_type": "stream",
     "text": [
      "Iteration:  49%|████▊     | 18/37 [00:00<00:00, 32.93it/s]NaN or Inf found in input tensor.\n",
      "Iteration:  19%|█▉        | 7/37 [00:00<00:01, 15.61it/s]"
     ]
    },
    {
     "name": "stdout",
     "output_type": "stream",
     "text": [
      "train_loss : inf val_loss: inf\n",
      "train: 0.000000 val: 0.772263  best_val_acc: 0.772263\n",
      "====epoch 40\n"
     ]
    },
    {
     "name": "stderr",
     "output_type": "stream",
     "text": [
      "Iteration: 100%|██████████| 37/37 [00:01<00:00, 28.36it/s]\n"
     ]
    },
    {
     "name": "stdout",
     "output_type": "stream",
     "text": [
      "====Evaluation\n",
      "omit the training accuracy computation\n"
     ]
    },
    {
     "name": "stderr",
     "output_type": "stream",
     "text": [
      "Iteration: 100%|██████████| 37/37 [00:01<00:00, 28.96it/s]\n"
     ]
    },
    {
     "name": "stdout",
     "output_type": "stream",
     "text": [
      "====Evaluation\n",
      "omit the training accuracy computation\n"
     ]
    },
    {
     "name": "stderr",
     "output_type": "stream",
     "text": [
      "Iteration:  84%|████████▍ | 31/37 [00:00<00:00, 45.88it/s]NaN or Inf found in input tensor.\n",
      "Iteration:   0%|          | 0/37 [00:00<?, ?it/s]"
     ]
    },
    {
     "name": "stdout",
     "output_type": "stream",
     "text": [
      "train_loss : inf val_loss: inf\n",
      "train: 0.000000 val: 0.506482  best_val_acc: 0.506482\n",
      "====epoch 39\n",
      "====Evaluation\n",
      "omit the training accuracy computation\n"
     ]
    },
    {
     "name": "stderr",
     "output_type": "stream",
     "text": [
      "Iteration: 100%|██████████| 37/37 [00:01<00:00, 30.96it/s]\n",
      "NaN or Inf found in input tensor.\n",
      "Iteration:   0%|          | 0/37 [00:00<?, ?it/s]"
     ]
    },
    {
     "name": "stdout",
     "output_type": "stream",
     "text": [
      "train_loss : inf val_loss: inf\n",
      "train: 0.000000 val: 0.717559  best_val_acc: 0.717559\n",
      "====epoch 40\n"
     ]
    },
    {
     "name": "stderr",
     "output_type": "stream",
     "text": [
      "Iteration:  16%|█▌        | 6/37 [00:00<00:02, 12.53it/s]NaN or Inf found in input tensor.\n",
      "Iteration:  49%|████▊     | 18/37 [00:00<00:00, 29.79it/s]"
     ]
    },
    {
     "name": "stdout",
     "output_type": "stream",
     "text": [
      "train_loss : inf val_loss: inf\n",
      "train: 0.000000 val: 0.710720  best_val_acc: 0.710720\n",
      "====epoch 41\n"
     ]
    },
    {
     "name": "stderr",
     "output_type": "stream",
     "text": [
      "Iteration: 100%|██████████| 37/37 [00:01<00:00, 27.31it/s]\n"
     ]
    },
    {
     "name": "stdout",
     "output_type": "stream",
     "text": [
      "====Evaluation\n",
      "omit the training accuracy computation\n",
      "====Evaluation\n",
      "omit the training accuracy computation\n"
     ]
    },
    {
     "name": "stderr",
     "output_type": "stream",
     "text": [
      "Iteration: 100%|██████████| 37/37 [00:01<00:00, 28.81it/s]\n",
      "Iteration: 100%|██████████| 37/37 [00:01<00:00, 28.30it/s]\n",
      "NaN or Inf found in input tensor.\n",
      "Iteration:   0%|          | 0/37 [00:00<?, ?it/s]NaN or Inf found in input tensor.\n",
      "Iteration:   0%|          | 0/37 [00:00<?, ?it/s]"
     ]
    },
    {
     "name": "stdout",
     "output_type": "stream",
     "text": [
      "====Evaluation\n",
      "omit the training accuracy computation\n",
      "train_loss : inf val_loss: inf\n",
      "train: 0.000000 val: 0.730086  best_val_acc: 0.730086\n",
      "====epoch 40\n",
      "train_loss : inf val_loss: inf\n",
      "train: 0.000000 val: 0.594689  best_val_acc: 0.594689\n",
      "====epoch 41\n"
     ]
    },
    {
     "name": "stderr",
     "output_type": "stream",
     "text": [
      "Iteration:   3%|▎         | 1/37 [00:00<00:15,  2.33it/s]NaN or Inf found in input tensor.\n",
      "Iteration:   0%|          | 0/37 [00:00<?, ?it/s]"
     ]
    },
    {
     "name": "stdout",
     "output_type": "stream",
     "text": [
      "train_loss : inf val_loss: inf\n",
      "train: 0.000000 val: 0.594028  best_val_acc: 0.594028\n",
      "====epoch 42\n"
     ]
    },
    {
     "name": "stderr",
     "output_type": "stream",
     "text": [
      "Iteration: 100%|██████████| 37/37 [00:01<00:00, 28.73it/s]\n",
      "Iteration:  30%|██▉       | 11/37 [00:00<00:01, 20.76it/s]"
     ]
    },
    {
     "name": "stdout",
     "output_type": "stream",
     "text": [
      "====Evaluation\n",
      "omit the training accuracy computation\n",
      "====Evaluation\n",
      "omit the training accuracy computation\n"
     ]
    },
    {
     "name": "stderr",
     "output_type": "stream",
     "text": [
      "Iteration: 100%|██████████| 37/37 [00:01<00:00, 29.13it/s]\n",
      "Iteration: 100%|██████████| 37/37 [00:01<00:00, 28.91it/s]\n",
      "NaN or Inf found in input tensor.\n",
      "Iteration:   0%|          | 0/37 [00:00<?, ?it/s]"
     ]
    },
    {
     "name": "stdout",
     "output_type": "stream",
     "text": [
      "====Evaluation\n",
      "omit the training accuracy computation\n",
      "train_loss : inf val_loss: inf\n",
      "train: 0.000000 val: 0.760592  best_val_acc: 0.760592\n",
      "====epoch 41\n"
     ]
    },
    {
     "name": "stderr",
     "output_type": "stream",
     "text": [
      "Iteration:  19%|█▉        | 7/37 [00:00<00:01, 16.02it/s]NaN or Inf found in input tensor.\n",
      "Iteration:   0%|          | 0/37 [00:00<?, ?it/s]"
     ]
    },
    {
     "name": "stdout",
     "output_type": "stream",
     "text": [
      "train_loss : inf val_loss: inf\n",
      "train: 0.000000 val: 0.701303  best_val_acc: 0.701303\n",
      "====epoch 43\n"
     ]
    },
    {
     "name": "stderr",
     "output_type": "stream",
     "text": [
      "Iteration:  35%|███▌      | 13/37 [00:00<00:00, 26.28it/s]NaN or Inf found in input tensor.\n",
      "Iteration:  54%|█████▍    | 20/37 [00:00<00:00, 36.24it/s]"
     ]
    },
    {
     "name": "stdout",
     "output_type": "stream",
     "text": [
      "train_loss : inf val_loss: inf\n",
      "train: 0.000000 val: 0.760490  best_val_acc: 0.760490\n",
      "====epoch 42\n"
     ]
    },
    {
     "name": "stderr",
     "output_type": "stream",
     "text": [
      "Iteration: 100%|██████████| 37/37 [00:01<00:00, 29.83it/s]\n"
     ]
    },
    {
     "name": "stdout",
     "output_type": "stream",
     "text": [
      "====Evaluation\n",
      "omit the training accuracy computation\n"
     ]
    },
    {
     "name": "stderr",
     "output_type": "stream",
     "text": [
      "Iteration: 100%|██████████| 37/37 [00:01<00:00, 27.89it/s]\n",
      "Iteration:  89%|████████▉ | 33/37 [00:01<00:00, 41.52it/s]NaN or Inf found in input tensor.\n",
      "Iteration:   0%|          | 0/37 [00:00<?, ?it/s]"
     ]
    },
    {
     "name": "stdout",
     "output_type": "stream",
     "text": [
      "====Evaluation\n",
      "omit the training accuracy computation\n",
      "train_loss : inf val_loss: inf\n",
      "train: 0.000000 val: 0.695933  best_val_acc: 0.695933\n",
      "====epoch 42\n"
     ]
    },
    {
     "name": "stderr",
     "output_type": "stream",
     "text": [
      "Iteration: 100%|██████████| 37/37 [00:01<00:00, 27.16it/s]\n"
     ]
    },
    {
     "name": "stdout",
     "output_type": "stream",
     "text": [
      "====Evaluation\n",
      "omit the training accuracy computation\n"
     ]
    },
    {
     "name": "stderr",
     "output_type": "stream",
     "text": [
      "Iteration:   3%|▎         | 1/37 [00:00<00:17,  2.05it/s]NaN or Inf found in input tensor.\n",
      "Iteration:  19%|█▉        | 7/37 [00:00<00:02, 14.75it/s]"
     ]
    },
    {
     "name": "stdout",
     "output_type": "stream",
     "text": [
      "train_loss : inf val_loss: inf\n",
      "train: 0.000000 val: 0.797975  best_val_acc: 0.797975\n",
      "====epoch 44\n"
     ]
    },
    {
     "name": "stderr",
     "output_type": "stream",
     "text": [
      "Iteration:  38%|███▊      | 14/37 [00:00<00:00, 27.29it/s]NaN or Inf found in input tensor.\n",
      "Iteration:  54%|█████▍    | 20/37 [00:00<00:00, 34.56it/s]"
     ]
    },
    {
     "name": "stdout",
     "output_type": "stream",
     "text": [
      "train_loss : inf val_loss: inf\n",
      "train: 0.000000 val: 0.663990  best_val_acc: 0.663990\n",
      "====epoch 43\n"
     ]
    },
    {
     "name": "stderr",
     "output_type": "stream",
     "text": [
      "Iteration: 100%|██████████| 37/37 [00:01<00:00, 28.99it/s]\n",
      "Iteration:  30%|██▉       | 11/37 [00:00<00:01, 21.46it/s]"
     ]
    },
    {
     "name": "stdout",
     "output_type": "stream",
     "text": [
      "====Evaluation\n",
      "omit the training accuracy computation\n"
     ]
    },
    {
     "name": "stderr",
     "output_type": "stream",
     "text": [
      "Iteration:  73%|███████▎  | 27/37 [00:00<00:00, 40.98it/s]NaN or Inf found in input tensor.\n",
      "Iteration: 100%|██████████| 37/37 [00:01<00:00, 27.55it/s]\n"
     ]
    },
    {
     "name": "stdout",
     "output_type": "stream",
     "text": [
      "train_loss : inf val_loss: inf\n",
      "train: 0.000000 val: 0.734117  best_val_acc: 0.734117\n",
      "====epoch 43\n",
      "====Evaluation\n",
      "omit the training accuracy computation\n"
     ]
    },
    {
     "name": "stderr",
     "output_type": "stream",
     "text": [
      "Iteration: 100%|██████████| 37/37 [00:01<00:00, 28.74it/s]\n"
     ]
    },
    {
     "name": "stdout",
     "output_type": "stream",
     "text": [
      "====Evaluation\n",
      "omit the training accuracy computation\n"
     ]
    },
    {
     "name": "stderr",
     "output_type": "stream",
     "text": [
      "Iteration:  16%|█▌        | 6/37 [00:00<00:02, 13.53it/s]NaN or Inf found in input tensor.\n",
      "Iteration:  51%|█████▏    | 19/37 [00:00<00:00, 34.12it/s]"
     ]
    },
    {
     "name": "stdout",
     "output_type": "stream",
     "text": [
      "train_loss : inf val_loss: inf\n",
      "train: 0.000000 val: 0.741036  best_val_acc: 0.741036\n",
      "====epoch 45\n"
     ]
    },
    {
     "name": "stderr",
     "output_type": "stream",
     "text": [
      "Iteration: 100%|██████████| 37/37 [00:01<00:00, 30.40it/s]\n",
      "Iteration:  35%|███▌      | 13/37 [00:00<00:00, 27.39it/s]"
     ]
    },
    {
     "name": "stdout",
     "output_type": "stream",
     "text": [
      "====Evaluation\n",
      "omit the training accuracy computation\n"
     ]
    },
    {
     "name": "stderr",
     "output_type": "stream",
     "text": [
      "Iteration:  51%|█████▏    | 19/37 [00:00<00:00, 35.02it/s]NaN or Inf found in input tensor.\n",
      "Iteration:  68%|██████▊   | 25/37 [00:00<00:00, 40.47it/s]"
     ]
    },
    {
     "name": "stdout",
     "output_type": "stream",
     "text": [
      "train_loss : inf val_loss: inf\n",
      "train: 0.000000 val: 0.779108  best_val_acc: 0.779108\n",
      "====epoch 44\n"
     ]
    },
    {
     "name": "stderr",
     "output_type": "stream",
     "text": [
      "Iteration:  86%|████████▋ | 32/37 [00:00<00:00, 47.92it/s]NaN or Inf found in input tensor.\n",
      "Iteration: 100%|██████████| 37/37 [00:01<00:00, 29.63it/s]\n",
      "Iteration:   3%|▎         | 1/37 [00:00<00:15,  2.34it/s]"
     ]
    },
    {
     "name": "stdout",
     "output_type": "stream",
     "text": [
      "train_loss : inf val_loss: inf\n",
      "train: 0.000000 val: 0.745858  best_val_acc: 0.745858\n",
      "====epoch 44\n",
      "====Evaluation\n",
      "omit the training accuracy computation\n"
     ]
    },
    {
     "name": "stderr",
     "output_type": "stream",
     "text": [
      "Iteration:  32%|███▏      | 12/37 [00:00<00:01, 23.54it/s]NaN or Inf found in input tensor.\n",
      "Iteration:  49%|████▊     | 18/37 [00:00<00:00, 31.43it/s]"
     ]
    },
    {
     "name": "stdout",
     "output_type": "stream",
     "text": [
      "train_loss : inf val_loss: inf\n",
      "train: 0.000000 val: 0.695958  best_val_acc: 0.695958\n",
      "====epoch 46\n",
      "====Evaluation\n",
      "omit the training accuracy computation\n"
     ]
    },
    {
     "name": "stderr",
     "output_type": "stream",
     "text": [
      "Iteration: 100%|██████████| 37/37 [00:01<00:00, 31.47it/s]\n",
      "Iteration: 100%|██████████| 37/37 [00:01<00:00, 28.34it/s]\n"
     ]
    },
    {
     "name": "stdout",
     "output_type": "stream",
     "text": [
      "====Evaluation\n",
      "omit the training accuracy computation\n",
      "train_loss : inf val_loss: inf\n",
      "train: 0.000000 val: 0.580580  best_val_acc: 0.580580\n",
      "====epoch 45\n"
     ]
    },
    {
     "name": "stderr",
     "output_type": "stream",
     "text": [
      "Iteration:  38%|███▊      | 14/37 [00:00<00:00, 29.51it/s]NaN or Inf found in input tensor.\n",
      "Iteration: 100%|██████████| 37/37 [00:01<00:00, 30.23it/s]\n",
      "NaN or Inf found in input tensor.\n",
      "Iteration:  22%|██▏       | 8/37 [00:00<00:01, 17.92it/s]"
     ]
    },
    {
     "name": "stdout",
     "output_type": "stream",
     "text": [
      "====Evaluation\n",
      "omit the training accuracy computation\n",
      "train_loss : inf val_loss: inf\n",
      "train: 0.000000 val: 0.663793  best_val_acc: 0.663793\n",
      "====epoch 45\n"
     ]
    },
    {
     "name": "stderr",
     "output_type": "stream",
     "text": [
      "Iteration:  19%|█▉        | 7/37 [00:00<00:01, 15.79it/s]]NaN or Inf found in input tensor.\n",
      "Iteration: 100%|██████████| 37/37 [00:01<00:00, 29.66it/s]\n",
      "Iteration:  54%|█████▍    | 20/37 [00:00<00:00, 36.70it/s]"
     ]
    },
    {
     "name": "stdout",
     "output_type": "stream",
     "text": [
      "train_loss : inf val_loss: inf\n",
      "train: 0.000000 val: 0.529383  best_val_acc: 0.529383\n",
      "====epoch 47\n",
      "====Evaluation\n",
      "omit the training accuracy computation\n"
     ]
    },
    {
     "name": "stderr",
     "output_type": "stream",
     "text": [
      "Iteration: 100%|██████████| 37/37 [00:01<00:00, 30.05it/s]\n",
      "Iteration:  32%|███▏      | 12/37 [00:00<00:00, 25.45it/s]"
     ]
    },
    {
     "name": "stdout",
     "output_type": "stream",
     "text": [
      "====Evaluation\n",
      "omit the training accuracy computation\n",
      "train_loss : inf val_loss: inf\n",
      "train: 0.000000 val: 0.680548  best_val_acc: 0.680548\n",
      "====epoch 46\n"
     ]
    },
    {
     "name": "stderr",
     "output_type": "stream",
     "text": [
      "NaN or Inf found in input tensor.\n",
      "Iteration:  89%|████████▉ | 33/37 [00:01<00:00, 42.42it/s]NaN or Inf found in input tensor.\n",
      "Iteration: 100%|██████████| 37/37 [00:01<00:00, 28.73it/s]\n",
      "Iteration:  22%|██▏       | 8/37 [00:00<00:01, 16.94it/s]"
     ]
    },
    {
     "name": "stdout",
     "output_type": "stream",
     "text": [
      "train_loss : inf val_loss: inf\n",
      "train: 0.000000 val: 0.551834  best_val_acc: 0.551834\n",
      "====epoch 46\n",
      "====Evaluation\n",
      "omit the training accuracy computation\n"
     ]
    },
    {
     "name": "stderr",
     "output_type": "stream",
     "text": [
      "Iteration:  30%|██▉       | 11/37 [00:00<00:01, 23.13it/s]NaN or Inf found in input tensor.\n",
      "Iteration: 100%|██████████| 37/37 [00:01<00:00, 28.72it/s]\n",
      "Iteration:  62%|██████▏   | 23/37 [00:00<00:00, 39.10it/s]"
     ]
    },
    {
     "name": "stdout",
     "output_type": "stream",
     "text": [
      "train_loss : inf val_loss: inf\n",
      "train: 0.000000 val: 0.712565  best_val_acc: 0.712565\n",
      "====epoch 48\n",
      "====Evaluation\n",
      "omit the training accuracy computation\n"
     ]
    },
    {
     "name": "stderr",
     "output_type": "stream",
     "text": [
      "Iteration: 100%|██████████| 37/37 [00:01<00:00, 30.12it/s]\n",
      "Iteration:  16%|█▌        | 6/37 [00:00<00:02, 13.20it/s]"
     ]
    },
    {
     "name": "stdout",
     "output_type": "stream",
     "text": [
      "====Evaluation\n",
      "omit the training accuracy computation\n"
     ]
    },
    {
     "name": "stderr",
     "output_type": "stream",
     "text": [
      "Iteration:  35%|███▌      | 13/37 [00:00<00:00, 26.86it/s]NaN or Inf found in input tensor.\n",
      "Iteration:  51%|█████▏    | 19/37 [00:00<00:00, 34.21it/s]"
     ]
    },
    {
     "name": "stdout",
     "output_type": "stream",
     "text": [
      "train_loss : inf val_loss: inf\n",
      "train: 0.000000 val: 0.649382  best_val_acc: 0.649382\n",
      "====epoch 47\n"
     ]
    },
    {
     "name": "stderr",
     "output_type": "stream",
     "text": [
      "Iteration:  84%|████████▍ | 31/37 [00:01<00:00, 41.50it/s]NaN or Inf found in input tensor.\n",
      "Iteration: 100%|██████████| 37/37 [00:01<00:00, 29.28it/s]\n",
      "Iteration:  19%|█▉        | 7/37 [00:00<00:01, 16.24it/s]"
     ]
    },
    {
     "name": "stdout",
     "output_type": "stream",
     "text": [
      "train_loss : inf val_loss: inf\n",
      "train: 0.000000 val: 0.790423  best_val_acc: 0.790423\n",
      "====epoch 47\n",
      "====Evaluation\n",
      "omit the training accuracy computation\n"
     ]
    },
    {
     "name": "stderr",
     "output_type": "stream",
     "text": [
      "Iteration:  95%|█████████▍| 35/37 [00:01<00:00, 45.74it/s]NaN or Inf found in input tensor.\n",
      "Iteration: 100%|██████████| 37/37 [00:01<00:00, 29.54it/s]\n",
      "Iteration:  73%|███████▎  | 27/37 [00:00<00:00, 43.28it/s]"
     ]
    },
    {
     "name": "stdout",
     "output_type": "stream",
     "text": [
      "train_loss : inf val_loss: inf\n",
      "train: 0.000000 val: 0.785226  best_val_acc: 0.785226\n",
      "====epoch 49\n",
      "====Evaluation\n",
      "omit the training accuracy computation\n"
     ]
    },
    {
     "name": "stderr",
     "output_type": "stream",
     "text": [
      "Iteration: 100%|██████████| 37/37 [00:01<00:00, 30.41it/s]\n",
      "Iteration:   3%|▎         | 1/37 [00:00<00:16,  2.24it/s]"
     ]
    },
    {
     "name": "stdout",
     "output_type": "stream",
     "text": [
      "====Evaluation\n",
      "omit the training accuracy computation\n"
     ]
    },
    {
     "name": "stderr",
     "output_type": "stream",
     "text": [
      "Iteration:  32%|███▏      | 12/37 [00:00<00:01, 24.38it/s]NaN or Inf found in input tensor.\n",
      "Iteration:  65%|██████▍   | 24/37 [00:00<00:00, 37.44it/s]"
     ]
    },
    {
     "name": "stdout",
     "output_type": "stream",
     "text": [
      "train_loss : inf val_loss: inf\n",
      "train: 0.000000 val: 0.604328  best_val_acc: 0.604328\n",
      "====epoch 48\n"
     ]
    },
    {
     "name": "stderr",
     "output_type": "stream",
     "text": [
      "Iteration:  78%|███████▊  | 29/37 [00:01<00:00, 40.64it/s]NaN or Inf found in input tensor.\n",
      "Iteration:  97%|█████████▋| 36/37 [00:01<00:00, 47.24it/s]"
     ]
    },
    {
     "name": "stdout",
     "output_type": "stream",
     "text": [
      "train_loss : inf val_loss: inf\n",
      "train: 0.000000 val: 0.733456  best_val_acc: 0.733456\n",
      "====epoch 48\n"
     ]
    },
    {
     "name": "stderr",
     "output_type": "stream",
     "text": [
      "Iteration: 100%|██████████| 37/37 [00:01<00:00, 29.07it/s]\n",
      "Iteration:  19%|█▉        | 7/37 [00:00<00:01, 16.23it/s]"
     ]
    },
    {
     "name": "stdout",
     "output_type": "stream",
     "text": [
      "====Evaluation\n",
      "omit the training accuracy computation\n"
     ]
    },
    {
     "name": "stderr",
     "output_type": "stream",
     "text": [
      "Iteration:  65%|██████▍   | 24/37 [00:00<00:00, 38.25it/s]NaN or Inf found in input tensor.\n",
      "Iteration: 100%|██████████| 37/37 [00:01<00:00, 30.62it/s]\n",
      "Iteration:  84%|████████▍ | 31/37 [00:00<00:00, 46.37it/s]"
     ]
    },
    {
     "name": "stdout",
     "output_type": "stream",
     "text": [
      "train_loss : inf val_loss: inf\n",
      "train: 0.000000 val: 0.641665  best_val_acc: 0.641665\n",
      "====epoch 50\n",
      "====Evaluation\n",
      "omit the training accuracy computation\n"
     ]
    },
    {
     "name": "stderr",
     "output_type": "stream",
     "text": [
      "Iteration: 100%|██████████| 37/37 [00:01<00:00, 31.26it/s]\n",
      "Iteration:   3%|▎         | 1/37 [00:00<00:16,  2.20it/s]"
     ]
    },
    {
     "name": "stdout",
     "output_type": "stream",
     "text": [
      "====Evaluation\n",
      "omit the training accuracy computation\n"
     ]
    },
    {
     "name": "stderr",
     "output_type": "stream",
     "text": [
      "Iteration:  38%|███▊      | 14/37 [00:00<00:00, 28.17it/s]NaN or Inf found in input tensor.\n",
      "Iteration:   0%|          | 0/37 [00:00<?, ?it/s]"
     ]
    },
    {
     "name": "stdout",
     "output_type": "stream",
     "text": [
      "train_loss : inf val_loss: inf\n",
      "train: 0.000000 val: 0.641626  best_val_acc: 0.641626\n",
      "====epoch 49\n",
      "train_loss : inf val_loss: inf\n",
      "train: 0.000000 val: 0.780457  best_val_acc: 0.780457\n",
      "====epoch 49\n"
     ]
    },
    {
     "name": "stderr",
     "output_type": "stream",
     "text": [
      "Iteration:  51%|█████▏    | 19/37 [00:00<00:00, 33.46it/s]NaN or Inf found in input tensor.\n",
      "Iteration: 100%|██████████| 37/37 [00:01<00:00, 29.96it/s]\n",
      "Iteration:  19%|█▉        | 7/37 [00:00<00:01, 15.94it/s]]"
     ]
    },
    {
     "name": "stdout",
     "output_type": "stream",
     "text": [
      "====Evaluation\n",
      "omit the training accuracy computation\n"
     ]
    },
    {
     "name": "stderr",
     "output_type": "stream",
     "text": [
      "Iteration:  92%|█████████▏| 34/37 [00:01<00:00, 44.78it/s]NaN or Inf found in input tensor.\n",
      "Iteration:  81%|████████  | 30/37 [00:00<00:00, 45.34it/s]"
     ]
    },
    {
     "name": "stdout",
     "output_type": "stream",
     "text": [
      "train_loss : inf val_loss: inf\n",
      "train: 0.000000 val: 0.707245  best_val_acc: 0.707245\n",
      "====epoch 51\n",
      "====Evaluation\n",
      "omit the training accuracy computation\n"
     ]
    },
    {
     "name": "stderr",
     "output_type": "stream",
     "text": [
      "Iteration: 100%|██████████| 37/37 [00:01<00:00, 28.71it/s]\n",
      "Iteration: 100%|██████████| 37/37 [00:01<00:00, 29.18it/s]\n"
     ]
    },
    {
     "name": "stdout",
     "output_type": "stream",
     "text": [
      "====Evaluation\n",
      "omit the training accuracy computation\n"
     ]
    },
    {
     "name": "stderr",
     "output_type": "stream",
     "text": [
      "Iteration:  38%|███▊      | 14/37 [00:00<00:00, 26.11it/s]NaN or Inf found in input tensor.\n",
      "Iteration:  54%|█████▍    | 20/37 [00:00<00:00, 33.63it/s]"
     ]
    },
    {
     "name": "stdout",
     "output_type": "stream",
     "text": [
      "train_loss : inf val_loss: inf\n",
      "train: 0.000000 val: 0.660820  best_val_acc: 0.660820\n",
      "====epoch 50\n",
      "train_loss : inf val_loss: inf\n",
      "train: 0.000000 val: 0.494755  best_val_acc: 0.494755\n",
      "====epoch 50\n"
     ]
    },
    {
     "name": "stderr",
     "output_type": "stream",
     "text": [
      "Iteration:  70%|███████   | 26/37 [00:00<00:00, 39.41it/s]NaN or Inf found in input tensor.\n",
      "Iteration: 100%|██████████| 37/37 [00:01<00:00, 29.19it/s]\n"
     ]
    },
    {
     "name": "stdout",
     "output_type": "stream",
     "text": [
      "====Evaluation\n",
      "omit the training accuracy computation\n"
     ]
    },
    {
     "name": "stderr",
     "output_type": "stream",
     "text": [
      "Iteration: 100%|██████████| 37/37 [00:01<00:00, 29.12it/s]\n",
      "Iteration:  92%|█████████▏| 34/37 [00:01<00:00, 43.97it/s]"
     ]
    },
    {
     "name": "stdout",
     "output_type": "stream",
     "text": [
      "====Evaluation\n",
      "omit the training accuracy computation\n"
     ]
    },
    {
     "name": "stderr",
     "output_type": "stream",
     "text": [
      "Iteration: 100%|██████████| 37/37 [00:01<00:00, 28.21it/s]\n"
     ]
    },
    {
     "name": "stdout",
     "output_type": "stream",
     "text": [
      "====Evaluation\n",
      "omit the training accuracy computation\n"
     ]
    },
    {
     "name": "stderr",
     "output_type": "stream",
     "text": [
      "NaN or Inf found in input tensor.\n",
      "Iteration:   0%|          | 0/37 [00:00<?, ?it/s]NaN or Inf found in input tensor.\n",
      "Iteration:   0%|          | 0/37 [00:00<?, ?it/s]"
     ]
    },
    {
     "name": "stdout",
     "output_type": "stream",
     "text": [
      "train_loss : inf val_loss: inf\n",
      "train: 0.000000 val: 0.858337  best_val_acc: 0.858337\n",
      "====epoch 52\n",
      "train_loss : inf val_loss: inf\n",
      "train: 0.000000 val: 0.646834  best_val_acc: 0.646834\n",
      "====epoch 51\n"
     ]
    },
    {
     "name": "stderr",
     "output_type": "stream",
     "text": [
      "NaN or Inf found in input tensor.\n",
      "Iteration:   3%|▎         | 1/37 [00:00<00:16,  2.22it/s]"
     ]
    },
    {
     "name": "stdout",
     "output_type": "stream",
     "text": [
      "train_loss : inf val_loss: inf\n",
      "train: 0.000000 val: 0.627855  best_val_acc: 0.627855\n",
      "====epoch 51\n"
     ]
    },
    {
     "name": "stderr",
     "output_type": "stream",
     "text": [
      "Iteration: 100%|██████████| 37/37 [00:01<00:00, 30.27it/s]\n",
      "Iteration:  78%|███████▊  | 29/37 [00:01<00:00, 43.27it/s]"
     ]
    },
    {
     "name": "stdout",
     "output_type": "stream",
     "text": [
      "====Evaluation\n",
      "omit the training accuracy computation\n",
      "====Evaluation\n",
      "omit the training accuracy computation\n"
     ]
    },
    {
     "name": "stderr",
     "output_type": "stream",
     "text": [
      "Iteration: 100%|██████████| 37/37 [00:01<00:00, 27.59it/s]\n",
      "Iteration: 100%|██████████| 37/37 [00:01<00:00, 29.24it/s]\n"
     ]
    },
    {
     "name": "stdout",
     "output_type": "stream",
     "text": [
      "====Evaluation\n",
      "omit the training accuracy computation\n"
     ]
    },
    {
     "name": "stderr",
     "output_type": "stream",
     "text": [
      "NaN or Inf found in input tensor.\n",
      "Iteration:   0%|          | 0/37 [00:00<?, ?it/s]"
     ]
    },
    {
     "name": "stdout",
     "output_type": "stream",
     "text": [
      "train_loss : inf val_loss: inf\n",
      "train: 0.000000 val: 0.700916  best_val_acc: 0.700916\n",
      "====epoch 53\n"
     ]
    },
    {
     "name": "stderr",
     "output_type": "stream",
     "text": [
      "NaN or Inf found in input tensor.\n",
      "Iteration:  19%|█▉        | 7/37 [00:00<00:01, 16.08it/s]"
     ]
    },
    {
     "name": "stdout",
     "output_type": "stream",
     "text": [
      "train_loss : inf val_loss: inf\n",
      "train: 0.000000 val: 0.772104  best_val_acc: 0.772104\n",
      "====epoch 52\n"
     ]
    },
    {
     "name": "stderr",
     "output_type": "stream",
     "text": [
      "Iteration:  92%|█████████▏| 34/37 [00:00<00:00, 49.49it/s]NaN or Inf found in input tensor.\n",
      "Iteration:  35%|███▌      | 13/37 [00:00<00:00, 26.51it/s]"
     ]
    },
    {
     "name": "stdout",
     "output_type": "stream",
     "text": [
      "train_loss : inf val_loss: inf\n",
      "train: 0.000000 val: 0.804606  best_val_acc: 0.804606\n",
      "====epoch 52\n",
      "====Evaluation\n",
      "omit the training accuracy computation\n"
     ]
    },
    {
     "name": "stderr",
     "output_type": "stream",
     "text": [
      "Iteration: 100%|██████████| 37/37 [00:01<00:00, 31.24it/s]\n",
      "Iteration: 100%|██████████| 37/37 [00:01<00:00, 28.68it/s]\n",
      "Iteration:  51%|█████▏    | 19/37 [00:00<00:00, 37.64it/s]NaN or Inf found in input tensor.\n",
      "Iteration:   0%|          | 0/37 [00:00<?, ?it/s]"
     ]
    },
    {
     "name": "stdout",
     "output_type": "stream",
     "text": [
      "====Evaluation\n",
      "omit the training accuracy computation\n",
      "train_loss : inf val_loss: inf\n",
      "train: 0.000000 val: 0.777035  best_val_acc: 0.777035\n",
      "====epoch 54\n"
     ]
    },
    {
     "name": "stderr",
     "output_type": "stream",
     "text": [
      "Iteration: 100%|██████████| 37/37 [00:01<00:00, 31.88it/s]\n",
      "NaN or Inf found in input tensor.\n",
      "Iteration:   3%|▎         | 1/37 [00:00<00:17,  2.07it/s]"
     ]
    },
    {
     "name": "stdout",
     "output_type": "stream",
     "text": [
      "====Evaluation\n",
      "omit the training accuracy computation\n",
      "train_loss : inf val_loss: inf\n",
      "train: 0.000000 val: 0.722120  best_val_acc: 0.722120\n",
      "====epoch 53\n"
     ]
    },
    {
     "name": "stderr",
     "output_type": "stream",
     "text": [
      "Iteration:  16%|█▌        | 6/37 [00:00<00:02, 14.21it/s]]NaN or Inf found in input tensor.\n",
      "Iteration:  49%|████▊     | 18/37 [00:00<00:00, 33.89it/s]"
     ]
    },
    {
     "name": "stdout",
     "output_type": "stream",
     "text": [
      "train_loss : inf val_loss: inf\n",
      "train: 0.000000 val: 0.617003  best_val_acc: 0.617003\n",
      "====epoch 53\n"
     ]
    },
    {
     "name": "stderr",
     "output_type": "stream",
     "text": [
      "Iteration: 100%|██████████| 37/37 [00:01<00:00, 29.85it/s]\n",
      "Iteration:  78%|███████▊  | 29/37 [00:00<00:00, 42.19it/s]"
     ]
    },
    {
     "name": "stdout",
     "output_type": "stream",
     "text": [
      "====Evaluation\n",
      "omit the training accuracy computation\n"
     ]
    },
    {
     "name": "stderr",
     "output_type": "stream",
     "text": [
      "Iteration: 100%|██████████| 37/37 [00:01<00:00, 29.69it/s]\n",
      "Iteration:  46%|████▌     | 17/37 [00:00<00:00, 31.32it/s]"
     ]
    },
    {
     "name": "stdout",
     "output_type": "stream",
     "text": [
      "====Evaluation\n",
      "omit the training accuracy computation\n"
     ]
    },
    {
     "name": "stderr",
     "output_type": "stream",
     "text": [
      "Iteration: 100%|██████████| 37/37 [00:01<00:00, 30.36it/s]\n"
     ]
    },
    {
     "name": "stdout",
     "output_type": "stream",
     "text": [
      "====Evaluation\n",
      "omit the training accuracy computation\n",
      "train_loss : inf val_loss: inf\n",
      "train: 0.000000 val: 0.744919  best_val_acc: 0.744919\n",
      "====epoch 54\n"
     ]
    },
    {
     "name": "stderr",
     "output_type": "stream",
     "text": [
      "NaN or Inf found in input tensor.\n",
      "Iteration:   0%|          | 0/37 [00:00<?, ?it/s]NaN or Inf found in input tensor.\n",
      "Iteration:  19%|█▉        | 7/37 [00:00<00:01, 16.71it/s]NaN or Inf found in input tensor.\n",
      "Iteration:   0%|          | 0/37 [00:00<?, ?it/s]"
     ]
    },
    {
     "name": "stdout",
     "output_type": "stream",
     "text": [
      "train_loss : inf val_loss: inf\n",
      "train: 0.000000 val: 0.868376  best_val_acc: 0.868376\n",
      "====epoch 55\n",
      "train_loss : inf val_loss: inf\n",
      "train: 0.000000 val: 0.724141  best_val_acc: 0.724141\n",
      "====epoch 54\n"
     ]
    },
    {
     "name": "stderr",
     "output_type": "stream",
     "text": [
      "Iteration: 100%|██████████| 37/37 [00:01<00:00, 30.35it/s]\n",
      "Iteration:  30%|██▉       | 11/37 [00:00<00:01, 22.08it/s]"
     ]
    },
    {
     "name": "stdout",
     "output_type": "stream",
     "text": [
      "====Evaluation\n",
      "omit the training accuracy computation\n"
     ]
    },
    {
     "name": "stderr",
     "output_type": "stream",
     "text": [
      "Iteration: 100%|██████████| 37/37 [00:01<00:00, 28.04it/s]\n"
     ]
    },
    {
     "name": "stdout",
     "output_type": "stream",
     "text": [
      "====Evaluation\n",
      "omit the training accuracy computation\n",
      "====Evaluation\n",
      "omit the training accuracy computation\n"
     ]
    },
    {
     "name": "stderr",
     "output_type": "stream",
     "text": [
      "Iteration: 100%|██████████| 37/37 [00:01<00:00, 28.96it/s]\n",
      "NaN or Inf found in input tensor.\n",
      "Iteration:   0%|          | 0/37 [00:00<?, ?it/s]"
     ]
    },
    {
     "name": "stdout",
     "output_type": "stream",
     "text": [
      "train_loss : inf val_loss: inf\n",
      "train: 0.000000 val: 0.771816  best_val_acc: 0.771816\n",
      "====epoch 55\n"
     ]
    },
    {
     "name": "stderr",
     "output_type": "stream",
     "text": [
      "NaN or Inf found in input tensor.\n",
      "Iteration:   3%|▎         | 1/37 [00:00<00:16,  2.21it/s]NaN or Inf found in input tensor.\n",
      "Iteration:  22%|██▏       | 8/37 [00:00<00:01, 18.21it/s]"
     ]
    },
    {
     "name": "stdout",
     "output_type": "stream",
     "text": [
      "train_loss : inf val_loss: inf\n",
      "train: 0.000000 val: 0.789211  best_val_acc: 0.789211\n",
      "====epoch 56\n",
      "train_loss : inf val_loss: inf\n",
      "train: 0.000000 val: 0.687331  best_val_acc: 0.687331\n",
      "====epoch 55\n"
     ]
    },
    {
     "name": "stderr",
     "output_type": "stream",
     "text": [
      "Iteration: 100%|██████████| 37/37 [00:01<00:00, 30.53it/s]\n",
      "Iteration:  54%|█████▍    | 20/37 [00:00<00:00, 32.39it/s]"
     ]
    },
    {
     "name": "stdout",
     "output_type": "stream",
     "text": [
      "====Evaluation\n",
      "omit the training accuracy computation\n"
     ]
    },
    {
     "name": "stderr",
     "output_type": "stream",
     "text": [
      "Iteration: 100%|██████████| 37/37 [00:01<00:00, 27.52it/s]\n"
     ]
    },
    {
     "name": "stdout",
     "output_type": "stream",
     "text": [
      "====Evaluation\n",
      "omit the training accuracy computation\n",
      "train_loss : inf val_loss: inf\n",
      "train: 0.000000 val: 0.699454  best_val_acc: 0.699454\n",
      "====epoch 56\n",
      "====Evaluation\n",
      "omit the training accuracy computation\n"
     ]
    },
    {
     "name": "stderr",
     "output_type": "stream",
     "text": [
      "NaN or Inf found in input tensor.\n",
      "Iteration: 100%|██████████| 37/37 [00:01<00:00, 27.86it/s]\n",
      "Iteration:   3%|▎         | 1/37 [00:00<00:17,  2.06it/s]NaN or Inf found in input tensor.\n",
      "Iteration:  16%|█▌        | 6/37 [00:00<00:02, 12.76it/s]NaN or Inf found in input tensor.\n",
      "Iteration:   0%|          | 0/37 [00:00<?, ?it/s]"
     ]
    },
    {
     "name": "stdout",
     "output_type": "stream",
     "text": [
      "train_loss : inf val_loss: inf\n",
      "train: 0.000000 val: 0.856527  best_val_acc: 0.856527\n",
      "====epoch 57\n",
      "train_loss : inf val_loss: inf\n",
      "train: 0.000000 val: 0.671633  best_val_acc: 0.671633\n",
      "====epoch 56\n"
     ]
    },
    {
     "name": "stderr",
     "output_type": "stream",
     "text": [
      "Iteration: 100%|██████████| 37/37 [00:01<00:00, 28.74it/s]\n",
      "Iteration:  35%|███▌      | 13/37 [00:00<00:00, 24.40it/s]"
     ]
    },
    {
     "name": "stdout",
     "output_type": "stream",
     "text": [
      "====Evaluation\n",
      "omit the training accuracy computation\n"
     ]
    },
    {
     "name": "stderr",
     "output_type": "stream",
     "text": [
      "Iteration:  97%|█████████▋| 36/37 [00:01<00:00, 46.37it/s]NaN or Inf found in input tensor.\n",
      "Iteration: 100%|██████████| 37/37 [00:01<00:00, 26.54it/s]\n"
     ]
    },
    {
     "name": "stdout",
     "output_type": "stream",
     "text": [
      "train_loss : inf val_loss: inf\n",
      "train: 0.000000 val: 0.690226  best_val_acc: 0.690226\n",
      "====epoch 57\n",
      "====Evaluation\n",
      "omit the training accuracy computation\n",
      "====Evaluation\n",
      "omit the training accuracy computation\n"
     ]
    },
    {
     "name": "stderr",
     "output_type": "stream",
     "text": [
      "Iteration: 100%|██████████| 37/37 [00:01<00:00, 27.37it/s]\n",
      "Iteration:  16%|█▌        | 6/37 [00:00<00:02, 13.26it/s]NaN or Inf found in input tensor.\n",
      "Iteration:   0%|          | 0/37 [00:00<?, ?it/s]"
     ]
    },
    {
     "name": "stdout",
     "output_type": "stream",
     "text": [
      "train_loss : inf val_loss: inf\n",
      "train: 0.000000 val: 0.805330  best_val_acc: 0.805330\n",
      "====epoch 58\n",
      "train_loss : inf val_loss: inf\n",
      "train: 0.000000 val: 0.784952  best_val_acc: 0.784952\n",
      "====epoch 57\n"
     ]
    },
    {
     "name": "stderr",
     "output_type": "stream",
     "text": [
      "Iteration:  32%|███▏      | 12/37 [00:00<00:01, 24.27it/s]NaN or Inf found in input tensor.\n",
      "Iteration: 100%|██████████| 37/37 [00:01<00:00, 28.68it/s]\n",
      "Iteration:  32%|███▏      | 12/37 [00:00<00:01, 24.88it/s]"
     ]
    },
    {
     "name": "stdout",
     "output_type": "stream",
     "text": [
      "====Evaluation\n",
      "omit the training accuracy computation\n"
     ]
    },
    {
     "name": "stderr",
     "output_type": "stream",
     "text": [
      "Iteration:  84%|████████▍ | 31/37 [00:01<00:00, 43.01it/s]NaN or Inf found in input tensor.\n",
      "Iteration: 100%|██████████| 37/37 [00:01<00:00, 29.06it/s]\n"
     ]
    },
    {
     "name": "stdout",
     "output_type": "stream",
     "text": [
      "train_loss : inf val_loss: inf\n",
      "train: 0.000000 val: 0.629327  best_val_acc: 0.629327\n",
      "====epoch 58\n",
      "====Evaluation\n",
      "omit the training accuracy computation\n",
      "====Evaluation\n",
      "omit the training accuracy computation\n"
     ]
    },
    {
     "name": "stderr",
     "output_type": "stream",
     "text": [
      "Iteration: 100%|██████████| 37/37 [00:01<00:00, 28.63it/s]\n",
      "Iteration:  32%|███▏      | 12/37 [00:00<00:01, 24.60it/s]NaN or Inf found in input tensor.\n",
      "Iteration:  49%|████▊     | 18/37 [00:00<00:00, 32.17it/s]NaN or Inf found in input tensor.\n",
      "Iteration:   0%|          | 0/37 [00:00<?, ?it/s]"
     ]
    },
    {
     "name": "stdout",
     "output_type": "stream",
     "text": [
      "train_loss : inf val_loss: inf\n",
      "train: 0.000000 val: 0.844751  best_val_acc: 0.844751\n",
      "====epoch 59\n",
      "train_loss : inf val_loss: inf\n",
      "train: 0.000000 val: 0.711230  best_val_acc: 0.711230\n",
      "====epoch 58\n"
     ]
    },
    {
     "name": "stderr",
     "output_type": "stream",
     "text": [
      "Iteration: 100%|██████████| 37/37 [00:01<00:00, 29.84it/s]\n",
      "Iteration:  16%|█▌        | 6/37 [00:00<00:02, 13.06it/s]"
     ]
    },
    {
     "name": "stdout",
     "output_type": "stream",
     "text": [
      "====Evaluation\n",
      "omit the training accuracy computation\n"
     ]
    },
    {
     "name": "stderr",
     "output_type": "stream",
     "text": [
      "Iteration:  86%|████████▋ | 32/37 [00:01<00:00, 39.94it/s]NaN or Inf found in input tensor.\n",
      "Iteration: 100%|██████████| 37/37 [00:01<00:00, 41.54it/s]"
     ]
    },
    {
     "name": "stdout",
     "output_type": "stream",
     "text": [
      "train_loss : inf val_loss: inf\n",
      "train: 0.000000 val: 0.743570  best_val_acc: 0.743570\n",
      "====epoch 59\n",
      "====Evaluation\n",
      "omit the training accuracy computation\n",
      "====Evaluation\n",
      "omit the training accuracy computation\n"
     ]
    },
    {
     "name": "stderr",
     "output_type": "stream",
     "text": [
      "Iteration: 100%|██████████| 37/37 [00:01<00:00, 26.67it/s]\n",
      "Iteration: 100%|██████████| 37/37 [00:01<00:00, 27.80it/s]\n",
      "Iteration:  38%|███▊      | 14/37 [00:00<00:00, 27.75it/s]NaN or Inf found in input tensor.\n",
      "Iteration:  51%|█████▏    | 19/37 [00:00<00:00, 29.34it/s]"
     ]
    },
    {
     "name": "stdout",
     "output_type": "stream",
     "text": [
      "train_loss : inf val_loss: inf\n",
      "train: 0.000000 val: 0.755296  best_val_acc: 0.755296\n",
      "====epoch 60\n",
      "train_loss : inf val_loss: inf\n",
      "train: 0.000000 val: 0.801746  best_val_acc: 0.801746\n",
      "====epoch 59\n"
     ]
    },
    {
     "name": "stderr",
     "output_type": "stream",
     "text": [
      "NaN or Inf found in input tensor.\n",
      "Iteration: 100%|██████████| 37/37 [00:01<00:00, 28.28it/s]\n",
      "Iteration:  19%|█▉        | 7/37 [00:00<00:02, 14.76it/s]"
     ]
    },
    {
     "name": "stdout",
     "output_type": "stream",
     "text": [
      "====Evaluation\n",
      "omit the training accuracy computation\n"
     ]
    },
    {
     "name": "stderr",
     "output_type": "stream",
     "text": [
      "Iteration:  84%|████████▍ | 31/37 [00:01<00:00, 44.29it/s]NaN or Inf found in input tensor.\n",
      "Iteration:   0%|          | 0/37 [00:00<?, ?it/s]"
     ]
    },
    {
     "name": "stdout",
     "output_type": "stream",
     "text": [
      "train_loss : inf val_loss: inf\n",
      "train: 0.000000 val: 0.734518  best_val_acc: 0.734518\n",
      "====epoch 60\n"
     ]
    },
    {
     "name": "stderr",
     "output_type": "stream",
     "text": [
      "Iteration: 100%|██████████| 37/37 [00:01<00:00, 28.12it/s]\n"
     ]
    },
    {
     "name": "stdout",
     "output_type": "stream",
     "text": [
      "====Evaluation\n",
      "omit the training accuracy computation\n",
      "====Evaluation\n",
      "omit the training accuracy computation\n"
     ]
    },
    {
     "name": "stderr",
     "output_type": "stream",
     "text": [
      "Iteration: 100%|██████████| 37/37 [00:01<00:00, 29.13it/s]\n",
      "Iteration:  68%|██████▊   | 25/37 [00:00<00:00, 39.01it/s]NaN or Inf found in input tensor.\n",
      "Iteration:   0%|          | 0/37 [00:00<?, ?it/s]"
     ]
    },
    {
     "name": "stdout",
     "output_type": "stream",
     "text": [
      "train_loss : inf val_loss: inf\n",
      "train: 0.000000 val: 0.831341  best_val_acc: 0.831341\n",
      "====epoch 61\n",
      "train_loss : inf val_loss: inf\n",
      "train: 0.000000 val: 0.704887  best_val_acc: 0.704887\n",
      "====epoch 60\n"
     ]
    },
    {
     "name": "stderr",
     "output_type": "stream",
     "text": [
      "NaN or Inf found in input tensor.\n",
      "Iteration: 100%|██████████| 37/37 [00:01<00:00, 30.23it/s]\n",
      "Iteration:   3%|▎         | 1/37 [00:00<00:14,  2.48it/s]"
     ]
    },
    {
     "name": "stdout",
     "output_type": "stream",
     "text": [
      "====Evaluation\n",
      "omit the training accuracy computation\n"
     ]
    },
    {
     "name": "stderr",
     "output_type": "stream",
     "text": [
      "Iteration:  57%|█████▋    | 21/37 [00:00<00:00, 33.59it/s]NaN or Inf found in input tensor.\n",
      "Iteration:  86%|████████▋ | 32/37 [00:01<00:00, 42.08it/s]"
     ]
    },
    {
     "name": "stdout",
     "output_type": "stream",
     "text": [
      "train_loss : inf val_loss: inf\n",
      "train: 0.000000 val: 0.669349  best_val_acc: 0.669349\n",
      "====epoch 61\n"
     ]
    },
    {
     "name": "stderr",
     "output_type": "stream",
     "text": [
      "Iteration: 100%|██████████| 37/37 [00:01<00:00, 28.98it/s]\n",
      "Iteration: 100%|██████████| 37/37 [00:01<00:00, 28.71it/s]\n",
      "Iteration:  22%|██▏       | 8/37 [00:00<00:01, 19.04it/s]"
     ]
    },
    {
     "name": "stdout",
     "output_type": "stream",
     "text": [
      "====Evaluation\n",
      "omit the training accuracy computation\n",
      "====Evaluation\n",
      "omit the training accuracy computation\n"
     ]
    },
    {
     "name": "stderr",
     "output_type": "stream",
     "text": [
      "Iteration:  78%|███████▊  | 29/37 [00:00<00:00, 45.45it/s]NaN or Inf found in input tensor.\n",
      "Iteration:  95%|█████████▍| 35/37 [00:00<00:00, 49.37it/s]"
     ]
    },
    {
     "name": "stdout",
     "output_type": "stream",
     "text": [
      "train_loss : inf val_loss: inf\n",
      "train: 0.000000 val: 0.631239  best_val_acc: 0.631239\n",
      "====epoch 62\n",
      "train_loss : inf val_loss: inf\n",
      "train: 0.000000 val: 0.643127  best_val_acc: 0.643127\n",
      "====epoch 61\n",
      "====Evaluation\n",
      "omit the training accuracy computation\n"
     ]
    },
    {
     "name": "stderr",
     "output_type": "stream",
     "text": [
      "NaN or Inf found in input tensor.\n",
      "Iteration: 100%|██████████| 37/37 [00:01<00:00, 32.64it/s]\n",
      "Iteration:  32%|███▏      | 12/37 [00:00<00:01, 22.23it/s]NaN or Inf found in input tensor.\n",
      "Iteration:  51%|█████▏    | 19/37 [00:00<00:00, 34.23it/s]"
     ]
    },
    {
     "name": "stdout",
     "output_type": "stream",
     "text": [
      "train_loss : inf val_loss: inf\n",
      "train: 0.000000 val: 0.744969  best_val_acc: 0.744969\n",
      "====epoch 62\n"
     ]
    },
    {
     "name": "stderr",
     "output_type": "stream",
     "text": [
      "Iteration: 100%|██████████| 37/37 [00:01<00:00, 27.15it/s]\n",
      "Iteration: 100%|██████████| 37/37 [00:01<00:00, 28.86it/s]\n",
      "Iteration:  49%|████▊     | 18/37 [00:00<00:00, 34.31it/s]"
     ]
    },
    {
     "name": "stdout",
     "output_type": "stream",
     "text": [
      "====Evaluation\n",
      "omit the training accuracy computation\n",
      "====Evaluation\n",
      "omit the training accuracy computation\n"
     ]
    },
    {
     "name": "stderr",
     "output_type": "stream",
     "text": [
      "Iteration:  92%|█████████▏| 34/37 [00:01<00:00, 43.94it/s]NaN or Inf found in input tensor.\n",
      "Iteration:   0%|          | 0/37 [00:00<?, ?it/s]"
     ]
    },
    {
     "name": "stdout",
     "output_type": "stream",
     "text": [
      "train_loss : inf val_loss: inf\n",
      "train: 0.000000 val: 0.821214  best_val_acc: 0.821214\n",
      "====epoch 63\n",
      "====Evaluation\n",
      "omit the training accuracy computation\n",
      "train_loss : inf val_loss: inf\n",
      "train: 0.000000 val: 0.650419  best_val_acc: 0.650419\n",
      "====epoch 62\n"
     ]
    },
    {
     "name": "stderr",
     "output_type": "stream",
     "text": [
      "Iteration: 100%|██████████| 37/37 [00:01<00:00, 29.03it/s]\n",
      "NaN or Inf found in input tensor.\n",
      "Iteration: 100%|██████████| 37/37 [00:01<00:00, 28.55it/s]\n",
      "Iteration: 100%|██████████| 37/37 [00:01<00:00, 29.99it/s]\n"
     ]
    },
    {
     "name": "stdout",
     "output_type": "stream",
     "text": [
      "====Evaluation\n",
      "omit the training accuracy computation\n",
      "====Evaluation\n",
      "omit the training accuracy computation\n"
     ]
    },
    {
     "name": "stderr",
     "output_type": "stream",
     "text": [
      "NaN or Inf found in input tensor.\n",
      "Iteration:   0%|          | 0/37 [00:00<?, ?it/s]"
     ]
    },
    {
     "name": "stdout",
     "output_type": "stream",
     "text": [
      "train_loss : inf val_loss: inf\n",
      "train: 0.000000 val: 0.808479  best_val_acc: 0.808479\n",
      "====epoch 63\n"
     ]
    },
    {
     "name": "stderr",
     "output_type": "stream",
     "text": [
      "NaN or Inf found in input tensor.\n",
      "Iteration:   0%|          | 0/37 [00:00<?, ?it/s]NaN or Inf found in input tensor.\n",
      "Iteration:   3%|▎         | 1/37 [00:00<00:19,  1.86it/s]"
     ]
    },
    {
     "name": "stdout",
     "output_type": "stream",
     "text": [
      "train_loss : inf val_loss: inf\n",
      "train: 0.000000 val: 0.790683  best_val_acc: 0.790683\n",
      "====epoch 63\n",
      "train_loss : inf val_loss: inf\n",
      "train: 0.000000 val: 0.802733  best_val_acc: 0.802733\n",
      "====epoch 64\n"
     ]
    },
    {
     "name": "stderr",
     "output_type": "stream",
     "text": [
      "Iteration: 100%|██████████| 37/37 [00:01<00:00, 28.29it/s]\n",
      "Iteration:  76%|███████▌  | 28/37 [00:01<00:00, 37.06it/s]"
     ]
    },
    {
     "name": "stdout",
     "output_type": "stream",
     "text": [
      "====Evaluation\n",
      "omit the training accuracy computation\n"
     ]
    },
    {
     "name": "stderr",
     "output_type": "stream",
     "text": [
      "Iteration: 100%|██████████| 37/37 [00:01<00:00, 27.32it/s]\n"
     ]
    },
    {
     "name": "stdout",
     "output_type": "stream",
     "text": [
      "====Evaluation\n",
      "omit the training accuracy computation\n",
      "====Evaluation\n",
      "omit the training accuracy computation\n",
      "train_loss : inf val_loss: inf\n",
      "train: 0.000000 val: 0.773390  best_val_acc: 0.773390\n",
      "====epoch 64\n"
     ]
    },
    {
     "name": "stderr",
     "output_type": "stream",
     "text": [
      "Iteration: 100%|██████████| 37/37 [00:01<00:00, 26.00it/s]\n",
      "NaN or Inf found in input tensor.\n",
      "Iteration:   0%|          | 0/37 [00:00<?, ?it/s]NaN or Inf found in input tensor.\n",
      "Iteration:  19%|█▉        | 7/37 [00:00<00:01, 15.57it/s]NaN or Inf found in input tensor.\n",
      "Iteration:   0%|          | 0/37 [00:00<?, ?it/s]"
     ]
    },
    {
     "name": "stdout",
     "output_type": "stream",
     "text": [
      "train_loss : inf val_loss: inf\n",
      "train: 0.000000 val: 0.710383  best_val_acc: 0.710383\n",
      "====epoch 64\n",
      "train_loss : inf val_loss: inf\n",
      "train: 0.000000 val: 0.760803  best_val_acc: 0.760803\n",
      "====epoch 65\n"
     ]
    },
    {
     "name": "stderr",
     "output_type": "stream",
     "text": [
      "Iteration: 100%|██████████| 37/37 [00:01<00:00, 27.77it/s]\n",
      "Iteration:  78%|███████▊  | 29/37 [00:01<00:00, 40.76it/s]"
     ]
    },
    {
     "name": "stdout",
     "output_type": "stream",
     "text": [
      "====Evaluation\n",
      "omit the training accuracy computation\n"
     ]
    },
    {
     "name": "stderr",
     "output_type": "stream",
     "text": [
      "Iteration: 100%|██████████| 37/37 [00:01<00:00, 27.14it/s]\n",
      "Iteration: 100%|██████████| 37/37 [00:01<00:00, 28.87it/s]\n",
      "NaN or Inf found in input tensor.\n",
      "Iteration:   0%|          | 0/37 [00:00<?, ?it/s]"
     ]
    },
    {
     "name": "stdout",
     "output_type": "stream",
     "text": [
      "====Evaluation\n",
      "omit the training accuracy computation\n",
      "====Evaluation\n",
      "omit the training accuracy computation\n",
      "train_loss : inf val_loss: inf\n",
      "train: 0.000000 val: 0.675941  best_val_acc: 0.675941\n",
      "====epoch 65\n"
     ]
    },
    {
     "name": "stderr",
     "output_type": "stream",
     "text": [
      "Iteration:   3%|▎         | 1/37 [00:00<00:17,  2.02it/s]NaN or Inf found in input tensor.\n",
      "Iteration:   0%|          | 0/37 [00:00<?, ?it/s]NaN or Inf found in input tensor.\n",
      "Iteration:  22%|██▏       | 8/37 [00:00<00:01, 16.81it/s]"
     ]
    },
    {
     "name": "stdout",
     "output_type": "stream",
     "text": [
      "train_loss : inf val_loss: inf\n",
      "train: 0.000000 val: 0.609300  best_val_acc: 0.609300\n",
      "====epoch 65\n",
      "train_loss : inf val_loss: inf\n",
      "train: 0.000000 val: 0.844653  best_val_acc: 0.844653\n",
      "====epoch 66\n"
     ]
    },
    {
     "name": "stderr",
     "output_type": "stream",
     "text": [
      "Iteration: 100%|██████████| 37/37 [00:01<00:00, 30.51it/s]\n",
      "Iteration:  43%|████▎     | 16/37 [00:00<00:00, 28.75it/s]"
     ]
    },
    {
     "name": "stdout",
     "output_type": "stream",
     "text": [
      "====Evaluation\n",
      "omit the training accuracy computation\n"
     ]
    },
    {
     "name": "stderr",
     "output_type": "stream",
     "text": [
      "Iteration: 100%|██████████| 37/37 [00:01<00:00, 27.33it/s]\n",
      "Iteration: 100%|██████████| 37/37 [00:01<00:00, 26.68it/s]\n"
     ]
    },
    {
     "name": "stdout",
     "output_type": "stream",
     "text": [
      "====Evaluation\n",
      "omit the training accuracy computation\n",
      "====Evaluation\n",
      "omit the training accuracy computation\n"
     ]
    },
    {
     "name": "stderr",
     "output_type": "stream",
     "text": [
      "NaN or Inf found in input tensor.\n",
      "Iteration:   0%|          | 0/37 [00:00<?, ?it/s]NaN or Inf found in input tensor.\n",
      "Iteration:   0%|          | 0/37 [00:00<?, ?it/s]"
     ]
    },
    {
     "name": "stdout",
     "output_type": "stream",
     "text": [
      "train_loss : inf val_loss: inf\n",
      "train: 0.000000 val: 0.646985  best_val_acc: 0.646985\n",
      "====epoch 66\n",
      "train_loss : inf val_loss: inf\n",
      "train: 0.000000 val: 0.812088  best_val_acc: 0.812088\n",
      "====epoch 66\n"
     ]
    },
    {
     "name": "stderr",
     "output_type": "stream",
     "text": [
      "Iteration:  19%|█▉        | 7/37 [00:00<00:01, 15.66it/s]NaN or Inf found in input tensor.\n",
      "Iteration:  51%|█████▏    | 19/37 [00:00<00:00, 34.24it/s]"
     ]
    },
    {
     "name": "stdout",
     "output_type": "stream",
     "text": [
      "train_loss : inf val_loss: inf\n",
      "train: 0.000000 val: 0.884622  best_val_acc: 0.884622\n",
      "====epoch 67\n"
     ]
    },
    {
     "name": "stderr",
     "output_type": "stream",
     "text": [
      "Iteration: 100%|██████████| 37/37 [00:01<00:00, 30.38it/s]\n"
     ]
    },
    {
     "name": "stdout",
     "output_type": "stream",
     "text": [
      "====Evaluation\n",
      "omit the training accuracy computation\n",
      "====Evaluation\n",
      "omit the training accuracy computation\n"
     ]
    },
    {
     "name": "stderr",
     "output_type": "stream",
     "text": [
      "Iteration: 100%|██████████| 37/37 [00:01<00:00, 29.57it/s]\n",
      "Iteration:  89%|████████▉ | 33/37 [00:01<00:00, 47.85it/s]NaN or Inf found in input tensor.\n",
      "Iteration:   0%|          | 0/37 [00:00<?, ?it/s]"
     ]
    },
    {
     "name": "stdout",
     "output_type": "stream",
     "text": [
      "train_loss : inf val_loss: inf\n",
      "train: 0.000000 val: 0.628691  best_val_acc: 0.628691\n",
      "====epoch 67\n",
      "====Evaluation\n",
      "omit the training accuracy computation\n",
      "train_loss : inf val_loss: inf\n",
      "train: 0.000000 val: 0.772628  best_val_acc: 0.772628\n",
      "====epoch 67\n"
     ]
    },
    {
     "name": "stderr",
     "output_type": "stream",
     "text": [
      "Iteration: 100%|██████████| 37/37 [00:01<00:00, 28.89it/s]\n",
      "NaN or Inf found in input tensor.\n",
      "Iteration:  16%|█▌        | 6/37 [00:00<00:02, 13.36it/s]NaN or Inf found in input tensor.\n",
      "Iteration:   0%|          | 0/37 [00:00<?, ?it/s]"
     ]
    },
    {
     "name": "stdout",
     "output_type": "stream",
     "text": [
      "train_loss : inf val_loss: inf\n",
      "train: 0.000000 val: 0.795902  best_val_acc: 0.795902\n",
      "====epoch 68\n"
     ]
    },
    {
     "name": "stderr",
     "output_type": "stream",
     "text": [
      "Iteration: 100%|██████████| 37/37 [00:01<00:00, 28.73it/s]\n",
      "Iteration: 100%|██████████| 37/37 [00:01<00:00, 28.64it/s]\n"
     ]
    },
    {
     "name": "stdout",
     "output_type": "stream",
     "text": [
      "====Evaluation\n",
      "omit the training accuracy computation\n",
      "====Evaluation\n",
      "omit the training accuracy computation\n"
     ]
    },
    {
     "name": "stderr",
     "output_type": "stream",
     "text": [
      "Iteration:  89%|████████▉ | 33/37 [00:01<00:00, 42.92it/s]NaN or Inf found in input tensor.\n",
      "Iteration:   0%|          | 0/37 [00:00<?, ?it/s]"
     ]
    },
    {
     "name": "stdout",
     "output_type": "stream",
     "text": [
      "train_loss : inf val_loss: inf\n",
      "train: 0.000000 val: 0.654014  best_val_acc: 0.654014\n",
      "====epoch 68\n",
      "train_loss : inf val_loss: inf\n",
      "train: 0.000000 val: 0.666626  best_val_acc: 0.666626\n",
      "====epoch 68\n"
     ]
    },
    {
     "name": "stderr",
     "output_type": "stream",
     "text": [
      "NaN or Inf found in input tensor.\n",
      "Iteration: 100%|██████████| 37/37 [00:01<00:00, 27.99it/s]\n"
     ]
    },
    {
     "name": "stdout",
     "output_type": "stream",
     "text": [
      "====Evaluation\n",
      "omit the training accuracy computation\n"
     ]
    },
    {
     "name": "stderr",
     "output_type": "stream",
     "text": [
      "Iteration:  35%|███▌      | 13/37 [00:00<00:00, 25.19it/s]NaN or Inf found in input tensor.\n",
      "Iteration:   0%|          | 0/37 [00:00<?, ?it/s]"
     ]
    },
    {
     "name": "stdout",
     "output_type": "stream",
     "text": [
      "train_loss : inf val_loss: inf\n",
      "train: 0.000000 val: 0.722816  best_val_acc: 0.722816\n",
      "====epoch 69\n"
     ]
    },
    {
     "name": "stderr",
     "output_type": "stream",
     "text": [
      "Iteration: 100%|██████████| 37/37 [00:01<00:00, 28.36it/s]\n",
      "Iteration:  16%|█▌        | 6/37 [00:00<00:02, 14.67it/s]"
     ]
    },
    {
     "name": "stdout",
     "output_type": "stream",
     "text": [
      "====Evaluation\n",
      "omit the training accuracy computation\n",
      "====Evaluation\n",
      "omit the training accuracy computation\n"
     ]
    },
    {
     "name": "stderr",
     "output_type": "stream",
     "text": [
      "Iteration: 100%|██████████| 37/37 [00:01<00:00, 29.06it/s]\n",
      "Iteration:  84%|████████▍ | 31/37 [00:00<00:00, 44.76it/s]NaN or Inf found in input tensor.\n",
      "Iteration:   0%|          | 0/37 [00:00<?, ?it/s]"
     ]
    },
    {
     "name": "stdout",
     "output_type": "stream",
     "text": [
      "train_loss : inf val_loss: inf\n",
      "train: 0.000000 val: 0.641054  best_val_acc: 0.641054\n",
      "====epoch 69\n",
      "train_loss : inf val_loss: inf\n",
      "train: 0.000000 val: 0.680724  best_val_acc: 0.680724\n",
      "====epoch 69\n"
     ]
    },
    {
     "name": "stderr",
     "output_type": "stream",
     "text": [
      "Iteration: 100%|██████████| 37/37 [00:01<00:00, 45.10it/s]NaN or Inf found in input tensor.\n",
      "Iteration: 100%|██████████| 37/37 [00:01<00:00, 29.27it/s]\n"
     ]
    },
    {
     "name": "stdout",
     "output_type": "stream",
     "text": [
      "====Evaluation\n",
      "omit the training accuracy computation\n"
     ]
    },
    {
     "name": "stderr",
     "output_type": "stream",
     "text": [
      "Iteration:  35%|███▌      | 13/37 [00:00<00:00, 25.72it/s]NaN or Inf found in input tensor.\n",
      "Iteration:   0%|          | 0/37 [00:00<?, ?it/s]"
     ]
    },
    {
     "name": "stdout",
     "output_type": "stream",
     "text": [
      "train_loss : inf val_loss: inf\n",
      "train: 0.000000 val: 0.870235  best_val_acc: 0.870235\n",
      "====epoch 70\n"
     ]
    },
    {
     "name": "stderr",
     "output_type": "stream",
     "text": [
      "Iteration:   3%|▎         | 1/37 [00:00<00:15,  2.27it/s]]"
     ]
    },
    {
     "name": "stdout",
     "output_type": "stream",
     "text": [
      "====Evaluation\n",
      "omit the training accuracy computation\n",
      "====Evaluation\n",
      "omit the training accuracy computation\n"
     ]
    },
    {
     "name": "stderr",
     "output_type": "stream",
     "text": [
      "Iteration: 100%|██████████| 37/37 [00:01<00:00, 27.82it/s]\n",
      "Iteration: 100%|██████████| 37/37 [00:01<00:00, 28.29it/s]\n",
      "Iteration:  89%|████████▉ | 33/37 [00:01<00:00, 44.80it/s]NaN or Inf found in input tensor.\n",
      "Iteration:   0%|          | 0/37 [00:00<?, ?it/s]"
     ]
    },
    {
     "name": "stdout",
     "output_type": "stream",
     "text": [
      "train_loss : inf val_loss: inf\n",
      "train: 0.000000 val: 0.740175  best_val_acc: 0.740175\n",
      "====epoch 70\n",
      "train_loss : inf val_loss: inf\n",
      "train: 0.000000 val: 0.633186  best_val_acc: 0.633186\n",
      "====epoch 70\n",
      "====Evaluation\n",
      "omit the training accuracy computation\n"
     ]
    },
    {
     "name": "stderr",
     "output_type": "stream",
     "text": [
      "NaN or Inf found in input tensor.\n",
      "Iteration: 100%|██████████| 37/37 [00:01<00:00, 29.32it/s]\n",
      "Iteration:  46%|████▌     | 17/37 [00:00<00:00, 29.96it/s]NaN or Inf found in input tensor.\n",
      "Iteration:   0%|          | 0/37 [00:00<?, ?it/s]"
     ]
    },
    {
     "name": "stdout",
     "output_type": "stream",
     "text": [
      "train_loss : inf val_loss: inf\n",
      "train: 0.000000 val: 0.732943  best_val_acc: 0.732943\n",
      "====epoch 71\n"
     ]
    },
    {
     "name": "stderr",
     "output_type": "stream",
     "text": [
      "Iteration: 100%|██████████| 37/37 [00:01<00:00, 27.20it/s]\n"
     ]
    },
    {
     "name": "stdout",
     "output_type": "stream",
     "text": [
      "====Evaluation\n",
      "omit the training accuracy computation\n",
      "====Evaluation\n",
      "omit the training accuracy computation\n"
     ]
    },
    {
     "name": "stderr",
     "output_type": "stream",
     "text": [
      "Iteration: 100%|██████████| 37/37 [00:01<00:00, 27.68it/s]\n",
      "Iteration:  89%|████████▉ | 33/37 [00:01<00:00, 42.44it/s]NaN or Inf found in input tensor.\n",
      "Iteration:   0%|          | 0/37 [00:00<?, ?it/s]"
     ]
    },
    {
     "name": "stdout",
     "output_type": "stream",
     "text": [
      "train_loss : inf val_loss: inf\n",
      "train: 0.000000 val: 0.671247  best_val_acc: 0.671247\n",
      "====epoch 71\n",
      "train_loss : inf val_loss: inf\n",
      "train: 0.000000 val: 0.690701  best_val_acc: 0.690701\n",
      "====epoch 71\n",
      "====Evaluation\n",
      "omit the training accuracy computation\n"
     ]
    },
    {
     "name": "stderr",
     "output_type": "stream",
     "text": [
      "NaN or Inf found in input tensor.\n",
      "Iteration: 100%|██████████| 37/37 [00:01<00:00, 28.33it/s]\n",
      "Iteration:  43%|████▎     | 16/37 [00:00<00:00, 29.80it/s]NaN or Inf found in input tensor.\n",
      "Iteration:   0%|          | 0/37 [00:00<?, ?it/s]"
     ]
    },
    {
     "name": "stdout",
     "output_type": "stream",
     "text": [
      "train_loss : inf val_loss: inf\n",
      "train: 0.000000 val: 0.656899  best_val_acc: 0.656899\n",
      "====epoch 72\n"
     ]
    },
    {
     "name": "stderr",
     "output_type": "stream",
     "text": [
      "Iteration:  86%|████████▋ | 32/37 [00:01<00:00, 43.76it/s]"
     ]
    },
    {
     "name": "stdout",
     "output_type": "stream",
     "text": [
      "====Evaluation\n",
      "omit the training accuracy computation\n",
      "====Evaluation\n",
      "omit the training accuracy computation\n"
     ]
    },
    {
     "name": "stderr",
     "output_type": "stream",
     "text": [
      "Iteration: 100%|██████████| 37/37 [00:01<00:00, 29.10it/s]\n",
      "Iteration: 100%|██████████| 37/37 [00:01<00:00, 29.89it/s]\n",
      "Iteration:  97%|█████████▋| 36/37 [00:01<00:00, 45.87it/s]NaN or Inf found in input tensor.\n",
      "Iteration:   0%|          | 0/37 [00:00<?, ?it/s]"
     ]
    },
    {
     "name": "stdout",
     "output_type": "stream",
     "text": [
      "train_loss : inf val_loss: inf\n",
      "train: 0.000000 val: 0.723642  best_val_acc: 0.723642\n",
      "====epoch 72\n",
      "train_loss : inf val_loss: inf\n",
      "train: 0.000000 val: 0.689003  best_val_acc: 0.689003\n",
      "====epoch 72\n"
     ]
    },
    {
     "name": "stderr",
     "output_type": "stream",
     "text": [
      "NaN or Inf found in input tensor.\n",
      "Iteration: 100%|██████████| 37/37 [00:01<00:00, 28.19it/s]\n"
     ]
    },
    {
     "name": "stdout",
     "output_type": "stream",
     "text": [
      "====Evaluation\n",
      "omit the training accuracy computation\n"
     ]
    },
    {
     "name": "stderr",
     "output_type": "stream",
     "text": [
      "Iteration:  35%|███▌      | 13/37 [00:00<00:00, 25.70it/s]NaN or Inf found in input tensor.\n",
      "Iteration:   0%|          | 0/37 [00:00<?, ?it/s]"
     ]
    },
    {
     "name": "stdout",
     "output_type": "stream",
     "text": [
      "train_loss : inf val_loss: inf\n",
      "train: 0.000000 val: 0.804343  best_val_acc: 0.804343\n",
      "====epoch 73\n"
     ]
    },
    {
     "name": "stderr",
     "output_type": "stream",
     "text": [
      "Iteration: 100%|██████████| 37/37 [00:01<00:00, 27.43it/s]\n"
     ]
    },
    {
     "name": "stdout",
     "output_type": "stream",
     "text": [
      "====Evaluation\n",
      "omit the training accuracy computation\n",
      "====Evaluation\n",
      "omit the training accuracy computation\n"
     ]
    },
    {
     "name": "stderr",
     "output_type": "stream",
     "text": [
      "Iteration: 100%|██████████| 37/37 [00:01<00:00, 28.79it/s]\n",
      "Iteration:  86%|████████▋ | 32/37 [00:01<00:00, 44.95it/s]NaN or Inf found in input tensor.\n",
      "Iteration:   0%|          | 0/37 [00:00<?, ?it/s]NaN or Inf found in input tensor.\n",
      "Iteration:   0%|          | 0/37 [00:00<?, ?it/s]"
     ]
    },
    {
     "name": "stdout",
     "output_type": "stream",
     "text": [
      "train_loss : inf val_loss: inf\n",
      "train: 0.000000 val: 0.617390  best_val_acc: 0.617390\n",
      "====epoch 73\n",
      "train_loss : inf val_loss: inf\n",
      "train: 0.000000 val: 0.743022  best_val_acc: 0.743022\n",
      "====epoch 73\n",
      "====Evaluation\n",
      "omit the training accuracy computation\n"
     ]
    },
    {
     "name": "stderr",
     "output_type": "stream",
     "text": [
      "Iteration: 100%|██████████| 37/37 [00:01<00:00, 29.94it/s]\n",
      "Iteration:  32%|███▏      | 12/37 [00:00<00:01, 23.67it/s]NaN or Inf found in input tensor.\n",
      "Iteration:  49%|████▊     | 18/37 [00:00<00:00, 32.28it/s]"
     ]
    },
    {
     "name": "stdout",
     "output_type": "stream",
     "text": [
      "train_loss : inf val_loss: inf\n",
      "train: 0.000000 val: 0.716937  best_val_acc: 0.716937\n",
      "====epoch 74\n"
     ]
    },
    {
     "name": "stderr",
     "output_type": "stream",
     "text": [
      "Iteration: 100%|██████████| 37/37 [00:01<00:00, 27.95it/s]\n",
      "Iteration: 100%|██████████| 37/37 [00:01<00:00, 27.37it/s]\n",
      "Iteration:  54%|█████▍    | 20/37 [00:00<00:00, 39.22it/s]"
     ]
    },
    {
     "name": "stdout",
     "output_type": "stream",
     "text": [
      "====Evaluation\n",
      "omit the training accuracy computation\n",
      "====Evaluation\n",
      "omit the training accuracy computation\n"
     ]
    },
    {
     "name": "stderr",
     "output_type": "stream",
     "text": [
      "Iteration: 100%|██████████| 37/37 [00:01<00:00, 30.21it/s]\n",
      "NaN or Inf found in input tensor.\n",
      "Iteration:   0%|          | 0/37 [00:00<?, ?it/s]NaN or Inf found in input tensor.\n",
      "Iteration:   0%|          | 0/37 [00:00<?, ?it/s]"
     ]
    },
    {
     "name": "stdout",
     "output_type": "stream",
     "text": [
      "====Evaluation\n",
      "omit the training accuracy computation\n",
      "train_loss : inf val_loss: inf\n",
      "train: 0.000000 val: 0.765048  best_val_acc: 0.765048\n",
      "====epoch 74\n",
      "train_loss : inf val_loss: inf\n",
      "train: 0.000000 val: 0.669911  best_val_acc: 0.669911\n",
      "====epoch 74\n"
     ]
    },
    {
     "name": "stderr",
     "output_type": "stream",
     "text": [
      "Iteration:   3%|▎         | 1/37 [00:00<00:18,  1.93it/s]NaN or Inf found in input tensor.\n",
      "Iteration:  22%|██▏       | 8/37 [00:00<00:01, 16.09it/s]"
     ]
    },
    {
     "name": "stdout",
     "output_type": "stream",
     "text": [
      "train_loss : inf val_loss: inf\n",
      "train: 0.000000 val: 0.835773  best_val_acc: 0.835773\n",
      "====epoch 75\n"
     ]
    },
    {
     "name": "stderr",
     "output_type": "stream",
     "text": [
      "Iteration: 100%|██████████| 37/37 [00:01<00:00, 26.48it/s]\n",
      "Iteration: 100%|██████████| 37/37 [00:01<00:00, 27.02it/s]\n",
      "Iteration:  76%|███████▌  | 28/37 [00:00<00:00, 41.44it/s]"
     ]
    },
    {
     "name": "stdout",
     "output_type": "stream",
     "text": [
      "====Evaluation\n",
      "omit the training accuracy computation\n",
      "====Evaluation\n",
      "omit the training accuracy computation\n"
     ]
    },
    {
     "name": "stderr",
     "output_type": "stream",
     "text": [
      "Iteration: 100%|██████████| 37/37 [00:01<00:00, 28.65it/s]\n",
      "NaN or Inf found in input tensor.\n",
      "Iteration:   0%|          | 0/37 [00:00<?, ?it/s]NaN or Inf found in input tensor.\n",
      "Iteration:   0%|          | 0/37 [00:00<?, ?it/s]"
     ]
    },
    {
     "name": "stdout",
     "output_type": "stream",
     "text": [
      "====Evaluation\n",
      "omit the training accuracy computation\n",
      "train_loss : inf val_loss: inf\n",
      "train: 0.000000 val: 0.692612  best_val_acc: 0.692612\n",
      "====epoch 75\n",
      "train_loss : inf val_loss: inf\n",
      "train: 0.000000 val: 0.728487  best_val_acc: 0.728487\n",
      "====epoch 75\n"
     ]
    },
    {
     "name": "stderr",
     "output_type": "stream",
     "text": [
      "NaN or Inf found in input tensor.\n",
      "Iteration:  19%|█▉        | 7/37 [00:00<00:01, 15.58it/s]"
     ]
    },
    {
     "name": "stdout",
     "output_type": "stream",
     "text": [
      "train_loss : inf val_loss: inf\n",
      "train: 0.000000 val: 0.806929  best_val_acc: 0.806929\n",
      "====epoch 76\n"
     ]
    },
    {
     "name": "stderr",
     "output_type": "stream",
     "text": [
      "Iteration: 100%|██████████| 37/37 [00:01<00:00, 27.20it/s]\n",
      "Iteration: 100%|██████████| 37/37 [00:01<00:00, 26.30it/s]\n",
      "Iteration:  70%|███████   | 26/37 [00:00<00:00, 37.85it/s]"
     ]
    },
    {
     "name": "stdout",
     "output_type": "stream",
     "text": [
      "====Evaluation\n",
      "omit the training accuracy computation\n",
      "====Evaluation\n",
      "omit the training accuracy computation\n"
     ]
    },
    {
     "name": "stderr",
     "output_type": "stream",
     "text": [
      "Iteration: 100%|██████████| 37/37 [00:01<00:00, 27.44it/s]\n",
      "NaN or Inf found in input tensor.\n",
      "Iteration:   0%|          | 0/37 [00:00<?, ?it/s]"
     ]
    },
    {
     "name": "stdout",
     "output_type": "stream",
     "text": [
      "====Evaluation\n",
      "omit the training accuracy computation\n",
      "train_loss : inf val_loss: inf\n",
      "train: 0.000000 val: 0.624372  best_val_acc: 0.624372\n",
      "====epoch 76\n"
     ]
    },
    {
     "name": "stderr",
     "output_type": "stream",
     "text": [
      "NaN or Inf found in input tensor.\n",
      "Iteration:   0%|          | 0/37 [00:00<?, ?it/s]"
     ]
    },
    {
     "name": "stdout",
     "output_type": "stream",
     "text": [
      "train_loss : inf val_loss: inf\n",
      "train: 0.000000 val: 0.778985  best_val_acc: 0.778985\n",
      "====epoch 76\n"
     ]
    },
    {
     "name": "stderr",
     "output_type": "stream",
     "text": [
      "NaN or Inf found in input tensor.\n",
      "Iteration:  22%|██▏       | 8/37 [00:00<00:01, 17.51it/s]"
     ]
    },
    {
     "name": "stdout",
     "output_type": "stream",
     "text": [
      "train_loss : inf val_loss: inf\n",
      "train: 0.000000 val: 0.700765  best_val_acc: 0.700765\n",
      "====epoch 77\n"
     ]
    },
    {
     "name": "stderr",
     "output_type": "stream",
     "text": [
      "Iteration: 100%|██████████| 37/37 [00:01<00:00, 27.09it/s]\n"
     ]
    },
    {
     "name": "stdout",
     "output_type": "stream",
     "text": [
      "====Evaluation\n",
      "omit the training accuracy computation\n",
      "====Evaluation\n",
      "omit the training accuracy computation\n"
     ]
    },
    {
     "name": "stderr",
     "output_type": "stream",
     "text": [
      "Iteration: 100%|██████████| 37/37 [00:01<00:00, 28.03it/s]\n",
      "Iteration: 100%|██████████| 37/37 [00:01<00:00, 28.68it/s]\n"
     ]
    },
    {
     "name": "stdout",
     "output_type": "stream",
     "text": [
      "====Evaluation\n",
      "omit the training accuracy computation\n"
     ]
    },
    {
     "name": "stderr",
     "output_type": "stream",
     "text": [
      "NaN or Inf found in input tensor.\n",
      "Iteration:   0%|          | 0/37 [00:00<?, ?it/s]NaN or Inf found in input tensor.\n",
      "Iteration:   0%|          | 0/37 [00:00<?, ?it/s]"
     ]
    },
    {
     "name": "stdout",
     "output_type": "stream",
     "text": [
      "train_loss : inf val_loss: inf\n",
      "train: 0.000000 val: 0.621111  best_val_acc: 0.621111\n",
      "====epoch 77\n",
      "train_loss : inf val_loss: inf\n",
      "train: 0.000000 val: 0.713465  best_val_acc: 0.713465\n",
      "====epoch 77\n"
     ]
    },
    {
     "name": "stderr",
     "output_type": "stream",
     "text": [
      "NaN or Inf found in input tensor.\n",
      "Iteration:   3%|▎         | 1/37 [00:00<00:18,  1.96it/s]"
     ]
    },
    {
     "name": "stdout",
     "output_type": "stream",
     "text": [
      "train_loss : inf val_loss: inf\n",
      "train: 0.000000 val: 0.713901  best_val_acc: 0.713901\n",
      "====epoch 78\n"
     ]
    },
    {
     "name": "stderr",
     "output_type": "stream",
     "text": [
      "Iteration: 100%|██████████| 37/37 [00:01<00:00, 27.21it/s]\n",
      "Iteration: 100%|██████████| 37/37 [00:01<00:00, 26.91it/s]\n"
     ]
    },
    {
     "name": "stdout",
     "output_type": "stream",
     "text": [
      "====Evaluation\n",
      "omit the training accuracy computation\n",
      "====Evaluation\n",
      "omit the training accuracy computation\n"
     ]
    },
    {
     "name": "stderr",
     "output_type": "stream",
     "text": [
      "Iteration: 100%|██████████| 37/37 [00:01<00:00, 27.28it/s]\n"
     ]
    },
    {
     "name": "stdout",
     "output_type": "stream",
     "text": [
      "====Evaluation\n",
      "omit the training accuracy computation\n"
     ]
    },
    {
     "name": "stderr",
     "output_type": "stream",
     "text": [
      "NaN or Inf found in input tensor.\n",
      "Iteration:   0%|          | 0/37 [00:00<?, ?it/s]NaN or Inf found in input tensor.\n",
      "Iteration:   0%|          | 0/37 [00:00<?, ?it/s]"
     ]
    },
    {
     "name": "stdout",
     "output_type": "stream",
     "text": [
      "train_loss : inf val_loss: inf\n",
      "train: 0.000000 val: 0.697655  best_val_acc: 0.697655\n",
      "====epoch 78\n",
      "train_loss : inf val_loss: inf\n",
      "train: 0.000000 val: 0.729261  best_val_acc: 0.729261\n",
      "====epoch 78\n"
     ]
    },
    {
     "name": "stderr",
     "output_type": "stream",
     "text": [
      "NaN or Inf found in input tensor.\n",
      "Iteration:  16%|█▌        | 6/37 [00:00<00:02, 13.77it/s]"
     ]
    },
    {
     "name": "stdout",
     "output_type": "stream",
     "text": [
      "train_loss : inf val_loss: inf\n",
      "train: 0.000000 val: 0.706834  best_val_acc: 0.706834\n",
      "====epoch 79\n"
     ]
    },
    {
     "name": "stderr",
     "output_type": "stream",
     "text": [
      "Iteration: 100%|██████████| 37/37 [00:01<00:00, 28.17it/s]\n",
      "Iteration: 100%|██████████| 37/37 [00:01<00:00, 28.01it/s]\n"
     ]
    },
    {
     "name": "stdout",
     "output_type": "stream",
     "text": [
      "====Evaluation\n",
      "omit the training accuracy computation\n",
      "====Evaluation\n",
      "omit the training accuracy computation\n"
     ]
    },
    {
     "name": "stderr",
     "output_type": "stream",
     "text": [
      "Iteration: 100%|██████████| 37/37 [00:01<00:00, 28.96it/s]\n"
     ]
    },
    {
     "name": "stdout",
     "output_type": "stream",
     "text": [
      "====Evaluation\n",
      "omit the training accuracy computation\n"
     ]
    },
    {
     "name": "stderr",
     "output_type": "stream",
     "text": [
      "NaN or Inf found in input tensor.\n",
      "Iteration:   0%|          | 0/37 [00:00<?, ?it/s]NaN or Inf found in input tensor.\n",
      "Iteration:   0%|          | 0/37 [00:00<?, ?it/s]"
     ]
    },
    {
     "name": "stdout",
     "output_type": "stream",
     "text": [
      "train_loss : inf val_loss: inf\n",
      "train: 0.000000 val: 0.612484  best_val_acc: 0.612484\n",
      "====epoch 79\n",
      "train_loss : inf val_loss: inf\n",
      "train: 0.000000 val: 0.761165  best_val_acc: 0.761165\n",
      "====epoch 79\n"
     ]
    },
    {
     "name": "stderr",
     "output_type": "stream",
     "text": [
      "Iteration:   3%|▎         | 1/37 [00:00<00:15,  2.29it/s]NaN or Inf found in input tensor.\n",
      "Iteration:   3%|▎         | 1/37 [00:00<00:16,  2.17it/s]"
     ]
    },
    {
     "name": "stdout",
     "output_type": "stream",
     "text": [
      "train_loss : inf val_loss: inf\n",
      "train: 0.000000 val: 0.852356  best_val_acc: 0.852356\n",
      "====epoch 80\n"
     ]
    },
    {
     "name": "stderr",
     "output_type": "stream",
     "text": [
      "Iteration: 100%|██████████| 37/37 [00:01<00:00, 28.74it/s]\n"
     ]
    },
    {
     "name": "stdout",
     "output_type": "stream",
     "text": [
      "====Evaluation\n",
      "omit the training accuracy computation\n",
      "====Evaluation\n",
      "omit the training accuracy computation\n"
     ]
    },
    {
     "name": "stderr",
     "output_type": "stream",
     "text": [
      "Iteration: 100%|██████████| 37/37 [00:01<00:00, 28.22it/s]\n",
      "Iteration: 100%|██████████| 37/37 [00:01<00:00, 29.02it/s]\n"
     ]
    },
    {
     "name": "stdout",
     "output_type": "stream",
     "text": [
      "====Evaluation\n",
      "omit the training accuracy computation\n",
      "train_loss : inf val_loss: inf\n",
      "train: 0.000000 val: 0.711817  best_val_acc: 0.711817\n",
      "====epoch 80\n"
     ]
    },
    {
     "name": "stderr",
     "output_type": "stream",
     "text": [
      "NaN or Inf found in input tensor.\n",
      "Iteration:   3%|▎         | 1/37 [00:00<00:16,  2.22it/s]NaN or Inf found in input tensor.\n",
      "Iteration:  19%|█▉        | 7/37 [00:00<00:01, 15.93it/s]"
     ]
    },
    {
     "name": "stdout",
     "output_type": "stream",
     "text": [
      "train_loss : inf val_loss: inf\n",
      "train: 0.000000 val: 0.754147  best_val_acc: 0.754147\n",
      "====epoch 81\n"
     ]
    },
    {
     "name": "stderr",
     "output_type": "stream",
     "text": [
      "Iteration:  35%|███▌      | 13/37 [00:00<00:00, 27.57it/s]NaN or Inf found in input tensor.\n",
      "Iteration: 100%|██████████| 37/37 [00:01<00:00, 30.05it/s]\n"
     ]
    },
    {
     "name": "stdout",
     "output_type": "stream",
     "text": [
      "train_loss : inf val_loss: inf\n",
      "train: 0.000000 val: 0.825497  best_val_acc: 0.825497\n",
      "====epoch 80\n",
      "====Evaluation\n",
      "omit the training accuracy computation\n"
     ]
    },
    {
     "name": "stderr",
     "output_type": "stream",
     "text": [
      "Iteration: 100%|██████████| 37/37 [00:01<00:00, 30.87it/s]\n",
      "Iteration:  19%|█▉        | 7/37 [00:00<00:02, 14.72it/s]"
     ]
    },
    {
     "name": "stdout",
     "output_type": "stream",
     "text": [
      "====Evaluation\n",
      "omit the training accuracy computation\n",
      "train_loss : inf val_loss: inf\n",
      "train: 0.000000 val: 0.677952  best_val_acc: 0.677952\n",
      "====epoch 81\n"
     ]
    },
    {
     "name": "stderr",
     "output_type": "stream",
     "text": [
      "Iteration:  35%|███▌      | 13/37 [00:00<00:00, 25.02it/s]NaN or Inf found in input tensor.\n",
      "Iteration:   3%|▎         | 1/37 [00:00<00:17,  2.11it/s]NaN or Inf found in input tensor.\n",
      "Iteration: 100%|██████████| 37/37 [00:01<00:00, 29.10it/s]\n",
      "Iteration:  24%|██▍       | 9/37 [00:00<00:01, 19.98it/s]"
     ]
    },
    {
     "name": "stdout",
     "output_type": "stream",
     "text": [
      "train_loss : inf val_loss: inf\n",
      "train: 0.000000 val: 0.739350  best_val_acc: 0.739350\n",
      "====epoch 82\n",
      "====Evaluation\n",
      "omit the training accuracy computation\n"
     ]
    },
    {
     "name": "stderr",
     "output_type": "stream",
     "text": [
      "Iteration:  16%|█▌        | 6/37 [00:00<00:02, 13.73it/s]NaN or Inf found in input tensor.\n",
      "Iteration:   0%|          | 0/37 [00:00<?, ?it/s]"
     ]
    },
    {
     "name": "stdout",
     "output_type": "stream",
     "text": [
      "train_loss : inf val_loss: inf\n",
      "train: 0.000000 val: 0.641591  best_val_acc: 0.641591\n",
      "====epoch 81\n",
      "====Evaluation\n",
      "omit the training accuracy computation\n"
     ]
    },
    {
     "name": "stderr",
     "output_type": "stream",
     "text": [
      "Iteration: 100%|██████████| 37/37 [00:01<00:00, 30.40it/s]\n",
      "Iteration: 100%|██████████| 37/37 [00:01<00:00, 29.37it/s]\n",
      "Iteration:  38%|███▊      | 14/37 [00:00<00:00, 27.32it/s]NaN or Inf found in input tensor.\n",
      "Iteration:   0%|          | 0/37 [00:00<?, ?it/s]"
     ]
    },
    {
     "name": "stdout",
     "output_type": "stream",
     "text": [
      "====Evaluation\n",
      "omit the training accuracy computation\n",
      "train_loss : inf val_loss: inf\n",
      "train: 0.000000 val: 0.643626  best_val_acc: 0.643626\n",
      "====epoch 82\n"
     ]
    },
    {
     "name": "stderr",
     "output_type": "stream",
     "text": [
      "Iteration: 100%|██████████| 37/37 [00:01<00:00, 30.26it/s]\n"
     ]
    },
    {
     "name": "stdout",
     "output_type": "stream",
     "text": [
      "====Evaluation\n",
      "omit the training accuracy computation\n",
      "train_loss : inf val_loss: inf\n",
      "train: 0.000000 val: 0.796626  best_val_acc: 0.796626\n",
      "====epoch 83\n"
     ]
    },
    {
     "name": "stderr",
     "output_type": "stream",
     "text": [
      "Iteration:   3%|▎         | 1/37 [00:00<00:16,  2.14it/s]NaN or Inf found in input tensor.\n",
      "Iteration:  78%|███████▊  | 29/37 [00:01<00:00, 39.29it/s]NaN or Inf found in input tensor.\n",
      "Iteration:   0%|          | 0/37 [00:00<?, ?it/s]"
     ]
    },
    {
     "name": "stdout",
     "output_type": "stream",
     "text": [
      "train_loss : inf val_loss: inf\n",
      "train: 0.000000 val: 0.803696  best_val_acc: 0.803696\n",
      "====epoch 82\n"
     ]
    },
    {
     "name": "stderr",
     "output_type": "stream",
     "text": [
      "Iteration: 100%|██████████| 37/37 [00:01<00:00, 29.31it/s]\n"
     ]
    },
    {
     "name": "stdout",
     "output_type": "stream",
     "text": [
      "====Evaluation\n",
      "omit the training accuracy computation\n"
     ]
    },
    {
     "name": "stderr",
     "output_type": "stream",
     "text": [
      "Iteration: 100%|██████████| 37/37 [00:01<00:00, 28.54it/s]\n",
      "NaN or Inf found in input tensor.\n",
      "Iteration:  65%|██████▍   | 24/37 [00:00<00:00, 41.20it/s]"
     ]
    },
    {
     "name": "stdout",
     "output_type": "stream",
     "text": [
      "====Evaluation\n",
      "omit the training accuracy computation\n",
      "train_loss : inf val_loss: inf\n",
      "train: 0.000000 val: 0.693322  best_val_acc: 0.693322\n",
      "====epoch 83\n"
     ]
    },
    {
     "name": "stderr",
     "output_type": "stream",
     "text": [
      "Iteration: 100%|██████████| 37/37 [00:01<00:00, 29.95it/s]\n",
      "Iteration:   3%|▎         | 1/37 [00:00<00:17,  2.04it/s]NaN or Inf found in input tensor.\n",
      "Iteration:  22%|██▏       | 8/37 [00:00<00:01, 17.01it/s]"
     ]
    },
    {
     "name": "stdout",
     "output_type": "stream",
     "text": [
      "====Evaluation\n",
      "omit the training accuracy computation\n",
      "train_loss : inf val_loss: inf\n",
      "train: 0.000000 val: 0.875081  best_val_acc: 0.875081\n",
      "====epoch 84\n"
     ]
    },
    {
     "name": "stderr",
     "output_type": "stream",
     "text": [
      "Iteration:  92%|█████████▏| 34/37 [00:01<00:00, 43.49it/s]NaN or Inf found in input tensor.\n",
      "Iteration:  19%|█▉        | 7/37 [00:00<00:01, 15.99it/s]"
     ]
    },
    {
     "name": "stdout",
     "output_type": "stream",
     "text": [
      "train_loss : inf val_loss: inf\n",
      "train: 0.000000 val: 0.797852  best_val_acc: 0.797852\n",
      "====epoch 83\n",
      "====Evaluation\n",
      "omit the training accuracy computation\n"
     ]
    },
    {
     "name": "stderr",
     "output_type": "stream",
     "text": [
      "Iteration: 100%|██████████| 37/37 [00:01<00:00, 29.47it/s]\n",
      "Iteration: 100%|██████████| 37/37 [00:01<00:00, 28.48it/s]\n"
     ]
    },
    {
     "name": "stdout",
     "output_type": "stream",
     "text": [
      "====Evaluation\n",
      "omit the training accuracy computation\n",
      "train_loss : inf val_loss: inf\n",
      "train: 0.000000 val: 0.623459  best_val_acc: 0.623459\n",
      "====epoch 84\n"
     ]
    },
    {
     "name": "stderr",
     "output_type": "stream",
     "text": [
      "Iteration:  51%|█████▏    | 19/37 [00:00<00:00, 33.14it/s]NaN or Inf found in input tensor.\n",
      "Iteration: 100%|██████████| 37/37 [00:01<00:00, 30.12it/s]\n"
     ]
    },
    {
     "name": "stdout",
     "output_type": "stream",
     "text": [
      "====Evaluation\n",
      "omit the training accuracy computation\n",
      "train_loss : inf val_loss: inf\n",
      "train: 0.000000 val: 0.841817  best_val_acc: 0.841817\n",
      "====epoch 85\n"
     ]
    },
    {
     "name": "stderr",
     "output_type": "stream",
     "text": [
      "Iteration:   3%|▎         | 1/37 [00:00<00:16,  2.15it/s]NaN or Inf found in input tensor.\n",
      "Iteration:  73%|███████▎  | 27/37 [00:00<00:00, 41.10it/s]NaN or Inf found in input tensor.\n",
      "Iteration:   3%|▎         | 1/37 [00:00<00:17,  2.04it/s]]"
     ]
    },
    {
     "name": "stdout",
     "output_type": "stream",
     "text": [
      "train_loss : inf val_loss: inf\n",
      "train: 0.000000 val: 0.705035  best_val_acc: 0.705035\n",
      "====epoch 84\n"
     ]
    },
    {
     "name": "stderr",
     "output_type": "stream",
     "text": [
      "Iteration: 100%|██████████| 37/37 [00:01<00:00, 30.06it/s]\n",
      "Iteration:  41%|████      | 15/37 [00:00<00:00, 29.40it/s]"
     ]
    },
    {
     "name": "stdout",
     "output_type": "stream",
     "text": [
      "====Evaluation\n",
      "omit the training accuracy computation\n"
     ]
    },
    {
     "name": "stderr",
     "output_type": "stream",
     "text": [
      "Iteration: 100%|██████████| 37/37 [00:01<00:00, 27.94it/s]\n",
      "NaN or Inf found in input tensor.\n",
      "Iteration:  78%|███████▊  | 29/37 [00:00<00:00, 40.17it/s]"
     ]
    },
    {
     "name": "stdout",
     "output_type": "stream",
     "text": [
      "====Evaluation\n",
      "omit the training accuracy computation\n",
      "train_loss : inf val_loss: inf\n",
      "train: 0.000000 val: 0.692398  best_val_acc: 0.692398\n",
      "====epoch 85\n"
     ]
    },
    {
     "name": "stderr",
     "output_type": "stream",
     "text": [
      "Iteration: 100%|██████████| 37/37 [00:01<00:00, 29.04it/s]\n"
     ]
    },
    {
     "name": "stdout",
     "output_type": "stream",
     "text": [
      "====Evaluation\n",
      "omit the training accuracy computation\n"
     ]
    },
    {
     "name": "stderr",
     "output_type": "stream",
     "text": [
      "Iteration:  22%|██▏       | 8/37 [00:00<00:01, 17.03it/s]NaN or Inf found in input tensor.\n",
      "Iteration:   0%|          | 0/37 [00:00<?, ?it/s]"
     ]
    },
    {
     "name": "stdout",
     "output_type": "stream",
     "text": [
      "train_loss : inf val_loss: inf\n",
      "train: 0.000000 val: 0.766535  best_val_acc: 0.766535\n",
      "====epoch 86\n"
     ]
    },
    {
     "name": "stderr",
     "output_type": "stream",
     "text": [
      "Iteration:  68%|██████▊   | 25/37 [00:00<00:00, 37.30it/s]NaN or Inf found in input tensor.\n",
      "Iteration:   3%|▎         | 1/37 [00:00<00:16,  2.25it/s]]"
     ]
    },
    {
     "name": "stdout",
     "output_type": "stream",
     "text": [
      "train_loss : inf val_loss: inf\n",
      "train: 0.000000 val: 0.701577  best_val_acc: 0.701577\n",
      "====epoch 85\n"
     ]
    },
    {
     "name": "stderr",
     "output_type": "stream",
     "text": [
      "Iteration: 100%|██████████| 37/37 [00:01<00:00, 29.47it/s]\n",
      "Iteration:  30%|██▉       | 11/37 [00:00<00:01, 22.09it/s]"
     ]
    },
    {
     "name": "stdout",
     "output_type": "stream",
     "text": [
      "====Evaluation\n",
      "omit the training accuracy computation\n"
     ]
    },
    {
     "name": "stderr",
     "output_type": "stream",
     "text": [
      "Iteration:  51%|█████▏    | 19/37 [00:00<00:00, 36.25it/s]NaN or Inf found in input tensor.\n",
      "Iteration: 100%|██████████| 37/37 [00:01<00:00, 28.69it/s]\n",
      "Iteration:  84%|████████▍ | 31/37 [00:00<00:00, 43.20it/s]"
     ]
    },
    {
     "name": "stdout",
     "output_type": "stream",
     "text": [
      "train_loss : inf val_loss: inf\n",
      "train: 0.000000 val: 0.698105  best_val_acc: 0.698105\n",
      "====epoch 86\n",
      "====Evaluation\n",
      "omit the training accuracy computation\n"
     ]
    },
    {
     "name": "stderr",
     "output_type": "stream",
     "text": [
      "Iteration: 100%|██████████| 37/37 [00:01<00:00, 30.50it/s]\n",
      "Iteration:  14%|█▎        | 5/37 [00:00<00:02, 11.52it/s]"
     ]
    },
    {
     "name": "stdout",
     "output_type": "stream",
     "text": [
      "====Evaluation\n",
      "omit the training accuracy computation\n"
     ]
    },
    {
     "name": "stderr",
     "output_type": "stream",
     "text": [
      "Iteration:  30%|██▉       | 11/37 [00:00<00:01, 23.13it/s]NaN or Inf found in input tensor.\n",
      "Iteration:  46%|████▌     | 17/37 [00:00<00:00, 31.54it/s]"
     ]
    },
    {
     "name": "stdout",
     "output_type": "stream",
     "text": [
      "train_loss : inf val_loss: inf\n",
      "train: 0.000000 val: 0.756681  best_val_acc: 0.756681\n",
      "====epoch 87\n"
     ]
    },
    {
     "name": "stderr",
     "output_type": "stream",
     "text": [
      "Iteration:  78%|███████▊  | 29/37 [00:00<00:00, 43.19it/s]NaN or Inf found in input tensor.\n",
      "Iteration:   0%|          | 0/37 [00:00<?, ?it/s]"
     ]
    },
    {
     "name": "stdout",
     "output_type": "stream",
     "text": [
      "train_loss : inf val_loss: inf\n",
      "train: 0.000000 val: 0.755159  best_val_acc: 0.755159\n",
      "====epoch 86\n"
     ]
    },
    {
     "name": "stderr",
     "output_type": "stream",
     "text": [
      "Iteration: 100%|██████████| 37/37 [00:01<00:00, 29.65it/s]\n"
     ]
    },
    {
     "name": "stdout",
     "output_type": "stream",
     "text": [
      "====Evaluation\n",
      "omit the training accuracy computation\n"
     ]
    },
    {
     "name": "stderr",
     "output_type": "stream",
     "text": [
      "Iteration: 100%|██████████| 37/37 [00:01<00:00, 44.25it/s]NaN or Inf found in input tensor.\n",
      "Iteration:  59%|█████▉    | 22/37 [00:00<00:00, 33.74it/s]"
     ]
    },
    {
     "name": "stdout",
     "output_type": "stream",
     "text": [
      "train_loss : inf val_loss: inf\n",
      "train: 0.000000 val: 0.619150  best_val_acc: 0.619150\n",
      "====epoch 87\n",
      "====Evaluation\n",
      "omit the training accuracy computation\n"
     ]
    },
    {
     "name": "stderr",
     "output_type": "stream",
     "text": [
      "Iteration: 100%|██████████| 37/37 [00:01<00:00, 29.38it/s]\n",
      "Iteration: 100%|██████████| 37/37 [00:01<00:00, 28.40it/s]\n",
      "Iteration:  24%|██▍       | 9/37 [00:00<00:01, 20.10it/s]"
     ]
    },
    {
     "name": "stdout",
     "output_type": "stream",
     "text": [
      "====Evaluation\n",
      "omit the training accuracy computation\n"
     ]
    },
    {
     "name": "stderr",
     "output_type": "stream",
     "text": [
      "Iteration:  43%|████▎     | 16/37 [00:00<00:00, 30.43it/s]NaN or Inf found in input tensor.\n",
      "Iteration:  57%|█████▋    | 21/37 [00:00<00:00, 35.21it/s]"
     ]
    },
    {
     "name": "stdout",
     "output_type": "stream",
     "text": [
      "train_loss : inf val_loss: inf\n",
      "train: 0.000000 val: 0.721119  best_val_acc: 0.721119\n",
      "====epoch 88\n"
     ]
    },
    {
     "name": "stderr",
     "output_type": "stream",
     "text": [
      "Iteration:  73%|███████▎  | 27/37 [00:00<00:00, 40.76it/s]NaN or Inf found in input tensor.\n",
      "Iteration:  89%|████████▉ | 33/37 [00:01<00:00, 43.56it/s]"
     ]
    },
    {
     "name": "stdout",
     "output_type": "stream",
     "text": [
      "train_loss : inf val_loss: inf\n",
      "train: 0.000000 val: 0.701253  best_val_acc: 0.701253\n",
      "====epoch 87\n"
     ]
    },
    {
     "name": "stderr",
     "output_type": "stream",
     "text": [
      "Iteration: 100%|██████████| 37/37 [00:01<00:00, 29.01it/s]\n",
      "Iteration:  22%|██▏       | 8/37 [00:00<00:01, 17.49it/s]"
     ]
    },
    {
     "name": "stdout",
     "output_type": "stream",
     "text": [
      "====Evaluation\n",
      "omit the training accuracy computation\n"
     ]
    },
    {
     "name": "stderr",
     "output_type": "stream",
     "text": [
      "Iteration:  97%|█████████▋| 36/37 [00:01<00:00, 45.03it/s]NaN or Inf found in input tensor.\n",
      "Iteration: 100%|██████████| 37/37 [00:01<00:00, 29.37it/s]\n"
     ]
    },
    {
     "name": "stdout",
     "output_type": "stream",
     "text": [
      "train_loss : inf val_loss: inf\n",
      "train: 0.000000 val: 0.667314  best_val_acc: 0.667314\n",
      "====epoch 88\n",
      "====Evaluation\n",
      "omit the training accuracy computation\n"
     ]
    },
    {
     "name": "stderr",
     "output_type": "stream",
     "text": [
      "Iteration: 100%|██████████| 37/37 [00:01<00:00, 29.19it/s]\n"
     ]
    },
    {
     "name": "stdout",
     "output_type": "stream",
     "text": [
      "====Evaluation\n",
      "omit the training accuracy computation\n"
     ]
    },
    {
     "name": "stderr",
     "output_type": "stream",
     "text": [
      "Iteration:  35%|███▌      | 13/37 [00:00<00:00, 25.62it/s]NaN or Inf found in input tensor.\n",
      "Iteration:  51%|█████▏    | 19/37 [00:00<00:00, 34.15it/s]"
     ]
    },
    {
     "name": "stdout",
     "output_type": "stream",
     "text": [
      "train_loss : inf val_loss: inf\n",
      "train: 0.000000 val: 0.753522  best_val_acc: 0.753522\n",
      "====epoch 89\n"
     ]
    },
    {
     "name": "stderr",
     "output_type": "stream",
     "text": [
      "Iteration:  86%|████████▋ | 32/37 [00:01<00:00, 45.53it/s]NaN or Inf found in input tensor.\n",
      "Iteration:   0%|          | 0/37 [00:00<?, ?it/s]"
     ]
    },
    {
     "name": "stdout",
     "output_type": "stream",
     "text": [
      "train_loss : inf val_loss: inf\n",
      "train: 0.000000 val: 0.759042  best_val_acc: 0.759042\n",
      "====epoch 88\n"
     ]
    },
    {
     "name": "stderr",
     "output_type": "stream",
     "text": [
      "Iteration: 100%|██████████| 37/37 [00:01<00:00, 29.55it/s]\n",
      "Iteration:   3%|▎         | 1/37 [00:00<00:14,  2.52it/s]"
     ]
    },
    {
     "name": "stdout",
     "output_type": "stream",
     "text": [
      "====Evaluation\n",
      "omit the training accuracy computation\n"
     ]
    },
    {
     "name": "stderr",
     "output_type": "stream",
     "text": [
      "Iteration:  78%|███████▊  | 29/37 [00:01<00:00, 38.64it/s]NaN or Inf found in input tensor.\n",
      "Iteration:  73%|███████▎  | 27/37 [00:00<00:00, 38.97it/s]"
     ]
    },
    {
     "name": "stdout",
     "output_type": "stream",
     "text": [
      "train_loss : inf val_loss: inf\n",
      "train: 0.000000 val: 0.736777  best_val_acc: 0.736777\n",
      "====epoch 89\n"
     ]
    },
    {
     "name": "stderr",
     "output_type": "stream",
     "text": [
      "Iteration: 100%|██████████| 37/37 [00:01<00:00, 27.11it/s]\n"
     ]
    },
    {
     "name": "stdout",
     "output_type": "stream",
     "text": [
      "====Evaluation\n",
      "omit the training accuracy computation\n",
      "====Evaluation\n",
      "omit the training accuracy computation\n"
     ]
    },
    {
     "name": "stderr",
     "output_type": "stream",
     "text": [
      "Iteration: 100%|██████████| 37/37 [00:01<00:00, 28.99it/s]\n",
      "Iteration:  54%|█████▍    | 20/37 [00:00<00:00, 35.80it/s]NaN or Inf found in input tensor.\n",
      "Iteration:   0%|          | 0/37 [00:00<?, ?it/s]"
     ]
    },
    {
     "name": "stdout",
     "output_type": "stream",
     "text": [
      "train_loss : inf val_loss: inf\n",
      "train: 0.000000 val: 0.735516  best_val_acc: 0.735516\n",
      "====epoch 90\n",
      "train_loss : inf val_loss: inf\n",
      "train: 0.000000 val: 0.809290  best_val_acc: 0.809290\n",
      "====epoch 89\n"
     ]
    },
    {
     "name": "stderr",
     "output_type": "stream",
     "text": [
      "Iteration:  84%|████████▍ | 31/37 [00:01<00:00, 41.39it/s]NaN or Inf found in input tensor.\n",
      "Iteration: 100%|██████████| 37/37 [00:01<00:00, 28.58it/s]\n"
     ]
    },
    {
     "name": "stdout",
     "output_type": "stream",
     "text": [
      "====Evaluation\n",
      "omit the training accuracy computation\n"
     ]
    },
    {
     "name": "stderr",
     "output_type": "stream",
     "text": [
      "Iteration:  54%|█████▍    | 20/37 [00:00<00:00, 35.73it/s]NaN or Inf found in input tensor.\n",
      "Iteration:  70%|███████   | 26/37 [00:00<00:00, 40.05it/s]"
     ]
    },
    {
     "name": "stdout",
     "output_type": "stream",
     "text": [
      "train_loss : inf val_loss: inf\n",
      "train: 0.000000 val: 0.673844  best_val_acc: 0.673844\n",
      "====epoch 90\n"
     ]
    },
    {
     "name": "stderr",
     "output_type": "stream",
     "text": [
      "Iteration: 100%|██████████| 37/37 [00:01<00:00, 28.55it/s]\n"
     ]
    },
    {
     "name": "stdout",
     "output_type": "stream",
     "text": [
      "====Evaluation\n",
      "omit the training accuracy computation\n",
      "====Evaluation\n",
      "omit the training accuracy computation\n"
     ]
    },
    {
     "name": "stderr",
     "output_type": "stream",
     "text": [
      "Iteration: 100%|██████████| 37/37 [00:01<00:00, 28.97it/s]\n",
      "Iteration:  65%|██████▍   | 24/37 [00:00<00:00, 40.45it/s]NaN or Inf found in input tensor.\n",
      "Iteration:  84%|████████▍ | 31/37 [00:00<00:00, 47.53it/s]NaN or Inf found in input tensor.\n",
      "Iteration:   0%|          | 0/37 [00:00<?, ?it/s]"
     ]
    },
    {
     "name": "stdout",
     "output_type": "stream",
     "text": [
      "train_loss : inf val_loss: inf\n",
      "train: 0.000000 val: 0.722879  best_val_acc: 0.722879\n",
      "====epoch 91\n",
      "train_loss : inf val_loss: inf\n",
      "train: 0.000000 val: 0.727700  best_val_acc: 0.727700\n",
      "====epoch 90\n"
     ]
    },
    {
     "name": "stderr",
     "output_type": "stream",
     "text": [
      "Iteration: 100%|██████████| 37/37 [00:01<00:00, 30.26it/s]\n",
      "Iteration:  16%|█▌        | 6/37 [00:00<00:02, 14.55it/s]"
     ]
    },
    {
     "name": "stdout",
     "output_type": "stream",
     "text": [
      "====Evaluation\n",
      "omit the training accuracy computation\n"
     ]
    },
    {
     "name": "stderr",
     "output_type": "stream",
     "text": [
      "Iteration:  43%|████▎     | 16/37 [00:00<00:00, 26.96it/s]NaN or Inf found in input tensor.\n",
      "Iteration:   0%|          | 0/37 [00:00<?, ?it/s]"
     ]
    },
    {
     "name": "stdout",
     "output_type": "stream",
     "text": [
      "train_loss : inf val_loss: inf\n",
      "train: 0.000000 val: 0.688877  best_val_acc: 0.688877\n",
      "====epoch 91\n"
     ]
    },
    {
     "name": "stderr",
     "output_type": "stream",
     "text": [
      "Iteration: 100%|██████████| 37/37 [00:01<00:00, 28.17it/s]\n",
      "Iteration: 100%|██████████| 37/37 [00:01<00:00, 27.62it/s]\n"
     ]
    },
    {
     "name": "stdout",
     "output_type": "stream",
     "text": [
      "====Evaluation\n",
      "omit the training accuracy computation\n",
      "====Evaluation\n",
      "omit the training accuracy computation\n"
     ]
    },
    {
     "name": "stderr",
     "output_type": "stream",
     "text": [
      "Iteration:  68%|██████▊   | 25/37 [00:00<00:00, 36.47it/s]NaN or Inf found in input tensor.\n",
      "Iteration:   0%|          | 0/37 [00:00<?, ?it/s]"
     ]
    },
    {
     "name": "stdout",
     "output_type": "stream",
     "text": [
      "train_loss : inf val_loss: inf\n",
      "train: 0.000000 val: 0.726724  best_val_acc: 0.726724\n",
      "====epoch 92\n"
     ]
    },
    {
     "name": "stderr",
     "output_type": "stream",
     "text": [
      "Iteration:  81%|████████  | 30/37 [00:01<00:00, 39.16it/s]NaN or Inf found in input tensor.\n",
      "Iteration:   0%|          | 0/37 [00:00<?, ?it/s]3.00it/s]"
     ]
    },
    {
     "name": "stdout",
     "output_type": "stream",
     "text": [
      "train_loss : inf val_loss: inf\n",
      "train: 0.000000 val: 0.734043  best_val_acc: 0.734043\n",
      "====epoch 91\n",
      "====Evaluation\n",
      "omit the training accuracy computation\n"
     ]
    },
    {
     "name": "stderr",
     "output_type": "stream",
     "text": [
      "Iteration: 100%|██████████| 37/37 [00:01<00:00, 27.81it/s]\n",
      "Iteration:  73%|███████▎  | 27/37 [00:00<00:00, 39.22it/s]NaN or Inf found in input tensor.\n",
      "Iteration:   0%|          | 0/37 [00:00<?, ?it/s]"
     ]
    },
    {
     "name": "stdout",
     "output_type": "stream",
     "text": [
      "train_loss : inf val_loss: inf\n",
      "train: 0.000000 val: 0.603681  best_val_acc: 0.603681\n",
      "====epoch 92\n"
     ]
    },
    {
     "name": "stderr",
     "output_type": "stream",
     "text": [
      "Iteration: 100%|██████████| 37/37 [00:01<00:00, 28.04it/s]\n",
      "Iteration:  89%|████████▉ | 33/37 [00:01<00:00, 42.03it/s]"
     ]
    },
    {
     "name": "stdout",
     "output_type": "stream",
     "text": [
      "====Evaluation\n",
      "omit the training accuracy computation\n"
     ]
    },
    {
     "name": "stderr",
     "output_type": "stream",
     "text": [
      "Iteration: 100%|██████████| 37/37 [00:01<00:00, 27.46it/s]\n",
      "Iteration:  19%|█▉        | 7/37 [00:00<00:01, 15.22it/s]"
     ]
    },
    {
     "name": "stdout",
     "output_type": "stream",
     "text": [
      "====Evaluation\n",
      "omit the training accuracy computation\n"
     ]
    },
    {
     "name": "stderr",
     "output_type": "stream",
     "text": [
      "Iteration:  70%|███████   | 26/37 [00:00<00:00, 40.12it/s]NaN or Inf found in input tensor.\n",
      "Iteration:  86%|████████▋ | 32/37 [00:01<00:00, 44.81it/s]"
     ]
    },
    {
     "name": "stdout",
     "output_type": "stream",
     "text": [
      "train_loss : inf val_loss: inf\n",
      "train: 0.000000 val: 0.875282  best_val_acc: 0.875282\n",
      "====epoch 93\n"
     ]
    },
    {
     "name": "stderr",
     "output_type": "stream",
     "text": [
      "NaN or Inf found in input tensor.\n",
      "Iteration: 100%|██████████| 37/37 [00:01<00:00, 28.61it/s]\n"
     ]
    },
    {
     "name": "stdout",
     "output_type": "stream",
     "text": [
      "train_loss : inf val_loss: inf\n",
      "train: 0.000000 val: 0.719983  best_val_acc: 0.719983\n",
      "====epoch 92\n",
      "====Evaluation\n",
      "omit the training accuracy computation\n"
     ]
    },
    {
     "name": "stderr",
     "output_type": "stream",
     "text": [
      "Iteration:  76%|███████▌  | 28/37 [00:00<00:00, 41.01it/s]NaN or Inf found in input tensor.\n",
      "Iteration:  49%|████▊     | 18/37 [00:00<00:00, 32.58it/s]"
     ]
    },
    {
     "name": "stdout",
     "output_type": "stream",
     "text": [
      "train_loss : inf val_loss: inf\n",
      "train: 0.000000 val: 0.654913  best_val_acc: 0.654913\n",
      "====epoch 93\n"
     ]
    },
    {
     "name": "stderr",
     "output_type": "stream",
     "text": [
      "Iteration: 100%|██████████| 37/37 [00:01<00:00, 29.62it/s]\n",
      "Iteration:  78%|███████▊  | 29/37 [00:01<00:00, 41.30it/s]"
     ]
    },
    {
     "name": "stdout",
     "output_type": "stream",
     "text": [
      "====Evaluation\n",
      "omit the training accuracy computation\n"
     ]
    },
    {
     "name": "stderr",
     "output_type": "stream",
     "text": [
      "Iteration: 100%|██████████| 37/37 [00:01<00:00, 27.66it/s]\n",
      "Iteration:  46%|████▌     | 17/37 [00:00<00:00, 30.95it/s]"
     ]
    },
    {
     "name": "stdout",
     "output_type": "stream",
     "text": [
      "====Evaluation\n",
      "omit the training accuracy computation\n"
     ]
    },
    {
     "name": "stderr",
     "output_type": "stream",
     "text": [
      "Iteration:  59%|█████▉    | 22/37 [00:00<00:00, 35.05it/s]NaN or Inf found in input tensor.\n",
      "Iteration:  76%|███████▌  | 28/37 [00:00<00:00, 40.97it/s]"
     ]
    },
    {
     "name": "stdout",
     "output_type": "stream",
     "text": [
      "train_loss : inf val_loss: inf\n",
      "train: 0.000000 val: 0.674357  best_val_acc: 0.674357\n",
      "====epoch 94\n"
     ]
    },
    {
     "name": "stderr",
     "output_type": "stream",
     "text": [
      "Iteration:  89%|████████▉ | 33/37 [00:01<00:00, 43.17it/s]NaN or Inf found in input tensor.\n",
      "Iteration:   0%|          | 0/37 [00:00<?, ?it/s]"
     ]
    },
    {
     "name": "stdout",
     "output_type": "stream",
     "text": [
      "train_loss : inf val_loss: inf\n",
      "train: 0.000000 val: 0.733534  best_val_acc: 0.733534\n",
      "====epoch 93\n",
      "====Evaluation\n",
      "omit the training accuracy computation\n"
     ]
    },
    {
     "name": "stderr",
     "output_type": "stream",
     "text": [
      "Iteration: 100%|██████████| 37/37 [00:01<00:00, 29.05it/s]\n",
      "Iteration:  35%|███▌      | 13/37 [00:00<00:00, 24.73it/s]NaN or Inf found in input tensor.\n",
      "Iteration:  81%|████████  | 30/37 [00:01<00:00, 38.49it/s]"
     ]
    },
    {
     "name": "stdout",
     "output_type": "stream",
     "text": [
      "train_loss : inf val_loss: inf\n",
      "train: 0.000000 val: 0.564060  best_val_acc: 0.564060\n",
      "====epoch 94\n"
     ]
    },
    {
     "name": "stderr",
     "output_type": "stream",
     "text": [
      "Iteration: 100%|██████████| 37/37 [00:01<00:00, 27.82it/s]\n",
      "Iteration:   3%|▎         | 1/37 [00:00<00:16,  2.13it/s]]"
     ]
    },
    {
     "name": "stdout",
     "output_type": "stream",
     "text": [
      "====Evaluation\n",
      "omit the training accuracy computation\n"
     ]
    },
    {
     "name": "stderr",
     "output_type": "stream",
     "text": [
      "Iteration: 100%|██████████| 37/37 [00:01<00:00, 29.51it/s]\n",
      "Iteration:  35%|███▌      | 13/37 [00:00<00:00, 26.28it/s]"
     ]
    },
    {
     "name": "stdout",
     "output_type": "stream",
     "text": [
      "====Evaluation\n",
      "omit the training accuracy computation\n"
     ]
    },
    {
     "name": "stderr",
     "output_type": "stream",
     "text": [
      "Iteration:  70%|███████   | 26/37 [00:00<00:00, 40.77it/s]NaN or Inf found in input tensor.\n",
      "Iteration:   0%|          | 0/37 [00:00<?, ?it/s]"
     ]
    },
    {
     "name": "stdout",
     "output_type": "stream",
     "text": [
      "train_loss : inf val_loss: inf\n",
      "train: 0.000000 val: 0.829978  best_val_acc: 0.829978\n",
      "====epoch 95\n",
      "train_loss : inf val_loss: inf\n",
      "train: 0.000000 val: 0.710404  best_val_acc: 0.710404\n",
      "====epoch 94\n"
     ]
    },
    {
     "name": "stderr",
     "output_type": "stream",
     "text": [
      "Iteration:  89%|████████▉ | 33/37 [00:01<00:00, 46.79it/s]NaN or Inf found in input tensor.\n",
      "Iteration: 100%|██████████| 37/37 [00:01<00:00, 30.00it/s]\n"
     ]
    },
    {
     "name": "stdout",
     "output_type": "stream",
     "text": [
      "====Evaluation\n",
      "omit the training accuracy computation\n"
     ]
    },
    {
     "name": "stderr",
     "output_type": "stream",
     "text": [
      "Iteration:  62%|██████▏   | 23/37 [00:00<00:00, 36.84it/s]NaN or Inf found in input tensor.\n",
      "Iteration:  65%|██████▍   | 24/37 [00:00<00:00, 38.44it/s]"
     ]
    },
    {
     "name": "stdout",
     "output_type": "stream",
     "text": [
      "train_loss : inf val_loss: inf\n",
      "train: 0.000000 val: 0.781730  best_val_acc: 0.781730\n",
      "====epoch 95\n"
     ]
    },
    {
     "name": "stderr",
     "output_type": "stream",
     "text": [
      "Iteration: 100%|██████████| 37/37 [00:01<00:00, 28.81it/s]\n"
     ]
    },
    {
     "name": "stdout",
     "output_type": "stream",
     "text": [
      "====Evaluation\n",
      "omit the training accuracy computation\n",
      "====Evaluation\n",
      "omit the training accuracy computation\n"
     ]
    },
    {
     "name": "stderr",
     "output_type": "stream",
     "text": [
      "Iteration: 100%|██████████| 37/37 [00:01<00:00, 29.01it/s]\n",
      "Iteration:  84%|████████▍ | 31/37 [00:00<00:00, 44.17it/s]NaN or Inf found in input tensor.\n",
      "Iteration:   0%|          | 0/37 [00:00<?, ?it/s]"
     ]
    },
    {
     "name": "stdout",
     "output_type": "stream",
     "text": [
      "train_loss : inf val_loss: inf\n",
      "train: 0.000000 val: 0.862620  best_val_acc: 0.862620\n",
      "====epoch 96\n",
      "train_loss : inf val_loss: inf\n",
      "train: 0.000000 val: 0.748940  best_val_acc: 0.748940\n",
      "====epoch 95\n"
     ]
    },
    {
     "name": "stderr",
     "output_type": "stream",
     "text": [
      "NaN or Inf found in input tensor.\n",
      "Iteration: 100%|██████████| 37/37 [00:01<00:00, 30.03it/s]\n"
     ]
    },
    {
     "name": "stdout",
     "output_type": "stream",
     "text": [
      "====Evaluation\n",
      "omit the training accuracy computation\n"
     ]
    },
    {
     "name": "stderr",
     "output_type": "stream",
     "text": [
      "Iteration:  51%|█████▏    | 19/37 [00:00<00:00, 31.03it/s]NaN or Inf found in input tensor.\n",
      "Iteration:  46%|████▌     | 17/37 [00:00<00:00, 29.57it/s]"
     ]
    },
    {
     "name": "stdout",
     "output_type": "stream",
     "text": [
      "train_loss : inf val_loss: inf\n",
      "train: 0.000000 val: 0.573836  best_val_acc: 0.573836\n",
      "====epoch 96\n"
     ]
    },
    {
     "name": "stderr",
     "output_type": "stream",
     "text": [
      "Iteration: 100%|██████████| 37/37 [00:01<00:00, 27.87it/s]\n"
     ]
    },
    {
     "name": "stdout",
     "output_type": "stream",
     "text": [
      "====Evaluation\n",
      "omit the training accuracy computation\n",
      "====Evaluation\n",
      "omit the training accuracy computation\n"
     ]
    },
    {
     "name": "stderr",
     "output_type": "stream",
     "text": [
      "Iteration: 100%|██████████| 37/37 [00:01<00:00, 28.92it/s]\n",
      "Iteration:  97%|█████████▋| 36/37 [00:00<00:00, 51.31it/s]NaN or Inf found in input tensor.\n",
      "NaN or Inf found in input tensor.\n",
      "Iteration:   0%|          | 0/37 [00:00<?, ?it/s]"
     ]
    },
    {
     "name": "stdout",
     "output_type": "stream",
     "text": [
      "train_loss : inf val_loss: inf\n",
      "train: 0.000000 val: 0.875531  best_val_acc: 0.875531\n",
      "====epoch 97\n",
      "train_loss : inf val_loss: inf\n",
      "train: 0.000000 val: 0.690989  best_val_acc: 0.690989\n",
      "====epoch 96\n",
      "====Evaluation\n",
      "omit the training accuracy computation\n"
     ]
    },
    {
     "name": "stderr",
     "output_type": "stream",
     "text": [
      "Iteration: 100%|██████████| 37/37 [00:01<00:00, 30.57it/s]\n",
      "Iteration:  30%|██▉       | 11/37 [00:00<00:01, 22.50it/s]NaN or Inf found in input tensor.\n",
      "Iteration:  49%|████▊     | 18/37 [00:00<00:00, 31.63it/s]"
     ]
    },
    {
     "name": "stdout",
     "output_type": "stream",
     "text": [
      "train_loss : inf val_loss: inf\n",
      "train: 0.000000 val: 0.626031  best_val_acc: 0.626031\n",
      "====epoch 97\n"
     ]
    },
    {
     "name": "stderr",
     "output_type": "stream",
     "text": [
      "Iteration: 100%|██████████| 37/37 [00:01<00:00, 28.71it/s]\n"
     ]
    },
    {
     "name": "stdout",
     "output_type": "stream",
     "text": [
      "====Evaluation\n",
      "omit the training accuracy computation\n",
      "====Evaluation\n",
      "omit the training accuracy computation\n"
     ]
    },
    {
     "name": "stderr",
     "output_type": "stream",
     "text": [
      "Iteration: 100%|██████████| 37/37 [00:01<00:00, 27.56it/s]\n",
      "Iteration:  97%|█████████▋| 36/37 [00:01<00:00, 52.06it/s]NaN or Inf found in input tensor.\n",
      "Iteration: 100%|██████████| 37/37 [00:01<00:00, 28.96it/s]\n",
      "NaN or Inf found in input tensor.\n",
      "Iteration:   0%|          | 0/37 [00:00<?, ?it/s]"
     ]
    },
    {
     "name": "stdout",
     "output_type": "stream",
     "text": [
      "train_loss : inf val_loss: inf\n",
      "train: 0.000000 val: 0.721842  best_val_acc: 0.721842\n",
      "====epoch 98\n",
      "====Evaluation\n",
      "omit the training accuracy computation\n",
      "train_loss : inf val_loss: inf\n",
      "train: 0.000000 val: 0.779259  best_val_acc: 0.779259\n",
      "====epoch 97\n"
     ]
    },
    {
     "name": "stderr",
     "output_type": "stream",
     "text": [
      "Iteration:  11%|█         | 4/37 [00:00<00:03,  8.72it/s]NaN or Inf found in input tensor.\n",
      "Iteration:  27%|██▋       | 10/37 [00:00<00:01, 20.83it/s]"
     ]
    },
    {
     "name": "stdout",
     "output_type": "stream",
     "text": [
      "train_loss : inf val_loss: inf\n",
      "train: 0.000000 val: 0.587685  best_val_acc: 0.587685\n",
      "====epoch 98\n"
     ]
    },
    {
     "name": "stderr",
     "output_type": "stream",
     "text": [
      "Iteration: 100%|██████████| 37/37 [00:01<00:00, 27.30it/s]\n",
      "Iteration: 100%|██████████| 37/37 [00:01<00:00, 27.31it/s]\n",
      "Iteration:  46%|████▌     | 17/37 [00:00<00:00, 31.38it/s]"
     ]
    },
    {
     "name": "stdout",
     "output_type": "stream",
     "text": [
      "====Evaluation\n",
      "omit the training accuracy computation\n",
      "====Evaluation\n",
      "omit the training accuracy computation\n"
     ]
    },
    {
     "name": "stderr",
     "output_type": "stream",
     "text": [
      "Iteration: 100%|██████████| 37/37 [00:01<00:00, 28.47it/s]\n"
     ]
    },
    {
     "name": "stdout",
     "output_type": "stream",
     "text": [
      "====Evaluation\n",
      "omit the training accuracy computation\n",
      "train_loss : inf val_loss: inf\n",
      "train: 0.000000 val: 0.847211  best_val_acc: 0.847211\n",
      "====epoch 99\n",
      "train_loss : inf val_loss: inf\n",
      "train: 0.000000 val: 0.690015  best_val_acc: 0.690015\n",
      "====epoch 98\n"
     ]
    },
    {
     "name": "stderr",
     "output_type": "stream",
     "text": [
      "NaN or Inf found in input tensor.\n",
      "Iteration:   0%|          | 0/37 [00:00<?, ?it/s]NaN or Inf found in input tensor.\n",
      "Iteration:  19%|█▉        | 7/37 [00:00<00:01, 15.12it/s]NaN or Inf found in input tensor.\n",
      "Iteration:   3%|▎         | 1/37 [00:00<00:17,  2.02it/s]"
     ]
    },
    {
     "name": "stdout",
     "output_type": "stream",
     "text": [
      "train_loss : inf val_loss: inf\n",
      "train: 0.000000 val: 0.744343  best_val_acc: 0.744343\n",
      "====epoch 99\n"
     ]
    },
    {
     "name": "stderr",
     "output_type": "stream",
     "text": [
      "Iteration: 100%|██████████| 37/37 [00:01<00:00, 27.39it/s]\n",
      "Iteration: 100%|██████████| 37/37 [00:01<00:00, 27.51it/s]\n",
      "Iteration:  65%|██████▍   | 24/37 [00:00<00:00, 40.66it/s]"
     ]
    },
    {
     "name": "stdout",
     "output_type": "stream",
     "text": [
      "====Evaluation\n",
      "omit the training accuracy computation\n",
      "====Evaluation\n",
      "omit the training accuracy computation\n"
     ]
    },
    {
     "name": "stderr",
     "output_type": "stream",
     "text": [
      "Iteration: 100%|██████████| 37/37 [00:01<00:00, 30.52it/s]\n",
      "NaN or Inf found in input tensor.\n",
      "Iteration:   0%|          | 0/37 [00:00<?, ?it/s]"
     ]
    },
    {
     "name": "stdout",
     "output_type": "stream",
     "text": [
      "====Evaluation\n",
      "omit the training accuracy computation\n",
      "train_loss : inf val_loss: inf\n",
      "train: 0.000000 val: 0.840193  best_val_acc: 0.840193\n",
      "====epoch 100\n"
     ]
    },
    {
     "name": "stderr",
     "output_type": "stream",
     "text": [
      "NaN or Inf found in input tensor.\n",
      "Iteration:   0%|          | 0/37 [00:00<?, ?it/s]"
     ]
    },
    {
     "name": "stdout",
     "output_type": "stream",
     "text": [
      "train_loss : inf val_loss: inf\n",
      "train: 0.000000 val: 0.765224  best_val_acc: 0.765224\n",
      "====epoch 99\n"
     ]
    },
    {
     "name": "stderr",
     "output_type": "stream",
     "text": [
      "NaN or Inf found in input tensor.\n",
      "Iteration:   3%|▎         | 1/37 [00:00<00:18,  1.96it/s]"
     ]
    },
    {
     "name": "stdout",
     "output_type": "stream",
     "text": [
      "train_loss : inf val_loss: inf\n",
      "train: 0.000000 val: 0.793393  best_val_acc: 0.793393\n",
      "====epoch 100\n"
     ]
    },
    {
     "name": "stderr",
     "output_type": "stream",
     "text": [
      "Iteration: 100%|██████████| 37/37 [00:01<00:00, 29.06it/s]\n",
      "Iteration:  78%|███████▊  | 29/37 [00:01<00:00, 42.47it/s]"
     ]
    },
    {
     "name": "stdout",
     "output_type": "stream",
     "text": [
      "====Evaluation\n",
      "omit the training accuracy computation\n"
     ]
    },
    {
     "name": "stderr",
     "output_type": "stream",
     "text": [
      "Iteration: 100%|██████████| 37/37 [00:01<00:00, 28.12it/s]\n",
      "Iteration: 100%|██████████| 37/37 [00:01<00:00, 19.78it/s]\n",
      "NaN or Inf found in input tensor.\n",
      "Iteration:   0%|          | 0/37 [00:00<?, ?it/s]"
     ]
    },
    {
     "name": "stdout",
     "output_type": "stream",
     "text": [
      "====Evaluation\n",
      "omit the training accuracy computation\n",
      "====Evaluation\n",
      "omit the training accuracy computation\n",
      "train_loss : inf val_loss: inf\n",
      "train: 0.000000 val: 0.753936  best_val_acc: 0.753936\n",
      "====epoch 100\n"
     ]
    },
    {
     "name": "stderr",
     "output_type": "stream",
     "text": [
      "Iteration:   3%|▎         | 1/37 [00:00<00:16,  2.13it/s]NaN or Inf found in input tensor.\n",
      "NaN or Inf found in input tensor.\n"
     ]
    },
    {
     "name": "stdout",
     "output_type": "stream",
     "text": [
      "train_loss : inf val_loss: inf\n",
      "train: 0.000000 val: 0.659534  best_val_acc: 0.659534\n",
      "Loaded trained model with success.\n",
      "train_loss : inf val_loss: inf\n",
      "train: 0.000000 val: 0.779108  best_val_acc: 0.779108\n",
      "Loaded trained model with success.\n"
     ]
    },
    {
     "name": "stderr",
     "output_type": "stream",
     "text": [
      "Iteration:  54%|█████▍    | 20/37 [00:01<00:00, 27.06it/s]"
     ]
    },
    {
     "name": "stdout",
     "output_type": "stream",
     "text": [
      "test auc, test_loss : 0.7425620373266604 tensor(0.0952, device='cuda:0', dtype=torch.float64)\n"
     ]
    },
    {
     "name": "stderr",
     "output_type": "stream",
     "text": [
      "Iteration:  89%|████████▉ | 33/37 [00:01<00:00, 41.04it/s]"
     ]
    },
    {
     "name": "stdout",
     "output_type": "stream",
     "text": [
      "test auc, test_loss : 0.6724807110833073 tensor(0.0568, device='cuda:0', dtype=torch.float64)\n",
      "====Evaluation\n",
      "omit the training accuracy computation\n"
     ]
    },
    {
     "name": "stderr",
     "output_type": "stream",
     "text": [
      "Iteration: 100%|██████████| 37/37 [00:01<00:00, 20.51it/s]\n",
      "NaN or Inf found in input tensor.\n"
     ]
    },
    {
     "name": "stdout",
     "output_type": "stream",
     "text": [
      "train_loss : inf val_loss: inf\n",
      "train: 0.000000 val: 0.805906  best_val_acc: 0.805906\n",
      "Loaded trained model with success.\n",
      "test auc, test_loss : 0.6882528759601014 tensor(0.0597, device='cuda:0', dtype=torch.float64)\n"
     ]
    }
   ],
   "source": [
    "import os\n",
    "import subprocess\n",
    "from concurrent.futures import ThreadPoolExecutor\n",
    "\n",
    "# 데이터셋, 시드, 알파 값, 그리고 GPU 장치 번호 설정\n",
    "datasets = ['clintox',   ]\n",
    "seeds = [777, 778, 789]\n",
    "devices = [0, 1]  # 사용 가능한 GPU 장치 번호\n",
    "\n",
    "# 실행할 스크립트와 관련 디렉토리\n",
    "scripts = ['pretrain+finetune+recon-subgraph.py', 'pretrain+finetune+recon-adjacent.py', 'pretrain+finetune+recon-fragment.py']\n",
    "scripts = ['pretrain+finetune+recon-subgraph.py', 'pretrain+finetune+recon-adjacent.py', 'pretrain+finetune+recon-fragment.py']\n",
    "scripts = ['pretrain+finetune+recon-adjacent.py']\n",
    "scripts = ['pretrain+finetune-edge.py']\n",
    "\n",
    "\n",
    "\n",
    "model_dirs = ['pretrain_subgraph', 'pretrain_adjacent', 'pretrain_fragment', ]\n",
    "model_dirs = ['pretrain_adjacent',]\n",
    "model_dirs = ['pretrain_edge',]\n",
    "\n",
    "# def run_script(script, model_dir, dataset, seed,alpha,  device):\n",
    "\n",
    "def run_script(script, model_dir, dataset, seed,  device):\n",
    "    if dataset == 'lipo':\n",
    "        input_model_directory = f\"./{model_dir}/lipophilicity_gin_0.25_{seed}\"\n",
    "    else:\n",
    "        input_model_directory = f\"./{model_dir}/{dataset}_gin_0.25_{seed}\"\n",
    "    \n",
    "    input_model_file = os.path.join(input_model_directory, 'model.pth')\n",
    "\n",
    "    # 기본 커맨드 설정\n",
    "    command = [\n",
    "        'python', script,\n",
    "        '--dataset', dataset,\n",
    "        '--device', str(device),\n",
    "        '--seed', str(seed),\n",
    "        # '--loss_fn', 'ce',\n",
    "        # '--alpha', str(alpha),\n",
    "        '--input_model_file', input_model_file\n",
    "    ]\n",
    "\n",
    "    # 'pretrain+finetune+recon-edge.py' 실행 시 '--mask_edge 1' 추가\n",
    "    if 'pretrain-edge.py' in script:\n",
    "        command.append('--mask_edge')\n",
    "        command.append('1')\n",
    "\n",
    "    # 현재 디렉토리 변경\n",
    "    os.chdir('/tf/GraphMAE-pyg - copy/chem')\n",
    "\n",
    "    # subprocess를 사용하여 명령어 실행\n",
    "    subprocess.run(command, check=True)\n",
    "\n",
    "# ThreadPoolExecutor로 병렬 실행\n",
    "with ThreadPoolExecutor(max_workers=20) as executor:\n",
    "    futures = []\n",
    "    for dataset in datasets:\n",
    "        for seed in seeds:\n",
    "            # for alpha in alphas:\n",
    "                for script, model_dir, device in zip(scripts, model_dirs, devices * 2):\n",
    "                    # 각 조합에 대해 스크립트 실행을 스케줄\n",
    "                    # future = executor.submit(run_script, script, model_dir, dataset, seed, alpha, device)\n",
    "                    future = executor.submit(run_script, script, model_dir, dataset, seed, device)\n",
    "                    \n",
    "                    futures.append(future)\n",
    "                    \n",
    "    # 결과 대기\n",
    "    for future in futures:\n",
    "        future.result()  # 실행 결과 확인"
   ]
  },
  {
   "cell_type": "code",
   "execution_count": null,
   "id": "02edd7ed-492b-4214-98b4-dc7164a3f75f",
   "metadata": {
    "scrolled": true
   },
   "outputs": [
    {
     "name": "stdout",
     "output_type": "stream",
     "text": [
      "MoleculeDataset(1480) clintox 777\n",
      "scaffold\n",
      "load pretrained model from: ./pretrain_edge/clintox_gin_0.25_777/model.pth\n",
      "Traceback (most recent call last):\n",
      "  File \"/tf/GraphMAE-pyg - copy/chem/pretrain+finetune-edge.py\", line 509, in <module>\n",
      "    main()\n",
      "  File \"/tf/GraphMAE-pyg - copy/chem/pretrain+finetune-edge.py\", line 373, in main\n",
      "    model.from_pretrained(args.input_model_file)\n",
      "  File \"/tf/GraphMAE-pyg - copy/chem/model_copy.py\", line 395, in from_pretrained\n",
      "    state_dict = torch.load(model_file)\n",
      "  File \"/opt/conda/lib/python3.10/site-packages/torch/serialization.py\", line 986, in load\n",
      "    with _open_file_like(f, 'rb') as opened_file:\n",
      "  File \"/opt/conda/lib/python3.10/site-packages/torch/serialization.py\", line 435, in _open_file_like\n",
      "    return _open_file(name_or_buffer, mode)\n",
      "  File \"/opt/conda/lib/python3.10/site-packages/torch/serialization.py\", line 416, in __init__\n",
      "    super().__init__(open(name, mode))\n",
      "FileNotFoundError: [Errno 2] No such file or directory: './pretrain_edge/clintox_gin_0.25_777/model.pth'\n"
     ]
    }
   ],
   "source": [
    "import json\n",
    "import os\n",
    "import pandas as pd \n",
    "\n",
    "datasets = [  'clintox', 'hiv' ]\n",
    "\n",
    "seeds  = [777, 778, 789]\n",
    "\n",
    "os.chdir('/tf/GraphMAE-pyg - copy/chem')\n",
    "\n",
    "for dataset in datasets:  \n",
    "    for seed in seeds:\n",
    "\n",
    "        if dataset == 'lipo':\n",
    "            input_model_directory = \"./pretrain_edge/\" + f\"lipophilicity_gin_0.25_{seed}\"\n",
    "        else:\n",
    "            input_model_directory = \"./pretrain_edge/\" + f\"{dataset}_gin_0.25_{seed}\"\n",
    "            \n",
    "        input_model_file = os.path.join(input_model_directory, 'model.pth')\n",
    "        \n",
    "        # 파라미터를 커맨드 라인 인자로 전달\n",
    "        \n",
    "        !python pretrain+finetune-edge.py \\\n",
    "        --dataset {dataset} \\\n",
    "        --device 0 \\\n",
    "        --seed {seed} \\\n",
    "        --input_model_file {input_model_file} "
   ]
  },
  {
   "cell_type": "code",
   "execution_count": null,
   "id": "3da9c751-a47d-4349-9c4f-44d7d4182cb3",
   "metadata": {},
   "outputs": [],
   "source": []
  }
 ],
 "metadata": {
  "kernelspec": {
   "display_name": "Python 3 (ipykernel)",
   "language": "python",
   "name": "python3"
  },
  "language_info": {
   "codemirror_mode": {
    "name": "ipython",
    "version": 3
   },
   "file_extension": ".py",
   "mimetype": "text/x-python",
   "name": "python",
   "nbconvert_exporter": "python",
   "pygments_lexer": "ipython3",
   "version": "3.10.13"
  }
 },
 "nbformat": 4,
 "nbformat_minor": 5
}
