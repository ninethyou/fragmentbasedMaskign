{
 "cells": [
  {
   "cell_type": "code",
   "execution_count": 1,
   "id": "05b0aed4-34de-4964-8ad8-dfaca1cc0d39",
   "metadata": {},
   "outputs": [],
   "source": [
    "import os\n",
    "import shutil\n",
    "import sys\n",
    "import yaml\n",
    "import numpy as np\n",
    "import pandas as pd\n",
    "import random\n",
    "from datetime import datetime\n",
    "\n",
    "import torch\n",
    "from torch import nn\n",
    "import torch.nn.functional as F\n",
    "from torch.utils.tensorboard import SummaryWriter\n",
    "from torch.optim.lr_scheduler import CosineAnnealingLR\n",
    "from sklearn.metrics import roc_auc_score, mean_squared_error, mean_absolute_error, root_mean_squared_error\n",
    "\n",
    "\n",
    "from dataset.dataset_test import MolTestDatasetWrapper\n",
    "\n",
    "from dataset.get_config import get_config \n",
    "import argparse\n",
    "from torch_geometric.utils import  scatter, softmax\n",
    "\n",
    "from torch_geometric.data import Data\n",
    "\n",
    "import warnings\n",
    "warnings.filterwarnings(\"ignore\", category=UserWarning)"
   ]
  },
  {
   "cell_type": "code",
   "execution_count": 2,
   "id": "f3c41f6a-013d-4dac-ab42-7397a7bfe63e",
   "metadata": {},
   "outputs": [
    {
     "name": "stdout",
     "output_type": "stream",
     "text": [
      "Please install apex for mixed precision training from: https://github.com/NVIDIA/apex\n"
     ]
    }
   ],
   "source": [
    "apex_support = False\n",
    "try:\n",
    "    sys.path.append('./apex')\n",
    "    from apex import amp\n",
    "\n",
    "    apex_support = True\n",
    "except:\n",
    "    print(\"Please install apex for mixed precision training from: https://github.com/NVIDIA/apex\")\n",
    "    apex_support = False\n",
    "\n",
    "\n",
    "def _save_config_file(model_checkpoints_folder):\n",
    "    if not os.path.exists(model_checkpoints_folder):\n",
    "        os.makedirs(model_checkpoints_folder)\n",
    "        shutil.copy('./config_finetune.yaml', os.path.join(model_checkpoints_folder, 'config_finetune.yaml'))\n",
    "\n",
    "def get_roc_auc_score(y_true, y_pred, is_valid):\n",
    "    roc_list = []\n",
    "    for i in range(y_true.shape[1]):\n",
    "        #AUC is only defined when there is at least one positive data.\n",
    "        if np.sum(y_true[:,i] == 1) > 0 and np.sum(y_true[:,i] == -1) > 0:\n",
    "            is_valid = y_true[:,i]**2 > 0\n",
    "            roc_list.append(roc_auc_score((y_true[is_valid,i] + 1)/2, y_pred[is_valid,i]))\n",
    "\n",
    "    if len(roc_list) < y_true.shape[1]:\n",
    "        print(\"Some target is missing!\")\n",
    "        print(\"Missing ratio: %f\" %(1 - float(len(roc_list))/y_true.shape[1]))\n",
    "\n",
    "    return  sum(roc_list)/len(roc_list)\n",
    "\n",
    "\n",
    "\n",
    "\n",
    "class Normalizer(object):\n",
    "    \"\"\"Normalize a Tensor and restore it later. \"\"\"\n",
    "\n",
    "    def __init__(self, tensor):\n",
    "        \"\"\"tensor is taken as a sample to calculate the mean and std\"\"\"\n",
    "        self.mean = torch.mean(tensor)\n",
    "        self.std = torch.std(tensor)\n",
    "\n",
    "    def norm(self, tensor):\n",
    "        return (tensor - self.mean) / self.std\n",
    "\n",
    "    def denorm(self, normed_tensor):\n",
    "        return normed_tensor * self.std + self.mean\n",
    "\n",
    "    def state_dict(self):\n",
    "        return {'mean': self.mean,\n",
    "                'std': self.std}\n",
    "\n",
    "    def load_state_dict(self, state_dict):\n",
    "        self.mean = state_dict['mean']\n",
    "        self.std = state_dict['std']\n"
   ]
  },
  {
   "cell_type": "code",
   "execution_count": 3,
   "id": "9a86cb44-58ef-42cc-a2ed-37c26d40252a",
   "metadata": {},
   "outputs": [],
   "source": [
    "class Args:\n",
    "    batch_size = 32\n",
    "    epochs = 200\n",
    "    init_lr = 0.0005\n",
    "    init_base_lr = 0.0001\n",
    "    weight_decay = 1e-6\n",
    "    \n",
    "    gpu = 'cuda:1'\n",
    "    model_type = 'gin'\n",
    "    num_layer = 5\n",
    "    emb_dim = 300\n",
    "    feat_dim = 300\n",
    "    dropout = 0.3\n",
    "    pool = 'mean'\n",
    "    seed = '42'\n",
    "\n",
    "    task_name = 'sider'\n",
    "    splitting = 'scaffold'\n",
    "    random_masking = 1\n",
    "    mask_rate = 0.2\n",
    "    mask_edge = 0 \n",
    "    alpha = 0.1\n",
    "    reduceTrain = 1\n",
    "\n",
    "args = Args()"
   ]
  },
  {
   "cell_type": "code",
   "execution_count": 4,
   "id": "eee7561c-363f-4a42-8de5-b22b4beaba24",
   "metadata": {},
   "outputs": [],
   "source": [
    "config = yaml.load(open(\"config_finetune.yaml\", \"r\"), Loader=yaml.FullLoader)"
   ]
  },
  {
   "cell_type": "code",
   "execution_count": 5,
   "id": "be0ac5f0-d577-4be4-8323-19c35dc647f5",
   "metadata": {},
   "outputs": [],
   "source": [
    "seed = args.seed"
   ]
  },
  {
   "cell_type": "code",
   "execution_count": 6,
   "id": "c18dcf43-bdee-40a9-a8f4-433029ba59cd",
   "metadata": {},
   "outputs": [],
   "source": [
    "config['batch_size'] = args.batch_size\n",
    "config['epochs'] = args.epochs\n",
    "config['init_lr'] = args.init_lr\n",
    "config['init_base_lr'] = args.init_base_lr\n",
    "# config['weight_decay'] = args.weight_decay\n",
    "config['gpu'] = args.gpu   \n",
    "config['model']['num_layer'] = args.num_layer\n",
    "config['model']['emb_dim'] = args.emb_dim\n",
    "config['model']['feat_dim'] = args.feat_dim\n",
    "config['model']['drop_ratio'] = args.dropout\n",
    "config['model']['pool'] = args.pool\n",
    "\n",
    "config['task_name'] = args.task_name\n",
    "config['dataset']['seed'] = seed\n",
    "\n",
    "config['dataset']['splitting'] = args.splitting"
   ]
  },
  {
   "cell_type": "code",
   "execution_count": 7,
   "id": "3dc712c3-244f-448e-9d43-99cddafaac83",
   "metadata": {},
   "outputs": [],
   "source": [
    "seed =  int(args.seed)"
   ]
  },
  {
   "cell_type": "code",
   "execution_count": 8,
   "id": "90a636dc-8159-4763-87f4-c6fe1ba50a01",
   "metadata": {},
   "outputs": [],
   "source": [
    "torch.manual_seed(seed)\n",
    "np.random.seed(seed)\n",
    "if torch.cuda.is_available():\n",
    "    torch.cuda.manual_seed_all(seed)\n",
    "\n",
    "config['task_name'] = config['task_name'].lower()"
   ]
  },
  {
   "cell_type": "code",
   "execution_count": 9,
   "id": "a1d988de-9285-4bef-ace9-6a3227fadaac",
   "metadata": {},
   "outputs": [],
   "source": [
    "config = get_config(config)"
   ]
  },
  {
   "cell_type": "markdown",
   "id": "b9fb7ee7-1560-4c35-8fbb-631e03767bdc",
   "metadata": {},
   "source": [
    "### main으로 넘어옴"
   ]
  },
  {
   "cell_type": "code",
   "execution_count": 10,
   "id": "7d9f3d30-3e31-49a8-b3c5-f83379976148",
   "metadata": {},
   "outputs": [],
   "source": [
    "dataset = MolTestDatasetWrapper(config['batch_size'],\n",
    "                                **config['dataset'],\n",
    "                                random_masking=args.random_masking,\n",
    "                                mask_rate=args.mask_rate,\n",
    "                                mask_edge=args.mask_edge)"
   ]
  },
  {
   "cell_type": "markdown",
   "id": "9bf54e6d-2cef-45bf-88c7-479488ac5400",
   "metadata": {},
   "source": [
    "## step 과 test 옮기기"
   ]
  },
  {
   "cell_type": "code",
   "execution_count": 11,
   "id": "2a68709b-b6ca-4450-9800-d679ef74268f",
   "metadata": {},
   "outputs": [],
   "source": [
    "    def _get_device():\n",
    "        if torch.cuda.is_available() and config['gpu'] != 'cpu':\n",
    "            device = config['gpu']\n",
    "            torch.cuda.set_device(device)\n",
    "            args.deviceName = \"cuda\" + str(device[-1])\n",
    "\n",
    "        else:\n",
    "            device = 'cpu'\n",
    "            args.deviceName = 'cpu'\n",
    "\n",
    "        print(\"Running on:\", device)\n",
    "\n",
    "        return device"
   ]
  },
  {
   "cell_type": "code",
   "execution_count": 12,
   "id": "8327c0cf-2d42-45fa-88ea-26f062449ca5",
   "metadata": {},
   "outputs": [
    {
     "name": "stdout",
     "output_type": "stream",
     "text": [
      "Running on: cuda:1\n"
     ]
    }
   ],
   "source": [
    "device = _get_device()"
   ]
  },
  {
   "cell_type": "code",
   "execution_count": 14,
   "id": "4237d4c3-d5dc-405a-85f1-8e68975ab766",
   "metadata": {},
   "outputs": [],
   "source": [
    "savefilename = 'finetunesider_tsne'"
   ]
  },
  {
   "cell_type": "code",
   "execution_count": 15,
   "id": "43b775ad-1124-4987-b333-fc269fa324b3",
   "metadata": {},
   "outputs": [],
   "source": [
    "layout = {\n",
    "    \"recon\": {\n",
    "        \"loss_end\": [\"Multiline\", [\"loss_end/train\", \"loss_end/validation\"]],\n",
    "        \"loss_recon_node\" : [\"Multiline\", [\"loss_recon_node/train\"]],\n",
    "        \"loss_recon_edge\" : [\"Multiline\", [\"loss_recon_edge/train\"]],\n",
    "        \"loss_total\" : [\"Multiline\", [\"loss_total/train\", \"loss_total/validation\"]],\n",
    "        \"accuracy\": [\"Multiline\", [ \"accuracy/validation\"]],\n",
    "    },\n",
    "}"
   ]
  },
  {
   "cell_type": "code",
   "execution_count": 16,
   "id": "6e4b42a9-4ec6-414d-8fc1-895222979bc5",
   "metadata": {},
   "outputs": [],
   "source": [
    "current_time = datetime.now().strftime('%b%d_%H-%M-%S')\n",
    "dir_name =  savefilename + config['task_name'] + '_' + str(args.num_layer) + '_' \\\n",
    "+ str(args.emb_dim) + '_' + str(args.feat_dim)  + '_' + str(args.dropout) + '_' \\\n",
    "+ str(args.splitting) + '_' + str(args.deviceName) + '_' + str(args.seed) + '_' + str(current_time)\n",
    "\n",
    "log_dir = os.path.join('finetune', dir_name)\n",
    "writer = SummaryWriter(log_dir=log_dir)\n",
    "writer.add_custom_scalars(layout)\n",
    "\n",
    "dataset = dataset\n",
    "if config['dataset']['task'] == 'classification':\n",
    "    criterion =  nn.BCEWithLogitsLoss(reduction = \"none\")\n",
    "elif config['dataset']['task'] == 'regression':\n",
    "    if config[\"task_name\"] in ['qm7', 'qm8', 'qm9']:\n",
    "        criterion = nn.L1Loss()\n",
    "    else:\n",
    "        criterion = nn.MSELoss()\n",
    "criterion_recon = nn.CrossEntropyLoss()"
   ]
  },
  {
   "cell_type": "code",
   "execution_count": 17,
   "id": "0db90373-846a-42e7-9ae5-a538f7e994f3",
   "metadata": {},
   "outputs": [],
   "source": [
    "config['model']['mask_rate'] = args.mask_rate"
   ]
  },
  {
   "cell_type": "code",
   "execution_count": 18,
   "id": "546abf17-3639-44d1-b445-d48e35ee8118",
   "metadata": {
    "scrolled": true
   },
   "outputs": [
    {
     "name": "stdout",
     "output_type": "stream",
     "text": [
      "1426\n",
      "About to generate scaffolds\n",
      "Generating scaffold 0/1426\n",
      "Generating scaffold 1000/1426\n",
      "About to sort in scaffold sets\n"
     ]
    }
   ],
   "source": [
    "train_loader, valid_loader, test_loader = dataset.get_data_loaders()"
   ]
  },
  {
   "cell_type": "code",
   "execution_count": 94,
   "id": "0d0bc4e7-d9ba-405a-8a99-e0609f997004",
   "metadata": {},
   "outputs": [
    {
     "data": {
      "text/plain": [
       "'./data_save/bbbp/bbbp_scaffold_42.pkl'"
      ]
     },
     "execution_count": 94,
     "metadata": {},
     "output_type": "execute_result"
    }
   ],
   "source": [
    "file_base = f\"./data_save/{config['task_name']}/{config['task_name']}_{args.splitting}_{args.seed}.pkl\"\n",
    "file_base"
   ]
  },
  {
   "cell_type": "code",
   "execution_count": 95,
   "id": "6808e1aa-58d3-4ac2-9777-e6d12b73c6d0",
   "metadata": {},
   "outputs": [],
   "source": [
    "dir_name = f\"./data_save/{config['task_name']}\""
   ]
  },
  {
   "cell_type": "code",
   "execution_count": 96,
   "id": "06fb5132-e763-4cf2-ae95-9bd1f3469f17",
   "metadata": {},
   "outputs": [
    {
     "data": {
      "text/plain": [
       "'./data_save/bbbp'"
      ]
     },
     "execution_count": 96,
     "metadata": {},
     "output_type": "execute_result"
    }
   ],
   "source": [
    "dir_name"
   ]
  },
  {
   "cell_type": "code",
   "execution_count": 21,
   "id": "23038714-0b81-426d-b1ad-c42b96858f35",
   "metadata": {},
   "outputs": [],
   "source": [
    "file_name_train = dir_name + f\"/{config['task_name']}_{args.splitting}_{args.seed}_train.pkl\" \n",
    "file_name_valid = dir_name + f\"/{config['task_name']}_{args.splitting}_{args.seed}_valid.pkl\" \n",
    "file_name_test = dir_name + f\"/{config['task_name']}_{args.splitting}_{args.seed}_test.pkl\""
   ]
  },
  {
   "cell_type": "code",
   "execution_count": 262,
   "id": "7f5bdac9-ae96-4b50-a6a5-9f4c3d3e82f2",
   "metadata": {},
   "outputs": [],
   "source": [
    "if not os.path.exists(dir_name):\n",
    "    os.makedirs(dir_name)"
   ]
  },
  {
   "cell_type": "code",
   "execution_count": 263,
   "id": "2f5a39e2-a3c9-4d1a-a96c-1fdf0a9f5e75",
   "metadata": {},
   "outputs": [],
   "source": [
    "import pickle\n",
    "with open(file_name_train, 'wb') as f:\n",
    "    pickle.dump(train_loader.dataset, f)\n",
    "\n",
    "with open(file_name_valid, 'wb') as f:\n",
    "    pickle.dump(valid_loader.dataset, f)\n",
    "    \n",
    "with open(file_name_test, 'wb') as f:\n",
    "    pickle.dump(test_loader.dataset, f)"
   ]
  },
  {
   "cell_type": "code",
   "execution_count": 22,
   "id": "d8942875-0492-4b16-b626-ef779d0610ac",
   "metadata": {},
   "outputs": [],
   "source": [
    "import pickle\n",
    "\n",
    "with open(file_name_train, 'rb') as f:\n",
    "    train_dataset = pickle.load(f)\n",
    "\n",
    "with open(file_name_valid, 'rb') as f:\n",
    "    valid_dataset = pickle.load(f)\n",
    "\n",
    "with open(file_name_test, 'rb') as f:\n",
    "    test_dataset = pickle.load(f)"
   ]
  },
  {
   "cell_type": "code",
   "execution_count": 24,
   "id": "3c170f9a-1cb3-4e61-937b-7490150694c9",
   "metadata": {},
   "outputs": [],
   "source": [
    "from torch_geometric.data import DataLoader\n",
    "train_loader = DataLoader(train_dataset, batch_size=32, shuffle=True, num_workers = config['dataset']['num_workers'])\n",
    "valid_loader = DataLoader(valid_dataset, batch_size=32, shuffle=False, num_workers = config['dataset']['num_workers'])\n",
    "test_loader = DataLoader(test_dataset, batch_size=32, shuffle=False, num_workers = config['dataset']['num_workers'])"
   ]
  },
  {
   "cell_type": "code",
   "execution_count": 19,
   "id": "b90a4905-9f2d-44e4-a311-7c68ea78eafc",
   "metadata": {},
   "outputs": [],
   "source": [
    "selected_datasets = ['FreeSolv',\n",
    "                        'ESOL',\n",
    "                         'qm7',\n",
    "                        'Lipo',\n",
    "                        'BACE',\n",
    "                        'BBBP',\n",
    "                        'ClinTox'\n",
    "                        'sider',\n",
    "                        'tox21']"
   ]
  },
  {
   "cell_type": "code",
   "execution_count": 19,
   "id": "5fbf227b-8515-4d28-8d7d-5962246133b5",
   "metadata": {},
   "outputs": [
    {
     "ename": "NameError",
     "evalue": "name 'selected_datasets' is not defined",
     "output_type": "error",
     "traceback": [
      "\u001b[0;31m---------------------------------------------------------------------------\u001b[0m",
      "\u001b[0;31mNameError\u001b[0m                                 Traceback (most recent call last)",
      "Cell \u001b[0;32mIn[19], line 1\u001b[0m\n\u001b[0;32m----> 1\u001b[0m selected_datasets_lower \u001b[38;5;241m=\u001b[39m [x\u001b[38;5;241m.\u001b[39mlower() \u001b[38;5;28;01mfor\u001b[39;00m x \u001b[38;5;129;01min\u001b[39;00m \u001b[43mselected_datasets\u001b[49m]\n",
      "\u001b[0;31mNameError\u001b[0m: name 'selected_datasets' is not defined"
     ]
    }
   ],
   "source": [
    "selected_datasets_lower = [x.lower() for x in selected_datasets]"
   ]
  },
  {
   "cell_type": "code",
   "execution_count": null,
   "id": "a67f5053-8b25-42fd-ab3b-6c3cebb02a4e",
   "metadata": {},
   "outputs": [],
   "source": [
    "normalizer = None\n",
    "if config[\"task_name\"] in ['qm7', 'qm9']:\n",
    "    labels = []\n",
    "    for d  in train_loader:\n",
    "        labels.append(d.y)\n",
    "    labels = torch.cat(labels)\n",
    "    normalizer = Normalizer(labels)\n",
    "    print(normalizer.mean, normalizer.std, labels.shape)"
   ]
  },
  {
   "cell_type": "code",
   "execution_count": 22,
   "id": "776348b9-60bf-4a23-8118-e8e2c6a1f9cb",
   "metadata": {},
   "outputs": [],
   "source": [
    "import torch\n",
    "from torch import nn\n",
    "import torch.nn.functional as F\n",
    "\n",
    "from torch_geometric.nn import MessagePassing\n",
    "from torch_geometric.utils import add_self_loops\n",
    "from torch_geometric.nn import global_add_pool, global_mean_pool, global_max_pool\n",
    "\n",
    "num_atom_type = 120 # including the extra mask tokens\n",
    "num_chirality_tag = 3\n",
    "\n",
    "num_bond_type = 6 # including aromatic and self-loop edge\n",
    "num_bond_direction = 4\n",
    "\n",
    "from util import topk, bottomk\n",
    "\n",
    "\n",
    "class GINEConv(MessagePassing):\n",
    "    def __init__(self, emb_dim):\n",
    "        super(GINEConv, self).__init__()\n",
    "        self.mlp = nn.Sequential(\n",
    "            nn.Linear(emb_dim, 2*emb_dim), \n",
    "            nn.ReLU(), \n",
    "            nn.Linear(2*emb_dim, emb_dim)\n",
    "        )\n",
    "        self.edge_embedding1 = nn.Embedding(num_bond_type, emb_dim)\n",
    "        self.edge_embedding2 = nn.Embedding(num_bond_direction, emb_dim)\n",
    "\n",
    "        nn.init.xavier_uniform_(self.edge_embedding1.weight.data)\n",
    "        nn.init.xavier_uniform_(self.edge_embedding2.weight.data)\n",
    "        # nn.init.xavier_uniform_(self.edge_embedding3.weight.data)\n",
    "\n",
    "\n",
    "    def forward(self, x, edge_index, edge_attr):\n",
    "        # add self loops in the edge space\n",
    "        edge_index = add_self_loops(edge_index, num_nodes=x.size(0))[0]\n",
    "\n",
    "        # add features corresponding to self-loop edges.\n",
    "        self_loop_attr = torch.zeros(x.size(0), 2)\n",
    "        self_loop_attr[:,0] = 4 # bond type for self-loop edge\n",
    "        self_loop_attr = self_loop_attr.to(edge_attr.device).to(edge_attr.dtype)\n",
    "\n",
    "        edge_attr = torch.cat((edge_attr, self_loop_attr), dim=0)\n",
    "        \n",
    "\n",
    "        edge_embeddings = self.edge_embedding1(edge_attr[:,0]) + \\\n",
    "            self.edge_embedding2(edge_attr[:,1])  \n",
    "\n",
    "        return self.propagate(edge_index, x=x, edge_attr=edge_embeddings)\n",
    "\n",
    "    def message(self, x_j, edge_attr):\n",
    "        return x_j + edge_attr\n",
    "\n",
    "    def update(self, aggr_out):\n",
    "        return self.mlp(aggr_out)\n",
    "\n",
    "\n",
    "\n",
    "class GINetRecon_rich_top(nn.Module):\n",
    "    \"\"\"\n",
    "    Args:\n",
    "        num_layer (int): the number of GNN layers\n",
    "        emb_dim (int): dimensionality of embeddings\n",
    "        drop_ratio (float): dropout rate\n",
    "        gnn_type: gin, gcn, graphsage, gat\n",
    "    Output:\n",
    "        node representations\n",
    "    \"\"\"\n",
    "    def __init__(self, \n",
    "        task='classification', num_layer=5, emb_dim=300, feat_dim=512, \n",
    "        drop_ratio=0, pool='mean', pred_n_layer=2, pred_act='softplus', num_task = 1, mask_rate = None,\n",
    "    ):\n",
    "        super(GINetRecon_rich_top, self).__init__()\n",
    "        self.num_layer = num_layer\n",
    "        self.emb_dim = emb_dim\n",
    "        self.feat_dim = feat_dim\n",
    "        self.drop_ratio = drop_ratio\n",
    "        self.task = task\n",
    "        self.num_task = num_task\n",
    "        self.mask_rate = mask_rate\n",
    "\n",
    "        self.x_embedding1 = nn.Embedding(num_atom_type, emb_dim)\n",
    "        self.x_embedding2 = nn.Embedding(num_chirality_tag, emb_dim)\n",
    "\n",
    "        nn.init.xavier_uniform_(self.x_embedding1.weight.data)\n",
    "        nn.init.xavier_uniform_(self.x_embedding2.weight.data)\n",
    "\n",
    "\n",
    "\n",
    "        # List of MLPs\n",
    "        self.gnns = nn.ModuleList()\n",
    "        for layer in range(num_layer):\n",
    "            self.gnns.append(GINEConv(emb_dim))\n",
    "\n",
    "        # List of batchnorms\n",
    "        self.batch_norms = nn.ModuleList()\n",
    "        for layer in range(num_layer):\n",
    "            self.batch_norms.append(nn.BatchNorm1d(emb_dim))\n",
    "\n",
    "        if pool == 'mean':\n",
    "            self.pool = global_mean_pool\n",
    "        elif pool == 'max':\n",
    "            self.pool = global_max_pool\n",
    "        elif pool == 'add':\n",
    "            self.pool = global_add_pool\n",
    "        self.feat_lin = nn.Linear(self.emb_dim, self.feat_dim)\n",
    "\n",
    "\n",
    "        self.pred_n_layer = max(1, pred_n_layer)\n",
    "\n",
    "        if pred_act == 'relu':\n",
    "            pred_head = [\n",
    "                nn.Linear(self.feat_dim, self.feat_dim//2), \n",
    "                nn.ReLU(inplace=True)\n",
    "            ]\n",
    "            for _ in range(self.pred_n_layer - 1):\n",
    "                pred_head.extend([\n",
    "                    nn.Linear(self.feat_dim//2, self.feat_dim//2), \n",
    "                    nn.ReLU(inplace=True),\n",
    "                ])\n",
    "            pred_head.append(nn.Linear(self.feat_dim//2, num_task))\n",
    "\n",
    "        elif pred_act == 'softplus':\n",
    "            pred_head = [\n",
    "                nn.Linear(self.feat_dim, self.feat_dim//2), \n",
    "                nn.Softplus()\n",
    "            ]\n",
    "            for _ in range(self.pred_n_layer - 1):\n",
    "                pred_head.extend([\n",
    "                    nn.Linear(self.feat_dim//2, self.feat_dim//2), \n",
    "                    nn.Softplus()\n",
    "                ])\n",
    "        else:\n",
    "            raise ValueError('Undefined activation function')\n",
    "        \n",
    "        self.dense_score = nn.Linear(self.feat_dim, 1)  # for node score\n",
    "\n",
    "        self.pred_head = nn.Sequential(*pred_head)\n",
    "\n",
    "        self.pred_head_last = nn.Linear(self.feat_dim//2, num_task)\n",
    "                        \n",
    "        # self.pred_head = nn.Sequential(*pred_head)\n",
    "\n",
    "    def forward(self, data, mask_node = None, mask_rate = None, rank_method = 'topk'):\n",
    "\n",
    "        x = data.x\n",
    "        edge_index = data.edge_index\n",
    "        edge_attr = data.edge_attr\n",
    "\n",
    "        if mask_node is not None:\n",
    "            feature_0_mask = self.x_embedding1(x[:,0].long())\n",
    "            feature_1_mask = self.x_embedding2(x[:,1].long())\n",
    "            \n",
    "            feature_0_mask[mask_node] = torch.zeros(self.emb_dim).to(feature_0_mask.device)\n",
    "            feature_1_mask[mask_node] = torch.zeros(self.emb_dim).to(feature_1_mask.device)\n",
    "\n",
    "            h = feature_0_mask + feature_1_mask\n",
    "\n",
    "        else: \n",
    "            \n",
    "            h = self.x_embedding1(x[:,0]) + self.x_embedding2(x[:,1])\n",
    "\n",
    "\n",
    "        for layer in range(self.num_layer):\n",
    "            h = self.gnns[layer](h, edge_index, edge_attr)\n",
    "            h = self.batch_norms[layer](h)\n",
    "            if layer == self.num_layer - 1:\n",
    "                h = F.dropout(h, self.drop_ratio, training=self.training)\n",
    "            else:\n",
    "                h = F.dropout(F.relu(h), self.drop_ratio, training=self.training)\n",
    "\n",
    "        h_node = h\n",
    "\n",
    "        h  = self.pool(h, data.batch)\n",
    "\n",
    "\n",
    "        if  mask_rate is not None:\n",
    "            score = self.dense_score(h_node).squeeze()\n",
    "\n",
    "            mask_rate = float(mask_rate)\n",
    "\n",
    "            if rank_method == 'topk':\n",
    "                node = topk(score, mask_rate, batch = data.batch) \n",
    "            elif rank_method == 'bottomk':\n",
    "                node = bottomk(score, mask_rate, batch = data.batch)\n",
    "\n",
    "\n",
    "            h = self.pred_head(h)\n",
    "\n",
    "            h_tsne = h\n",
    "\n",
    "            h = self.pred_head_last(h)\n",
    "            \n",
    "            return  h_node, h_tsne, h,  node\n",
    "        \n",
    "        else:\n",
    "  \n",
    "            h = self.pred_head(h)\n",
    "\n",
    "            h_tsne = h \n",
    "\n",
    "            h = self.pred_head_last(h)\n",
    "\n",
    "\n",
    "            return  h_node, h_tsne, h"
   ]
  },
  {
   "cell_type": "code",
   "execution_count": 23,
   "id": "3767c452-a32a-4fcc-8b44-530b2caeae2c",
   "metadata": {},
   "outputs": [],
   "source": [
    "model = GINetRecon_rich_top(config['dataset']['task'], **config[\"model\"]).to(device)"
   ]
  },
  {
   "cell_type": "code",
   "execution_count": 24,
   "id": "06db7d6f-bd6e-4a03-93fc-519b2a754a7e",
   "metadata": {},
   "outputs": [
    {
     "name": "stdout",
     "output_type": "stream",
     "text": [
      "pred_head.0.weight True\n",
      "pred_head.0.bias True\n",
      "pred_head.2.weight True\n",
      "pred_head.2.bias True\n",
      "pred_head_last.weight True\n",
      "pred_head_last.bias True\n"
     ]
    }
   ],
   "source": [
    "layer_list = []\n",
    "for name, param in model.named_parameters():\n",
    "    if 'pred_head' in name:\n",
    "        print(name, param.requires_grad)\n",
    "        layer_list.append(name)\n",
    "\n",
    "params = list(map(lambda x: x[1],list(filter(lambda kv: kv[0] in layer_list, model.named_parameters()))))\n",
    "base_params = list(map(lambda x: x[1],list(filter(lambda kv: kv[0] not in layer_list, model.named_parameters()))))\n",
    "\n",
    "linear_pred_atoms = torch.nn.Linear(args.emb_dim, 119).to(device)\n",
    "linear_pred_bonds = torch.nn.Linear(args.emb_dim, 4).to(device)\n",
    "\n",
    "\n",
    "optimizer_model = torch.optim.Adam(\n",
    "    [{'params': base_params, 'lr': config['init_base_lr']}, {'params': params}],\n",
    "    config['init_lr'], weight_decay=eval(config['weight_decay'])\n",
    ")\n",
    "\n",
    "optimizer_linear_pred_atoms = torch.optim.Adam(linear_pred_atoms.parameters(), lr=args.init_base_lr, weight_decay=eval(config['weight_decay']))\n",
    "optimizer_linear_pred_bonds = torch.optim.Adam(linear_pred_bonds.parameters(), lr=args.init_base_lr, weight_decay=eval(config['weight_decay']))\n",
    "\n",
    "model_list = [model, linear_pred_atoms, linear_pred_bonds]\n",
    "optimizer_list = [optimizer_model, optimizer_linear_pred_atoms, optimizer_linear_pred_bonds]\n",
    "\n",
    "if apex_support and config['fp16_precision']:\n",
    "    model, optimizer = amp.initialize(\n",
    "        model, optimizer, opt_level='O2', keep_batchnorm_fp32=True\n",
    "    )\n",
    "\n",
    "model_checkpoints_folder = os.path.join(writer.log_dir, 'checkpoints')\n",
    "\n",
    "# save config file\n",
    "_save_config_file(model_checkpoints_folder)"
   ]
  },
  {
   "cell_type": "code",
   "execution_count": null,
   "id": "e9f06fae-d5c9-461f-974e-d46c84f0045c",
   "metadata": {},
   "outputs": [],
   "source": []
  },
  {
   "cell_type": "code",
   "execution_count": 25,
   "id": "3eff6f96-fc93-4063-9f66-ae7dfcdcddb3",
   "metadata": {},
   "outputs": [],
   "source": [
    "    def _step( model_list, data, n_iter):\n",
    "        model, linear_pred_atoms, linear_pred_bonds = model_list\n",
    "\n",
    "\n",
    "        num_atom_type = 119\n",
    "        num_edge_type = 4\n",
    "\n",
    "        # get the prediction\n",
    "        node_rep, _,    pred, node_top = model(data, mask_rate = args.mask_rate )  # [N,C]\n",
    "\n",
    " \n",
    "        mask_node_labels_list = []\n",
    "        for atom_idx in node_top:\n",
    "            mask_node_labels_list.append(data.x[atom_idx].view(1, -1))\n",
    "\n",
    "        mask_node_label = torch.cat(mask_node_labels_list, dim=0)\n",
    "        masked_atom_indices = torch.tensor(node_top)\n",
    "\n",
    "        masked_x = data.x.clone()\n",
    "\n",
    "        for atom_idx in masked_atom_indices:\n",
    "            masked_x[atom_idx] = torch.tensor([num_atom_type, 0]).to(device)\n",
    "\n",
    "\n",
    "        if args.mask_edge:\n",
    "            # edge_index 찾기\n",
    "            connected_edge_indices = []\n",
    "            for bond_idx, (u, v) in enumerate(data.edge_index.cpu().numpy().T):\n",
    "                for atom_idx in masked_atom_indices:\n",
    "                    if atom_idx in set((u, v)) and \\\n",
    "                        bond_idx not in connected_edge_indices:\n",
    "                        connected_edge_indices.append(bond_idx)\n",
    "\n",
    "            if len(connected_edge_indices) > 0:\n",
    "                # create mask edge labels by copying bond features of the bonds connected to\n",
    "                # the mask atoms\n",
    "                mask_edge_labels_list = []\n",
    "                for bond_idx in connected_edge_indices[::2]: # because the\n",
    "                    # edge ordering is such that two directions of a single\n",
    "                    # edge occur in pairs, so to get the unique undirected\n",
    "                    \n",
    "                    # edge indices, we take every 2nd edge index from list\n",
    "                    mask_edge_labels_list.append(\n",
    "                        data.edge_attr[bond_idx].view(1, -1))\n",
    "\n",
    "                mask_edge_label = torch.cat(mask_edge_labels_list, dim=0)\n",
    "                # modify the original bond features of the bonds connected to the mask atoms\n",
    "\n",
    "                connected_edge_indices = torch.tensor(\n",
    "                    connected_edge_indices[::2])\n",
    "            else:\n",
    "                mask_edge_label = torch.empty((0, 2)).to(torch.int64)\n",
    "                connected_edge_indices = torch.tensor(\n",
    "                    connected_edge_indices).to(torch.int64)\n",
    "\n",
    "            # 데이터 마스킹 하고 예측하기   \n",
    "            masked_edge_attr = data.edge_attr.clone()\n",
    "\n",
    "            for edge_idx in connected_edge_indices:\n",
    "                masked_edge_attr[edge_idx] = torch.tensor([num_edge_type, 0]).to(device)\n",
    "\n",
    "            masked_edge_index = data.edge_index[:, data.connected_edge_indices]\n",
    "\n",
    "            masked_data = Data(x = masked_x ,edge_index = data.edge_index, edge_attr = masked_edge_attr) \n",
    "\n",
    "            node_rep_masked, output2_masked = model(data)\n",
    "\n",
    "            # edge_rep      \n",
    "            edge_rep = node_rep_masked[masked_edge_index[0]] + node_rep_masked[masked_edge_index[1]]\n",
    "            pred_edge = linear_pred_bonds(edge_rep)\n",
    "           \n",
    "            loss_recon_edge = criterion_recon(pred_edge.double(),  mask_edge_label[:,0])\n",
    "\n",
    "\n",
    "            pred_node = linear_pred_atoms(node_rep_masked[masked_atom_indices])\n",
    "            loss_recon_node = criterion_recon(pred_node.float(), data.mask_node_label[:,0])\n",
    "        \n",
    "        else: \n",
    "            masked_data = Data(x =  data.x ,edge_index = data.edge_index, edge_attr = data.edge_attr, batch = data.batch) \n",
    "\n",
    "            node_repre2, _,  output2_masked= model(masked_data, mask_node = masked_atom_indices, mask_rate = None)\n",
    "            \n",
    "            pred_node = linear_pred_atoms(node_repre2[masked_atom_indices])\n",
    "            loss_recon_node = criterion_recon(pred_node.double(), mask_node_label[:,0].long())\n",
    "\n",
    "        if config['dataset']['task'] == 'classification':\n",
    "\n",
    "            is_valid = data.y**2 > 0\n",
    "            \n",
    "            loss_mat = criterion(pred, (data.y+1)/2)\n",
    "            loss_mat = torch.where(is_valid, loss_mat, torch.zeros(loss_mat.shape).to(loss_mat.device).to(loss_mat.dtype))\n",
    "\n",
    "\n",
    "            loss = torch.sum(loss_mat) / torch.sum(is_valid)\n",
    "\n",
    "\n",
    "\n",
    "        elif config['dataset']['task'] == 'regression':\n",
    "            if normalizer:\n",
    "                loss = criterion(pred, normalizer.norm(data.y))\n",
    "            else:\n",
    "                loss = criterion(pred, data.y)\n",
    "\n",
    "        \n",
    "        if args.mask_edge:\n",
    "            total_loss = loss + args.alpha * (loss_recon_node + loss_recon_edge)\n",
    "            return pred, total_loss, loss, loss_recon_node, loss_recon_edge\n",
    "        else:\n",
    "            total_loss = loss + args.alpha * loss_recon_node\n",
    "            return pred, total_loss, loss, loss_recon_node, 0"
   ]
  },
  {
   "cell_type": "code",
   "execution_count": 26,
   "id": "e186794f-34b6-48d8-8e62-977bec846cfa",
   "metadata": {},
   "outputs": [],
   "source": [
    "\n",
    "def _step_test(model, data, n_iter):\n",
    "    # get the prediction\n",
    "    __, pred_tsne, pred = model(data)  # [N,C]\n",
    "\n",
    "    if config['dataset']['task'] == 'classification':\n",
    "\n",
    "        is_valid = data.y**2 > 0\n",
    "\n",
    "        loss_mat = criterion(pred, (data.y+1)/2)\n",
    "        loss_mat = torch.where(is_valid, loss_mat, torch.zeros(loss_mat.shape).to(loss_mat.device).to(loss_mat.dtype))\n",
    "\n",
    "\n",
    "        loss = torch.sum(loss_mat) / torch.sum(is_valid)\n",
    "\n",
    "    elif config['dataset']['task'] == 'regression':\n",
    "        if normalizer:\n",
    "            loss = criterion(pred, normalizer.norm(data.y))\n",
    "        else:\n",
    "            loss = criterion(pred, data.y)\n",
    "    return loss\n",
    "\n",
    "\n",
    "def _validate( model_list, valid_loader):\n",
    "    model, linear_pred_atoms, linear_pred_bonds = model_list\n",
    "\n",
    "    predictions = []\n",
    "    labels = []\n",
    "    with torch.no_grad():\n",
    "        model.eval()\n",
    "        linear_pred_atoms.eval()\n",
    "        linear_pred_bonds.eval()\n",
    "\n",
    "\n",
    "\n",
    "        valid_loss = 0.0\n",
    "        num_data = 0\n",
    "        for bn, data in enumerate(valid_loader):\n",
    "            data = data.to(device)\n",
    "\n",
    "            __, pred_tsn, pred  = model(data)\n",
    "            loss = _step_test(model, data, bn)\n",
    "\n",
    "            valid_loss += loss.item() * data.y.size(0)\n",
    "            num_data += data.y.size(0)\n",
    "\n",
    "            if normalizer:\n",
    "                pred = normalizer.denorm(pred)\n",
    "\n",
    "            if config['dataset']['task'] == 'classification':\n",
    "                \n",
    "                labels.append(data.y.view(pred.shape))\n",
    "                predictions.append(pred)\n",
    "\n",
    "            else:\n",
    "                if device == 'cpu':\n",
    "                    predictions.extend(pred.detach().numpy())\n",
    "                    labels.extend(data.y.flatten().numpy())\n",
    "                else:\n",
    "                    predictions.extend(pred.cpu().detach().numpy())\n",
    "                    labels.extend(data.y.cpu().flatten().numpy())\n",
    "\n",
    "        valid_loss /= num_data\n",
    "    \n",
    "    model.train()\n",
    "    linear_pred_atoms.train()\n",
    "    linear_pred_bonds.train()\n",
    "\n",
    "\n",
    "    if config['dataset']['task'] == 'regression':\n",
    "        predictions = np.array(predictions)\n",
    "        labels = np.array(labels)\n",
    "        if config['task_name'] in ['qm7', 'qm8', 'qm9']:\n",
    "            mae = mean_absolute_error(labels, predictions)\n",
    "            print('Validation loss:', valid_loss, 'MAE:', mae)\n",
    "            return valid_loss, mae\n",
    "        else:\n",
    "            rmse = root_mean_squared_error(labels, predictions, )\n",
    "            print('Validation loss:', valid_loss, 'RMSE:', rmse)\n",
    "            return valid_loss, rmse\n",
    "\n",
    "    elif config['dataset']['task'] == 'classification':\n",
    "        \n",
    "        labels = torch.cat(labels, dim=0).cpu().numpy()\n",
    "        predictions = torch.cat(predictions, dim=0).cpu().detach().numpy()\n",
    "\n",
    "        is_valid = labels**2 > 0\n",
    "        roc_auc = get_roc_auc_score(labels, predictions, is_valid)\n",
    "        print('Validation loss:', valid_loss, 'ROC AUC:', roc_auc)\n",
    "        return valid_loss, roc_auc\n"
   ]
  },
  {
   "cell_type": "code",
   "execution_count": 40,
   "id": "c5531a68-1f36-429f-8381-853603308f07",
   "metadata": {
    "scrolled": true
   },
   "outputs": [
    {
     "name": "stdout",
     "output_type": "stream",
     "text": [
      "0 0 0.6292968837047691\n",
      "0 50 0.4379707789612678\n",
      "Validation loss: 0.541459393267538 ROC AUC: 0.9082880434782609\n",
      "1 49 0.22586416791371655\n",
      "Validation loss: 0.7017207116472954 ROC AUC: 0.8951863354037267\n",
      "2 48 0.1981839119266072\n",
      "Validation loss: 0.8379131520495695 ROC AUC: 0.8962538819875776\n",
      "3 47 0.24012148336024836\n",
      "Validation loss: 0.7733414383495555 ROC AUC: 0.8866459627329193\n",
      "4 46 0.41875115755375303\n",
      "Validation loss: 0.535764943150913 ROC AUC: 0.921875\n",
      "5 45 0.12431586933173824\n",
      "Validation loss: 0.8986247427323285 ROC AUC: 0.9006211180124224\n",
      "6 44 0.14115060055084835\n",
      "Validation loss: 0.7102252046267191 ROC AUC: 0.9050854037267081\n",
      "7 43 0.35384791264084275\n",
      "Validation loss: 0.564972019663044 ROC AUC: 0.907123447204969\n",
      "8 42 0.23125298629813354\n",
      "Validation loss: 0.6446790613380133 ROC AUC: 0.907026397515528\n",
      "9 41 0.14025691706779597\n",
      "Validation loss: 0.7917895550821342 ROC AUC: 0.8972243788819875\n",
      "10 40 0.4840630548886052\n",
      "Validation loss: 0.4055290607845082 ROC AUC: 0.9250776397515528\n",
      "11 39 0.15108202812674082\n",
      "Validation loss: 0.870026687781016 ROC AUC: 0.8719914596273293\n",
      "12 38 0.23426564710301337\n",
      "Validation loss: 0.7109536119535858 ROC AUC: 0.8651979813664596\n",
      "13 37 0.31503812862996683\n",
      "Validation loss: 0.6080733163684022 ROC AUC: 0.9230395962732919\n",
      "14 36 0.23296446495071704\n",
      "Validation loss: 0.6113473550946105 ROC AUC: 0.8912072981366459\n",
      "15 35 0.18780564896751592\n",
      "Validation loss: 0.6200557105681476 ROC AUC: 0.8807259316770185\n",
      "16 34 0.23305951913604178\n",
      "Validation loss: 0.8400715025616627 ROC AUC: 0.9079968944099378\n",
      "17 33 0.513280589683062\n",
      "Validation loss: 0.8980855719715941 ROC AUC: 0.8962538819875776\n",
      "18 32 0.20303965796878326\n",
      "Validation loss: 0.8080364769580317 ROC AUC: 0.8725737577639752\n",
      "19 31 0.3077937253718391\n",
      "Validation loss: 0.6433141862644869 ROC AUC: 0.9114906832298136\n",
      "20 30 0.2642715635973469\n",
      "Validation loss: 0.5998471239033867 ROC AUC: 0.9284743788819876\n",
      "21 29 0.13766343006167253\n",
      "Validation loss: 0.6016270287481009 ROC AUC: 0.8909161490683231\n",
      "22 28 0.2926017419680416\n",
      "Validation loss: 0.717225496675454 ROC AUC: 0.9005240683229813\n",
      "23 27 0.3809809173082335\n",
      "Validation loss: 0.6249823131982017 ROC AUC: 0.906832298136646\n",
      "24 26 0.29110083652001795\n",
      "Validation loss: 0.8596184594081897 ROC AUC: 0.8948951863354038\n",
      "25 25 0.1746716295489869\n",
      "Validation loss: 0.7075700666390213 ROC AUC: 0.9334239130434783\n",
      "26 24 0.09094959142533078\n",
      "Validation loss: 0.8964009051229439 ROC AUC: 0.9152756211180124\n",
      "27 23 0.21835768974283412\n",
      "Validation loss: 0.586791446980308 ROC AUC: 0.9146933229813663\n",
      "28 22 0.2657305055842276\n",
      "Validation loss: 0.5279794849601447 ROC AUC: 0.9261451863354037\n",
      "29 21 0.18104023850342318\n",
      "Validation loss: 0.608418613233987 ROC AUC: 0.921875\n",
      "30 20 0.3040499273774164\n",
      "Validation loss: 0.9089918861202165 ROC AUC: 0.8544254658385093\n",
      "31 19 0.13220032403711202\n",
      "Validation loss: 0.813159338983835 ROC AUC: 0.9183812111801243\n",
      "32 18 0.34228221286906807\n",
      "Validation loss: 0.6356879846722472 ROC AUC: 0.9050854037267081\n",
      "33 17 0.4200909080884405\n",
      "Validation loss: 0.739192523208319 ROC AUC: 0.9044060559006212\n",
      "34 16 0.14179542778397342\n",
      "Validation loss: 0.4543568772428176 ROC AUC: 0.906541149068323\n",
      "35 15 0.08889899178979217\n",
      "Validation loss: 0.5841591124441109 ROC AUC: 0.9131405279503105\n",
      "36 14 0.13208668003027194\n",
      "Validation loss: 0.6298032636735954 ROC AUC: 0.9003299689440993\n",
      "37 13 0.20799127146816032\n",
      "Validation loss: 0.5247236361690596 ROC AUC: 0.9122670807453417\n",
      "38 12 0.15370721195083464\n",
      "Validation loss: 0.48886918429942694 ROC AUC: 0.9361413043478262\n",
      "39 11 0.14117425035881093\n",
      "Validation loss: 0.8912230852772208 ROC AUC: 0.9035326086956522\n",
      "40 10 0.1280957015285216\n",
      "Validation loss: 0.41365104329352287 ROC AUC: 0.9262422360248447\n",
      "41 9 0.25937799031148784\n",
      "Validation loss: 0.5223867577664992 ROC AUC: 0.9269215838509317\n",
      "42 8 0.36067374001019264\n",
      "Validation loss: 0.4198850574446659 ROC AUC: 0.9395380434782608\n",
      "43 7 0.16137926663429525\n",
      "Validation loss: 0.7819616712775885 ROC AUC: 0.9144021739130435\n",
      "44 6 0.11625648120034018\n",
      "Validation loss: 0.6707667877861098 ROC AUC: 0.8804347826086957\n",
      "45 5 0.1811112134335652\n",
      "Validation loss: 0.6603729152211956 ROC AUC: 0.9111995341614907\n",
      "46 4 0.13010495833396782\n",
      "Validation loss: 0.5630387745651544 ROC AUC: 0.8925659937888198\n",
      "47 3 0.08848340282492922\n",
      "Validation loss: 0.4142510709809322 ROC AUC: 0.905085403726708\n",
      "48 2 0.1882062268155602\n",
      "Validation loss: 0.6371275636495328 ROC AUC: 0.9169254658385094\n",
      "49 1 0.16414729278715284\n",
      "Validation loss: 0.6635600842681586 ROC AUC: 0.9263392857142858\n",
      "50 0 0.04630813030295945\n",
      "50 50 0.2047895400585854\n",
      "Validation loss: 0.8586521359050975 ROC AUC: 0.844332298136646\n",
      "51 49 0.17440215810852744\n",
      "Validation loss: 0.7931632457994947 ROC AUC: 0.8850931677018634\n",
      "52 48 0.3065867924557736\n",
      "Validation loss: 0.7550367508448806 ROC AUC: 0.9177989130434782\n",
      "53 47 0.36672636589753493\n",
      "Validation loss: 0.5326681639633927 ROC AUC: 0.9257569875776397\n",
      "54 46 0.14716513961318448\n",
      "Validation loss: 0.7074598053506777 ROC AUC: 0.9110054347826088\n",
      "55 45 0.37553194751925156\n",
      "Validation loss: 0.7219797986395219 ROC AUC: 0.9086762422360248\n",
      "56 44 0.03845921148034187\n",
      "Validation loss: 0.9894803832559025 ROC AUC: 0.8856754658385093\n",
      "57 43 0.15096040818920442\n",
      "Validation loss: 0.7136423856604333 ROC AUC: 0.9080939440993789\n",
      "58 42 0.3315986833089686\n",
      "Validation loss: 1.2202634887368071 ROC AUC: 0.8840256211180124\n",
      "59 41 0.10243294287252634\n",
      "Validation loss: 0.495242692676245 ROC AUC: 0.9151785714285715\n",
      "60 40 0.29214554678989085\n",
      "Validation loss: 0.7155727475297218 ROC AUC: 0.9295419254658385\n",
      "61 39 0.06708202503325392\n",
      "Validation loss: 0.55087242640701 ROC AUC: 0.9263392857142857\n",
      "62 38 0.17767112800115475\n",
      "Validation loss: 0.7948456225441951 ROC AUC: 0.8955745341614907\n",
      "63 37 0.16353278077834807\n",
      "Validation loss: 0.75308891137441 ROC AUC: 0.9143051242236025\n",
      "64 36 0.08205240887903834\n",
      "Validation loss: 0.5370182576132756 ROC AUC: 0.9207104037267081\n",
      "65 35 0.13843797895400484\n",
      "Validation loss: 0.8754913976379469 ROC AUC: 0.90527950310559\n",
      "66 34 0.04380218568474367\n",
      "Validation loss: 1.0384572136635875 ROC AUC: 0.9092585403726707\n",
      "67 33 0.05145177223258075\n",
      "Validation loss: 0.5988326670200217 ROC AUC: 0.8937305900621116\n",
      "68 32 0.17030142882592053\n",
      "Validation loss: 0.7973255187857384 ROC AUC: 0.8917895962732919\n",
      "69 31 0.09136579944245551\n",
      "Validation loss: 0.6752257837968714 ROC AUC: 0.8993594720496895\n",
      "70 30 0.11143848182467628\n",
      "Validation loss: 0.9518111126095641 ROC AUC: 0.8686917701863355\n",
      "71 29 0.2185365292560273\n",
      "Validation loss: 1.1619003239799948 ROC AUC: 0.9017857142857143\n",
      "72 28 0.4813748715481035\n",
      "Validation loss: 0.830542573741838 ROC AUC: 0.9117818322981365\n",
      "73 27 0.1371509246564901\n",
      "Validation loss: 0.9520637065756554 ROC AUC: 0.8939246894409938\n",
      "74 26 0.2608216023056122\n",
      "Validation loss: 0.4870063954708623 ROC AUC: 0.9130434782608696\n",
      "75 25 0.15023095198259473\n",
      "Validation loss: 0.9234343895725176 ROC AUC: 0.8840256211180124\n",
      "76 24 0.22601452231307836\n",
      "Validation loss: 0.8271882861268287 ROC AUC: 0.889460403726708\n",
      "77 23 0.2788842999310758\n",
      "Validation loss: 0.7986478314680212 ROC AUC: 0.8767468944099378\n",
      "78 22 0.12703597122170496\n",
      "Validation loss: 0.8265096393286013 ROC AUC: 0.8945069875776396\n",
      "79 21 0.1945975656872832\n",
      "Validation loss: 0.6822579023884792 ROC AUC: 0.8947010869565217\n",
      "80 20 0.2180837658121039\n",
      "Validation loss: 0.697783929460189 ROC AUC: 0.90625\n",
      "81 19 0.1092880030164507\n",
      "Validation loss: 0.7119576557009828 ROC AUC: 0.8991653726708074\n",
      "82 18 0.13513475742755307\n",
      "Validation loss: 0.7126118131712371 ROC AUC: 0.888392857142857\n",
      "83 17 0.07339184961748146\n",
      "Validation loss: 0.7295771545054865 ROC AUC: 0.9026591614906833\n",
      "84 16 0.04428286244575109\n",
      "Validation loss: 0.787115144963358 ROC AUC: 0.907123447204969\n",
      "85 15 0.1035367194237061\n",
      "Validation loss: 0.8034178295044923 ROC AUC: 0.8969332298136646\n",
      "86 14 0.04045912618274148\n",
      "Validation loss: 0.8105772830107633 ROC AUC: 0.8998447204968945\n",
      "87 13 0.1445290275112787\n",
      "Validation loss: 0.9781281977307563 ROC AUC: 0.9013975155279502\n",
      "88 12 0.047888814787439775\n",
      "Validation loss: 0.7317828360725852 ROC AUC: 0.9024650621118012\n",
      "89 11 0.106238156878453\n",
      "Validation loss: 0.8135638546709921 ROC AUC: 0.9041149068322981\n",
      "90 10 0.1598989160529658\n",
      "Validation loss: 1.0058630349881508 ROC AUC: 0.888781055900621\n",
      "91 9 0.09156885436732823\n",
      "Validation loss: 0.8221239155414057 ROC AUC: 0.907705745341615\n",
      "92 8 0.10460752409106239\n",
      "Validation loss: 1.1181167800929033 ROC AUC: 0.8696622670807455\n",
      "93 7 0.4178174889365844\n",
      "Validation loss: 1.032730251660242 ROC AUC: 0.8981948757763975\n",
      "94 6 0.11959596776487208\n",
      "Validation loss: 0.800389708257189 ROC AUC: 0.8963509316770186\n",
      "95 5 0.20498944452906126\n",
      "Validation loss: 0.9380558799294865 ROC AUC: 0.9054736024844721\n",
      "96 4 0.3508671889414077\n",
      "Validation loss: 0.7264208946851831 ROC AUC: 0.9184782608695652\n",
      "97 3 0.04747131320363909\n",
      "Validation loss: 0.859795374028823 ROC AUC: 0.9094526397515528\n",
      "98 2 0.12224668769515028\n",
      "Validation loss: 0.9506237179625268 ROC AUC: 0.9097437888198756\n",
      "99 1 0.06873431792229814\n",
      "Validation loss: 0.9546017375975555 ROC AUC: 0.9137228260869565\n",
      "100 0 0.15850535936167548\n",
      "100 50 0.08387989561802453\n",
      "Validation loss: 0.8845665209433612 ROC AUC: 0.9118788819875776\n",
      "101 49 0.16098479633126472\n",
      "Validation loss: 0.719741928190285 ROC AUC: 0.9187694099378881\n",
      "102 48 0.08394071246941383\n",
      "Validation loss: 0.9719605056167233 ROC AUC: 0.8875194099378881\n",
      "103 47 0.08466747257466371\n",
      "Validation loss: 1.2563033755503448 ROC AUC: 0.8815023291925465\n",
      "104 46 0.058951025177396844\n",
      "Validation loss: 0.6214033845885127 ROC AUC: 0.9123641304347825\n",
      "105 45 0.13870379022935317\n",
      "Validation loss: 0.7709036855136647 ROC AUC: 0.9008152173913043\n",
      "106 44 0.09371103079760895\n",
      "Validation loss: 0.8619322490458395 ROC AUC: 0.8916925465838509\n",
      "107 43 0.09932584559608011\n",
      "Validation loss: 0.7323072595047015 ROC AUC: 0.9119759316770185\n",
      "108 42 0.061963002327057065\n",
      "Validation loss: 0.7385088713730082 ROC AUC: 0.9174107142857142\n",
      "109 41 0.1567072799591518\n",
      "Validation loss: 1.0440379240933586 ROC AUC: 0.8977096273291926\n",
      "110 40 0.037110243662373435\n",
      "Validation loss: 1.1632068823365604 ROC AUC: 0.8950892857142857\n",
      "111 39 0.27469685755312984\n",
      "Validation loss: 0.721681045550926 ROC AUC: 0.9082880434782606\n",
      "112 38 0.06041584652970307\n",
      "Validation loss: 1.015575885772705 ROC AUC: 0.9013975155279503\n",
      "113 37 0.23499729534985989\n",
      "Validation loss: 0.6911960735040552 ROC AUC: 0.9091614906832298\n",
      "114 36 0.08359354342079299\n",
      "Validation loss: 0.8642116785049438 ROC AUC: 0.9036296583850931\n",
      "115 35 0.07538649145051737\n",
      "Validation loss: 0.8768932936238307 ROC AUC: 0.906638198757764\n",
      "116 34 0.07809726615773835\n",
      "Validation loss: 0.8147039319954666 ROC AUC: 0.9137228260869564\n",
      "117 33 0.11262009887955424\n",
      "Validation loss: 0.8687226144122142 ROC AUC: 0.9069293478260871\n",
      "118 32 0.11027935670893216\n",
      "Validation loss: 0.715241531531016 ROC AUC: 0.9181871118012424\n",
      "119 31 0.22731794041678036\n",
      "Validation loss: 0.7951797638818914 ROC AUC: 0.906832298136646\n",
      "120 30 0.041323410831638374\n",
      "Validation loss: 0.9695307448798535 ROC AUC: 0.9190605590062112\n",
      "121 29 0.1299598864835807\n",
      "Validation loss: 0.7989163847055798 ROC AUC: 0.9135287267080746\n",
      "122 28 0.10784960674690083\n",
      "Validation loss: 0.817297617594401 ROC AUC: 0.9053765527950312\n",
      "123 27 0.12965270679184976\n",
      "Validation loss: 0.81006179784662 ROC AUC: 0.9251746894409938\n",
      "124 26 0.0535516840639185\n",
      "Validation loss: 0.7203263660856322 ROC AUC: 0.9225543478260869\n",
      "125 25 0.08599854904779217\n",
      "Validation loss: 1.0514414915267158 ROC AUC: 0.903823757763975\n",
      "126 24 0.02266127441993853\n",
      "Validation loss: 1.0028532755141164 ROC AUC: 0.9116847826086956\n",
      "127 23 0.3366079484684102\n",
      "Validation loss: 1.1577385710734946 ROC AUC: 0.9121700310559006\n",
      "128 22 0.06745852547543671\n",
      "Validation loss: 0.7689728900498035 ROC AUC: 0.9080939440993789\n",
      "129 21 0.04915278488866795\n",
      "Validation loss: 0.8617460211264152 ROC AUC: 0.9162461180124223\n",
      "130 20 0.02001521656577529\n",
      "Validation loss: 0.9692444181909748 ROC AUC: 0.9112965838509316\n",
      "131 19 0.08522998999001785\n",
      "Validation loss: 1.1158083934409946 ROC AUC: 0.875\n",
      "132 18 0.043349335418602544\n",
      "Validation loss: 0.8549762122771319 ROC AUC: 0.922360248447205\n",
      "133 17 0.11869215893280184\n",
      "Validation loss: 0.8999420918670356 ROC AUC: 0.9068322981366459\n",
      "134 16 0.023900516554035127\n",
      "Validation loss: 0.7858586568458408 ROC AUC: 0.9124611801242237\n",
      "135 15 0.16979488103147466\n",
      "Validation loss: 0.6902841519491345 ROC AUC: 0.9181871118012421\n",
      "136 14 0.0396412022034898\n",
      "Validation loss: 0.8528179771759931 ROC AUC: 0.9195458074534161\n",
      "137 13 0.10396200062439384\n",
      "Validation loss: 0.8877341887530159 ROC AUC: 0.9281832298136645\n",
      "138 12 0.1501540758050449\n",
      "Validation loss: 0.8973533952900884 ROC AUC: 0.920419254658385\n",
      "139 11 0.05797228719696654\n",
      "Validation loss: 1.0750645889955408 ROC AUC: 0.9105201863354038\n",
      "140 10 0.3006620119895118\n",
      "Validation loss: 0.9727388401241863 ROC AUC: 0.9145962732919255\n",
      "141 9 0.07143818892249885\n",
      "Validation loss: 1.0971156545713836 ROC AUC: 0.907414596273292\n",
      "142 8 0.07446719479706253\n",
      "Validation loss: 0.9447928806584255 ROC AUC: 0.9035326086956521\n",
      "143 7 0.022563890509491383\n",
      "Validation loss: 0.9504773160990547 ROC AUC: 0.9153726708074535\n",
      "144 6 0.1147089879923762\n",
      "Validation loss: 0.9781008771821564 ROC AUC: 0.8952833850931676\n",
      "145 5 0.09784075971186838\n",
      "Validation loss: 1.0426538364559996 ROC AUC: 0.9048913043478262\n",
      "146 4 0.0903225063651962\n",
      "Validation loss: 0.8415237513242984 ROC AUC: 0.9029503105590061\n",
      "147 3 0.0970259587417755\n",
      "Validation loss: 1.237613930421717 ROC AUC: 0.889945652173913\n",
      "148 2 0.030765787450767895\n",
      "Validation loss: 0.9157787958780924 ROC AUC: 0.9073175465838509\n",
      "149 1 0.1134119477482328\n",
      "Validation loss: 1.147787194626004 ROC AUC: 0.8925659937888198\n",
      "150 0 0.04223203687642106\n",
      "150 50 0.0892918002288325\n",
      "Validation loss: 0.9885943134625753 ROC AUC: 0.9078027950310559\n",
      "151 49 0.03729241806503854\n",
      "Validation loss: 1.3108205245990379 ROC AUC: 0.8940217391304347\n",
      "152 48 0.0948363179744947\n",
      "Validation loss: 0.9805417434841979 ROC AUC: 0.8834433229813665\n",
      "153 47 0.028144721275641077\n",
      "Validation loss: 1.2119269090540268 ROC AUC: 0.906832298136646\n",
      "154 46 0.21637708922257298\n",
      "Validation loss: 1.0437670472790213 ROC AUC: 0.9032414596273292\n",
      "155 45 0.025968882457275137\n",
      "Validation loss: 1.0016281581392474 ROC AUC: 0.9128493788819876\n",
      "156 44 0.014411206581537737\n",
      "Validation loss: 0.9226193603347329 ROC AUC: 0.9096467391304348\n",
      "157 43 0.03315990147483411\n",
      "Validation loss: 0.896747537687713 ROC AUC: 0.9082880434782609\n",
      "158 42 0.047493491142912875\n",
      "Validation loss: 0.693809494814452 ROC AUC: 0.9093555900621119\n",
      "159 41 0.0662522255229483\n",
      "Validation loss: 0.9848599784514483 ROC AUC: 0.9001358695652173\n",
      "160 40 0.04635072444986949\n",
      "Validation loss: 1.2009226440214644 ROC AUC: 0.8922748447204969\n",
      "161 39 0.0664367850789963\n",
      "Validation loss: 0.884487950334362 ROC AUC: 0.9075116459627329\n",
      "162 38 0.19762174649796177\n",
      "Validation loss: 1.0240563785328585 ROC AUC: 0.9000388198757764\n",
      "163 37 0.08649381775255399\n",
      "Validation loss: 0.9824638921840518 ROC AUC: 0.8947010869565216\n",
      "164 36 0.057237209038053724\n",
      "Validation loss: 1.113112211227417 ROC AUC: 0.8998447204968942\n",
      "165 35 0.10132813990557152\n",
      "Validation loss: 1.2709728625475192 ROC AUC: 0.8874223602484472\n",
      "166 34 0.07552906730138415\n",
      "Validation loss: 1.2980172772910081 ROC AUC: 0.9023680124223602\n",
      "167 33 0.054616399231357096\n",
      "Validation loss: 1.3711787742726944 ROC AUC: 0.8976125776397516\n",
      "168 32 0.03617825032902239\n",
      "Validation loss: 1.1473838301265942 ROC AUC: 0.8855784161490683\n",
      "169 31 0.013059756110159592\n",
      "Validation loss: 1.4552429376863967 ROC AUC: 0.8845108695652174\n",
      "170 30 0.04225432619962288\n",
      "Validation loss: 1.3788871952131683 ROC AUC: 0.903532608695652\n",
      "171 29 0.041260770689472925\n",
      "Validation loss: 0.9913202056606465 ROC AUC: 0.9146933229813664\n",
      "172 28 0.08526646894812631\n",
      "Validation loss: 1.2175512898202037 ROC AUC: 0.9091614906832298\n",
      "173 27 0.043816624558679323\n",
      "Validation loss: 1.1814221608390867 ROC AUC: 0.9090644409937888\n",
      "174 26 0.3346585926989095\n",
      "Validation loss: 0.6632789151341307 ROC AUC: 0.9217779503105589\n",
      "175 25 0.08892030283733018\n",
      "Validation loss: 1.0838925744972976 ROC AUC: 0.8956715838509316\n",
      "176 24 0.07851486388312114\n",
      "Validation loss: 1.029338302565556 ROC AUC: 0.9078027950310559\n",
      "177 23 0.05649754440480151\n",
      "Validation loss: 0.7949143157285803 ROC AUC: 0.9197399068322982\n",
      "178 22 0.02912201330837462\n",
      "Validation loss: 0.9579282601674398 ROC AUC: 0.9129464285714286\n",
      "179 21 0.016652230108810964\n",
      "Validation loss: 1.301597698062074 ROC AUC: 0.8877135093167702\n",
      "180 20 0.02901504266044522\n",
      "Validation loss: 1.5074973018730389 ROC AUC: 0.9011063664596274\n",
      "181 19 0.013819523591938575\n",
      "Validation loss: 1.5865274971606684 ROC AUC: 0.9010093167701863\n",
      "182 18 0.07177272214004742\n",
      "Validation loss: 1.4374039253589752 ROC AUC: 0.9014945652173912\n",
      "183 17 0.06005899773057345\n",
      "Validation loss: 1.2790240212982775 ROC AUC: 0.8969332298136646\n",
      "184 16 0.05018561851155115\n",
      "Validation loss: 1.4257022352779614 ROC AUC: 0.8916925465838509\n",
      "185 15 0.10144757379557048\n",
      "Validation loss: 1.1586785339841656 ROC AUC: 0.9039208074534162\n",
      "186 14 0.14891089651358827\n",
      "Validation loss: 1.205215435402066 ROC AUC: 0.906735248447205\n",
      "187 13 0.05579537317217244\n",
      "Validation loss: 1.60164241273157 ROC AUC: 0.8871312111801243\n",
      "188 12 0.0631328022459761\n",
      "Validation loss: 1.3582733820817963 ROC AUC: 0.8958656832298137\n",
      "189 11 0.012910234415583081\n",
      "Validation loss: 1.6855533870996213 ROC AUC: 0.8876164596273292\n",
      "190 10 0.019449434937914397\n",
      "Validation loss: 1.629366720423979 ROC AUC: 0.8980007763975155\n",
      "191 9 0.04425628663512599\n",
      "Validation loss: 1.3621482452669857 ROC AUC: 0.9037267080745341\n",
      "192 8 0.0650921203004455\n",
      "Validation loss: 1.1707146880673427 ROC AUC: 0.8915954968944099\n",
      "193 7 0.0740095698755866\n",
      "Validation loss: 1.2136321815789914 ROC AUC: 0.9064440993788819\n",
      "194 6 0.07272871487382435\n",
      "Validation loss: 1.3982545783487605 ROC AUC: 0.9046001552795031\n",
      "195 5 0.023806412395346088\n",
      "Validation loss: 1.439976505204743 ROC AUC: 0.8871312111801244\n",
      "196 4 0.08209512434728966\n",
      "Validation loss: 1.2818287312984467 ROC AUC: 0.9023680124223603\n",
      "197 3 0.016308955881000984\n",
      "Validation loss: 1.4943464573691874 ROC AUC: 0.8950892857142856\n",
      "198 2 0.12117554162918286\n",
      "Validation loss: 1.3338857036010892 ROC AUC: 0.8922748447204969\n",
      "199 1 0.05146201049358175\n",
      "Validation loss: 1.2720423907625908 ROC AUC: 0.8849961180124223\n"
     ]
    }
   ],
   "source": [
    "import numpy as np\n",
    "n_iter = 0\n",
    "valid_n_iter = 0\n",
    "best_valid_loss = np.inf\n",
    "best_valid_rgr = np.inf\n",
    "best_valid_cls = 0\n",
    "\n",
    "for epoch_counter in range(config['epochs']):\n",
    "# for epoch_counter in range(2):\n",
    "    \n",
    "    for bn, data in enumerate(train_loader):\n",
    "        predictions = []\n",
    "        labels = []\n",
    "\n",
    "        optimizer_model.zero_grad()\n",
    "        optimizer_linear_pred_atoms.zero_grad()\n",
    "        if args.mask_edge:\n",
    "            optimizer_linear_pred_bonds.zero_grad()\n",
    "\n",
    "        data = data.to(device)\n",
    "        pred, total_loss, loss_end, loss_recon, loss_recon_edge = _step(model_list, data, n_iter)\n",
    "\n",
    "        if n_iter % config['log_every_n_steps'] == 0:\n",
    "            # writer.add_scalar('loss_total/train', total_loss, global_step=n_iter)\n",
    "            writer.add_scalar('loss_total/train_loss_total', total_loss, epoch_counter)\n",
    "            writer.add_scalar('loss_end/train_loss_end', loss_end, epoch_counter)\n",
    "            writer.add_scalar('loss_recon_node/train_loss_recon_node', loss_recon, epoch_counter)\n",
    "            writer.add_scalar('loss_recon_edge/train_loss_recon_edge', loss_recon_edge, epoch_counter)\n",
    "        \n",
    "\n",
    "            print(epoch_counter, bn, total_loss.item())\n",
    "\n",
    "        if apex_support and config['fp16_precision']:\n",
    "            with amp.scale_loss(total_loss, optimizer) as scaled_loss:\n",
    "                scaled_loss.backward()\n",
    "        else:\n",
    "            total_loss.backward()\n",
    "\n",
    "        optimizer_model.step()\n",
    "        optimizer_linear_pred_atoms.step()\n",
    "        if args.mask_edge:\n",
    "            optimizer_linear_pred_bonds.step()\n",
    "\n",
    "        n_iter += 1\n",
    "\n",
    "\n",
    "    # validate the model if requested\n",
    "    if epoch_counter % config['eval_every_n_epochs'] == 0:\n",
    "        if config['dataset']['task'] == 'classification': \n",
    "\n",
    "\n",
    "            valid_loss, valid_cls = _validate(model_list, valid_loader)\n",
    "            if valid_cls > best_valid_cls:\n",
    "                # save the model weights\n",
    "                best_valid_cls = valid_cls\n",
    "                torch.save(model.state_dict(), os.path.join(model_checkpoints_folder, 'model.pth'))\n",
    "\n",
    "            writer.add_scalar('accuracy/validation', valid_cls, epoch_counter)\n",
    "        elif config['dataset']['task'] == 'regression':\n",
    "\n",
    "     \n",
    "            valid_loss, valid_rgr = _validate(model_list, valid_loader)\n",
    "            if valid_rgr < best_valid_rgr:\n",
    "                # save the model weights\n",
    "                best_valid_rgr = valid_rgr\n",
    "                torch.save(model.state_dict(), os.path.join(model_checkpoints_folder, 'model.pth'))\n",
    "            writer.add_scalar('accuracy/validation', valid_rgr, epoch_counter)\n",
    "\n",
    "        writer.add_scalar('loss_end/validation_loss_end', valid_loss, epoch_counter)\n",
    "        writer.add_scalar('loss_total/validation_loss_total', valid_loss, epoch_counter)\n",
    "\n",
    "        valid_n_iter += 1"
   ]
  },
  {
   "cell_type": "code",
   "execution_count": 41,
   "id": "48fbeed4-1a0b-4424-9dab-4da50d5b1db3",
   "metadata": {},
   "outputs": [
    {
     "name": "stdout",
     "output_type": "stream",
     "text": [
      "Loaded trained model with success.\n"
     ]
    }
   ],
   "source": [
    "    model_path = os.path.join(writer.log_dir, 'checkpoints', 'model.pth')\n",
    "    state_dict = torch.load(model_path, map_location=device)\n",
    "    model.load_state_dict(state_dict)\n",
    "    print(\"Loaded trained model with success.\")\n",
    "\n",
    "    num_atom_type = 119\n",
    "    num_edge_type = 4\n",
    "\n",
    "    predictions_node = []\n",
    "    labels_node = []\n",
    "    predictions_edge = []\n",
    "    labels_edge = []\n"
   ]
  },
  {
   "cell_type": "code",
   "execution_count": 25,
   "id": "91b502d3-dc36-4eb0-b947-d70127ac78a4",
   "metadata": {},
   "outputs": [],
   "source": [
    "num_atom_type = 119\n",
    "num_edge_type = 4\n",
    "\n",
    "predictions_node = []\n",
    "labels_node = []\n",
    "predictions_edge = []\n",
    "labels_edge = []\n",
    "\n",
    "with torch.no_grad():\n",
    "    model.eval()\n",
    "    linear_pred_atoms.eval()\n",
    "    linear_pred_bonds.eval()\n"
   ]
  },
  {
   "cell_type": "markdown",
   "id": "a36f1103-1f0e-4308-a845-f4f61e15ee2c",
   "metadata": {},
   "source": [
    "## test data 전체에 대해서"
   ]
  },
  {
   "cell_type": "code",
   "execution_count": 26,
   "id": "090dd750-c201-4908-84f2-6097ed44c1e4",
   "metadata": {},
   "outputs": [],
   "source": [
    "import torch\n",
    "from torch_geometric.data import Batch\n",
    "\n",
    "# all_batches에 모든 배치를 리스트로 저장합니다.\n",
    "all_batches = []\n",
    "\n",
    "# train_loader로부터 배치를 가져와 리스트에 추가합니다.\n",
    "for batch in test_loader:\n",
    "    all_batches.append(batch)\n",
    "\n",
    "# 모든 배치를 하나로 합칩니다.\n",
    "merged_batch = Batch.from_data_list(all_batches)"
   ]
  },
  {
   "cell_type": "code",
   "execution_count": 27,
   "id": "e39a9f42-e470-45f1-b40c-b77b1ba0384c",
   "metadata": {},
   "outputs": [
    {
     "data": {
      "text/plain": [
       "DataBatch(x=[15139, 2], edge_index=[2, 31142], edge_attr=[31142, 2], y=[143, 27], batch=[15139])"
      ]
     },
     "execution_count": 27,
     "metadata": {},
     "output_type": "execute_result"
    }
   ],
   "source": [
    "merged_batch.to(device)"
   ]
  },
  {
   "cell_type": "code",
   "execution_count": 29,
   "id": "a1e88b6b-617c-4c2f-9d02-57c6afa12bc8",
   "metadata": {},
   "outputs": [
    {
     "data": {
      "text/plain": [
       "tensor([[ 1,  1, -1,  ..., -1,  1,  1],\n",
       "        [ 1,  1, -1,  ..., -1,  1, -1],\n",
       "        [ 1,  1, -1,  ...,  1,  1,  1],\n",
       "        ...,\n",
       "        [-1,  1, -1,  ...,  1,  1,  1],\n",
       "        [ 1, -1, -1,  ..., -1, -1, -1],\n",
       "        [ 1,  1, -1,  ...,  1,  1,  1]], device='cuda:1')"
      ]
     },
     "execution_count": 29,
     "metadata": {},
     "output_type": "execute_result"
    }
   ],
   "source": [
    "merged_batch.y"
   ]
  },
  {
   "cell_type": "code",
   "execution_count": 42,
   "id": "7d812119-1182-42ed-a56f-2110dc1611b4",
   "metadata": {},
   "outputs": [],
   "source": [
    "__, pred_tsne,   pred = model(merged_batch)"
   ]
  },
  {
   "cell_type": "code",
   "execution_count": 43,
   "id": "adf5c7b1-d86f-47f2-a14c-9a349389d95b",
   "metadata": {},
   "outputs": [],
   "source": [
    "from sklearn.manifold import TSNE\n",
    "import matplotlib.pyplot as plt\n",
    "\n",
    "pred_tsne_np = pred_tsne.detach().cpu().numpy()\n",
    "target_values = merged_batch.y.detach().cpu().numpy()\n",
    "\n",
    "pred_tsne_np = TSNE(n_components = 2).fit_transform(pred_tsne_np)"
   ]
  },
  {
   "cell_type": "code",
   "execution_count": 45,
   "id": "e2271165-4adf-4289-be15-2f04edbd5d51",
   "metadata": {},
   "outputs": [
    {
     "data": {
      "text/plain": [
       "(143, 2)"
      ]
     },
     "execution_count": 45,
     "metadata": {},
     "output_type": "execute_result"
    }
   ],
   "source": [
    "pred_tsne_np.shape"
   ]
  },
  {
   "cell_type": "code",
   "execution_count": 38,
   "id": "d4fa5f3e-1a48-4dd2-b063-897b16f17223",
   "metadata": {},
   "outputs": [
    {
     "data": {
      "text/plain": [
       "27"
      ]
     },
     "execution_count": 38,
     "metadata": {},
     "output_type": "execute_result"
    }
   ],
   "source": [
    "num_classes = len(config['dataset']['target'])\n",
    "num_classes"
   ]
  },
  {
   "cell_type": "code",
   "execution_count": 39,
   "id": "563aa04d-50e0-4cf7-8e67-c7dab850b5d8",
   "metadata": {},
   "outputs": [
    {
     "ename": "IndexError",
     "evalue": "boolean index did not match indexed array along dimension 0; dimension is 143 but corresponding boolean dimension is 3861",
     "output_type": "error",
     "traceback": [
      "\u001b[0;31m---------------------------------------------------------------------------\u001b[0m",
      "\u001b[0;31mIndexError\u001b[0m                                Traceback (most recent call last)",
      "Cell \u001b[0;32mIn[39], line 20\u001b[0m\n\u001b[1;32m     18\u001b[0m \u001b[38;5;28;01mfor\u001b[39;00m class_label \u001b[38;5;129;01min\u001b[39;00m \u001b[38;5;28mrange\u001b[39m(num_classes):\n\u001b[1;32m     19\u001b[0m     class_indices \u001b[38;5;241m=\u001b[39m target_values_1d \u001b[38;5;241m==\u001b[39m class_label\n\u001b[0;32m---> 20\u001b[0m     plt\u001b[38;5;241m.\u001b[39mscatter(\u001b[43mpred_tsne_np\u001b[49m\u001b[43m[\u001b[49m\u001b[43mclass_indices\u001b[49m\u001b[43m,\u001b[49m\u001b[43m \u001b[49m\u001b[38;5;241;43m0\u001b[39;49m\u001b[43m]\u001b[49m, pred_tsne_np[class_indices, \u001b[38;5;241m1\u001b[39m], c\u001b[38;5;241m=\u001b[39mcolors[class_label], label\u001b[38;5;241m=\u001b[39m\u001b[38;5;124mf\u001b[39m\u001b[38;5;124m'\u001b[39m\u001b[38;5;124mClass \u001b[39m\u001b[38;5;132;01m{\u001b[39;00mclass_label\u001b[38;5;132;01m}\u001b[39;00m\u001b[38;5;124m'\u001b[39m, alpha\u001b[38;5;241m=\u001b[39m\u001b[38;5;241m0.7\u001b[39m)\n\u001b[1;32m     22\u001b[0m plt\u001b[38;5;241m.\u001b[39mtitle(\u001b[38;5;124m'\u001b[39m\u001b[38;5;124mLatent Space with Continuous Values\u001b[39m\u001b[38;5;124m'\u001b[39m, fontsize\u001b[38;5;241m=\u001b[39m\u001b[38;5;241m15\u001b[39m)\n\u001b[1;32m     23\u001b[0m plt\u001b[38;5;241m.\u001b[39mxlabel(\u001b[38;5;124m'\u001b[39m\u001b[38;5;124mZ1\u001b[39m\u001b[38;5;124m'\u001b[39m, fontsize\u001b[38;5;241m=\u001b[39m\u001b[38;5;241m15\u001b[39m)\n",
      "\u001b[0;31mIndexError\u001b[0m: boolean index did not match indexed array along dimension 0; dimension is 143 but corresponding boolean dimension is 3861"
     ]
    },
    {
     "data": {
      "text/plain": [
       "<Figure size 1000x1000 with 0 Axes>"
      ]
     },
     "metadata": {},
     "output_type": "display_data"
    }
   ],
   "source": [
    "import matplotlib.pyplot as plt\n",
    "import matplotlib.cm as cm\n",
    "import numpy as np\n",
    "\n",
    "def assign_colors(num_classes):\n",
    "    \"\"\"\n",
    "    클래스 수에 따라 자동으로 색상을 할당하는 함수\n",
    "    \"\"\"\n",
    "    colors = cm.rainbow(np.linspace(0, 1, num_classes))\n",
    "    return colors\n",
    "\n",
    "# 클래스 수에 따라 색상 할당\n",
    "colors = assign_colors(num_classes)\n",
    "\n",
    "plt.figure(figsize=(10, 10))\n",
    "\n",
    "# 각 클래스에 대해 scatter plot 그리기\n",
    "for class_label in range(num_classes):\n",
    "    class_indices = target_values_1d == class_label\n",
    "    plt.scatter(pred_tsne_np[class_indices, 0], pred_tsne_np[class_indices, 1], c=colors[class_label], label=f'Class {class_label}', alpha=0.7)\n",
    "\n",
    "plt.title('Latent Space with Continuous Values', fontsize=15)\n",
    "plt.xlabel('Z1', fontsize=15)\n",
    "plt.ylabel('Z2', fontsize=15)\n",
    "plt.legend()\n",
    "plt.savefig(full_file_name_tsne)\n",
    "plt.show()"
   ]
  },
  {
   "cell_type": "code",
   "execution_count": 41,
   "id": "70713ddb-84eb-4b33-94cb-55071bfef42f",
   "metadata": {},
   "outputs": [
    {
     "data": {
      "text/plain": [
       "(143, 2)"
      ]
     },
     "execution_count": 41,
     "metadata": {},
     "output_type": "execute_result"
    }
   ],
   "source": [
    "pred_tsne_np.shape"
   ]
  },
  {
   "cell_type": "code",
   "execution_count": null,
   "id": "3fd6a3d8-704c-4b3e-9d96-ff810a13c2b5",
   "metadata": {},
   "outputs": [
    {
     "ename": "IndexError",
     "evalue": "boolean index did not match indexed array along dimension 0; dimension is 143 but corresponding boolean dimension is 3861",
     "output_type": "error",
     "traceback": [
      "\u001b[0;31m---------------------------------------------------------------------------\u001b[0m",
      "\u001b[0;31mIndexError\u001b[0m                                Traceback (most recent call last)",
      "Cell \u001b[0;32mIn[31], line 18\u001b[0m\n\u001b[1;32m     15\u001b[0m class2_indices \u001b[38;5;241m=\u001b[39m target_values_1d \u001b[38;5;241m==\u001b[39m \u001b[38;5;241m-\u001b[39m\u001b[38;5;241m1\u001b[39m\n\u001b[1;32m     17\u001b[0m plt\u001b[38;5;241m.\u001b[39mfigure(figsize\u001b[38;5;241m=\u001b[39m(\u001b[38;5;241m10\u001b[39m, \u001b[38;5;241m10\u001b[39m))\n\u001b[0;32m---> 18\u001b[0m plt\u001b[38;5;241m.\u001b[39mscatter(\u001b[43mpred_tsne_np\u001b[49m\u001b[43m[\u001b[49m\u001b[43mclass1_indices\u001b[49m\u001b[43m,\u001b[49m\u001b[43m \u001b[49m\u001b[38;5;241;43m0\u001b[39;49m\u001b[43m]\u001b[49m, pred_tsne_np[class1_indices, \u001b[38;5;241m1\u001b[39m], c\u001b[38;5;241m=\u001b[39m\u001b[38;5;124m'\u001b[39m\u001b[38;5;124mblue\u001b[39m\u001b[38;5;124m'\u001b[39m, label\u001b[38;5;241m=\u001b[39m\u001b[38;5;124m'\u001b[39m\u001b[38;5;124mClass 1\u001b[39m\u001b[38;5;124m'\u001b[39m, alpha\u001b[38;5;241m=\u001b[39m\u001b[38;5;241m0.7\u001b[39m)\n\u001b[1;32m     19\u001b[0m \u001b[38;5;66;03m# Plot class -1\u001b[39;00m\n\u001b[1;32m     20\u001b[0m plt\u001b[38;5;241m.\u001b[39mscatter(pred_tsne_np[class2_indices, \u001b[38;5;241m0\u001b[39m], pred_tsne_np[class2_indices, \u001b[38;5;241m1\u001b[39m], c\u001b[38;5;241m=\u001b[39m\u001b[38;5;124m'\u001b[39m\u001b[38;5;124mred\u001b[39m\u001b[38;5;124m'\u001b[39m, label\u001b[38;5;241m=\u001b[39m\u001b[38;5;124m'\u001b[39m\u001b[38;5;124mClass -1\u001b[39m\u001b[38;5;124m'\u001b[39m, alpha\u001b[38;5;241m=\u001b[39m\u001b[38;5;241m0.7\u001b[39m)\n",
      "\u001b[0;31mIndexError\u001b[0m: boolean index did not match indexed array along dimension 0; dimension is 143 but corresponding boolean dimension is 3861"
     ]
    },
    {
     "data": {
      "text/plain": [
       "<Figure size 1000x1000 with 0 Axes>"
      ]
     },
     "metadata": {},
     "output_type": "display_data"
    }
   ],
   "source": [
    "if config['dataset']['task'] == 'classification':\n",
    "\n",
    "        # Assuming target_values is a 2D array, convert it to 1D\n",
    "    target_values_1d = target_values.flatten()\n",
    "    \n",
    "    class1_indices = target_values_1d == 1\n",
    "    class2_indices = target_values_1d == -1\n",
    "\n",
    "    plt.figure(figsize=(10, 10))\n",
    "    plt.scatter(pred_tsne_np[class1_indices, 0], pred_tsne_np[class1_indices, 1], c='blue', label='Class 1', alpha=0.7)\n",
    "    # Plot class -1\n",
    "    plt.scatter(pred_tsne_np[class2_indices, 0], pred_tsne_np[class2_indices, 1], c='red', label='Class -1', alpha=0.7)\n",
    "\n",
    "    plt.colorbar(scatter, label='Target Value')\n",
    "    plt.title('Latent Space with Continuous Values', fontsize=15)\n",
    "    plt.xlabel('Z1', fontsize=15)\n",
    "    plt.ylabel('Z2', fontsize=15)\n",
    "    plt.show()"
   ]
  },
  {
   "cell_type": "code",
   "execution_count": null,
   "id": "e4649493-7e88-458b-bd09-d349635c6eaf",
   "metadata": {},
   "outputs": [],
   "source": [
    "import matplotlib.pyplot as plt\n",
    "      # assuming data.y is a tensor, convert it to numpy\n",
    "\n",
    "target_values = merged_batch.y.detach().cpu().numpy()\n",
    "\n",
    "# if pred_tsne is a tensor, convert it to numpy as well\n",
    "pred_tsne_np = pred_tsne.detach().cpu().numpy()\n",
    "\n",
    "if config['dataset']['task'] == 'regression':\n",
    "    plt.figure(figsize=(10, 10))\n",
    "    scatter = plt.scatter(pred_tsne_np[:, 0], pred_tsne_np[:, 1], c=target_values, cmap='viridis', alpha=0.7)\n",
    "    plt.colorbar(scatter, label='Target Value')\n",
    "    plt.title('Latent Space with Continuous Values', fontsize=15)\n",
    "    plt.xlabel('Z1', fontsize=15)\n",
    "    plt.ylabel('Z2', fontsize=15)\n",
    "    plt.show()\n",
    "    \n",
    "elif config['dataset']['task'] == 'classification':\n",
    "\n",
    "    # Assuming target_values is a 2D array, convert it to 1D\n",
    "    target_values_1d = target_values.flatten()\n",
    "    \n",
    "    class1_indices = target_values_1d == 1\n",
    "    class2_indices = target_values_1d == -1\n",
    "    \n",
    "    plt.figure(figsize=(10, 10))\n",
    "    # Plot class 1\n",
    "    plt.scatter(pred_tsne_np[class1_indices, 0], pred_tsne_np[class1_indices, 1], c='blue', label='Class 1', alpha=0.7)\n",
    "    # Plot class -1\n",
    "    plt.scatter(pred_tsne_np[class2_indices, 0], pred_tsne_np[class2_indices, 1], c='red', label='Class -1', alpha=0.7)\n",
    "\n",
    "    plt.legend()\n",
    "    plt.xlabel('Z1')\n",
    "    plt.ylabel('Z2')\n",
    "    plt.title('Latent Space')\n",
    "    plt.show()"
   ]
  },
  {
   "cell_type": "code",
   "execution_count": 76,
   "id": "6194c960-3304-43fb-b77b-a39f725bce5a",
   "metadata": {},
   "outputs": [
    {
     "ename": "AttributeError",
     "evalue": "'numpy.ndarray' object has no attribute 'detach'",
     "output_type": "error",
     "traceback": [
      "\u001b[0;31m---------------------------------------------------------------------------\u001b[0m",
      "\u001b[0;31mAttributeError\u001b[0m                            Traceback (most recent call last)",
      "Cell \u001b[0;32mIn[76], line 7\u001b[0m\n\u001b[1;32m      4\u001b[0m target_values \u001b[38;5;241m=\u001b[39m merged_batch\u001b[38;5;241m.\u001b[39my\u001b[38;5;241m.\u001b[39mdetach()\u001b[38;5;241m.\u001b[39mcpu()\u001b[38;5;241m.\u001b[39mnumpy()\n\u001b[1;32m      6\u001b[0m \u001b[38;5;66;03m# if pred_tsne is a tensor, convert it to numpy as well\u001b[39;00m\n\u001b[0;32m----> 7\u001b[0m pred_tsne_np \u001b[38;5;241m=\u001b[39m \u001b[43mpred_tsne\u001b[49m\u001b[38;5;241;43m.\u001b[39;49m\u001b[43mdetach\u001b[49m()\u001b[38;5;241m.\u001b[39mcpu()\u001b[38;5;241m.\u001b[39mnumpy()\n\u001b[1;32m      9\u001b[0m \u001b[38;5;28;01mif\u001b[39;00m config[\u001b[38;5;124m'\u001b[39m\u001b[38;5;124mdataset\u001b[39m\u001b[38;5;124m'\u001b[39m][\u001b[38;5;124m'\u001b[39m\u001b[38;5;124mtask\u001b[39m\u001b[38;5;124m'\u001b[39m] \u001b[38;5;241m==\u001b[39m \u001b[38;5;124m'\u001b[39m\u001b[38;5;124mregression\u001b[39m\u001b[38;5;124m'\u001b[39m:\n\u001b[1;32m     10\u001b[0m     plt\u001b[38;5;241m.\u001b[39mfigure(figsize\u001b[38;5;241m=\u001b[39m(\u001b[38;5;241m10\u001b[39m, \u001b[38;5;241m10\u001b[39m))\n",
      "\u001b[0;31mAttributeError\u001b[0m: 'numpy.ndarray' object has no attribute 'detach'"
     ]
    }
   ],
   "source": [
    "import matplotlib.pyplot as plt\n",
    "      # assuming data.y is a tensor, convert it to numpy\n",
    "\n",
    "target_values = merged_batch.y.detach().cpu().numpy()\n",
    "\n",
    "# if pred_tsne is a tensor, convert it to numpy as well\n",
    "pred_tsne_np = pred_tsne.detach().cpu().numpy()\n",
    "\n",
    "if config['dataset']['task'] == 'regression':\n",
    "    plt.figure(figsize=(10, 10))\n",
    "    scatter = plt.scatter(pred_tsne_np[:, 0], pred_tsne_np[:, 1], c=target_values, cmap='viridis', alpha=0.7)\n",
    "    plt.colorbar(scatter, label='Target Value')\n",
    "    plt.title('Latent Space with Continuous Values', fontsize=15)\n",
    "    plt.xlabel('Z1', fontsize=15)\n",
    "    plt.ylabel('Z2', fontsize=15)\n",
    "    plt.show()\n",
    "    \n",
    "elif config['dataset']['task'] == 'classification':\n",
    "\n",
    "    # Assuming target_values is a 2D array, convert it to 1D\n",
    "    target_values_1d = target_values.flatten()\n",
    "    \n",
    "    class1_indices = target_values_1d == 1\n",
    "    class2_indices = target_values_1d == -1\n",
    "    \n",
    "    plt.figure(figsize=(10, 10))\n",
    "    # Plot class 1\n",
    "    plt.scatter(pred_tsne_np[class1_indices, 0], pred_tsne_np[class1_indices, 1], c='blue', label='Class 1', alpha=0.7)\n",
    "    # Plot class -1\n",
    "    plt.scatter(pred_tsne_np[class2_indices, 0], pred_tsne_np[class2_indices, 1], c='red', label='Class -1', alpha=0.7)\n",
    "\n",
    "    plt.legend()\n",
    "    plt.xlabel('Z1')\n",
    "    plt.ylabel('Z2')\n",
    "    plt.title('Latent Space')\n",
    "    plt.show()"
   ]
  },
  {
   "cell_type": "markdown",
   "id": "9768fdd4-8593-4fff-b512-a04735ba8c35",
   "metadata": {},
   "source": [
    "## test data 하나씩1"
   ]
  },
  {
   "cell_type": "code",
   "execution_count": 185,
   "id": "5c269a84-62ec-42cd-b581-8df003d8e044",
   "metadata": {
    "scrolled": true
   },
   "outputs": [
    {
     "name": "stdout",
     "output_type": "stream",
     "text": [
      "torch.Size([32, 2])\n"
     ]
    },
    {
     "data": {
      "image/png": "[encoded data removed]",
      "text/plain": [
       "<Figure size 1000x1000 with 1 Axes>"
      ]
     },
     "metadata": {},
     "output_type": "display_data"
    },
    {
     "name": "stdout",
     "output_type": "stream",
     "text": [
      "torch.Size([32, 2])\n"
     ]
    },
    {
     "data": {
      "image/png": "[encoded data removed]",
      "text/plain": [
       "<Figure size 1000x1000 with 1 Axes>"
      ]
     },
     "metadata": {},
     "output_type": "display_data"
    },
    {
     "name": "stdout",
     "output_type": "stream",
     "text": [
      "torch.Size([32, 2])\n"
     ]
    },
    {
     "data": {
      "image/png": "[encoded data removed]",
      "text/plain": [
       "<Figure size 1000x1000 with 1 Axes>"
      ]
     },
     "metadata": {},
     "output_type": "display_data"
    },
    {
     "name": "stdout",
     "output_type": "stream",
     "text": [
      "torch.Size([32, 2])\n"
     ]
    },
    {
     "data": {
      "image/png": "[encoded data removed]",
      "text/plain": [
       "<Figure size 1000x1000 with 1 Axes>"
      ]
     },
     "metadata": {},
     "output_type": "display_data"
    },
    {
     "name": "stdout",
     "output_type": "stream",
     "text": [
      "torch.Size([32, 2])\n"
     ]
    },
    {
     "data": {
      "image/png": "[encoded data removed]",
      "text/plain": [
       "<Figure size 1000x1000 with 1 Axes>"
      ]
     },
     "metadata": {},
     "output_type": "display_data"
    },
    {
     "name": "stdout",
     "output_type": "stream",
     "text": [
      "torch.Size([32, 2])\n"
     ]
    },
    {
     "data": {
      "image/png": "[encoded data removed]",
      "text/plain": [
       "<Figure size 1000x1000 with 1 Axes>"
      ]
     },
     "metadata": {},
     "output_type": "display_data"
    },
    {
     "name": "stdout",
     "output_type": "stream",
     "text": [
      "torch.Size([12, 2])\n"
     ]
    },
    {
     "data": {
      "image/png": "[encoded data removed]",
      "text/plain": [
       "<Figure size 1000x1000 with 1 Axes>"
      ]
     },
     "metadata": {},
     "output_type": "display_data"
    },
    {
     "name": "stdout",
     "output_type": "stream",
     "text": [
      "Test loss: 1.4646340889089249 Test ROC AUC: 0.7528663647750266\n"
     ]
    }
   ],
   "source": [
    "import matplotlib.pyplot as plt\n",
    "# test steps\n",
    "predictions = []\n",
    "labels = []\n",
    "with torch.no_grad():\n",
    "    model.eval()\n",
    "    linear_pred_atoms.eval()\n",
    "    linear_pred_bonds.eval()\n",
    "    \n",
    "    test_loss = 0.0\n",
    "    num_data = 0\n",
    "    for bn, data in enumerate(test_loader):\n",
    "        data = data.to(device)\n",
    "    \n",
    "        __, pred_tsne, pred = model(data)\n",
    "        print(pred_tsne.shape)\n",
    "    \n",
    "        if config['dataset']['task'] == 'classification':\n",
    "    \n",
    "            is_valid = data.y**2 > 0\n",
    "    \n",
    "            loss_mat = criterion(pred, (data.y+1)/2)\n",
    "            loss_mat = torch.where(is_valid, loss_mat, torch.zeros(loss_mat.shape).to(loss_mat.device).to(loss_mat.dtype))\n",
    "    \n",
    "    \n",
    "            loss = torch.sum(loss_mat) / torch.sum(is_valid)\n",
    "    \n",
    "        elif config['dataset']['task'] == 'regression':\n",
    "                if normalizer:\n",
    "                    loss = criterion(pred, self.normalizer.norm(data.y))\n",
    "                else:\n",
    "                    loss = criterion(pred, data.y)\n",
    "      \n",
    "    \n",
    "        test_loss += loss.item() * data.y.size(0)\n",
    "        num_data += data.y.size(0)\n",
    "    \n",
    "        if normalizer:\n",
    "            pred = self.normalizer.denorm(pred)\n",
    "    \n",
    "        if config['dataset']['task'] == 'classification':\n",
    "    \n",
    "            predictions.append(pred)\n",
    "            labels.append(data.y.view(pred.shape))\n",
    "    \n",
    "        else:\n",
    "            if device == 'cpu':\n",
    "                predictions.extend(pred.detach().numpy())\n",
    "                labels.extend(data.y.flatten().numpy())\n",
    "            else:\n",
    "                predictions.extend(pred.cpu().detach().numpy())\n",
    "                labels.extend(data.y.cpu().flatten().numpy())\n",
    "\n",
    "\n",
    "                # assuming data.y is a tensor, convert it to numpy\n",
    "        target_values = data.y.cpu().numpy()\n",
    "        \n",
    "        # if pred_tsne is a tensor, convert it to numpy as well\n",
    "        pred_tsne_np = pred_tsne.cpu().numpy()\n",
    "\n",
    "        if config['dataset']['task'] == 'regression':\n",
    "            plt.figure(figsize=(10, 10))\n",
    "            scatter = plt.scatter(pred_tsne_np[:, 0], pred_tsne_np[:, 1], c=target_values, cmap='viridis', alpha=0.7)\n",
    "            plt.colorbar(scatter, label='Target Value')\n",
    "            plt.title('Latent Space with Continuous Values', fontsize=15)\n",
    "            plt.xlabel('Z1', fontsize=15)\n",
    "            plt.ylabel('Z2', fontsize=15)\n",
    "            plt.show()\n",
    "            \n",
    "        elif config['dataset']['task'] == 'classification':\n",
    "\n",
    "            # Assuming target_values is a 2D array, convert it to 1D\n",
    "            target_values_1d = target_values.flatten()\n",
    "            \n",
    "            class1_indices = target_values_1d == 1\n",
    "            class2_indices = target_values_1d == -1\n",
    "            \n",
    "            plt.figure(figsize=(10, 10))\n",
    "            # Plot class 1\n",
    "            plt.scatter(pred_tsne_np[class1_indices, 0], pred_tsne_np[class1_indices, 1], c='blue', label='Class 1', alpha=0.7)\n",
    "            # Plot class -1\n",
    "            plt.scatter(pred_tsne_np[class2_indices, 0], pred_tsne_np[class2_indices, 1], c='red', label='Class -1', alpha=0.7)\n",
    "\n",
    "            plt.legend()\n",
    "            plt.xlabel('Z1')\n",
    "            plt.ylabel('Z2')\n",
    "            plt.title('Latent Space')\n",
    "            plt.show()\n",
    "        \n",
    "    test_loss /= num_data\n",
    "    \n",
    "model.train()\n",
    "linear_pred_atoms.train()\n",
    "linear_pred_bonds.train()\n",
    "    \n",
    "if config['dataset']['task'] == 'regression':\n",
    "    predictions = np.array(predictions)\n",
    "    labels = np.array(labels)\n",
    "    if config['task_name'] in ['qm7', 'qm8', 'qm|9']:\n",
    "        mae = mean_absolute_error(labels, predictions)\n",
    "        print('Test loss:', test_loss, 'Test MAE:', mae)\n",
    "    else:\n",
    "        rmse = root_mean_squared_error(labels, predictions, )\n",
    "        print('Test loss:', test_loss, 'Test RMSE:', rmse)\n",
    "    \n",
    "elif config['dataset']['task'] == 'classification': \n",
    "    \n",
    "        labels = torch.cat(labels, dim=0).cpu().numpy()\n",
    "        predictions = torch.cat(predictions, dim=0).cpu().numpy()\n",
    "        \n",
    "        is_valid = labels**2 > 0\n",
    "        roc_auc = get_roc_auc_score(labels, predictions, is_valid)\n",
    "    \n",
    "        print('Test loss:', test_loss, 'Test ROC AUC:', roc_auc)\n"
   ]
  },
  {
   "cell_type": "code",
   "execution_count": 170,
   "id": "223c9e56-1149-481a-b318-86ef0e40697b",
   "metadata": {},
   "outputs": [
    {
     "data": {
      "text/plain": [
       "array([-1])"
      ]
     },
     "execution_count": 170,
     "metadata": {},
     "output_type": "execute_result"
    }
   ],
   "source": [
    "target_values"
   ]
  },
  {
   "cell_type": "code",
   "execution_count": 157,
   "id": "5c44c86a-38e0-4e7e-ba1e-f416baba5d4c",
   "metadata": {},
   "outputs": [],
   "source": [
    "it = iter(test_loader)\n",
    "test = next(it)"
   ]
  },
  {
   "cell_type": "code",
   "execution_count": 171,
   "id": "eeba09bf-923f-4718-b73b-83a2774b2a9b",
   "metadata": {},
   "outputs": [
    {
     "data": {
      "text/plain": [
       "tensor([1])"
      ]
     },
     "execution_count": 171,
     "metadata": {},
     "output_type": "execute_result"
    }
   ],
   "source": [
    "test.y[0]"
   ]
  },
  {
   "cell_type": "code",
   "execution_count": null,
   "id": "572eba5b-4717-47e5-914e-ee4beb6f1a0c",
   "metadata": {},
   "outputs": [],
   "source": [
    "import rdkit\n",
    "from rdkit import Chem\n",
    "from rdkit.Chem.rdchem import HybridizationType\n",
    "from rdkit.Chem.rdchem import BondType as BT\n",
    "from rdkit.Chem import AllChem\n",
    "from rdkit.Chem.Scaffolds.MurckoScaffold import MurckoScaffoldSmiles\n",
    "from rdkit import RDLogger\n",
    "\n",
    "ATOM_LIST = list(range(1,119))\n",
    "CHIRALITY_LIST = [\n",
    "    Chem.rdchem.ChiralType.CHI_UNSPECIFIED,\n",
    "    Chem.rdchem.ChiralType.CHI_TETRAHEDRAL_CW,\n",
    "    Chem.rdchem.ChiralType.CHI_TETRAHEDRAL_CCW,\n",
    "    Chem.rdchem.ChiralType.CHI_OTHER\n",
    "]\n",
    "BOND_LIST = [BT.SINGLE, BT.DOUBLE, BT.TRIPLE, BT.AROMATIC]\n",
    "BONDDIR_LIST = [\n",
    "    Chem.rdchem.BondDir.NONE,\n",
    "    Chem.rdchem.BondDir.ENDUPRIGHT,\n",
    "    Chem.rdchem.BondDir.ENDDOWNRIGHT\n",
    "]"
   ]
  },
  {
   "cell_type": "code",
   "execution_count": 91,
   "id": "68434d95-81ac-45b6-a011-efc20bc833c0",
   "metadata": {},
   "outputs": [],
   "source": [
    "mol = Chem.MolFromSmiles(smiles)"
   ]
  },
  {
   "cell_type": "code",
   "execution_count": 92,
   "id": "aa1e47be-56b9-4f6d-bfe9-9951292938c8",
   "metadata": {},
   "outputs": [
    {
     "data": {
      "text/plain": [
       "'classification'"
      ]
     },
     "execution_count": 92,
     "metadata": {},
     "output_type": "execute_result"
    }
   ],
   "source": [
    "config['dataset']['task']"
   ]
  },
  {
   "cell_type": "code",
   "execution_count": 93,
   "id": "15328811-7d54-4c1c-99c3-8cd5891c7082",
   "metadata": {},
   "outputs": [],
   "source": [
    "labels = 1"
   ]
  },
  {
   "cell_type": "code",
   "execution_count": 94,
   "id": "96833730-40f1-4d1c-a97a-7f331662960e",
   "metadata": {},
   "outputs": [],
   "source": [
    "\n",
    "from tqdm import tqdm as core_tqdm\n",
    "from typing import List, Set, Tuple, Union, Dict\n",
    "from collections import defaultdict\n",
    "\n",
    "def onek_encoding_unk(value : int, choices: List[int]) -> List[int]:\n",
    "    \"\"\"\n",
    "        Creates a one-hot encoding.\n",
    "\n",
    "    :param value: The value for which the encoding should be one.\n",
    "    :param choices: A list of possible values.\n",
    "    :return: A one-hot encoding of the value in a list of length len(choices) + 1.\n",
    "    If value is not in the list of choices, then the final element in the encoding is 1.\n",
    "\n",
    "    \"\"\"\n",
    "    encoding = [0] * len(choices)\n",
    "    if value in choices:\n",
    "        encoding[choices.index(value)] = 1\n",
    "    else:\n",
    "        encoding[-1] = 1\n",
    "    return encoding\n",
    "\n",
    "# rich_feature로 사용할 feature\n",
    "ATOM_FEATURES = {\n",
    "    'atomic_num' : list(range(1, 119)),\n",
    "    'degree' : [0,1,2,3,4,5],\n",
    "    'formal_charge' : [0, -1, -2, 1, 2],\n",
    "    'chiral_tag' : [0,1,2,3],\n",
    "    'num_Hs' : [0,1,2,3,4],\n",
    "    'hybridization': [\n",
    "\n",
    "        Chem.rdchem.HybridizationType.SP,\n",
    "        Chem.rdchem.HybridizationType.SP2,\n",
    "        Chem.rdchem.HybridizationType.SP3,\n",
    "        Chem.rdchem.HybridizationType.SP3D,\n",
    "        Chem.rdchem.HybridizationType.SP3D2\n",
    "    ],\n",
    "}\n",
    "\n",
    "from descriptastorus.descriptors import rdDescriptors, rdNormalizedDescriptors\n"
   ]
  },
  {
   "cell_type": "code",
   "execution_count": 95,
   "id": "da78c32a-8b3e-464f-8100-4a21a6495cd4",
   "metadata": {},
   "outputs": [
    {
     "data": {
      "text/plain": [
       "'classification'"
      ]
     },
     "execution_count": 95,
     "metadata": {},
     "output_type": "execute_result"
    }
   ],
   "source": [
    "config['dataset']['task']"
   ]
  },
  {
   "cell_type": "code",
   "execution_count": 96,
   "id": "d96329c3-d57a-49aa-a242-a46811bc2960",
   "metadata": {},
   "outputs": [],
   "source": [
    "mol = Chem.AddHs(mol)\n",
    "\n",
    "N = mol.GetNumAtoms()\n",
    "M = mol.GetNumBonds()\n",
    "\n",
    "type_idx = []\n",
    "chirality_idx = []\n",
    "atomic_number = []\n",
    "formal_charge = []\n",
    "total_numHs = []\n",
    "hybridzation = []\n",
    "aromatic = []\n",
    "mass = []\n",
    "\n",
    "implicitValence_list = []\n",
    "hydrogen_acceptor_match_list = []\n",
    "hydrogen_donor_match_list = []\n",
    "acidic_match_list = []\n",
    "basic_match_list = []\n",
    "ring_info_list = []\n",
    "\n",
    "degree = []\n",
    "\n",
    "\n",
    "hydrogen_donor = Chem.MolFromSmarts(\"[$([N;!H0;v3,v4&+1]),$([O,S;H1;+0]),n&H1&+0]\")\n",
    "hydrogen_acceptor = Chem.MolFromSmarts(\n",
    "    \"[$([O,S;H1;v2;!$(*-*=[O,N,P,S])]),$([O,S;H0;v2]),$([O,S;-]),$([N;v3;!$(N-*=[O,N,P,S])]),\"\n",
    "    \"n&H0&+0,$([o,s;+0;!$([o,s]:n);!$([o,s]:c:n)])]\")\n",
    "acidic = Chem.MolFromSmarts(\"[$([C,S](=[O,S,P])-[O;H1,-1])]\")\n",
    "basic = Chem.MolFromSmarts(\n",
    "    \"[#7;+,$([N;H2&+0][$([C,a]);!$([C,a](=O))]),$([N;H1&+0]([$([C,a]);!$([C,a](=O))])[$([C,a]);\"\n",
    "\"!$([C,a](=O))]),$([N;H0&+0]([C;!$(C(=O))])([C;!$(C(=O))])[C;!$(C(=O))])]\")\n",
    "\n",
    "\n",
    "for atom in mol.GetAtoms():\n",
    "    type_idx.append(ATOM_LIST.index(atom.GetAtomicNum()))\n",
    "    chirality_idx.append(CHIRALITY_LIST.index(atom.GetChiralTag()))\n",
    "    degree.append( onek_encoding_unk(atom.GetTotalDegree(), ATOM_FEATURES['degree']) )\n",
    "    formal_charge.append( onek_encoding_unk(atom.GetFormalCharge(), ATOM_FEATURES['formal_charge']) )\n",
    "    total_numHs.append( onek_encoding_unk(int(atom.GetTotalNumHs()), ATOM_FEATURES['num_Hs']) )\n",
    "    hybridzation.append( onek_encoding_unk(int(atom.GetHybridization()), ATOM_FEATURES['hybridization']) )\n",
    "    aromatic.append([1 if atom.GetIsAromatic() else 0])\n",
    "    mass.append([atom.GetMass() * 0.01])\n",
    "\n",
    "    atom_idx = atom.GetIdx()\n",
    "\n",
    "    hydrogen_donor_match = sum(mol.GetSubstructMatches(hydrogen_donor), ())\n",
    "    hydrogen_acceptor_match = sum(mol.GetSubstructMatches(hydrogen_acceptor), ())\n",
    "    acidic_match = sum(mol.GetSubstructMatches(acidic), ())\n",
    "    basic_match = sum(mol.GetSubstructMatches(basic), ())\n",
    "\n",
    "    implicitValence_list.append(onek_encoding_unk(atom.GetImplicitValence(), [0, 1, 2, 3, 4, 5, 6]))\n",
    "    hydrogen_acceptor_match_list.append([atom_idx in hydrogen_acceptor_match])\n",
    "    hydrogen_donor_match_list.append([atom_idx in hydrogen_donor_match])\n",
    "    acidic_match_list.append([atom_idx in acidic_match])\n",
    "    basic_match_list.append([atom_idx in basic_match])\n",
    "\n",
    "    ring_info = mol.GetRingInfo()\n",
    "    ring_info_list.append(                [ring_info.IsAtomInRingOfSize(atom_idx, 3),\n",
    "            ring_info.IsAtomInRingOfSize(atom_idx, 4),\n",
    "            ring_info.IsAtomInRingOfSize(atom_idx, 5),\n",
    "            ring_info.IsAtomInRingOfSize(atom_idx, 6),\n",
    "            ring_info.IsAtomInRingOfSize(atom_idx, 7),\n",
    "            ring_info.IsAtomInRingOfSize(atom_idx, 8)])\n",
    "                                   \n",
    "                   \n",
    "x1 = torch.tensor(type_idx, dtype=torch.long).view(-1, 1)\n",
    "x2 = torch.tensor(chirality_idx, dtype=torch.long).view(-1, 1)\n",
    "x3 = torch.tensor(degree, dtype=torch.long)\n",
    "x4 = torch.tensor(formal_charge, dtype=torch.long)\n",
    "x5 = torch.tensor(total_numHs, dtype=torch.long)\n",
    "x6 = torch.tensor(hybridzation, dtype=torch.long)\n",
    "x7 = torch.tensor(aromatic, dtype=torch.long)\n",
    "x8 = torch.tensor(mass, dtype=torch.float)\n",
    "\n",
    "x9 = torch.tensor(implicitValence_list, dtype=torch.long)\n",
    "x10 = torch.tensor(hydrogen_acceptor_match_list, dtype=torch.long)\n",
    "x11 = torch.tensor(hydrogen_donor_match_list, dtype=torch.long)\n",
    "x12 = torch.tensor(acidic_match_list, dtype=torch.long)\n",
    "x13 = torch.tensor(basic_match_list, dtype=torch.long)\n",
    "x14 = torch.tensor(ring_info_list, dtype=torch.long)\n",
    "\n",
    "\n",
    "x = torch.cat([x1, x2, x3, x4,x5,x6,x7,x8,x9,x10,x11,x12,x13,x14], dim=1)\n",
    "\n",
    "row, col, edge_feat = [], [], []\n",
    "for bond in mol.GetBonds():\n",
    "    start, end = bond.GetBeginAtomIdx(), bond.GetEndAtomIdx()\n",
    "    row += [start, end]\n",
    "    col += [end, start]\n",
    "    bt = bond.GetBondType()\n",
    "    feat1 = [\n",
    "        BOND_LIST.index(bond.GetBondType()),\n",
    "        BONDDIR_LIST.index(bond.GetBondDir()),\n",
    "        bond.GetIsConjugated() if bt is not None else 0,\n",
    "        bond.IsInRing() if bt is not None else 0,\n",
    "        *onek_encoding_unk(int(bond.GetStereo()), list(range(6)))\n",
    "    ]\n",
    "    edge_feat.append(feat1)\n",
    "\n",
    "    # 반대 방향의 엣지(또는 같은 특성을 반복) 특성 계산\n",
    "    # 여기서는 예시로 feat1을 그대로 사용합니다. 필요에 따라 다른 계산을 할 수 있습니다.\n",
    "    feat2 = feat1  # 또는 반대 방향에 대한 다른 계산 결과\n",
    "    edge_feat.append(feat2)\n",
    "        \n",
    "\n",
    "edge_index = torch.tensor([row, col], dtype=torch.long)\n",
    "edge_attr = torch.tensor(np.array(edge_feat), dtype=torch.long)\n",
    "if config['dataset']['task'] == 'classification':\n",
    "    y = torch.tensor(labels, dtype=torch.long).view(1,-1)\n",
    "elif config['dataset']['task'] == 'regression':\n",
    "    y = torch.tensor(labels * conversion, dtype=torch.float).view(1,-1)\n",
    "\n",
    "\n",
    "normalized_2d_generator = rdNormalizedDescriptors.RDKit2DNormalized()\n",
    "x_add = normalized_2d_generator.process(smiles)\n",
    "if x_add is None:\n",
    "    # x_add가 None인 경우, 처리 방식 결정\n",
    "    # 예: 빈 특성 리스트 또는 기본값 설정\n",
    "    print(f\"Warning: No features generated for SMILES: {smiles}\")\n",
    "    x_add = [] # 예시 기본값\n",
    "else:\n",
    "    # x_add를 텐서로 변환\n",
    "\n",
    "    x_add = torch.tensor(np.array(x_add[1:]), dtype=torch.long).view(1, -1)\n",
    "\n",
    "\n",
    "data = Data(x=x, y=y, edge_index=edge_index, edge_attr=edge_attr, x_add = x_add)"
   ]
  },
  {
   "cell_type": "code",
   "execution_count": 97,
   "id": "d29cf482-9dab-41c7-91d4-05392b6474b3",
   "metadata": {},
   "outputs": [],
   "source": [
    "data = data.to(device)"
   ]
  },
  {
   "cell_type": "code",
   "execution_count": 98,
   "id": "dd5a1b1e-8670-44e9-837b-6780368a4b4b",
   "metadata": {},
   "outputs": [],
   "source": [
    "data.batch = torch.zeros(x.size(0), dtype=torch.long).to(device)"
   ]
  },
  {
   "cell_type": "code",
   "execution_count": 99,
   "id": "0cbe1e8d-a42e-4f98-a36b-8229cdfbece8",
   "metadata": {},
   "outputs": [],
   "source": [
    "h_node, pred, node = model(data,3)"
   ]
  },
  {
   "cell_type": "code",
   "execution_count": 100,
   "id": "9eef16e4-5d55-4c06-b5f7-a48f153fd549",
   "metadata": {},
   "outputs": [],
   "source": [
    "N = mol.GetNumAtoms()"
   ]
  },
  {
   "cell_type": "code",
   "execution_count": 101,
   "id": "7fa8e531-f6f9-4b47-b10d-0b3151fd7b54",
   "metadata": {},
   "outputs": [
    {
     "data": {
      "image/png": "[encoded data removed]",
      "text/plain": [
       "<PIL.PngImagePlugin.PngImageFile image mode=RGB size=300x300>"
      ]
     },
     "metadata": {},
     "output_type": "display_data"
    }
   ],
   "source": [
    "from rdkit.Chem import Draw\n",
    "\n",
    "img = Draw.MolToImage(mol, highlightAtoms=node.tolist())\n",
    "from PIL import Image, ImageDraw\n",
    "\n",
    "\n",
    "pred_max_index = pred.detach().cpu().numpy().argmax()\n",
    "# 이미지에 텍스트 추가 (예측 결과와 실제 레이블)\n",
    "draw = ImageDraw.Draw(img)\n",
    "text = f\"Pred: {pred_max_index}, Label: {data.y.item()}\"\n",
    "draw.text((10, 10), text, fill=\"black\")\n",
    "\n",
    "# save_path = os.path.join(save_dir, f\"molecule_3mr.png\")\n",
    "# img.save(save_path)  # 파일 이름을 분자의 인덱스에 따라 지정\n",
    "display(img)"
   ]
  },
  {
   "cell_type": "code",
   "execution_count": null,
   "id": "c9838013-4840-475b-a99d-15652855531f",
   "metadata": {},
   "outputs": [],
   "source": []
  },
  {
   "cell_type": "code",
   "execution_count": null,
   "id": "1a1198e4-b849-4e2b-b3e8-4ca3a7145dc1",
   "metadata": {},
   "outputs": [],
   "source": []
  }
 ],
 "metadata": {
  "kernelspec": {
   "display_name": "Python 3 (ipykernel)",
   "language": "python",
   "name": "python3"
  },
  "language_info": {
   "codemirror_mode": {
    "name": "ipython",
    "version": 3
   },
   "file_extension": ".py",
   "mimetype": "text/x-python",
   "name": "python",
   "nbconvert_exporter": "python",
   "pygments_lexer": "ipython3",
   "version": "3.10.8"
  }
 },
 "nbformat": 4,
 "nbformat_minor": 5
}
