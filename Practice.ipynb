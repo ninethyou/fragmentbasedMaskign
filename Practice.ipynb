{
 "cells": [
  {
   "cell_type": "code",
   "execution_count": 233,
   "id": "16900636",
   "metadata": {},
   "outputs": [],
   "source": [
    "import os\n",
    "import shutil\n",
    "import sys\n",
    "import torch\n",
    "import yaml\n",
    "import numpy as np\n",
    "from datetime import datetime\n",
    "\n",
    "import torch.nn.functional as F\n",
    "from torch.utils.tensorboard import SummaryWriter\n",
    "from torch.optim.lr_scheduler import CosineAnnealingLR\n",
    "\n",
    "from utils.nt_xent import NTXentLoss"
   ]
  },
  {
   "cell_type": "code",
   "execution_count": 234,
   "id": "82e0f371",
   "metadata": {},
   "outputs": [],
   "source": [
    "import os\n",
    "import csv\n",
    "import math\n",
    "import time\n",
    "import random\n",
    "import networkx as nx\n",
    "import numpy as np\n",
    "from copy import deepcopy\n",
    "\n",
    "import torch\n",
    "import torch.nn.functional as F\n",
    "# from torch.utils.data import Dataset, DataLoader\n",
    "from torch.utils.data.sampler import SubsetRandomSampler\n",
    "import torchvision.transforms as transforms\n",
    "\n",
    "from torch_scatter import scatter\n",
    "from torch_geometric.data import Data, Dataset, DataLoader\n",
    "\n",
    "import rdkit\n",
    "from rdkit import Chem\n",
    "from rdkit.Chem.rdchem import HybridizationType\n",
    "from rdkit.Chem.rdchem import BondType as BT\n",
    "from rdkit.Chem import AllChem\n"
   ]
  },
  {
   "cell_type": "code",
   "execution_count": 3,
   "id": "d16c7ef5",
   "metadata": {},
   "outputs": [
    {
     "name": "stdout",
     "output_type": "stream",
     "text": [
      "Please install apex for mixed precision training from: https://github.com/NVIDIA/apex\n"
     ]
    }
   ],
   "source": [
    "apex_support = False\n",
    "try:\n",
    "    sys.path.append('./apex')\n",
    "    from apex import amp\n",
    "\n",
    "    apex_support = True\n",
    "except:\n",
    "    print(\"Please install apex for mixed precision training from: https://github.com/NVIDIA/apex\")\n",
    "    apex_support = False\n"
   ]
  },
  {
   "cell_type": "code",
   "execution_count": 5,
   "id": "7f6b5a35",
   "metadata": {},
   "outputs": [
    {
     "name": "stdout",
     "output_type": "stream",
     "text": [
      "\u001b[0m\u001b[01;32mLICENSE\u001b[0m*         \u001b[01;34mapex\u001b[0m/                  \u001b[34;42mdataset\u001b[0m/             \u001b[01;32mmolclr.py\u001b[0m*\r\n",
      "Practice.ipynb   \u001b[34;42mckpt\u001b[0m/                  \u001b[34;42mfigs\u001b[0m/                requirements.txt\r\n",
      "\u001b[01;32mREADME.md\u001b[0m*       \u001b[01;32mconfig.yaml\u001b[0m*           \u001b[01;32mfinetune.py\u001b[0m*         \u001b[34;42mutils\u001b[0m/\r\n",
      "Untitled.ipynb   \u001b[01;32mconfig_finetune.yaml\u001b[0m*  graphPractice.ipynb\r\n",
      "Untitled2.ipynb  \u001b[34;42mdata\u001b[0m/                  \u001b[34;42mmodels\u001b[0m/\r\n"
     ]
    }
   ],
   "source": [
    "ls"
   ]
  },
  {
   "cell_type": "code",
   "execution_count": 7,
   "id": "71dbf937",
   "metadata": {},
   "outputs": [
    {
     "name": "stdout",
     "output_type": "stream",
     "text": [
      "{'batch_size': 512, 'warm_up': 10, 'epochs': 100, 'load_model': 'None', 'eval_every_n_epochs': 1, 'save_every_n_epochs': 5, 'log_every_n_steps': 50, 'fp16_precision': False, 'init_lr': 0.0005, 'weight_decay': '1e-5', 'gpu': 'cuda:0', 'model_type': 'gin', 'model': {'num_layer': 5, 'emb_dim': 300, 'feat_dim': 512, 'drop_ratio': 0, 'pool': 'mean'}, 'aug': 'node', 'dataset': {'num_workers': 12, 'valid_size': 0.05, 'data_path': 'data/pubchem-10m-clean.txt'}, 'loss': {'temperature': 0.1, 'use_cosine_similarity': True}}\n"
     ]
    }
   ],
   "source": [
    "config = yaml.load(open(\"config.yaml\", \"r\"), Loader=yaml.FullLoader)\n",
    "print(config)\n"
   ]
  },
  {
   "cell_type": "code",
   "execution_count": 5,
   "id": "b22bfc1d",
   "metadata": {},
   "outputs": [
    {
     "ename": "SyntaxError",
     "evalue": "unexpected EOF while parsing (1530397917.py, line 1)",
     "output_type": "error",
     "traceback": [
      "\u001b[0;36m  File \u001b[0;32m\"/tmp/ipykernel_69353/1530397917.py\"\u001b[0;36m, line \u001b[0;32m1\u001b[0m\n\u001b[0;31m    if config['aug'] == 'node':\u001b[0m\n\u001b[0m                               ^\u001b[0m\n\u001b[0;31mSyntaxError\u001b[0m\u001b[0;31m:\u001b[0m unexpected EOF while parsing\n"
     ]
    }
   ],
   "source": [
    "if config['aug'] == 'node':"
   ]
  },
  {
   "cell_type": "markdown",
   "id": "16f63d7c",
   "metadata": {},
   "source": [
    "### dataset"
   ]
  },
  {
   "cell_type": "code",
   "execution_count": 6,
   "id": "8b0bc229",
   "metadata": {},
   "outputs": [],
   "source": [
    "import os\n",
    "import csv\n",
    "import math\n",
    "import time\n",
    "import random\n",
    "import networkx as nx\n",
    "import numpy as np\n",
    "from copy import deepcopy\n",
    "\n",
    "import torch\n",
    "import torch.nn.functional as F\n",
    "# from torch.utils.data import Dataset, DataLoader\n",
    "from torch.utils.data.sampler import SubsetRandomSampler\n",
    "import torchvision.transforms as transforms\n",
    "\n",
    "from torch_scatter import scatter\n",
    "from torch_geometric.data import Data, Dataset, DataLoader\n",
    "\n",
    "import rdkit\n",
    "from rdkit import Chem\n",
    "from rdkit.Chem.rdchem import HybridizationType\n",
    "from rdkit.Chem.rdchem import BondType as BT\n",
    "from rdkit.Chem import AllChem\n"
   ]
  },
  {
   "cell_type": "code",
   "execution_count": 7,
   "id": "be04d657",
   "metadata": {},
   "outputs": [],
   "source": [
    "ATOM_LIST = list(range(1,119))\n",
    "CHIRALITY_LIST = [\n",
    "    Chem.rdchem.ChiralType.CHI_UNSPECIFIED,\n",
    "    Chem.rdchem.ChiralType.CHI_TETRAHEDRAL_CW,\n",
    "    Chem.rdchem.ChiralType.CHI_TETRAHEDRAL_CCW,\n",
    "    Chem.rdchem.ChiralType.CHI_OTHER\n",
    "]\n",
    "BOND_LIST = [\n",
    "    BT.SINGLE, \n",
    "    BT.DOUBLE, \n",
    "    BT.TRIPLE, \n",
    "    BT.AROMATIC\n",
    "]\n",
    "BONDDIR_LIST = [\n",
    "    Chem.rdchem.BondDir.NONE,\n",
    "    Chem.rdchem.BondDir.ENDUPRIGHT,\n",
    "    Chem.rdchem.BondDir.ENDDOWNRIGHT\n",
    "]"
   ]
  },
  {
   "cell_type": "markdown",
   "id": "1c8ebcf0",
   "metadata": {},
   "source": [
    "### datasetWrapper -> mole cule dataset 을 감싸기 위한"
   ]
  },
  {
   "cell_type": "code",
   "execution_count": null,
   "id": "979eaf0a",
   "metadata": {},
   "outputs": [],
   "source": [
    "class MoleculeDatasetWrapper(object):\n",
    "    def __init__(self, batch_size, num_workers, valid_size, data_path):\n",
    "        super(object, self).__init__()\n",
    "        self.data_path = data_path\n",
    "        self.batch_size = batch_size\n",
    "        self.num_workers = num_workers\n",
    "        self.valid_size = valid_size\n",
    "\n",
    "    def get_data_loaders(self):\n",
    "        train_dataset = MoleculeDataset(data_path=self.data_path)\n",
    "        train_loader, valid_loader = self.get_train_validation_data_loaders(train_dataset)\n",
    "        return train_loader, valid_loader\n",
    "\n",
    "    def get_train_validation_data_loaders(self, train_dataset):\n",
    "        # obtain training indices that will be used for validation\n",
    "        num_train = len(train_dataset)\n",
    "        indices = list(range(num_train))\n",
    "        np.random.shuffle(indices)\n",
    "\n",
    "        split = int(np.floor(self.valid_size * num_train))\n",
    "        train_idx, valid_idx = indices[split:], indices[:split]\n",
    "\n",
    "        # define samplers for obtaining training and validation batches\n",
    "        train_sampler = SubsetRandomSampler(train_idx)\n",
    "        valid_sampler = SubsetRandomSampler(valid_idx)\n",
    "\n",
    "        train_loader = DataLoader(train_dataset, batch_size=self.batch_size, sampler=train_sampler,\n",
    "                                  num_workers=self.num_workers, drop_last=True)\n",
    "\n",
    "        valid_loader = DataLoader(train_dataset, batch_size=self.batch_size, sampler=valid_sampler,\n",
    "                                  num_workers=self.num_workers, drop_last=True)\n",
    "\n",
    "        return train_loader, valid_loader\n"
   ]
  },
  {
   "cell_type": "code",
   "execution_count": 8,
   "id": "9e22e078",
   "metadata": {},
   "outputs": [
    {
     "data": {
      "text/plain": [
       "{'num_workers': 12,\n",
       " 'valid_size': 0.05,\n",
       " 'data_path': 'data/pubchem-10m-clean.txt'}"
      ]
     },
     "execution_count": 8,
     "metadata": {},
     "output_type": "execute_result"
    }
   ],
   "source": [
    "config['dataset']"
   ]
  },
  {
   "cell_type": "code",
   "execution_count": 8,
   "id": "2be25cf8",
   "metadata": {},
   "outputs": [],
   "source": [
    "from dataset.dataset import MoleculeDatasetWrapper"
   ]
  },
  {
   "cell_type": "code",
   "execution_count": 10,
   "id": "0f492d0d",
   "metadata": {},
   "outputs": [],
   "source": [
    "import tensorboard"
   ]
  },
  {
   "cell_type": "code",
   "execution_count": 14,
   "id": "b6d1f02d",
   "metadata": {},
   "outputs": [],
   "source": [
    " if config['aug'] == 'node':\n",
    "        from dataset.dataset import MoleculeDatasetWrapper"
   ]
  },
  {
   "cell_type": "code",
   "execution_count": 15,
   "id": "eac94431",
   "metadata": {},
   "outputs": [
    {
     "data": {
      "text/plain": [
       "512"
      ]
     },
     "execution_count": 15,
     "metadata": {},
     "output_type": "execute_result"
    }
   ],
   "source": [
    "config['batch_size']"
   ]
  },
  {
   "cell_type": "code",
   "execution_count": 16,
   "id": "0ebd0b9c",
   "metadata": {},
   "outputs": [],
   "source": [
    "dataset = MoleculeDatasetWrapper(config['batch_size'], **config['dataset'])\n"
   ]
  },
  {
   "cell_type": "code",
   "execution_count": 17,
   "id": "00d48b97",
   "metadata": {},
   "outputs": [
    {
     "data": {
      "text/plain": [
       "{'num_workers': 12,\n",
       " 'valid_size': 0.05,\n",
       " 'data_path': 'data/pubchem-10m-clean.txt'}"
      ]
     },
     "execution_count": 17,
     "metadata": {},
     "output_type": "execute_result"
    }
   ],
   "source": [
    "config['dataset']"
   ]
  },
  {
   "cell_type": "code",
   "execution_count": 19,
   "id": "0011c598",
   "metadata": {},
   "outputs": [],
   "source": [
    "from torch_geometric.datasets import QM9"
   ]
  },
  {
   "cell_type": "code",
   "execution_count": null,
   "id": "be33da43",
   "metadata": {},
   "outputs": [],
   "source": [
    "dq = dq.bach_graph(batch_size=2, drop_last = True)"
   ]
  },
  {
   "cell_type": "code",
   "execution_count": 21,
   "id": "fa796a56",
   "metadata": {},
   "outputs": [],
   "source": [
    "smiles_data = []"
   ]
  },
  {
   "cell_type": "code",
   "execution_count": 22,
   "id": "438dc267",
   "metadata": {},
   "outputs": [],
   "source": [
    "data_path = 'data/pubchem-10m-clean.txt'"
   ]
  },
  {
   "cell_type": "code",
   "execution_count": 43,
   "id": "bab3b9cf",
   "metadata": {},
   "outputs": [],
   "source": [
    "smiles_data = []\n",
    "with open(data_path) as csv_file:\n",
    "    csv_reader = csv.reader(csv_file, delimiter=',')\n",
    "    for i, row in enumerate(csv_reader):\n",
    "        smiles = row[-1]\n",
    "        smiles_data.append(smiles)\n"
   ]
  },
  {
   "cell_type": "code",
   "execution_count": 45,
   "id": "6e349db2",
   "metadata": {},
   "outputs": [
    {
     "data": {
      "text/plain": [
       "9999918"
      ]
     },
     "execution_count": 45,
     "metadata": {},
     "output_type": "execute_result"
    }
   ],
   "source": [
    "len(smiles_data)"
   ]
  },
  {
   "cell_type": "code",
   "execution_count": 46,
   "id": "15696cb8",
   "metadata": {},
   "outputs": [],
   "source": [
    "mol = Chem.MolFromSmiles(smiles_data[0])"
   ]
  },
  {
   "cell_type": "code",
   "execution_count": 47,
   "id": "1477c2ef",
   "metadata": {},
   "outputs": [
    {
     "data": {
      "text/plain": [
       "<rdkit.Chem.rdchem.Mol at 0x7f60e2626c30>"
      ]
     },
     "execution_count": 47,
     "metadata": {},
     "output_type": "execute_result"
    }
   ],
   "source": [
    "mol"
   ]
  },
  {
   "cell_type": "code",
   "execution_count": null,
   "id": "5a3606f6",
   "metadata": {},
   "outputs": [],
   "source": [
    "mol = Cb"
   ]
  },
  {
   "cell_type": "code",
   "execution_count": 50,
   "id": "22d2bdb4",
   "metadata": {},
   "outputs": [],
   "source": [
    "        type_idx = []\n",
    "        chirality_idx = []\n",
    "        atomic_number = []\n",
    "        # aromatic = []"
   ]
  },
  {
   "cell_type": "code",
   "execution_count": 52,
   "id": "5ad19297",
   "metadata": {},
   "outputs": [],
   "source": [
    "ATOM_LIST = list(range(1,119))\n",
    "CHIRALITY_LIST = [\n",
    "    Chem.rdchem.ChiralType.CHI_UNSPECIFIED,\n",
    "    Chem.rdchem.ChiralType.CHI_TETRAHEDRAL_CW,\n",
    "    Chem.rdchem.ChiralType.CHI_TETRAHEDRAL_CCW,\n",
    "    Chem.rdchem.ChiralType.CHI_OTHER\n",
    "]\n",
    "BOND_LIST = [\n",
    "    BT.SINGLE, \n",
    "    BT.DOUBLE, \n",
    "    BT.TRIPLE, \n",
    "    BT.AROMATIC\n",
    "]\n",
    "BONDDIR_LIST = [\n",
    "    Chem.rdchem.BondDir.NONE,\n",
    "    Chem.rdchem.BondDir.ENDUPRIGHT,\n",
    "    Chem.rdchem.BondDir.ENDDOWNRIGHT\n",
    "]"
   ]
  },
  {
   "cell_type": "code",
   "execution_count": 53,
   "id": "50c72815",
   "metadata": {},
   "outputs": [],
   "source": [
    "for atom in mol.GetAtoms():\n",
    "    type_idx.append(ATOM_LIST.index(atom.GetAtomicNum()))\n",
    "    chirality_idx.append(CHIRALITY_LIST.index(atom.GetChiralTag()))\n",
    "    atomic_number.append(atom.GetAtomicNum())"
   ]
  },
  {
   "cell_type": "code",
   "execution_count": 54,
   "id": "55e40df8",
   "metadata": {},
   "outputs": [
    {
     "data": {
      "text/plain": [
       "[5, 6, 5, 5, 5, 5, 5, 5, 5, 5, 5, 5, 5, 5, 5, 7, 6, 5, 5, 7, 5, 5, 7, 5, 5]"
      ]
     },
     "execution_count": 54,
     "metadata": {},
     "output_type": "execute_result"
    }
   ],
   "source": [
    "type_idx"
   ]
  },
  {
   "cell_type": "code",
   "execution_count": 55,
   "id": "df426a86",
   "metadata": {},
   "outputs": [
    {
     "data": {
      "text/plain": [
       "[0, 0, 0, 0, 0, 0, 0, 0, 0, 0, 0, 0, 0, 0, 0, 0, 0, 0, 0, 0, 0, 0, 0, 0, 0]"
      ]
     },
     "execution_count": 55,
     "metadata": {},
     "output_type": "execute_result"
    }
   ],
   "source": [
    "chirality_idx"
   ]
  },
  {
   "cell_type": "code",
   "execution_count": 56,
   "id": "e7bfb353",
   "metadata": {},
   "outputs": [
    {
     "data": {
      "text/plain": [
       "[6, 7, 6, 6, 6, 6, 6, 6, 6, 6, 6, 6, 6, 6, 6, 8, 7, 6, 6, 8, 6, 6, 8, 6, 6]"
      ]
     },
     "execution_count": 56,
     "metadata": {},
     "output_type": "execute_result"
    }
   ],
   "source": [
    "atomic_number"
   ]
  },
  {
   "cell_type": "code",
   "execution_count": 60,
   "id": "cce1ebd1",
   "metadata": {},
   "outputs": [
    {
     "data": {
      "text/plain": [
       "0"
      ]
     },
     "execution_count": 60,
     "metadata": {},
     "output_type": "execute_result"
    }
   ],
   "source": [
    "CHIRALITY_LIST.index(atom.GetChiralTag())"
   ]
  },
  {
   "cell_type": "code",
   "execution_count": 67,
   "id": "b421d009",
   "metadata": {},
   "outputs": [],
   "source": [
    "        x1 = torch.tensor(type_idx, dtype=torch.long).view(-1,1)\n",
    "        x2 = torch.tensor(chirality_idx, dtype=torch.long).view(-1,1)\n",
    "        x = torch.cat([x1, x2], dim=-1)"
   ]
  },
  {
   "cell_type": "code",
   "execution_count": 68,
   "id": "7c1ad7d1",
   "metadata": {},
   "outputs": [
    {
     "data": {
      "text/plain": [
       "tensor([[5, 0],\n",
       "        [6, 0],\n",
       "        [5, 0],\n",
       "        [5, 0],\n",
       "        [5, 0],\n",
       "        [5, 0],\n",
       "        [5, 0],\n",
       "        [5, 0],\n",
       "        [5, 0],\n",
       "        [5, 0],\n",
       "        [5, 0],\n",
       "        [5, 0],\n",
       "        [5, 0],\n",
       "        [5, 0],\n",
       "        [5, 0],\n",
       "        [7, 0],\n",
       "        [6, 0],\n",
       "        [5, 0],\n",
       "        [5, 0],\n",
       "        [7, 0],\n",
       "        [5, 0],\n",
       "        [5, 0],\n",
       "        [7, 0],\n",
       "        [5, 0],\n",
       "        [5, 0]])"
      ]
     },
     "execution_count": 68,
     "metadata": {},
     "output_type": "execute_result"
    }
   ],
   "source": [
    "x"
   ]
  },
  {
   "cell_type": "code",
   "execution_count": 73,
   "id": "e3665944",
   "metadata": {},
   "outputs": [
    {
     "name": "stdout",
     "output_type": "stream",
     "text": [
      "SINGLE\n",
      "SINGLE\n",
      "AROMATIC\n",
      "AROMATIC\n",
      "AROMATIC\n",
      "AROMATIC\n",
      "AROMATIC\n",
      "SINGLE\n",
      "AROMATIC\n",
      "AROMATIC\n",
      "AROMATIC\n",
      "AROMATIC\n",
      "AROMATIC\n",
      "SINGLE\n",
      "DOUBLE\n",
      "SINGLE\n",
      "SINGLE\n",
      "SINGLE\n",
      "SINGLE\n",
      "SINGLE\n",
      "SINGLE\n",
      "SINGLE\n",
      "SINGLE\n",
      "SINGLE\n",
      "AROMATIC\n",
      "AROMATIC\n",
      "SINGLE\n"
     ]
    }
   ],
   "source": [
    " for bond in mol.GetBonds():\n",
    "    print(bond.GetBondType())"
   ]
  },
  {
   "cell_type": "code",
   "execution_count": 75,
   "id": "f433334f",
   "metadata": {},
   "outputs": [],
   "source": [
    "        N = mol.GetNumAtoms()\n",
    "        M = mol.GetNumBonds()\n"
   ]
  },
  {
   "cell_type": "code",
   "execution_count": 79,
   "id": "352beaa0",
   "metadata": {},
   "outputs": [
    {
     "data": {
      "text/plain": [
       "25"
      ]
     },
     "execution_count": 79,
     "metadata": {},
     "output_type": "execute_result"
    }
   ],
   "source": [
    "N"
   ]
  },
  {
   "cell_type": "code",
   "execution_count": 76,
   "id": "9bf7e605",
   "metadata": {},
   "outputs": [],
   "source": [
    " num_mask_nodes = max([1, math.floor(0.25*N)])"
   ]
  },
  {
   "cell_type": "code",
   "execution_count": 77,
   "id": "1f349b77",
   "metadata": {},
   "outputs": [
    {
     "data": {
      "text/plain": [
       "6"
      ]
     },
     "execution_count": 77,
     "metadata": {},
     "output_type": "execute_result"
    }
   ],
   "source": [
    "math.floor(0.25*N)"
   ]
  },
  {
   "cell_type": "code",
   "execution_count": 78,
   "id": "53f17f6b",
   "metadata": {},
   "outputs": [
    {
     "data": {
      "text/plain": [
       "6"
      ]
     },
     "execution_count": 78,
     "metadata": {},
     "output_type": "execute_result"
    }
   ],
   "source": [
    "num_mask_nodes"
   ]
  },
  {
   "cell_type": "code",
   "execution_count": 80,
   "id": "095c4e79",
   "metadata": {},
   "outputs": [
    {
     "data": {
      "text/plain": [
       "[7, 18, 22, 11, 4, 12]"
      ]
     },
     "execution_count": 80,
     "metadata": {},
     "output_type": "execute_result"
    }
   ],
   "source": [
    "random.sample(list(range(N)), num_mask_nodes)"
   ]
  },
  {
   "cell_type": "code",
   "execution_count": 81,
   "id": "1d78d79c",
   "metadata": {},
   "outputs": [],
   "source": [
    "mask_nodes_i = random.sample(list(range(N)), num_mask_nodes)"
   ]
  },
  {
   "cell_type": "code",
   "execution_count": 83,
   "id": "379f0979",
   "metadata": {},
   "outputs": [],
   "source": [
    "num_mask_edges = max([0, math.floor(0.25*M)])"
   ]
  },
  {
   "cell_type": "code",
   "execution_count": 84,
   "id": "3a0685c8",
   "metadata": {},
   "outputs": [],
   "source": [
    "mask_edges_i_single = random.sample(list(range(M)), num_mask_edges)"
   ]
  },
  {
   "cell_type": "code",
   "execution_count": 88,
   "id": "d5e47c4f",
   "metadata": {},
   "outputs": [
    {
     "data": {
      "text/plain": [
       "[3, 0, 25, 17, 12, 21]"
      ]
     },
     "execution_count": 88,
     "metadata": {},
     "output_type": "execute_result"
    }
   ],
   "source": [
    "mask_edges_i_single"
   ]
  },
  {
   "cell_type": "code",
   "execution_count": 92,
   "id": "02ef9fa7",
   "metadata": {},
   "outputs": [
    {
     "name": "stdout",
     "output_type": "stream",
     "text": [
      "3\n",
      "0\n",
      "25\n",
      "17\n",
      "12\n",
      "21\n"
     ]
    }
   ],
   "source": [
    "for i in mask_edges_i_single:\n",
    "    print(i)"
   ]
  },
  {
   "cell_type": "code",
   "execution_count": 86,
   "id": "46883812",
   "metadata": {},
   "outputs": [
    {
     "data": {
      "text/plain": [
       "[6, 0, 50, 34, 24, 42]"
      ]
     },
     "execution_count": 86,
     "metadata": {},
     "output_type": "execute_result"
    }
   ],
   "source": [
    "[2*i for i in mask_edges_i_single] "
   ]
  },
  {
   "cell_type": "code",
   "execution_count": 90,
   "id": "e7d4aaed",
   "metadata": {},
   "outputs": [
    {
     "data": {
      "text/plain": [
       "[7, 1, 51, 35, 25, 43]"
      ]
     },
     "execution_count": 90,
     "metadata": {},
     "output_type": "execute_result"
    }
   ],
   "source": [
    "[2*i+1 for i in mask_edges_i_single] "
   ]
  },
  {
   "cell_type": "code",
   "execution_count": 89,
   "id": "020d4b9d",
   "metadata": {},
   "outputs": [],
   "source": [
    "mask_edges_i = [2*i for i in mask_edges_i_single] + [2*i+1 for i in mask_edges_i_single]"
   ]
  },
  {
   "cell_type": "code",
   "execution_count": 87,
   "id": "b34a2508",
   "metadata": {},
   "outputs": [
    {
     "data": {
      "text/plain": [
       "[6, 0, 50, 34, 24, 42, 7, 1, 51, 35, 25, 43]"
      ]
     },
     "execution_count": 87,
     "metadata": {},
     "output_type": "execute_result"
    }
   ],
   "source": [
    "mask_edges_i"
   ]
  },
  {
   "cell_type": "code",
   "execution_count": 93,
   "id": "e0cb88ea",
   "metadata": {},
   "outputs": [],
   "source": [
    "x_i = deepcopy(x)"
   ]
  },
  {
   "cell_type": "code",
   "execution_count": 96,
   "id": "72de0316",
   "metadata": {},
   "outputs": [
    {
     "data": {
      "text/plain": [
       "tensor([[5, 0],\n",
       "        [6, 0],\n",
       "        [5, 0],\n",
       "        [5, 0],\n",
       "        [5, 0],\n",
       "        [5, 0],\n",
       "        [5, 0],\n",
       "        [5, 0],\n",
       "        [5, 0],\n",
       "        [5, 0],\n",
       "        [5, 0],\n",
       "        [5, 0],\n",
       "        [5, 0],\n",
       "        [5, 0],\n",
       "        [5, 0],\n",
       "        [7, 0],\n",
       "        [6, 0],\n",
       "        [5, 0],\n",
       "        [5, 0],\n",
       "        [7, 0],\n",
       "        [5, 0],\n",
       "        [5, 0],\n",
       "        [7, 0],\n",
       "        [5, 0],\n",
       "        [5, 0]])"
      ]
     },
     "execution_count": 96,
     "metadata": {},
     "output_type": "execute_result"
    }
   ],
   "source": [
    "x_i"
   ]
  },
  {
   "cell_type": "code",
   "execution_count": 110,
   "id": "f8f3d601",
   "metadata": {},
   "outputs": [],
   "source": [
    "row, col, edge_feat = [], [], []\n",
    "for bond in mol.GetBonds():\n",
    "    start, end = bond.GetBeginAtomIdx(), bond.GetEndAtomIdx()\n",
    "    row += [start, end]\n",
    "    col += [end, start]\n",
    "    # edge_type += 2 * [MOL_BONDS[bond.GetBondType()]]\n",
    "    edge_feat.append([\n",
    "        BOND_LIST.index(bond.GetBondType()),\n",
    "        BONDDIR_LIST.index(bond.GetBondDir())\n",
    "    ])\n",
    "    edge_feat.append([\n",
    "        BOND_LIST.index(bond.GetBondType()),\n",
    "        BONDDIR_LIST.index(bond.GetBondDir())\n",
    "    ])"
   ]
  },
  {
   "cell_type": "code",
   "execution_count": 111,
   "id": "97aa4188",
   "metadata": {},
   "outputs": [],
   "source": [
    "for atom_idx in mask_nodes_i:\n",
    "    x_i[atom_idx,:] = torch.tensor([len(ATOM_LIST), 0])"
   ]
  },
  {
   "cell_type": "code",
   "execution_count": 112,
   "id": "6af0bdae",
   "metadata": {},
   "outputs": [],
   "source": [
    "edge_index = torch.tensor([row, col], dtype=torch.long)\n",
    "edge_attr = torch.tensor(np.array(edge_feat), dtype=torch.long)"
   ]
  },
  {
   "cell_type": "code",
   "execution_count": 113,
   "id": "cf5e9e70",
   "metadata": {},
   "outputs": [],
   "source": [
    "num_mask_nodes = max([1, math.floor(0.25*N)])\n",
    "num_mask_edges = max([0, math.floor(0.25*M)])\n",
    "mask_nodes_i = random.sample(list(range(N)), num_mask_nodes)\n",
    "mask_nodes_j = random.sample(list(range(N)), num_mask_nodes)\n",
    "mask_edges_i_single = random.sample(list(range(M)), num_mask_edges)\n",
    "mask_edges_j_single = random.sample(list(range(M)), num_mask_edges)\n",
    "mask_edges_i = [2*i for i in mask_edges_i_single] + [2*i+1 for i in mask_edges_i_single]\n",
    "mask_edges_j = [2*i for i in mask_edges_j_single] + [2*i+1 for i in mask_edges_j_single]"
   ]
  },
  {
   "cell_type": "code",
   "execution_count": 119,
   "id": "56ae4492",
   "metadata": {},
   "outputs": [
    {
     "data": {
      "text/plain": [
       "6"
      ]
     },
     "execution_count": 119,
     "metadata": {},
     "output_type": "execute_result"
    }
   ],
   "source": [
    "num_mask_edges"
   ]
  },
  {
   "cell_type": "code",
   "execution_count": 120,
   "id": "0dd0e038",
   "metadata": {},
   "outputs": [
    {
     "data": {
      "text/plain": [
       "[3, 21, 20, 16, 23, 2]"
      ]
     },
     "execution_count": 120,
     "metadata": {},
     "output_type": "execute_result"
    }
   ],
   "source": [
    "random.sample(list(range(M)), num_mask_edges)"
   ]
  },
  {
   "cell_type": "code",
   "execution_count": 122,
   "id": "aeae8d3d",
   "metadata": {},
   "outputs": [
    {
     "data": {
      "text/plain": [
       "[21, 16, 8, 26, 2, 11]"
      ]
     },
     "execution_count": 122,
     "metadata": {},
     "output_type": "execute_result"
    }
   ],
   "source": [
    "[i for i in mask_edges_i_single]"
   ]
  },
  {
   "cell_type": "code",
   "execution_count": 123,
   "id": "b00834b6",
   "metadata": {},
   "outputs": [
    {
     "data": {
      "text/plain": [
       "[42, 32, 16, 52, 4, 22]"
      ]
     },
     "execution_count": 123,
     "metadata": {},
     "output_type": "execute_result"
    }
   ],
   "source": [
    "[2*i for i in mask_edges_i_single]"
   ]
  },
  {
   "cell_type": "code",
   "execution_count": 124,
   "id": "b905cf50",
   "metadata": {},
   "outputs": [
    {
     "data": {
      "text/plain": [
       "[43, 33, 17, 53, 5, 23]"
      ]
     },
     "execution_count": 124,
     "metadata": {},
     "output_type": "execute_result"
    }
   ],
   "source": [
    "[2*i+1 for i in mask_edges_i_single]"
   ]
  },
  {
   "cell_type": "code",
   "execution_count": 118,
   "id": "c0bcbaec",
   "metadata": {},
   "outputs": [
    {
     "data": {
      "text/plain": [
       "[42, 32, 16, 52, 4, 22, 43, 33, 17, 53, 5, 23]"
      ]
     },
     "execution_count": 118,
     "metadata": {},
     "output_type": "execute_result"
    }
   ],
   "source": [
    "mask_edges_i"
   ]
  },
  {
   "cell_type": "code",
   "execution_count": 117,
   "id": "c92ab9a7",
   "metadata": {},
   "outputs": [
    {
     "data": {
      "text/plain": [
       "[40, 42, 6, 20, 2, 26, 41, 43, 7, 21, 3, 27]"
      ]
     },
     "execution_count": 117,
     "metadata": {},
     "output_type": "execute_result"
    }
   ],
   "source": [
    "mask_edges_j"
   ]
  },
  {
   "cell_type": "code",
   "execution_count": 114,
   "id": "fecae3bf",
   "metadata": {},
   "outputs": [],
   "source": [
    "    x_i = deepcopy(x)\n",
    "    for atom_idx in mask_nodes_i:\n",
    "        x_i[atom_idx,:] = torch.tensor([len(ATOM_LIST), 0])\n",
    "    edge_index_i = torch.zeros((2, 2*(M-num_mask_edges)), dtype=torch.long)\n",
    "    edge_attr_i = torch.zeros((2*(M-num_mask_edges), 2), dtype=torch.long)\n",
    "    count = 0\n",
    "    for bond_idx in range(2*M):\n",
    "        if bond_idx not in mask_edges_i:\n",
    "            edge_index_i[:,count] = edge_index[:,bond_idx]\n",
    "            edge_attr_i[count,:] = edge_attr[bond_idx,:]\n",
    "            count += 1\n",
    "    data_i = Data(x=x_i, edge_index=edge_index_i, edge_attr=edge_attr_i)"
   ]
  },
  {
   "cell_type": "code",
   "execution_count": 125,
   "id": "45584e83",
   "metadata": {
    "scrolled": true
   },
   "outputs": [
    {
     "data": {
      "text/plain": [
       "tensor([[  5,   0],\n",
       "        [118,   0],\n",
       "        [118,   0],\n",
       "        [  5,   0],\n",
       "        [118,   0],\n",
       "        [118,   0],\n",
       "        [  5,   0],\n",
       "        [  5,   0],\n",
       "        [  5,   0],\n",
       "        [  5,   0],\n",
       "        [  5,   0],\n",
       "        [  5,   0],\n",
       "        [118,   0],\n",
       "        [  5,   0],\n",
       "        [  5,   0],\n",
       "        [  7,   0],\n",
       "        [  6,   0],\n",
       "        [  5,   0],\n",
       "        [  5,   0],\n",
       "        [118,   0],\n",
       "        [  5,   0],\n",
       "        [  5,   0],\n",
       "        [  7,   0],\n",
       "        [  5,   0],\n",
       "        [  5,   0]])"
      ]
     },
     "execution_count": 125,
     "metadata": {},
     "output_type": "execute_result"
    }
   ],
   "source": [
    "x_i"
   ]
  },
  {
   "cell_type": "code",
   "execution_count": 126,
   "id": "c9563f27",
   "metadata": {},
   "outputs": [
    {
     "data": {
      "text/plain": [
       "torch.Size([25, 2])"
      ]
     },
     "execution_count": 126,
     "metadata": {},
     "output_type": "execute_result"
    }
   ],
   "source": [
    "x_i.shape"
   ]
  },
  {
   "cell_type": "code",
   "execution_count": 127,
   "id": "8b6ca7d5",
   "metadata": {},
   "outputs": [],
   "source": [
    "for atom_idx in mask_nodes_i:\n",
    "    x_i[atom_idx,:] = torch.tensor([len(ATOM_LIST), 0])"
   ]
  },
  {
   "cell_type": "code",
   "execution_count": 130,
   "id": "771b3782",
   "metadata": {},
   "outputs": [
    {
     "data": {
      "text/plain": [
       "[1, 12, 5, 2, 19, 4]"
      ]
     },
     "execution_count": 130,
     "metadata": {},
     "output_type": "execute_result"
    }
   ],
   "source": [
    "mask_nodes_i"
   ]
  },
  {
   "cell_type": "code",
   "execution_count": 132,
   "id": "cd060077",
   "metadata": {},
   "outputs": [
    {
     "data": {
      "text/plain": [
       "118"
      ]
     },
     "execution_count": 132,
     "metadata": {},
     "output_type": "execute_result"
    }
   ],
   "source": [
    "len(ATOM_LIST) # 마스크 할 수 "
   ]
  },
  {
   "cell_type": "code",
   "execution_count": 137,
   "id": "84389e8f",
   "metadata": {},
   "outputs": [
    {
     "data": {
      "text/plain": [
       "tensor([[  5,   0],\n",
       "        [118,   0],\n",
       "        [118,   0],\n",
       "        [  5,   0],\n",
       "        [118,   0],\n",
       "        [118,   0],\n",
       "        [  5,   0],\n",
       "        [  5,   0],\n",
       "        [  5,   0],\n",
       "        [  5,   0],\n",
       "        [  5,   0],\n",
       "        [  5,   0],\n",
       "        [118,   0],\n",
       "        [  5,   0],\n",
       "        [  5,   0],\n",
       "        [  7,   0],\n",
       "        [  6,   0],\n",
       "        [  5,   0],\n",
       "        [  5,   0],\n",
       "        [118,   0],\n",
       "        [  5,   0],\n",
       "        [  5,   0],\n",
       "        [  7,   0],\n",
       "        [  5,   0],\n",
       "        [  5,   0]])"
      ]
     },
     "execution_count": 137,
     "metadata": {},
     "output_type": "execute_result"
    }
   ],
   "source": [
    "x_i"
   ]
  },
  {
   "cell_type": "code",
   "execution_count": 135,
   "id": "20896ed8",
   "metadata": {},
   "outputs": [
    {
     "data": {
      "text/plain": [
       "tensor([118,   0])"
      ]
     },
     "execution_count": 135,
     "metadata": {},
     "output_type": "execute_result"
    }
   ],
   "source": [
    "torch.tensor([len(ATOM_LIST), 0])"
   ]
  },
  {
   "cell_type": "code",
   "execution_count": 136,
   "id": "dee35b75",
   "metadata": {
    "scrolled": true
   },
   "outputs": [
    {
     "data": {
      "text/plain": [
       "tensor([5, 0])"
      ]
     },
     "execution_count": 136,
     "metadata": {},
     "output_type": "execute_result"
    }
   ],
   "source": [
    "x_i[0]"
   ]
  },
  {
   "cell_type": "code",
   "execution_count": 143,
   "id": "c9819a4d",
   "metadata": {},
   "outputs": [
    {
     "data": {
      "text/plain": [
       "torch.Size([2, 42])"
      ]
     },
     "execution_count": 143,
     "metadata": {},
     "output_type": "execute_result"
    }
   ],
   "source": [
    "torch.zeros(2, 2*(M-num_mask_edges)).shape"
   ]
  },
  {
   "cell_type": "code",
   "execution_count": 145,
   "id": "31128d2e",
   "metadata": {},
   "outputs": [
    {
     "data": {
      "text/plain": [
       "torch.Size([42, 2])"
      ]
     },
     "execution_count": 145,
     "metadata": {},
     "output_type": "execute_result"
    }
   ],
   "source": [
    "torch.zeros(2*(M-num_mask_edges), 2).shape"
   ]
  },
  {
   "cell_type": "code",
   "execution_count": 129,
   "id": "a93815f5",
   "metadata": {},
   "outputs": [
    {
     "data": {
      "text/plain": [
       "torch.Size([25, 2])"
      ]
     },
     "execution_count": 129,
     "metadata": {},
     "output_type": "execute_result"
    }
   ],
   "source": [
    "x_i.shape"
   ]
  },
  {
   "cell_type": "code",
   "execution_count": 115,
   "id": "089803c2",
   "metadata": {},
   "outputs": [
    {
     "data": {
      "text/plain": [
       "Data(edge_attr=[42, 2], edge_index=[2, 42], x=[25, 2])"
      ]
     },
     "execution_count": 115,
     "metadata": {},
     "output_type": "execute_result"
    }
   ],
   "source": [
    "data_i"
   ]
  },
  {
   "cell_type": "code",
   "execution_count": 151,
   "id": "85b4e730",
   "metadata": {},
   "outputs": [
    {
     "name": "stdout",
     "output_type": "stream",
     "text": [
      "0 1\n",
      "1 2\n",
      "2 3\n",
      "3 4\n",
      "4 5\n",
      "5 6\n",
      "6 7\n",
      "1 8\n",
      "8 9\n",
      "9 10\n",
      "10 11\n",
      "11 12\n",
      "12 13\n",
      "13 14\n",
      "14 15\n",
      "14 16\n",
      "16 17\n",
      "17 18\n",
      "18 19\n",
      "18 20\n",
      "20 21\n",
      "21 22\n",
      "22 23\n",
      "23 24\n",
      "7 2\n",
      "13 8\n",
      "24 18\n"
     ]
    }
   ],
   "source": [
    " for bond in mol.GetBonds():\n",
    "        print(bond.GetBeginAtomIdx(),bond.GetEndAtomIdx()) # 이렇게 본드의 시작 인덱스 종료 인덱스를 만든 다음에"
   ]
  },
  {
   "cell_type": "code",
   "execution_count": 147,
   "id": "18bfbf52",
   "metadata": {},
   "outputs": [
    {
     "data": {
      "text/plain": [
       "(24,)"
      ]
     },
     "execution_count": 147,
     "metadata": {},
     "output_type": "execute_result"
    }
   ],
   "source": []
  },
  {
   "cell_type": "code",
   "execution_count": 148,
   "id": "a26d09ad",
   "metadata": {},
   "outputs": [
    {
     "data": {
      "text/plain": [
       "18"
      ]
     },
     "execution_count": 148,
     "metadata": {},
     "output_type": "execute_result"
    }
   ],
   "source": [
    "bond.GetEndAtomIdx()"
   ]
  },
  {
   "cell_type": "code",
   "execution_count": 152,
   "id": "a1957ba1",
   "metadata": {},
   "outputs": [],
   "source": [
    "start, end = bond.GetBeginAtomIdx(), bond.GetEndAtomIdx()\n",
    "row += [start, end]\n",
    "col += [end, start]"
   ]
  },
  {
   "cell_type": "code",
   "execution_count": 164,
   "id": "84527fd1",
   "metadata": {},
   "outputs": [
    {
     "data": {
      "text/plain": [
       "[1, 12, 5, 2, 19, 4]"
      ]
     },
     "execution_count": 164,
     "metadata": {},
     "output_type": "execute_result"
    }
   ],
   "source": [
    "mask_nodes_i"
   ]
  },
  {
   "cell_type": "code",
   "execution_count": 156,
   "id": "fb39d029",
   "metadata": {},
   "outputs": [
    {
     "data": {
      "text/plain": [
       "torch.Size([2, 42])"
      ]
     },
     "execution_count": 156,
     "metadata": {},
     "output_type": "execute_result"
    }
   ],
   "source": [
    "edge_index_i.shape"
   ]
  },
  {
   "cell_type": "code",
   "execution_count": 159,
   "id": "ac7f30a1",
   "metadata": {},
   "outputs": [
    {
     "data": {
      "text/plain": [
       "tensor([0, 1])"
      ]
     },
     "execution_count": 159,
     "metadata": {},
     "output_type": "execute_result"
    }
   ],
   "source": [
    "edge_index_i[:,0 ]"
   ]
  },
  {
   "cell_type": "code",
   "execution_count": 161,
   "id": "c5f3dcfc",
   "metadata": {},
   "outputs": [
    {
     "data": {
      "text/plain": [
       "tensor([0, 1])"
      ]
     },
     "execution_count": 161,
     "metadata": {},
     "output_type": "execute_result"
    }
   ],
   "source": [
    "edge_index[:,0]"
   ]
  },
  {
   "cell_type": "code",
   "execution_count": 163,
   "id": "84c8f4a5",
   "metadata": {},
   "outputs": [
    {
     "data": {
      "text/plain": [
       "tensor([ 0,  1,  1,  2,  3,  4,  4,  5,  5,  6,  6,  7,  1,  8,  9, 10, 10, 11,\n",
       "        12, 13, 13, 14, 14, 15, 14, 16, 17, 18, 18, 19, 18, 20, 20, 21, 22, 23,\n",
       "        23, 24,  7,  2, 13,  8])"
      ]
     },
     "execution_count": 163,
     "metadata": {},
     "output_type": "execute_result"
    }
   ],
   "source": [
    "edge_index_i[0]"
   ]
  },
  {
   "cell_type": "code",
   "execution_count": 165,
   "id": "c553bd22",
   "metadata": {},
   "outputs": [
    {
     "data": {
      "text/plain": [
       "tensor([[0, 0],\n",
       "        [0, 0],\n",
       "        [0, 0],\n",
       "        [0, 0],\n",
       "        [3, 0],\n",
       "        [3, 0],\n",
       "        [3, 0],\n",
       "        [3, 0],\n",
       "        [3, 0],\n",
       "        [3, 0],\n",
       "        [3, 0],\n",
       "        [3, 0],\n",
       "        [3, 0],\n",
       "        [3, 0],\n",
       "        [0, 0],\n",
       "        [0, 0],\n",
       "        [3, 0],\n",
       "        [3, 0],\n",
       "        [3, 0],\n",
       "        [3, 0],\n",
       "        [3, 0],\n",
       "        [3, 0],\n",
       "        [3, 0],\n",
       "        [3, 0],\n",
       "        [3, 0],\n",
       "        [3, 0],\n",
       "        [0, 0],\n",
       "        [0, 0],\n",
       "        [1, 0],\n",
       "        [1, 0],\n",
       "        [0, 0],\n",
       "        [0, 0],\n",
       "        [0, 0],\n",
       "        [0, 0],\n",
       "        [0, 0],\n",
       "        [0, 0],\n",
       "        [0, 0],\n",
       "        [0, 0],\n",
       "        [0, 0],\n",
       "        [0, 0],\n",
       "        [0, 0],\n",
       "        [0, 0],\n",
       "        [0, 0],\n",
       "        [0, 0],\n",
       "        [0, 0],\n",
       "        [0, 0],\n",
       "        [0, 0],\n",
       "        [0, 0],\n",
       "        [3, 0],\n",
       "        [3, 0],\n",
       "        [3, 0],\n",
       "        [3, 0],\n",
       "        [0, 0],\n",
       "        [0, 0]])"
      ]
     },
     "execution_count": 165,
     "metadata": {},
     "output_type": "execute_result"
    }
   ],
   "source": [
    "edge_attr"
   ]
  },
  {
   "cell_type": "code",
   "execution_count": 166,
   "id": "d0b0117a",
   "metadata": {},
   "outputs": [
    {
     "ename": "NameError",
     "evalue": "name '_get_device' is not defined",
     "output_type": "error",
     "traceback": [
      "\u001b[0;31m---------------------------------------------------------------------------\u001b[0m",
      "\u001b[0;31mNameError\u001b[0m                                 Traceback (most recent call last)",
      "\u001b[0;32m/tmp/ipykernel_58/487109087.py\u001b[0m in \u001b[0;36m<module>\u001b[0;34m\u001b[0m\n\u001b[0;32m----> 1\u001b[0;31m \u001b[0m_get_device\u001b[0m\u001b[0;34m(\u001b[0m\u001b[0;34m)\u001b[0m\u001b[0;34m\u001b[0m\u001b[0;34m\u001b[0m\u001b[0m\n\u001b[0m",
      "\u001b[0;31mNameError\u001b[0m: name '_get_device' is not defined"
     ]
    }
   ],
   "source": [
    "_get_device()"
   ]
  },
  {
   "cell_type": "code",
   "execution_count": 168,
   "id": "c14d60d5",
   "metadata": {},
   "outputs": [
    {
     "data": {
      "text/plain": [
       "True"
      ]
     },
     "execution_count": 168,
     "metadata": {},
     "output_type": "execute_result"
    }
   ],
   "source": [
    "torch.cuda.is_available()"
   ]
  },
  {
   "cell_type": "code",
   "execution_count": 171,
   "id": "10454d42",
   "metadata": {},
   "outputs": [],
   "source": [
    "import torch\n",
    "from torch import nn\n",
    "import torch.nn.functional as F\n",
    "\n",
    "from torch_geometric.nn import MessagePassing\n",
    "from torch_geometric.utils import add_self_loops\n",
    "from torch_geometric.nn import global_add_pool, global_mean_pool, global_max_pool"
   ]
  },
  {
   "cell_type": "code",
   "execution_count": 173,
   "id": "4329bc7a",
   "metadata": {},
   "outputs": [],
   "source": [
    "num_atom_type = 119 # including the extra mask tokens\n",
    "num_chirality_tag = 3\n",
    "\n",
    "num_bond_type = 5 # including aromatic and self-loop edge\n",
    "num_bond_direction = 3 "
   ]
  },
  {
   "cell_type": "code",
   "execution_count": 172,
   "id": "ecaec84e",
   "metadata": {},
   "outputs": [],
   "source": [
    "class GINet(nn.Module):\n",
    "    \"\"\"\n",
    "    Args:\n",
    "        num_layer (int): the number of GNN layers\n",
    "        emb_dim (int): dimensionality of embeddings\n",
    "        max_pool_layer (int): the layer from which we use max pool rather than add pool for neighbor aggregation\n",
    "        drop_ratio (float): dropout rate\n",
    "        gnn_type: gin, gcn, graphsage, gat\n",
    "    Output:\n",
    "        node representations\n",
    "    \"\"\"\n",
    "    def __init__(self, num_layer=5, emb_dim=300, feat_dim=256, drop_ratio=0, pool='mean'):\n",
    "        super(GINet, self).__init__()\n",
    "        self.num_layer = num_layer\n",
    "        self.emb_dim = emb_dim\n",
    "        self.feat_dim = feat_dim\n",
    "        self.drop_ratio = drop_ratio\n",
    "\n",
    "        self.x_embedding1 = nn.Embedding(num_atom_type, emb_dim)\n",
    "        self.x_embedding2 = nn.Embedding(num_chirality_tag, emb_dim)\n",
    "        nn.init.xavier_uniform_(self.x_embedding1.weight.data)\n",
    "        nn.init.xavier_uniform_(self.x_embedding2.weight.data)\n",
    "\n",
    "        # List of MLPs\n",
    "        self.gnns = nn.ModuleList()\n",
    "        for layer in range(num_layer):\n",
    "            self.gnns.append(GINEConv(emb_dim))\n",
    "\n",
    "        # List of batchnorms\n",
    "        self.batch_norms = nn.ModuleList()\n",
    "        for layer in range(num_layer):\n",
    "            self.batch_norms.append(nn.BatchNorm1d(emb_dim))\n",
    "        \n",
    "        if pool == 'mean':\n",
    "            self.pool = global_mean_pool\n",
    "        elif pool == 'max':\n",
    "            self.pool = global_max_pool\n",
    "        elif pool == 'add':\n",
    "            self.pool = global_add_pool\n",
    "        \n",
    "        self.feat_lin = nn.Linear(self.emb_dim, self.feat_dim)\n",
    "\n",
    "        self.out_lin = nn.Sequential(\n",
    "            nn.Linear(self.feat_dim, self.feat_dim), \n",
    "            nn.ReLU(inplace=True),\n",
    "            nn.Linear(self.feat_dim, self.feat_dim//2)\n",
    "        )\n",
    "\n",
    "    def forward(self, data):\n",
    "        x = data.x\n",
    "        edge_index = data.edge_index\n",
    "        edge_attr = data.edge_attr\n",
    "\n",
    "        h = self.x_embedding1(x[:,0]) + self.x_embedding2(x[:,1])\n",
    "\n",
    "        for layer in range(self.num_layer):\n",
    "            h = self.gnns[layer](h, edge_index, edge_attr)\n",
    "            h = self.batch_norms[layer](h)\n",
    "            if layer == self.num_layer - 1:\n",
    "                h = F.dropout(h, self.drop_ratio, training=self.training)\n",
    "            else:\n",
    "                h = F.dropout(F.relu(h), self.drop_ratio, training=self.training)\n",
    "\n",
    "        h = self.pool(h, data.batch)\n",
    "        h = self.feat_lin(h)\n",
    "        out = self.out_lin(h)\n",
    "        \n",
    "        return h, out"
   ]
  },
  {
   "cell_type": "code",
   "execution_count": 174,
   "id": "071afb77",
   "metadata": {},
   "outputs": [],
   "source": [
    "import torch\n",
    "from torch_geometric.utils import add_self_loops"
   ]
  },
  {
   "cell_type": "code",
   "execution_count": 175,
   "id": "2ccc1ea5",
   "metadata": {},
   "outputs": [],
   "source": [
    " #Define an input edge index tensor\n",
    "edge_index = torch.tensor([[0, 1, 2],\n",
    "                           [1, 2, 0]])"
   ]
  },
  {
   "cell_type": "code",
   "execution_count": 176,
   "id": "d48e992f",
   "metadata": {},
   "outputs": [],
   "source": [
    "updated_edge_index, _ = add_self_loops(edge_index, num_nodes=3)\n"
   ]
  },
  {
   "cell_type": "code",
   "execution_count": 177,
   "id": "fecbafda",
   "metadata": {},
   "outputs": [
    {
     "name": "stdout",
     "output_type": "stream",
     "text": [
      "Updated edge index: tensor([[0, 1, 2, 0, 1, 2],\n",
      "        [1, 2, 0, 0, 1, 2]])\n"
     ]
    }
   ],
   "source": [
    "print(\"Updated edge index:\", updated_edge_index)"
   ]
  },
  {
   "cell_type": "code",
   "execution_count": 178,
   "id": "9eff7f2d",
   "metadata": {},
   "outputs": [],
   "source": [
    "extracted_edge_index = add_self_loops(edge_index, num_nodes=3)[0]\n"
   ]
  },
  {
   "cell_type": "code",
   "execution_count": 179,
   "id": "40ca9c66",
   "metadata": {},
   "outputs": [
    {
     "data": {
      "text/plain": [
       "tensor([[0, 1, 2, 0, 1, 2],\n",
       "        [1, 2, 0, 0, 1, 2]])"
      ]
     },
     "execution_count": 179,
     "metadata": {},
     "output_type": "execute_result"
    }
   ],
   "source": [
    "extracted_edge_index"
   ]
  },
  {
   "cell_type": "code",
   "execution_count": 182,
   "id": "0d4960c3",
   "metadata": {},
   "outputs": [
    {
     "data": {
      "text/plain": [
       "25"
      ]
     },
     "execution_count": 182,
     "metadata": {},
     "output_type": "execute_result"
    }
   ],
   "source": [
    "x.size(0)"
   ]
  },
  {
   "cell_type": "code",
   "execution_count": 180,
   "id": "511a6ba6",
   "metadata": {},
   "outputs": [],
   "source": [
    "self_loop_attr = torch.zeros(x.size(0), 2)"
   ]
  },
  {
   "cell_type": "code",
   "execution_count": 183,
   "id": "3262bc6e",
   "metadata": {},
   "outputs": [
    {
     "data": {
      "text/plain": [
       "torch.Size([25, 2])"
      ]
     },
     "execution_count": 183,
     "metadata": {},
     "output_type": "execute_result"
    }
   ],
   "source": [
    "self_loop_attr.shape"
   ]
  },
  {
   "cell_type": "code",
   "execution_count": 185,
   "id": "41f7fea1",
   "metadata": {},
   "outputs": [],
   "source": [
    "self_loop_attr[0]  = 4"
   ]
  },
  {
   "cell_type": "code",
   "execution_count": 187,
   "id": "bfe583c5",
   "metadata": {},
   "outputs": [
    {
     "data": {
      "text/plain": [
       "tensor([[4., 4.],\n",
       "        [0., 0.],\n",
       "        [0., 0.],\n",
       "        [0., 0.],\n",
       "        [0., 0.],\n",
       "        [0., 0.],\n",
       "        [0., 0.],\n",
       "        [0., 0.],\n",
       "        [0., 0.],\n",
       "        [0., 0.],\n",
       "        [0., 0.],\n",
       "        [0., 0.],\n",
       "        [0., 0.],\n",
       "        [0., 0.],\n",
       "        [0., 0.],\n",
       "        [0., 0.],\n",
       "        [0., 0.],\n",
       "        [0., 0.],\n",
       "        [0., 0.],\n",
       "        [0., 0.],\n",
       "        [0., 0.],\n",
       "        [0., 0.],\n",
       "        [0., 0.],\n",
       "        [0., 0.],\n",
       "        [0., 0.]])"
      ]
     },
     "execution_count": 187,
     "metadata": {},
     "output_type": "execute_result"
    }
   ],
   "source": [
    "self_loop_attr"
   ]
  },
  {
   "cell_type": "code",
   "execution_count": 188,
   "id": "a62a1b15",
   "metadata": {},
   "outputs": [],
   "source": [
    "self_loop_attr = self_loop_attr.to(edge_attr.device).to(edge_attr.dtype)"
   ]
  },
  {
   "cell_type": "code",
   "execution_count": 191,
   "id": "297a1ad4",
   "metadata": {},
   "outputs": [
    {
     "data": {
      "text/plain": [
       "tensor([[4, 4],\n",
       "        [0, 0],\n",
       "        [0, 0],\n",
       "        [0, 0],\n",
       "        [0, 0],\n",
       "        [0, 0],\n",
       "        [0, 0],\n",
       "        [0, 0],\n",
       "        [0, 0],\n",
       "        [0, 0],\n",
       "        [0, 0],\n",
       "        [0, 0],\n",
       "        [0, 0],\n",
       "        [0, 0],\n",
       "        [0, 0],\n",
       "        [0, 0],\n",
       "        [0, 0],\n",
       "        [0, 0],\n",
       "        [0, 0],\n",
       "        [0, 0],\n",
       "        [0, 0],\n",
       "        [0, 0],\n",
       "        [0, 0],\n",
       "        [0, 0],\n",
       "        [0, 0]])"
      ]
     },
     "execution_count": 191,
     "metadata": {},
     "output_type": "execute_result"
    }
   ],
   "source": [
    "self_loop_attr"
   ]
  },
  {
   "cell_type": "code",
   "execution_count": 189,
   "id": "d9ebeb84",
   "metadata": {},
   "outputs": [],
   "source": [
    "edge_attr = torch.cat((edge_attr,self_loop_attr), dim = 0)"
   ]
  },
  {
   "cell_type": "code",
   "execution_count": 190,
   "id": "750ee450",
   "metadata": {},
   "outputs": [
    {
     "data": {
      "text/plain": [
       "tensor([[0, 0],\n",
       "        [0, 0],\n",
       "        [0, 0],\n",
       "        [0, 0],\n",
       "        [3, 0],\n",
       "        [3, 0],\n",
       "        [3, 0],\n",
       "        [3, 0],\n",
       "        [3, 0],\n",
       "        [3, 0],\n",
       "        [3, 0],\n",
       "        [3, 0],\n",
       "        [3, 0],\n",
       "        [3, 0],\n",
       "        [0, 0],\n",
       "        [0, 0],\n",
       "        [3, 0],\n",
       "        [3, 0],\n",
       "        [3, 0],\n",
       "        [3, 0],\n",
       "        [3, 0],\n",
       "        [3, 0],\n",
       "        [3, 0],\n",
       "        [3, 0],\n",
       "        [3, 0],\n",
       "        [3, 0],\n",
       "        [0, 0],\n",
       "        [0, 0],\n",
       "        [1, 0],\n",
       "        [1, 0],\n",
       "        [0, 0],\n",
       "        [0, 0],\n",
       "        [0, 0],\n",
       "        [0, 0],\n",
       "        [0, 0],\n",
       "        [0, 0],\n",
       "        [0, 0],\n",
       "        [0, 0],\n",
       "        [0, 0],\n",
       "        [0, 0],\n",
       "        [0, 0],\n",
       "        [0, 0],\n",
       "        [0, 0],\n",
       "        [0, 0],\n",
       "        [0, 0],\n",
       "        [0, 0],\n",
       "        [0, 0],\n",
       "        [0, 0],\n",
       "        [3, 0],\n",
       "        [3, 0],\n",
       "        [3, 0],\n",
       "        [3, 0],\n",
       "        [0, 0],\n",
       "        [0, 0],\n",
       "        [4, 4],\n",
       "        [0, 0],\n",
       "        [0, 0],\n",
       "        [0, 0],\n",
       "        [0, 0],\n",
       "        [0, 0],\n",
       "        [0, 0],\n",
       "        [0, 0],\n",
       "        [0, 0],\n",
       "        [0, 0],\n",
       "        [0, 0],\n",
       "        [0, 0],\n",
       "        [0, 0],\n",
       "        [0, 0],\n",
       "        [0, 0],\n",
       "        [0, 0],\n",
       "        [0, 0],\n",
       "        [0, 0],\n",
       "        [0, 0],\n",
       "        [0, 0],\n",
       "        [0, 0],\n",
       "        [0, 0],\n",
       "        [0, 0],\n",
       "        [0, 0],\n",
       "        [0, 0]])"
      ]
     },
     "execution_count": 190,
     "metadata": {},
     "output_type": "execute_result"
    }
   ],
   "source": [
    "edge_attr"
   ]
  },
  {
   "cell_type": "code",
   "execution_count": 192,
   "id": "4de9c239",
   "metadata": {},
   "outputs": [
    {
     "name": "stdout",
     "output_type": "stream",
     "text": [
      "Tensor a:\n",
      "tensor([[1, 2],\n",
      "        [3, 4]])\n",
      "Tensor b:\n",
      "tensor([[ 5,  6],\n",
      "        [ 7,  8],\n",
      "        [ 9, 10]])\n",
      "Concatenated tensor c:\n",
      "tensor([[ 1,  2],\n",
      "        [ 3,  4],\n",
      "        [ 5,  6],\n",
      "        [ 7,  8],\n",
      "        [ 9, 10]])\n"
     ]
    }
   ],
   "source": [
    "import torch\n",
    "\n",
    "# Define two tensors to concatenate\n",
    "a = torch.tensor([[1, 2], [3, 4]])\n",
    "b = torch.tensor([[5, 6], [7, 8], [9, 10]])\n",
    "\n",
    "# Concatenate the tensors along dimension 0\n",
    "c = torch.cat((a, b), dim=0)\n",
    "\n",
    "# Print the input tensors and the concatenated tensor\n",
    "print(\"Tensor a:\")\n",
    "print(a)\n",
    "print(\"Tensor b:\")\n",
    "print(b)\n",
    "print(\"Concatenated tensor c:\")\n",
    "print(c)"
   ]
  },
  {
   "cell_type": "code",
   "execution_count": 193,
   "id": "a42e25a3",
   "metadata": {},
   "outputs": [
    {
     "data": {
      "text/plain": [
       "'None'"
      ]
     },
     "execution_count": 193,
     "metadata": {},
     "output_type": "execute_result"
    }
   ],
   "source": [
    "config['load_model']"
   ]
  },
  {
   "cell_type": "code",
   "execution_count": 194,
   "id": "3c8af7c6",
   "metadata": {},
   "outputs": [],
   "source": [
    "import torch\n",
    "import torch.nn.functional as F\n",
    "\n",
    "x = torch.randn(3, 4)\n"
   ]
  },
  {
   "cell_type": "code",
   "execution_count": 195,
   "id": "4658696c",
   "metadata": {},
   "outputs": [
    {
     "data": {
      "text/plain": [
       "tensor([[ 0.9654, -0.4058,  0.1174,  0.0694],\n",
       "        [-0.0727,  0.7355, -0.6459, -0.3839],\n",
       "        [ 0.9416,  0.2510,  0.2204, -1.7289]])"
      ]
     },
     "execution_count": 195,
     "metadata": {},
     "output_type": "execute_result"
    }
   ],
   "source": [
    "x"
   ]
  },
  {
   "cell_type": "code",
   "execution_count": 196,
   "id": "b2fe2ced",
   "metadata": {},
   "outputs": [],
   "source": [
    "x_normalized = F.normalize(x, p=2, dim=1)"
   ]
  },
  {
   "cell_type": "code",
   "execution_count": 197,
   "id": "21e3b3ef",
   "metadata": {},
   "outputs": [
    {
     "data": {
      "text/plain": [
       "tensor([[ 0.9142, -0.3842,  0.1111,  0.0657],\n",
       "        [-0.0690,  0.6978, -0.6128, -0.3643],\n",
       "        [ 0.4716,  0.1257,  0.1104, -0.8658]])"
      ]
     },
     "execution_count": 197,
     "metadata": {},
     "output_type": "execute_result"
    }
   ],
   "source": [
    "x_normalized"
   ]
  },
  {
   "cell_type": "code",
   "execution_count": 200,
   "id": "6af6245e",
   "metadata": {},
   "outputs": [],
   "source": [
    "import torch\n",
    "import torch.nn as nn\n",
    "\n",
    "x1 = torch.randn(3, 4)\n",
    "x2 = torch.randn(3, 4)\n",
    "\n",
    "cos = nn.CosineSimilarity()\n",
    "cos_sim = cos(x1, x2)"
   ]
  },
  {
   "cell_type": "code",
   "execution_count": 201,
   "id": "cc891bab",
   "metadata": {},
   "outputs": [
    {
     "data": {
      "text/plain": [
       "tensor([ 0.0737,  0.9517, -0.0407])"
      ]
     },
     "execution_count": 201,
     "metadata": {},
     "output_type": "execute_result"
    }
   ],
   "source": [
    "cos_sim"
   ]
  },
  {
   "cell_type": "code",
   "execution_count": 209,
   "id": "48931439",
   "metadata": {},
   "outputs": [
    {
     "data": {
      "text/plain": [
       "tensor([[-0.4753, -0.8780, -0.2052,  0.1406],\n",
       "        [-0.1513,  1.9866, -0.5026, -0.3772],\n",
       "        [-0.3891,  0.1064,  0.8982,  0.8480]])"
      ]
     },
     "execution_count": 209,
     "metadata": {},
     "output_type": "execute_result"
    }
   ],
   "source": [
    "x1"
   ]
  },
  {
   "cell_type": "code",
   "execution_count": 210,
   "id": "23e95c0f",
   "metadata": {},
   "outputs": [
    {
     "data": {
      "text/plain": [
       "tensor([[-1.5067,  0.8494, -0.1326,  1.1352],\n",
       "        [ 0.2566,  1.6368, -0.3611,  0.0564],\n",
       "        [-1.1966, -2.6332, -0.3427, -0.0374]])"
      ]
     },
     "execution_count": 210,
     "metadata": {},
     "output_type": "execute_result"
    }
   ],
   "source": [
    "x2"
   ]
  },
  {
   "cell_type": "code",
   "execution_count": 217,
   "id": "d08baa9a",
   "metadata": {},
   "outputs": [],
   "source": [
    "x3  = torch.cat([x1,x2] , dim = -1 )"
   ]
  },
  {
   "cell_type": "code",
   "execution_count": 218,
   "id": "5acbef12",
   "metadata": {},
   "outputs": [
    {
     "data": {
      "text/plain": [
       "tensor([[-0.4753, -0.8780, -0.2052,  0.1406, -1.5067,  0.8494, -0.1326,  1.1352],\n",
       "        [-0.1513,  1.9866, -0.5026, -0.3772,  0.2566,  1.6368, -0.3611,  0.0564],\n",
       "        [-0.3891,  0.1064,  0.8982,  0.8480, -1.1966, -2.6332, -0.3427, -0.0374]])"
      ]
     },
     "execution_count": 218,
     "metadata": {},
     "output_type": "execute_result"
    }
   ],
   "source": [
    "\n",
    "x3"
   ]
  },
  {
   "cell_type": "code",
   "execution_count": 226,
   "id": "180c2a68",
   "metadata": {},
   "outputs": [],
   "source": [
    "l1 = np.eye((2 * 2), 2 * 2, k=-2)"
   ]
  },
  {
   "cell_type": "code",
   "execution_count": 227,
   "id": "3642bbc2",
   "metadata": {},
   "outputs": [
    {
     "data": {
      "text/plain": [
       "array([[0., 0., 0., 0.],\n",
       "       [0., 0., 0., 0.],\n",
       "       [1., 0., 0., 0.],\n",
       "       [0., 1., 0., 0.]])"
      ]
     },
     "execution_count": 227,
     "metadata": {},
     "output_type": "execute_result"
    }
   ],
   "source": [
    "l1"
   ]
  },
  {
   "cell_type": "code",
   "execution_count": 228,
   "id": "88da8936",
   "metadata": {},
   "outputs": [],
   "source": [
    "l2 = np.eye((2 * 2), 2 * 2, k=2)"
   ]
  },
  {
   "cell_type": "code",
   "execution_count": 229,
   "id": "70263f9b",
   "metadata": {},
   "outputs": [
    {
     "data": {
      "text/plain": [
       "array([[0., 0., 1., 0.],\n",
       "       [0., 0., 0., 1.],\n",
       "       [0., 0., 0., 0.],\n",
       "       [0., 0., 0., 0.]])"
      ]
     },
     "execution_count": 229,
     "metadata": {},
     "output_type": "execute_result"
    }
   ],
   "source": [
    "l2"
   ]
  },
  {
   "cell_type": "code",
   "execution_count": 230,
   "id": "3c221452",
   "metadata": {},
   "outputs": [
    {
     "data": {
      "text/plain": [
       "array([[1., 0., 1., 0.],\n",
       "       [0., 1., 0., 1.],\n",
       "       [1., 0., 1., 0.],\n",
       "       [0., 1., 0., 1.]])"
      ]
     },
     "execution_count": 230,
     "metadata": {},
     "output_type": "execute_result"
    }
   ],
   "source": [
    "l2 + l1 + np.eye(2*2)"
   ]
  },
  {
   "cell_type": "code",
   "execution_count": 232,
   "id": "316ba2c6",
   "metadata": {},
   "outputs": [
    {
     "data": {
      "text/plain": [
       "tensor([-0.2052, -0.3772])"
      ]
     },
     "execution_count": 232,
     "metadata": {},
     "output_type": "execute_result"
    }
   ],
   "source": [
    "torch.diag (x1 , 2)"
   ]
  },
  {
   "cell_type": "code",
   "execution_count": 235,
   "id": "fa4eaa3a",
   "metadata": {},
   "outputs": [],
   "source": [
    " current_time = datetime.now().strftime('%b%d_%H-%M-%S')"
   ]
  },
  {
   "cell_type": "code",
   "execution_count": 238,
   "id": "87884bf0",
   "metadata": {},
   "outputs": [],
   "source": [
    " config = yaml.load(open(\"config_finetune.yaml\", \"r\"), Loader=yaml.FullLoader)\n"
   ]
  },
  {
   "cell_type": "code",
   "execution_count": 239,
   "id": "5cddbac0",
   "metadata": {},
   "outputs": [
    {
     "data": {
      "text/plain": [
       "{'batch_size': 32,\n",
       " 'epochs': 100,\n",
       " 'eval_every_n_epochs': 1,\n",
       " 'fine_tune_from': 'pretrained_gin',\n",
       " 'log_every_n_steps': 50,\n",
       " 'fp16_precision': False,\n",
       " 'init_lr': 0.0005,\n",
       " 'init_base_lr': 0.0001,\n",
       " 'weight_decay': '1e-6',\n",
       " 'gpu': 'cuda:1',\n",
       " 'task_name': 'qm7',\n",
       " 'model_type': 'gin',\n",
       " 'model': {'num_layer': 5,\n",
       "  'emb_dim': 300,\n",
       "  'feat_dim': 512,\n",
       "  'drop_ratio': 0.3,\n",
       "  'pool': 'mean'},\n",
       " 'dataset': {'num_workers': 4,\n",
       "  'valid_size': 0.1,\n",
       "  'test_size': 0.1,\n",
       "  'splitting': 'scaffold'}}"
      ]
     },
     "execution_count": 239,
     "metadata": {},
     "output_type": "execute_result"
    }
   ],
   "source": [
    "config"
   ]
  },
  {
   "cell_type": "code",
   "execution_count": 244,
   "id": "642eec16",
   "metadata": {},
   "outputs": [
    {
     "name": "stdout",
     "output_type": "stream",
     "text": [
      "{'batch_size': 32, 'epochs': 100, 'eval_every_n_epochs': 1, 'fine_tune_from': 'pretrained_gin', 'log_every_n_steps': 50, 'fp16_precision': False, 'init_lr': 0.0005, 'init_base_lr': 0.0001, 'weight_decay': '1e-6', 'gpu': 'cuda:1', 'task_name': 'qm7', 'model_type': 'gin', 'model': {'num_layer': 5, 'emb_dim': 300, 'feat_dim': 512, 'drop_ratio': 0.3, 'pool': 'mean'}, 'dataset': {'num_workers': 4, 'valid_size': 0.1, 'test_size': 0.1, 'splitting': 'scaffold', 'task': 'regression', 'data_path': 'data/qm7/qm7.csv'}}\n"
     ]
    }
   ],
   "source": [
    "print(config)"
   ]
  },
  {
   "cell_type": "code",
   "execution_count": 248,
   "id": "a43cd5c9",
   "metadata": {},
   "outputs": [],
   "source": [
    "    results_list = []\n",
    "    for target in target_list:\n",
    "        config['dataset']['target'] = target"
   ]
  },
  {
   "cell_type": "code",
   "execution_count": 249,
   "id": "fd29e7d3",
   "metadata": {},
   "outputs": [],
   "source": [
    " dir_name = current_time + '_' + config['task_name'] + '_' + config['dataset']['target']"
   ]
  },
  {
   "cell_type": "code",
   "execution_count": 250,
   "id": "5b0cd0e1",
   "metadata": {},
   "outputs": [
    {
     "data": {
      "text/plain": [
       "'Feb17_08-56-32_qm7_u0_atom'"
      ]
     },
     "execution_count": 250,
     "metadata": {},
     "output_type": "execute_result"
    }
   ],
   "source": [
    "dir_name"
   ]
  },
  {
   "cell_type": "code",
   "execution_count": 255,
   "id": "5c51baed",
   "metadata": {},
   "outputs": [],
   "source": [
    "data_path = \"data/qm9/qm9.csv\"\n",
    "with open(data_path) as csv_file:\n",
    "        csv_reader = csv.DictReader(csv_file, delimiter=',')"
   ]
  },
  {
   "cell_type": "code",
   "execution_count": 256,
   "id": "6b43a4b7",
   "metadata": {},
   "outputs": [
    {
     "data": {
      "text/plain": [
       "<csv.DictReader at 0x7f61a3346e90>"
      ]
     },
     "execution_count": 256,
     "metadata": {},
     "output_type": "execute_result"
    }
   ],
   "source": [
    "csv_reader"
   ]
  },
  {
   "cell_type": "code",
   "execution_count": 257,
   "id": "437f90b1",
   "metadata": {},
   "outputs": [
    {
     "data": {
      "text/plain": [
       "<_io.TextIOWrapper name='data/qm9/qm9.csv' mode='r' encoding='UTF-8'>"
      ]
     },
     "execution_count": 257,
     "metadata": {},
     "output_type": "execute_result"
    }
   ],
   "source": [
    "csv_file"
   ]
  },
  {
   "cell_type": "code",
   "execution_count": 265,
   "id": "3fd7bc9a",
   "metadata": {},
   "outputs": [
    {
     "name": "stdout",
     "output_type": "stream",
     "text": [
      "<rdkit.Chem.rdchem.Mol object at 0x7f60e25a0990>\n"
     ]
    }
   ],
   "source": [
    "with open(data_path) as csv_file:\n",
    "        csv_reader = csv.DictReader(csv_file, delimiter=',')\n",
    "        for i, row in enumerate(csv_reader):\n",
    "            if i == 0: \n",
    "                smiles = row['smiles']\n",
    "                label = row[target]\n",
    "                mol = Chem.MolFromSmiles(smiles)\n",
    "                print(mol)"
   ]
  },
  {
   "cell_type": "code",
   "execution_count": 266,
   "id": "ffd2dba7",
   "metadata": {},
   "outputs": [
    {
     "data": {
      "text/plain": [
       "<rdkit.Chem.rdchem.Mol at 0x7f60e25a0990>"
      ]
     },
     "execution_count": 266,
     "metadata": {},
     "output_type": "execute_result"
    }
   ],
   "source": [
    "mol"
   ]
  },
  {
   "cell_type": "code",
   "execution_count": 268,
   "id": "04abb660",
   "metadata": {},
   "outputs": [
    {
     "data": {
      "text/plain": [
       "'-395.999594594'"
      ]
     },
     "execution_count": 268,
     "metadata": {},
     "output_type": "execute_result"
    }
   ],
   "source": [
    "label"
   ]
  },
  {
   "cell_type": "code",
   "execution_count": 269,
   "id": "e7d0343d",
   "metadata": {},
   "outputs": [],
   "source": [
    " mol = Chem.AddHs(mol)"
   ]
  },
  {
   "cell_type": "code",
   "execution_count": 270,
   "id": "5b00021f",
   "metadata": {},
   "outputs": [
    {
     "data": {
      "text/plain": [
       "<rdkit.Chem.rdchem.Mol at 0x7f60e259d4b0>"
      ]
     },
     "execution_count": 270,
     "metadata": {},
     "output_type": "execute_result"
    }
   ],
   "source": [
    "mol"
   ]
  },
  {
   "cell_type": "code",
   "execution_count": 274,
   "id": "f0bc35a8",
   "metadata": {},
   "outputs": [],
   "source": [
    "smiles = 'CC(=O)OC1=CC=CC=C1C(=O)O'\n",
    "mol = Chem.MolFromSmiles(smiles)"
   ]
  },
  {
   "cell_type": "code",
   "execution_count": 275,
   "id": "0a104755",
   "metadata": {},
   "outputs": [
    {
     "name": "stdout",
     "output_type": "stream",
     "text": [
      "13 13\n",
      "13 13\n"
     ]
    }
   ],
   "source": [
    "N = mol.GetNumAtoms()\n",
    "M = mol.GetNumBonds()\n",
    "print(N,M)\n",
    "mol = Chem.AddHs(mol)\n",
    "print(N,M)"
   ]
  },
  {
   "cell_type": "code",
   "execution_count": 278,
   "id": "ddfc0ec9",
   "metadata": {},
   "outputs": [],
   "source": [
    "type_idx = []\n",
    "chirality_idx = []\n",
    "atomic_number = []\n",
    "for atom in mol.GetAtoms():\n",
    "    type_idx.append(ATOM_LIST.index(atom.GetAtomicNum()))\n",
    "    chirality_idx.append(CHIRALITY_LIST.index(atom.GetChiralTag()))\n",
    "    atomic_number.append(atom.GetAtomicNum())\n",
    "\n",
    "x1 = torch.tensor(type_idx, dtype=torch.long).view(-1,1)\n",
    "x2 = torch.tensor(chirality_idx, dtype=torch.long).view(-1,1)\n",
    "x = torch.cat([x1, x2], dim=-1)"
   ]
  },
  {
   "cell_type": "code",
   "execution_count": 279,
   "id": "0887431c",
   "metadata": {},
   "outputs": [
    {
     "data": {
      "text/plain": [
       "tensor([[5],\n",
       "        [5],\n",
       "        [7],\n",
       "        [7],\n",
       "        [5],\n",
       "        [5],\n",
       "        [5],\n",
       "        [5],\n",
       "        [5],\n",
       "        [5],\n",
       "        [5],\n",
       "        [7],\n",
       "        [7],\n",
       "        [0],\n",
       "        [0],\n",
       "        [0],\n",
       "        [0],\n",
       "        [0],\n",
       "        [0],\n",
       "        [0],\n",
       "        [0]])"
      ]
     },
     "execution_count": 279,
     "metadata": {},
     "output_type": "execute_result"
    }
   ],
   "source": [
    "x1"
   ]
  },
  {
   "cell_type": "code",
   "execution_count": 280,
   "id": "4cce876a",
   "metadata": {},
   "outputs": [
    {
     "data": {
      "text/plain": [
       "tensor([[0],\n",
       "        [0],\n",
       "        [0],\n",
       "        [0],\n",
       "        [0],\n",
       "        [0],\n",
       "        [0],\n",
       "        [0],\n",
       "        [0],\n",
       "        [0],\n",
       "        [0],\n",
       "        [0],\n",
       "        [0],\n",
       "        [0],\n",
       "        [0],\n",
       "        [0],\n",
       "        [0],\n",
       "        [0],\n",
       "        [0],\n",
       "        [0],\n",
       "        [0]])"
      ]
     },
     "execution_count": 280,
     "metadata": {},
     "output_type": "execute_result"
    }
   ],
   "source": [
    "\n",
    "x2"
   ]
  },
  {
   "cell_type": "code",
   "execution_count": 281,
   "id": "e39790f0",
   "metadata": {},
   "outputs": [
    {
     "data": {
      "text/plain": [
       "[5, 5, 7, 7, 5, 5, 5, 5, 5, 5, 5, 7, 7, 0, 0, 0, 0, 0, 0, 0, 0]"
      ]
     },
     "execution_count": 281,
     "metadata": {},
     "output_type": "execute_result"
    }
   ],
   "source": [
    "type_idx"
   ]
  },
  {
   "cell_type": "code",
   "execution_count": 286,
   "id": "ca936068",
   "metadata": {},
   "outputs": [
    {
     "data": {
      "text/plain": [
       "torch.Size([21, 1])"
      ]
     },
     "execution_count": 286,
     "metadata": {},
     "output_type": "execute_result"
    }
   ],
   "source": [
    "x1.shape"
   ]
  },
  {
   "cell_type": "code",
   "execution_count": 285,
   "id": "17104636",
   "metadata": {},
   "outputs": [
    {
     "data": {
      "text/plain": [
       "torch.Size([21, 2])"
      ]
     },
     "execution_count": 285,
     "metadata": {},
     "output_type": "execute_result"
    }
   ],
   "source": [
    "x.shape"
   ]
  },
  {
   "cell_type": "code",
   "execution_count": 289,
   "id": "fababfd7",
   "metadata": {},
   "outputs": [],
   "source": [
    "\n",
    "row, col, edge_feat = [], [], []\n",
    "for bond in mol.GetBonds():\n",
    "    start, end = bond.GetBeginAtomIdx(), bond.GetEndAtomIdx()\n",
    "    row += [start, end]\n",
    "    col += [end, start]\n",
    "    edge_feat.append([\n",
    "        BOND_LIST.index(bond.GetBondType()),\n",
    "        BONDDIR_LIST.index(bond.GetBondDir())\n",
    "    ])\n",
    "    edge_feat.append([\n",
    "        BOND_LIST.index(bond.GetBondType()),\n",
    "        BONDDIR_LIST.index(bond.GetBondDir())\n",
    "    ])"
   ]
  },
  {
   "cell_type": "code",
   "execution_count": 290,
   "id": "753c7b83",
   "metadata": {},
   "outputs": [
    {
     "data": {
      "text/plain": [
       "12"
      ]
     },
     "execution_count": 290,
     "metadata": {},
     "output_type": "execute_result"
    }
   ],
   "source": [
    "start"
   ]
  },
  {
   "cell_type": "code",
   "execution_count": 291,
   "id": "4e50a8b8",
   "metadata": {},
   "outputs": [
    {
     "data": {
      "text/plain": [
       "20"
      ]
     },
     "execution_count": 291,
     "metadata": {},
     "output_type": "execute_result"
    }
   ],
   "source": [
    "end"
   ]
  },
  {
   "cell_type": "code",
   "execution_count": 292,
   "id": "396c5080",
   "metadata": {},
   "outputs": [
    {
     "data": {
      "text/plain": [
       "[0,\n",
       " 1,\n",
       " 1,\n",
       " 2,\n",
       " 1,\n",
       " 3,\n",
       " 3,\n",
       " 4,\n",
       " 4,\n",
       " 5,\n",
       " 5,\n",
       " 6,\n",
       " 6,\n",
       " 7,\n",
       " 7,\n",
       " 8,\n",
       " 8,\n",
       " 9,\n",
       " 9,\n",
       " 10,\n",
       " 10,\n",
       " 11,\n",
       " 10,\n",
       " 12,\n",
       " 9,\n",
       " 4,\n",
       " 0,\n",
       " 13,\n",
       " 0,\n",
       " 14,\n",
       " 0,\n",
       " 15,\n",
       " 5,\n",
       " 16,\n",
       " 6,\n",
       " 17,\n",
       " 7,\n",
       " 18,\n",
       " 8,\n",
       " 19,\n",
       " 12,\n",
       " 20]"
      ]
     },
     "execution_count": 292,
     "metadata": {},
     "output_type": "execute_result"
    }
   ],
   "source": [
    "row"
   ]
  },
  {
   "cell_type": "code",
   "execution_count": 293,
   "id": "407d36b3",
   "metadata": {},
   "outputs": [
    {
     "data": {
      "text/plain": [
       "[1,\n",
       " 0,\n",
       " 2,\n",
       " 1,\n",
       " 3,\n",
       " 1,\n",
       " 4,\n",
       " 3,\n",
       " 5,\n",
       " 4,\n",
       " 6,\n",
       " 5,\n",
       " 7,\n",
       " 6,\n",
       " 8,\n",
       " 7,\n",
       " 9,\n",
       " 8,\n",
       " 10,\n",
       " 9,\n",
       " 11,\n",
       " 10,\n",
       " 12,\n",
       " 10,\n",
       " 4,\n",
       " 9,\n",
       " 13,\n",
       " 0,\n",
       " 14,\n",
       " 0,\n",
       " 15,\n",
       " 0,\n",
       " 16,\n",
       " 5,\n",
       " 17,\n",
       " 6,\n",
       " 18,\n",
       " 7,\n",
       " 19,\n",
       " 8,\n",
       " 20,\n",
       " 12]"
      ]
     },
     "execution_count": 293,
     "metadata": {},
     "output_type": "execute_result"
    }
   ],
   "source": [
    "col"
   ]
  },
  {
   "cell_type": "code",
   "execution_count": 294,
   "id": "3a56fa5b",
   "metadata": {},
   "outputs": [
    {
     "data": {
      "text/plain": [
       "[[0, 0],\n",
       " [0, 0],\n",
       " [1, 0],\n",
       " [1, 0],\n",
       " [0, 0],\n",
       " [0, 0],\n",
       " [0, 0],\n",
       " [0, 0],\n",
       " [3, 0],\n",
       " [3, 0],\n",
       " [3, 0],\n",
       " [3, 0],\n",
       " [3, 0],\n",
       " [3, 0],\n",
       " [3, 0],\n",
       " [3, 0],\n",
       " [3, 0],\n",
       " [3, 0],\n",
       " [0, 0],\n",
       " [0, 0],\n",
       " [1, 0],\n",
       " [1, 0],\n",
       " [0, 0],\n",
       " [0, 0],\n",
       " [3, 0],\n",
       " [3, 0],\n",
       " [0, 0],\n",
       " [0, 0],\n",
       " [0, 0],\n",
       " [0, 0],\n",
       " [0, 0],\n",
       " [0, 0],\n",
       " [0, 0],\n",
       " [0, 0],\n",
       " [0, 0],\n",
       " [0, 0],\n",
       " [0, 0],\n",
       " [0, 0],\n",
       " [0, 0],\n",
       " [0, 0],\n",
       " [0, 0],\n",
       " [0, 0]]"
      ]
     },
     "execution_count": 294,
     "metadata": {},
     "output_type": "execute_result"
    }
   ],
   "source": [
    "edge_feat"
   ]
  },
  {
   "cell_type": "code",
   "execution_count": 295,
   "id": "dd45ea71",
   "metadata": {},
   "outputs": [
    {
     "data": {
      "text/plain": [
       "[[0, 0],\n",
       " [0, 0],\n",
       " [1, 0],\n",
       " [1, 0],\n",
       " [0, 0],\n",
       " [0, 0],\n",
       " [0, 0],\n",
       " [0, 0],\n",
       " [3, 0],\n",
       " [3, 0],\n",
       " [3, 0],\n",
       " [3, 0],\n",
       " [3, 0],\n",
       " [3, 0],\n",
       " [3, 0],\n",
       " [3, 0],\n",
       " [3, 0],\n",
       " [3, 0],\n",
       " [0, 0],\n",
       " [0, 0],\n",
       " [1, 0],\n",
       " [1, 0],\n",
       " [0, 0],\n",
       " [0, 0],\n",
       " [3, 0],\n",
       " [3, 0],\n",
       " [0, 0],\n",
       " [0, 0],\n",
       " [0, 0],\n",
       " [0, 0],\n",
       " [0, 0],\n",
       " [0, 0],\n",
       " [0, 0],\n",
       " [0, 0],\n",
       " [0, 0],\n",
       " [0, 0],\n",
       " [0, 0],\n",
       " [0, 0],\n",
       " [0, 0],\n",
       " [0, 0],\n",
       " [0, 0],\n",
       " [0, 0]]"
      ]
     },
     "execution_count": 295,
     "metadata": {},
     "output_type": "execute_result"
    }
   ],
   "source": [
    "edge_feat"
   ]
  },
  {
   "cell_type": "code",
   "execution_count": 306,
   "id": "08ea4c40",
   "metadata": {},
   "outputs": [
    {
     "ename": "NameError",
     "evalue": "name 'train_loader' is not defined",
     "output_type": "error",
     "traceback": [
      "\u001b[0;31m---------------------------------------------------------------------------\u001b[0m",
      "\u001b[0;31mNameError\u001b[0m                                 Traceback (most recent call last)",
      "\u001b[0;32m/tmp/ipykernel_58/1506012390.py\u001b[0m in \u001b[0;36m<module>\u001b[0;34m\u001b[0m\n\u001b[1;32m      1\u001b[0m \u001b[0;32mif\u001b[0m \u001b[0mconfig\u001b[0m\u001b[0;34m[\u001b[0m\u001b[0;34m\"task_name\"\u001b[0m\u001b[0;34m]\u001b[0m \u001b[0;32min\u001b[0m \u001b[0;34m[\u001b[0m\u001b[0;34m'qm7'\u001b[0m\u001b[0;34m,\u001b[0m \u001b[0;34m'qm9'\u001b[0m\u001b[0;34m]\u001b[0m\u001b[0;34m:\u001b[0m\u001b[0;34m\u001b[0m\u001b[0;34m\u001b[0m\u001b[0m\n\u001b[1;32m      2\u001b[0m           \u001b[0mlabels\u001b[0m \u001b[0;34m=\u001b[0m \u001b[0;34m[\u001b[0m\u001b[0;34m]\u001b[0m\u001b[0;34m\u001b[0m\u001b[0;34m\u001b[0m\u001b[0m\n\u001b[0;32m----> 3\u001b[0;31m           \u001b[0;32mfor\u001b[0m \u001b[0md\u001b[0m  \u001b[0;32min\u001b[0m \u001b[0mtrain_loader\u001b[0m\u001b[0;34m:\u001b[0m\u001b[0;34m\u001b[0m\u001b[0;34m\u001b[0m\u001b[0m\n\u001b[0m\u001b[1;32m      4\u001b[0m               \u001b[0mlabels\u001b[0m\u001b[0;34m.\u001b[0m\u001b[0mappend\u001b[0m\u001b[0;34m(\u001b[0m\u001b[0md\u001b[0m\u001b[0;34m.\u001b[0m\u001b[0my\u001b[0m\u001b[0;34m)\u001b[0m\u001b[0;34m\u001b[0m\u001b[0;34m\u001b[0m\u001b[0m\n\u001b[1;32m      5\u001b[0m           \u001b[0mlabels\u001b[0m \u001b[0;34m=\u001b[0m \u001b[0mtorch\u001b[0m\u001b[0;34m.\u001b[0m\u001b[0mcat\u001b[0m\u001b[0;34m(\u001b[0m\u001b[0mlabels\u001b[0m\u001b[0;34m)\u001b[0m\u001b[0;34m\u001b[0m\u001b[0;34m\u001b[0m\u001b[0m\n",
      "\u001b[0;31mNameError\u001b[0m: name 'train_loader' is not defined"
     ]
    }
   ],
   "source": [
    "  if config[\"task_name\"] in ['qm7', 'qm9']:\n",
    "            labels = []\n",
    "            for d  in train_loader:\n",
    "                labels.append(d.y)\n",
    "            labels = torch.cat(labels)\n",
    "            self.normalizer = Normalizer(labels)\n",
    "            print(self.normalizer.mean, self.normalizer.std, labels.shape)"
   ]
  },
  {
   "cell_type": "code",
   "execution_count": 307,
   "id": "689845bf",
   "metadata": {},
   "outputs": [
    {
     "data": {
      "text/plain": [
       "tensor([[0., 0.],\n",
       "        [0., 0.],\n",
       "        [0., 0.],\n",
       "        [0., 0.],\n",
       "        [0., 0.],\n",
       "        [0., 0.],\n",
       "        [0., 0.],\n",
       "        [0., 0.],\n",
       "        [0., 0.],\n",
       "        [0., 0.],\n",
       "        [0., 0.],\n",
       "        [0., 0.],\n",
       "        [0., 0.],\n",
       "        [0., 0.],\n",
       "        [0., 0.],\n",
       "        [0., 0.],\n",
       "        [0., 0.],\n",
       "        [0., 0.],\n",
       "        [0., 0.],\n",
       "        [0., 0.],\n",
       "        [0., 0.]])"
      ]
     },
     "execution_count": 307,
     "metadata": {},
     "output_type": "execute_result"
    }
   ],
   "source": [
    "torch.zeros(x.size(0), 2)"
   ]
  },
  {
   "cell_type": "code",
   "execution_count": 308,
   "id": "bd84bf4d",
   "metadata": {},
   "outputs": [],
   "source": [
    "self_loop_attr[:,0] = 4 "
   ]
  },
  {
   "cell_type": "code",
   "execution_count": 309,
   "id": "75029d24",
   "metadata": {},
   "outputs": [
    {
     "data": {
      "text/plain": [
       "tensor([[4, 4],\n",
       "        [4, 0],\n",
       "        [4, 0],\n",
       "        [4, 0],\n",
       "        [4, 0],\n",
       "        [4, 0],\n",
       "        [4, 0],\n",
       "        [4, 0],\n",
       "        [4, 0],\n",
       "        [4, 0],\n",
       "        [4, 0],\n",
       "        [4, 0],\n",
       "        [4, 0],\n",
       "        [4, 0],\n",
       "        [4, 0],\n",
       "        [4, 0],\n",
       "        [4, 0],\n",
       "        [4, 0],\n",
       "        [4, 0],\n",
       "        [4, 0],\n",
       "        [4, 0],\n",
       "        [4, 0],\n",
       "        [4, 0],\n",
       "        [4, 0],\n",
       "        [4, 0]])"
      ]
     },
     "execution_count": 309,
     "metadata": {},
     "output_type": "execute_result"
    }
   ],
   "source": [
    "self_loop_attr"
   ]
  },
  {
   "cell_type": "code",
   "execution_count": 311,
   "id": "a38d48f8",
   "metadata": {},
   "outputs": [
    {
     "data": {
      "text/plain": [
       "tensor([[0, 0],\n",
       "        [0, 0],\n",
       "        [1, 0],\n",
       "        [1, 0],\n",
       "        [0, 0],\n",
       "        [0, 0],\n",
       "        [0, 0],\n",
       "        [0, 0],\n",
       "        [3, 0],\n",
       "        [3, 0],\n",
       "        [3, 0],\n",
       "        [3, 0],\n",
       "        [3, 0],\n",
       "        [3, 0],\n",
       "        [3, 0],\n",
       "        [3, 0],\n",
       "        [3, 0],\n",
       "        [3, 0],\n",
       "        [0, 0],\n",
       "        [0, 0],\n",
       "        [1, 0],\n",
       "        [1, 0],\n",
       "        [0, 0],\n",
       "        [0, 0],\n",
       "        [3, 0],\n",
       "        [3, 0],\n",
       "        [0, 0],\n",
       "        [0, 0],\n",
       "        [0, 0],\n",
       "        [0, 0],\n",
       "        [0, 0],\n",
       "        [0, 0],\n",
       "        [0, 0],\n",
       "        [0, 0],\n",
       "        [0, 0],\n",
       "        [0, 0],\n",
       "        [0, 0],\n",
       "        [0, 0],\n",
       "        [0, 0],\n",
       "        [0, 0],\n",
       "        [0, 0],\n",
       "        [0, 0]])"
      ]
     },
     "execution_count": 311,
     "metadata": {},
     "output_type": "execute_result"
    }
   ],
   "source": [
    "edge_attr"
   ]
  },
  {
   "cell_type": "code",
   "execution_count": 312,
   "id": "fc1615dd",
   "metadata": {},
   "outputs": [
    {
     "data": {
      "text/plain": [
       "tensor([0, 0, 1, 1, 0, 0, 0, 0, 3, 3, 3, 3, 3, 3, 3, 3, 3, 3, 0, 0, 1, 1, 0, 0,\n",
       "        3, 3, 0, 0, 0, 0, 0, 0, 0, 0, 0, 0, 0, 0, 0, 0, 0, 0])"
      ]
     },
     "execution_count": 312,
     "metadata": {},
     "output_type": "execute_result"
    }
   ],
   "source": [
    "edge_attr[:,0]"
   ]
  },
  {
   "cell_type": "code",
   "execution_count": 313,
   "id": "54971338",
   "metadata": {},
   "outputs": [
    {
     "data": {
      "text/plain": [
       "tensor([0, 0, 0, 0, 0, 0, 0, 0, 0, 0, 0, 0, 0, 0, 0, 0, 0, 0, 0, 0, 0, 0, 0, 0,\n",
       "        0, 0, 0, 0, 0, 0, 0, 0, 0, 0, 0, 0, 0, 0, 0, 0, 0, 0])"
      ]
     },
     "execution_count": 313,
     "metadata": {},
     "output_type": "execute_result"
    }
   ],
   "source": [
    "edge_attr[:,1]"
   ]
  },
  {
   "cell_type": "code",
   "execution_count": 314,
   "id": "dd7bc704",
   "metadata": {},
   "outputs": [
    {
     "data": {
      "text/plain": [
       "tensor([[0., 0.],\n",
       "        [0., 0.],\n",
       "        [0., 0.],\n",
       "        [0., 0.],\n",
       "        [0., 0.],\n",
       "        [0., 0.],\n",
       "        [0., 0.],\n",
       "        [0., 0.],\n",
       "        [0., 0.],\n",
       "        [0., 0.],\n",
       "        [0., 0.],\n",
       "        [0., 0.],\n",
       "        [0., 0.],\n",
       "        [0., 0.],\n",
       "        [0., 0.],\n",
       "        [0., 0.],\n",
       "        [0., 0.],\n",
       "        [0., 0.],\n",
       "        [0., 0.],\n",
       "        [0., 0.],\n",
       "        [0., 0.]])"
      ]
     },
     "execution_count": 314,
     "metadata": {},
     "output_type": "execute_result"
    }
   ],
   "source": [
    "torch.zeros(x.size(0), 2)"
   ]
  },
  {
   "cell_type": "code",
   "execution_count": 320,
   "id": "865d2328",
   "metadata": {},
   "outputs": [],
   "source": [
    "class GINEConv(MessagePassing):\n",
    "    def __init__(self, emb_dim):\n",
    "        super(GINEConv, self).__init__()\n",
    "        self.mlp = nn.Sequential(\n",
    "            nn.Linear(emb_dim, 2*emb_dim), \n",
    "            nn.ReLU(), \n",
    "            nn.Linear(2*emb_dim, emb_dim)\n",
    "        )\n",
    "        self.edge_embedding1 = nn.Embedding(num_bond_type, emb_dim)\n",
    "        self.edge_embedding2 = nn.Embedding(num_bond_direction, emb_dim)\n",
    "\n",
    "        nn.init.xavier_uniform_(self.edge_embedding1.weight.data)\n",
    "        nn.init.xavier_uniform_(self.edge_embedding2.weight.data)\n",
    "\n",
    "    def forward(self, x, edge_index, edge_attr):\n",
    "        # add self loops in the edge space\n",
    "        edge_index = add_self_loops(edge_index, num_nodes=x.size(0))[0]\n",
    "\n",
    "        # add features corresponding to self-loop edges.\n",
    "        self_loop_attr = torch.zeros(x.size(0), 2)\n",
    "        self_loop_attr[:,0] = 4 # bond type for self-loop edge\n",
    "        self_loop_attr = self_loop_attr.to(edge_attr.device).to(edge_attr.dtype)\n",
    "        edge_attr = torch.cat((edge_attr, self_loop_attr), dim=0)\n",
    "\n",
    "        edge_embeddings = self.edge_embedding1(edge_attr[:,0]) + \\\n",
    "            self.edge_embedding2(edge_attr[:,1])\n",
    "\n",
    "        return self.propagate(edge_index, x=x, edge_attr=edge_embeddings)\n",
    "\n",
    "    def message(self, x_j, edge_attr):\n",
    "        return x_j + edge_attr\n",
    "\n",
    "    def update(self, aggr_out):\n",
    "        return self.mlp(aggr_out)\n",
    "\n",
    "\n",
    "class GINet(nn.Module):\n",
    "    \"\"\"\n",
    "    Args:\n",
    "        num_layer (int): the number of GNN layers\n",
    "        emb_dim (int): dimensionality of embeddings\n",
    "        drop_ratio (float): dropout rate\n",
    "        gnn_type: gin, gcn, graphsage, gat\n",
    "    Output:\n",
    "        node representations\n",
    "    \"\"\"\n",
    "    def __init__(self, \n",
    "        task='classification', num_layer=5, emb_dim=300, feat_dim=512, \n",
    "        drop_ratio=0, pool='mean', pred_n_layer=2, pred_act='softplus'\n",
    "    ):\n",
    "        super(GINet, self).__init__()\n",
    "        self.num_layer = num_layer\n",
    "        self.emb_dim = emb_dim\n",
    "        self.feat_dim = feat_dim\n",
    "        self.drop_ratio = drop_ratio\n",
    "        self.task = task\n",
    "\n",
    "        self.x_embedding1 = nn.Embedding(num_atom_type, emb_dim)\n",
    "        self.x_embedding2 = nn.Embedding(num_chirality_tag, emb_dim)\n",
    "        nn.init.xavier_uniform_(self.x_embedding1.weight.data)\n",
    "        nn.init.xavier_uniform_(self.x_embedding2.weight.data)\n",
    "\n",
    "        # List of MLPs\n",
    "        self.gnns = nn.ModuleList()\n",
    "        for layer in range(num_layer):\n",
    "            self.gnns.append(GINEConv(emb_dim))\n",
    "\n",
    "        # List of batchnorms\n",
    "        self.batch_norms = nn.ModuleList()\n",
    "        for layer in range(num_layer):\n",
    "            self.batch_norms.append(nn.BatchNorm1d(emb_dim))\n",
    "\n",
    "        if pool == 'mean':\n",
    "            self.pool = global_mean_pool\n",
    "        elif pool == 'max':\n",
    "            self.pool = global_max_pool\n",
    "        elif pool == 'add':\n",
    "            self.pool = global_add_pool\n",
    "        self.feat_lin = nn.Linear(self.emb_dim, self.feat_dim)\n",
    "\n",
    "        if self.task == 'classification':\n",
    "            out_dim = 2\n",
    "        elif self.task == 'regression':\n",
    "            out_dim = 1\n",
    "        \n",
    "        self.pred_n_layer = max(1, pred_n_layer)\n",
    "\n",
    "        if pred_act == 'relu':\n",
    "            pred_head = [\n",
    "                nn.Linear(self.feat_dim, self.feat_dim//2), \n",
    "                nn.ReLU(inplace=True)\n",
    "            ]\n",
    "            for _ in range(self.pred_n_layer - 1):\n",
    "                pred_head.extend([\n",
    "                    nn.Linear(self.feat_dim//2, self.feat_dim//2), \n",
    "                    nn.ReLU(inplace=True),\n",
    "                ])\n",
    "            pred_head.append(nn.Linear(self.feat_dim//2, out_dim))\n",
    "        elif pred_act == 'softplus':\n",
    "            pred_head = [\n",
    "                nn.Linear(self.feat_dim, self.feat_dim//2), \n",
    "                nn.Softplus()\n",
    "            ]\n",
    "            for _ in range(self.pred_n_layer - 1):\n",
    "                pred_head.extend([\n",
    "                    nn.Linear(self.feat_dim//2, self.feat_dim//2), \n",
    "                    nn.Softplus()\n",
    "                ])\n",
    "        else:\n",
    "            raise ValueError('Undefined activation function')\n",
    "        \n",
    "        pred_head.append(nn.Linear(self.feat_dim//2, out_dim))\n",
    "        self.pred_head = nn.Sequential(*pred_head)\n",
    "\n",
    "    def forward(self, data):\n",
    "        x = data.x\n",
    "        edge_index = data.edge_index\n",
    "        edge_attr = data.edge_attr\n",
    "        \n",
    "        h = self.x_embedding1(x[:,0]) + self.x_embedding2(x[:,1])\n",
    "\n",
    "        for layer in range(self.num_layer):\n",
    "            h = self.gnns[layer](h, edge_index, edge_attr)\n",
    "            h = self.batch_norms[layer](h)\n",
    "            if layer == self.num_layer - 1:\n",
    "                h = F.dropout(h, self.drop_ratio, training=self.training)\n",
    "            else:\n",
    "                h = F.dropout(F.relu(h), self.drop_ratio, training=self.training)\n",
    "\n",
    "        h = self.pool(h, data.batch)\n",
    "        h = self.feat_lin(h)\n",
    "        \n",
    "        return h, self.pred_head(h)\n",
    "\n",
    "    def load_my_state_dict(self, state_dict):\n",
    "        own_state = self.state_dict()\n",
    "        for name, param in state_dict.items():\n",
    "            if name not in own_state:\n",
    "                continue\n",
    "            if isinstance(param, nn.parameter.Parameter):\n",
    "                # backwards compatibility for serialized parameters\n",
    "                param = param.data\n",
    "            own_state[name].copy_(param)\n"
   ]
  },
  {
   "cell_type": "code",
   "execution_count": 324,
   "id": "866aac26",
   "metadata": {},
   "outputs": [],
   "source": [
    "model = GINet(config['dataset']['task'], **config[\"model\"])"
   ]
  },
  {
   "cell_type": "code",
   "execution_count": 325,
   "id": "4422d59e",
   "metadata": {},
   "outputs": [
    {
     "name": "stdout",
     "output_type": "stream",
     "text": [
      "pred_head.0.weight True\n",
      "pred_head.0.bias True\n",
      "pred_head.2.weight True\n",
      "pred_head.2.bias True\n",
      "pred_head.4.weight True\n",
      "pred_head.4.bias True\n"
     ]
    }
   ],
   "source": [
    "layer_list = []\n",
    "for name, param in model.named_parameters():\n",
    "    if 'pred_head' in name:\n",
    "        print(name, param.requires_grad)\n",
    "        layer_list.append(name)"
   ]
  },
  {
   "cell_type": "code",
   "execution_count": 326,
   "id": "b5e7dc6a",
   "metadata": {},
   "outputs": [
    {
     "data": {
      "text/plain": [
       "<generator object Module.named_parameters at 0x7f60e25bfdd0>"
      ]
     },
     "execution_count": 326,
     "metadata": {},
     "output_type": "execute_result"
    }
   ],
   "source": [
    "model.named_parameters()"
   ]
  },
  {
   "cell_type": "code",
   "execution_count": 329,
   "id": "00317fc3",
   "metadata": {},
   "outputs": [
    {
     "name": "stdout",
     "output_type": "stream",
     "text": [
      "pred_head.0.weight True\n",
      "pred_head.0.bias True\n",
      "pred_head.2.weight True\n",
      "pred_head.2.bias True\n",
      "pred_head.4.weight True\n",
      "pred_head.4.bias True\n"
     ]
    }
   ],
   "source": [
    "        layer_list = []\n",
    "        for name, param in model.named_parameters():\n",
    "            if 'pred_head' in name:\n",
    "                print(name, param.requires_grad)\n",
    "                layer_list.append(name)"
   ]
  },
  {
   "cell_type": "code",
   "execution_count": 330,
   "id": "6349f3a5",
   "metadata": {},
   "outputs": [],
   "source": [
    "        params = list(map(lambda x: x[1],list(filter(lambda kv: kv[0] in layer_list, model.named_parameters()))))\n"
   ]
  },
  {
   "cell_type": "code",
   "execution_count": 345,
   "id": "1cdabebb",
   "metadata": {},
   "outputs": [
    {
     "data": {
      "text/plain": [
       "<bound method Module.named_parameters of GINet(\n",
       "  (x_embedding1): Embedding(119, 300)\n",
       "  (x_embedding2): Embedding(3, 300)\n",
       "  (gnns): ModuleList(\n",
       "    (0): GINEConv(\n",
       "      (mlp): Sequential(\n",
       "        (0): Linear(in_features=300, out_features=600, bias=True)\n",
       "        (1): ReLU()\n",
       "        (2): Linear(in_features=600, out_features=300, bias=True)\n",
       "      )\n",
       "      (edge_embedding1): Embedding(5, 300)\n",
       "      (edge_embedding2): Embedding(3, 300)\n",
       "    )\n",
       "    (1): GINEConv(\n",
       "      (mlp): Sequential(\n",
       "        (0): Linear(in_features=300, out_features=600, bias=True)\n",
       "        (1): ReLU()\n",
       "        (2): Linear(in_features=600, out_features=300, bias=True)\n",
       "      )\n",
       "      (edge_embedding1): Embedding(5, 300)\n",
       "      (edge_embedding2): Embedding(3, 300)\n",
       "    )\n",
       "    (2): GINEConv(\n",
       "      (mlp): Sequential(\n",
       "        (0): Linear(in_features=300, out_features=600, bias=True)\n",
       "        (1): ReLU()\n",
       "        (2): Linear(in_features=600, out_features=300, bias=True)\n",
       "      )\n",
       "      (edge_embedding1): Embedding(5, 300)\n",
       "      (edge_embedding2): Embedding(3, 300)\n",
       "    )\n",
       "    (3): GINEConv(\n",
       "      (mlp): Sequential(\n",
       "        (0): Linear(in_features=300, out_features=600, bias=True)\n",
       "        (1): ReLU()\n",
       "        (2): Linear(in_features=600, out_features=300, bias=True)\n",
       "      )\n",
       "      (edge_embedding1): Embedding(5, 300)\n",
       "      (edge_embedding2): Embedding(3, 300)\n",
       "    )\n",
       "    (4): GINEConv(\n",
       "      (mlp): Sequential(\n",
       "        (0): Linear(in_features=300, out_features=600, bias=True)\n",
       "        (1): ReLU()\n",
       "        (2): Linear(in_features=600, out_features=300, bias=True)\n",
       "      )\n",
       "      (edge_embedding1): Embedding(5, 300)\n",
       "      (edge_embedding2): Embedding(3, 300)\n",
       "    )\n",
       "  )\n",
       "  (batch_norms): ModuleList(\n",
       "    (0): BatchNorm1d(300, eps=1e-05, momentum=0.1, affine=True, track_running_stats=True)\n",
       "    (1): BatchNorm1d(300, eps=1e-05, momentum=0.1, affine=True, track_running_stats=True)\n",
       "    (2): BatchNorm1d(300, eps=1e-05, momentum=0.1, affine=True, track_running_stats=True)\n",
       "    (3): BatchNorm1d(300, eps=1e-05, momentum=0.1, affine=True, track_running_stats=True)\n",
       "    (4): BatchNorm1d(300, eps=1e-05, momentum=0.1, affine=True, track_running_stats=True)\n",
       "  )\n",
       "  (feat_lin): Linear(in_features=300, out_features=512, bias=True)\n",
       "  (pred_head): Sequential(\n",
       "    (0): Linear(in_features=512, out_features=256, bias=True)\n",
       "    (1): Softplus(beta=1, threshold=20)\n",
       "    (2): Linear(in_features=256, out_features=256, bias=True)\n",
       "    (3): Softplus(beta=1, threshold=20)\n",
       "    (4): Linear(in_features=256, out_features=1, bias=True)\n",
       "  )\n",
       ")>"
      ]
     },
     "execution_count": 345,
     "metadata": {},
     "output_type": "execute_result"
    }
   ],
   "source": [
    "model.named_parameters"
   ]
  },
  {
   "cell_type": "code",
   "execution_count": 356,
   "id": "94c81ceb",
   "metadata": {},
   "outputs": [
    {
     "data": {
      "text/plain": [
       "[('x_embedding1.weight',\n",
       "  Parameter containing:\n",
       "  tensor([[ 0.1065, -0.0103,  0.0312,  ..., -0.1087, -0.1133,  0.1100],\n",
       "          [-0.0239, -0.0873,  0.0274,  ..., -0.0329,  0.0998, -0.1154],\n",
       "          [ 0.0065,  0.0986, -0.1038,  ...,  0.0926,  0.0967, -0.0937],\n",
       "          ...,\n",
       "          [ 0.0557, -0.0208,  0.0778,  ...,  0.0350, -0.0280,  0.0207],\n",
       "          [-0.0400, -0.0941,  0.0070,  ...,  0.0230,  0.0959,  0.0127],\n",
       "          [-0.0435, -0.0272,  0.1041,  ...,  0.0586, -0.0300, -0.0113]],\n",
       "         requires_grad=True))]"
      ]
     },
     "execution_count": 356,
     "metadata": {},
     "output_type": "execute_result"
    }
   ],
   "source": [
    "list(filter(lambda kv: kv[0] in layer_list, model.named_parameters()))"
   ]
  },
  {
   "cell_type": "code",
   "execution_count": 350,
   "id": "14f0f913",
   "metadata": {},
   "outputs": [
    {
     "name": "stdout",
     "output_type": "stream",
     "text": [
      "x_embedding1.weight\n",
      "=====\n",
      "x\n",
      "Parameter containing:\n",
      "tensor([[ 0.1065, -0.0103,  0.0312,  ..., -0.1087, -0.1133,  0.1100],\n",
      "        [-0.0239, -0.0873,  0.0274,  ..., -0.0329,  0.0998, -0.1154],\n",
      "        [ 0.0065,  0.0986, -0.1038,  ...,  0.0926,  0.0967, -0.0937],\n",
      "        ...,\n",
      "        [ 0.0557, -0.0208,  0.0778,  ...,  0.0350, -0.0280,  0.0207],\n",
      "        [-0.0400, -0.0941,  0.0070,  ...,  0.0230,  0.0959,  0.0127],\n",
      "        [-0.0435, -0.0272,  0.1041,  ...,  0.0586, -0.0300, -0.0113]],\n",
      "       requires_grad=True)\n",
      "=====\n",
      "tensor([ 0.1065, -0.0103,  0.0312, -0.0450,  0.0775,  0.0743,  0.0696,  0.1085,\n",
      "        -0.1026, -0.0683, -0.1192,  0.0268, -0.0683,  0.0096,  0.0792, -0.0002,\n",
      "        -0.1102,  0.0530,  0.0640,  0.0897,  0.0696,  0.0312,  0.0352, -0.0430,\n",
      "        -0.0397, -0.0149, -0.0521,  0.0365, -0.0244, -0.0192,  0.1077,  0.1067,\n",
      "         0.1114, -0.0304, -0.0948, -0.0667,  0.0258,  0.1180,  0.0348,  0.0627,\n",
      "        -0.1111,  0.1112, -0.0193, -0.1190, -0.0843, -0.1143,  0.0265,  0.0502,\n",
      "         0.1047, -0.0383,  0.0459,  0.1060,  0.0336, -0.0229,  0.1140, -0.0786,\n",
      "        -0.0293, -0.0510, -0.0832, -0.0475,  0.0201,  0.0515, -0.0394,  0.0931,\n",
      "         0.0425,  0.0805, -0.0804, -0.0006,  0.0354,  0.0224,  0.0889, -0.0294,\n",
      "        -0.0816, -0.0959,  0.0444, -0.0539, -0.0960, -0.0967,  0.0356, -0.1114,\n",
      "        -0.1160,  0.0323, -0.1168, -0.0311, -0.0505, -0.0939,  0.0377, -0.0440,\n",
      "        -0.0371,  0.0654,  0.0791, -0.0125,  0.1092,  0.0260,  0.0778, -0.0460,\n",
      "        -0.0828, -0.1052, -0.0047,  0.0435,  0.0392,  0.1140, -0.0125,  0.0477,\n",
      "        -0.1134,  0.1166, -0.1188, -0.0888, -0.0933, -0.0204, -0.0510, -0.0428,\n",
      "        -0.0705, -0.0051, -0.0321,  0.0465,  0.0962, -0.0971, -0.0636, -0.0942,\n",
      "         0.0181,  0.0932,  0.0455, -0.0844,  0.0497,  0.1170, -0.0556,  0.0477,\n",
      "        -0.0195,  0.0615, -0.0164, -0.0064,  0.1004,  0.1049,  0.0791,  0.1008,\n",
      "        -0.0487, -0.0907, -0.0703, -0.0170,  0.0010,  0.1076,  0.0636,  0.0492,\n",
      "        -0.1129,  0.0918,  0.1060, -0.0530,  0.0195,  0.1163,  0.1091, -0.0112,\n",
      "         0.0539,  0.0261,  0.0116,  0.1175,  0.0827, -0.0402, -0.0086, -0.0128,\n",
      "        -0.0155,  0.0762, -0.0171, -0.0253,  0.0842,  0.0785,  0.0513, -0.0927,\n",
      "        -0.0659,  0.0802, -0.0144, -0.0571, -0.0102, -0.0405,  0.1050, -0.1136,\n",
      "         0.0976, -0.0164,  0.0470, -0.0679, -0.0769, -0.0465,  0.0446,  0.1105,\n",
      "         0.1009, -0.0661, -0.1086, -0.0449, -0.0308,  0.0660, -0.0284, -0.0281,\n",
      "        -0.0875,  0.0952,  0.0674,  0.0760,  0.0482,  0.0407,  0.0675,  0.0995,\n",
      "        -0.1116,  0.0502,  0.0329, -0.0820,  0.0671, -0.1013,  0.0547, -0.1124,\n",
      "        -0.0191,  0.0243, -0.0915, -0.0245,  0.1044, -0.0560, -0.0308,  0.0936,\n",
      "        -0.1013,  0.0089,  0.0887,  0.0268, -0.1197, -0.0859, -0.0911, -0.0853,\n",
      "         0.1154,  0.0546,  0.1002,  0.0441,  0.0689, -0.0472,  0.0680, -0.1181,\n",
      "         0.0042, -0.0319,  0.0381,  0.0824,  0.0102, -0.0146,  0.1002, -0.1120,\n",
      "         0.0428,  0.0548, -0.0502, -0.1160, -0.0266,  0.1016, -0.0426, -0.0594,\n",
      "        -0.0329, -0.0574, -0.0104,  0.0268, -0.0197,  0.0140, -0.1040, -0.0788,\n",
      "        -0.0144, -0.0332,  0.0565,  0.0327, -0.0268, -0.1160, -0.0115, -0.0834,\n",
      "        -0.0784,  0.0428,  0.0640,  0.0990,  0.0744,  0.0782, -0.0414, -0.0479,\n",
      "        -0.1060,  0.0391, -0.0997, -0.0631, -0.0111, -0.0418,  0.1022,  0.1107,\n",
      "        -0.0073,  0.0944, -0.1179, -0.0699, -0.0648, -0.0310, -0.0937,  0.0312,\n",
      "         0.0347,  0.0914,  0.0007,  0.0508, -0.0479, -0.0010, -0.0333, -0.0082,\n",
      "        -0.0631, -0.1087, -0.1133,  0.1100], grad_fn=<SelectBackward>)\n"
     ]
    }
   ],
   "source": [
    "for i in layer_list:\n",
    "    print(i)\n",
    "    print(\"=====\")\n",
    "    print(i[0])"
   ]
  },
  {
   "cell_type": "code",
   "execution_count": 355,
   "id": "cde8c83d",
   "metadata": {},
   "outputs": [
    {
     "data": {
      "text/plain": [
       "'x_embedding1.weight'"
      ]
     },
     "execution_count": 355,
     "metadata": {},
     "output_type": "execute_result"
    }
   ],
   "source": [
    "layer_list[0]"
   ]
  },
  {
   "cell_type": "code",
   "execution_count": 354,
   "id": "f30b448d",
   "metadata": {},
   "outputs": [
    {
     "data": {
      "text/plain": [
       "<bound method Module.named_parameters of GINet(\n",
       "  (x_embedding1): Embedding(119, 300)\n",
       "  (x_embedding2): Embedding(3, 300)\n",
       "  (gnns): ModuleList(\n",
       "    (0): GINEConv(\n",
       "      (mlp): Sequential(\n",
       "        (0): Linear(in_features=300, out_features=600, bias=True)\n",
       "        (1): ReLU()\n",
       "        (2): Linear(in_features=600, out_features=300, bias=True)\n",
       "      )\n",
       "      (edge_embedding1): Embedding(5, 300)\n",
       "      (edge_embedding2): Embedding(3, 300)\n",
       "    )\n",
       "    (1): GINEConv(\n",
       "      (mlp): Sequential(\n",
       "        (0): Linear(in_features=300, out_features=600, bias=True)\n",
       "        (1): ReLU()\n",
       "        (2): Linear(in_features=600, out_features=300, bias=True)\n",
       "      )\n",
       "      (edge_embedding1): Embedding(5, 300)\n",
       "      (edge_embedding2): Embedding(3, 300)\n",
       "    )\n",
       "    (2): GINEConv(\n",
       "      (mlp): Sequential(\n",
       "        (0): Linear(in_features=300, out_features=600, bias=True)\n",
       "        (1): ReLU()\n",
       "        (2): Linear(in_features=600, out_features=300, bias=True)\n",
       "      )\n",
       "      (edge_embedding1): Embedding(5, 300)\n",
       "      (edge_embedding2): Embedding(3, 300)\n",
       "    )\n",
       "    (3): GINEConv(\n",
       "      (mlp): Sequential(\n",
       "        (0): Linear(in_features=300, out_features=600, bias=True)\n",
       "        (1): ReLU()\n",
       "        (2): Linear(in_features=600, out_features=300, bias=True)\n",
       "      )\n",
       "      (edge_embedding1): Embedding(5, 300)\n",
       "      (edge_embedding2): Embedding(3, 300)\n",
       "    )\n",
       "    (4): GINEConv(\n",
       "      (mlp): Sequential(\n",
       "        (0): Linear(in_features=300, out_features=600, bias=True)\n",
       "        (1): ReLU()\n",
       "        (2): Linear(in_features=600, out_features=300, bias=True)\n",
       "      )\n",
       "      (edge_embedding1): Embedding(5, 300)\n",
       "      (edge_embedding2): Embedding(3, 300)\n",
       "    )\n",
       "  )\n",
       "  (batch_norms): ModuleList(\n",
       "    (0): BatchNorm1d(300, eps=1e-05, momentum=0.1, affine=True, track_running_stats=True)\n",
       "    (1): BatchNorm1d(300, eps=1e-05, momentum=0.1, affine=True, track_running_stats=True)\n",
       "    (2): BatchNorm1d(300, eps=1e-05, momentum=0.1, affine=True, track_running_stats=True)\n",
       "    (3): BatchNorm1d(300, eps=1e-05, momentum=0.1, affine=True, track_running_stats=True)\n",
       "    (4): BatchNorm1d(300, eps=1e-05, momentum=0.1, affine=True, track_running_stats=True)\n",
       "  )\n",
       "  (feat_lin): Linear(in_features=300, out_features=512, bias=True)\n",
       "  (pred_head): Sequential(\n",
       "    (0): Linear(in_features=512, out_features=256, bias=True)\n",
       "    (1): Softplus(beta=1, threshold=20)\n",
       "    (2): Linear(in_features=256, out_features=256, bias=True)\n",
       "    (3): Softplus(beta=1, threshold=20)\n",
       "    (4): Linear(in_features=256, out_features=1, bias=True)\n",
       "  )\n",
       ")>"
      ]
     },
     "execution_count": 354,
     "metadata": {},
     "output_type": "execute_result"
    }
   ],
   "source": [
    "model.named_parameters"
   ]
  },
  {
   "cell_type": "code",
   "execution_count": null,
   "id": "37246b02",
   "metadata": {},
   "outputs": [],
   "source": []
  }
 ],
 "metadata": {
  "kernelspec": {
   "display_name": "Python 3 (ipykernel)",
   "language": "python",
   "name": "python3"
  },
  "language_info": {
   "codemirror_mode": {
    "name": "ipython",
    "version": 3
   },
   "file_extension": ".py",
   "mimetype": "text/x-python",
   "name": "python",
   "nbconvert_exporter": "python",
   "pygments_lexer": "ipython3",
   "version": "3.7.13"
  }
 },
 "nbformat": 4,
 "nbformat_minor": 5
}
