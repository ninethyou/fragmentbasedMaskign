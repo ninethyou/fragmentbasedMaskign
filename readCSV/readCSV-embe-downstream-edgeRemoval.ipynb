{
 "cells": [
  {
   "cell_type": "code",
   "execution_count": 2,
   "id": "0a79666e-0092-44cb-a0cb-4a622260a7ca",
   "metadata": {},
   "outputs": [],
   "source": [
    "selected_datasets = [\n",
    "                        'ESOL',\n",
    "                        'FreeSolv',\n",
    "                        'lipophilicity',\n",
    "                         'qm7',\n",
    "                         'qm8',\n",
    "                        'BACE',\n",
    "                        'hiv',\n",
    "                        'BBBP',\n",
    "                        'tox21',\n",
    "                        'toxcast',\n",
    "                        'clintox',\n",
    "                        'sider',\n",
    "    \n",
    "                    ]"
   ]
  },
  {
   "cell_type": "code",
   "execution_count": 3,
   "id": "3b4dbceb-e634-4a3a-9a2b-d4aa8ac2b76e",
   "metadata": {},
   "outputs": [],
   "source": [
    "selected_datasets_lower = [x.lower() for x in selected_datasets]"
   ]
  },
  {
   "cell_type": "code",
   "execution_count": 4,
   "id": "27c81edd-af66-4d03-8b04-144def03b78e",
   "metadata": {},
   "outputs": [
    {
     "name": "stdout",
     "output_type": "stream",
     "text": [
      "/tf/GraphMAE-pyg - copy/chem/results_pretrain+finetune/esol_pretrain+downstream_edgeRemoval.csv\n",
      "/tf/GraphMAE-pyg - copy/chem/results_pretrain+finetune/freesolv_pretrain+downstream_edgeRemoval.csv\n",
      "/tf/GraphMAE-pyg - copy/chem/results_pretrain+finetune/lipophilicity_pretrain+downstream_edgeRemoval.csv\n",
      "/tf/GraphMAE-pyg - copy/chem/results_pretrain+finetune/qm7_pretrain+downstream_edgeRemoval.csv\n",
      "/tf/GraphMAE-pyg - copy/chem/results_pretrain+finetune/qm8_pretrain+downstream_edgeRemoval.csv\n",
      "/tf/GraphMAE-pyg - copy/chem/results_pretrain+finetune/bace_pretrain+downstream_edgeRemoval.csv\n",
      "/tf/GraphMAE-pyg - copy/chem/results_pretrain+finetune/hiv_pretrain+downstream_edgeRemoval.csv\n",
      "/tf/GraphMAE-pyg - copy/chem/results_pretrain+finetune/bbbp_pretrain+downstream_edgeRemoval.csv\n",
      "/tf/GraphMAE-pyg - copy/chem/results_pretrain+finetune/tox21_pretrain+downstream_edgeRemoval.csv\n",
      "/tf/GraphMAE-pyg - copy/chem/results_pretrain+finetune/toxcast_pretrain+downstream_edgeRemoval.csv\n",
      "/tf/GraphMAE-pyg - copy/chem/results_pretrain+finetune/clintox_pretrain+downstream_edgeRemoval.csv\n",
      "/tf/GraphMAE-pyg - copy/chem/results_pretrain+finetune/sider_pretrain+downstream_edgeRemoval.csv\n",
      "          Dataset  Mean Result  Stddev Result\n",
      "0            esol     1.346207       0.028270\n",
      "1        freesolv     3.216115       0.089275\n",
      "2   lipophilicity     0.811792       0.014191\n",
      "3             qm7    96.868541       3.761289\n",
      "4             qm8     0.019317       0.000111\n",
      "5            bace     0.704689       0.018731\n",
      "6             hiv     0.758433       0.011487\n",
      "7            bbbp     0.698833       0.015072\n",
      "8           tox21     0.744355       0.005963\n",
      "9         toxcast     0.637126       0.001332\n",
      "10        clintox     0.726572       0.009177\n",
      "11          sider     0.578265       0.007716\n"
     ]
    },
    {
     "name": "stderr",
     "output_type": "stream",
     "text": [
      "/tmp/ipykernel_3705433/2580464499.py:32: FutureWarning: The behavior of DataFrame concatenation with empty or all-NA entries is deprecated. In a future version, this will no longer exclude empty or all-NA columns when determining the result dtypes. To retain the old behavior, exclude the relevant entries before the concat operation.\n",
      "  results_df = pd.concat([results_df, temp_results_df], ignore_index=True)\n"
     ]
    }
   ],
   "source": [
    "import os\n",
    "import pandas as pd \n",
    "\n",
    "results_df = pd.DataFrame(columns=['Dataset', 'Mean Result', 'Stddev Result'])\n",
    "\n",
    "base_path = '/tf/GraphMAE-pyg - copy/chem/results_pretrain+finetune'\n",
    "file = 'pretrain+downstream_edgeRemoval'\n",
    "\n",
    "for dataset in selected_datasets_lower:\n",
    "    # file_name = 'pretrained_gin_{}_scaffold_random_masking_{}.csv'.format(dataset,file)\n",
    "    # file_name = 'pretrained_gin_{}_balanced_scaffold{}.csv'.format(dataset,file)\n",
    "    # file_name = 'pretrained_gin_{}_balanced_scaffold{}.csv'.format(dataset,file)\n",
    "    file_name = '{}_{}.csv'.format(dataset,file)\n",
    "    \n",
    "    file_path = os.path.join(base_path ,file_name)\n",
    "    \n",
    "    \n",
    "    if os.path.isfile(file_path):\n",
    "        print(file_path)\n",
    "        \n",
    "        temp_df  = pd.read_csv(file_path)\n",
    "        mean_result = temp_df['result'].mean()\n",
    "        std_result = temp_df['result'].std()\n",
    "\n",
    "        temp_results_df = pd.DataFrame({\n",
    "            'Dataset': [dataset],\n",
    "            'Mean Result': [mean_result],\n",
    "            'Stddev Result': [std_result]\n",
    "        })\n",
    "        \n",
    "        # 결과 데이터 프레임에 추가\n",
    "        results_df = pd.concat([results_df, temp_results_df], ignore_index=True)\n",
    "    else:\n",
    "        print(f\"{file_path} 파일이 존재하지 않습니다.\")\n",
    "\n",
    "# 최종 결과 출력\n",
    "print(results_df)\n",
    "\n",
    "\n",
    "## 기본 결과"
   ]
  },
  {
   "cell_type": "code",
   "execution_count": null,
   "id": "5cb40a2c-c1dd-4ec9-8fde-2334d5a5cd45",
   "metadata": {},
   "outputs": [],
   "source": []
  },
  {
   "cell_type": "code",
   "execution_count": null,
   "id": "52e9ea65-a188-4d3f-a92c-2ea70b5a39a9",
   "metadata": {},
   "outputs": [],
   "source": []
  }
 ],
 "metadata": {
  "kernelspec": {
   "display_name": "Python 3 (ipykernel)",
   "language": "python",
   "name": "python3"
  },
  "language_info": {
   "codemirror_mode": {
    "name": "ipython",
    "version": 3
   },
   "file_extension": ".py",
   "mimetype": "text/x-python",
   "name": "python",
   "nbconvert_exporter": "python",
   "pygments_lexer": "ipython3",
   "version": "3.10.13"
  }
 },
 "nbformat": 4,
 "nbformat_minor": 5
}
